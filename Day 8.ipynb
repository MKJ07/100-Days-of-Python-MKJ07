{
  "cells": [
    {
      "cell_type": "markdown",
      "source": [
        "# Day 8"
      ],
      "metadata": {
        "id": "GHqbMEiqE1ir"
      }
    },
    {
      "cell_type": "code",
      "source": [
        "def greet():\n",
        "  print(\"Hello\")\n",
        "greet()"
      ],
      "metadata": {
        "colab": {
          "base_uri": "https://localhost:8080/"
        },
        "id": "GbIzPRRkE4Rv",
        "outputId": "870ec1cb-c311-4e49-cc67-e67913bc7bc8"
      },
      "execution_count": null,
      "outputs": [
        {
          "output_type": "stream",
          "name": "stdout",
          "text": [
            "Hello\n"
          ]
        }
      ]
    },
    {
      "cell_type": "code",
      "source": [
        "# function with input\n",
        "def my_name(name):\n",
        "  print(f\"Hello i am {name}\")\n",
        "my_name(\"Mahesh\")"
      ],
      "metadata": {
        "colab": {
          "base_uri": "https://localhost:8080/"
        },
        "id": "-XX1gGEvGWOz",
        "outputId": "d3d94b4e-4584-4a35-ed84-0152d66545c4"
      },
      "execution_count": null,
      "outputs": [
        {
          "output_type": "stream",
          "name": "stdout",
          "text": [
            "Hello i am Mahesh\n"
          ]
        }
      ]
    },
    {
      "cell_type": "code",
      "source": [
        "# function with multiple input\n",
        "def my_name(name,location):\n",
        "  print(f\"Hello i am {name} from {location}\")\n",
        "my_name(\"Mahesh\",\"India\")\n",
        "\n",
        "# interchange the value\n",
        "def my_name(name,location):\n",
        "  print(f\"Hello i am {name} from {location}\")\n",
        "my_name(\"India\",\"Mahesh\")\n",
        "\n",
        "# same for variable assignment\n",
        "def my_function(a,b,c):\n",
        "  print(f\"The values are {a}, {b}, {c}\")\n",
        "\n",
        "my_function(a=1,b=2,c=3)\n",
        "\n",
        "# now interchanging the place\n",
        "def my_function(a,b,c):\n",
        "  print(f\"The values are {a}, {b}, {c}\")\n",
        "\n",
        "my_function(c=3,a=1,b=2)"
      ],
      "metadata": {
        "colab": {
          "base_uri": "https://localhost:8080/"
        },
        "id": "V2Iy3RW-HLfZ",
        "outputId": "71a8d8e6-b6c9-463c-875c-99badebb63ce"
      },
      "execution_count": null,
      "outputs": [
        {
          "output_type": "stream",
          "name": "stdout",
          "text": [
            "Hello i am Mahesh from India\n",
            "Hello i am India from Mahesh\n",
            "The values are 1, 2, 3\n",
            "The values are 1, 2, 3\n"
          ]
        }
      ]
    },
    {
      "cell_type": "code",
      "source": [
        "# Paint area calculator\n",
        "def paint_code(height,width,cover):\n",
        "  cal=round((height*width)/cover) #we can also use math.ceil to round up\n",
        "  print(cal)\n",
        "\n",
        "test_h=int(input(\"Enter the height: \"))\n",
        "test_w=int(input(\"Enter the width: \"))\n",
        "coverage=5\n",
        "\n",
        "paint_code(test_h,test_w,coverage)"
      ],
      "metadata": {
        "colab": {
          "base_uri": "https://localhost:8080/"
        },
        "id": "4XDKg688KyZu",
        "outputId": "f0cc5e89-8c44-40e9-e908-9de8d45865b2"
      },
      "execution_count": null,
      "outputs": [
        {
          "output_type": "stream",
          "name": "stdout",
          "text": [
            "Enter the height: 2\n",
            "Enter the width: 4\n",
            "2\n"
          ]
        }
      ]
    },
    {
      "cell_type": "code",
      "source": [
        "# to check the number is prime number or not\n",
        "import math\n",
        "def prime_num(number):\n",
        "  count=0\n",
        "  for i in range(1,number+1):\n",
        "    if number%i==0:\n",
        "      count+=1\n",
        "  if count>2:\n",
        "    print(f\"{number} is not a prime number\")\n",
        "  else:\n",
        "    print(f\"{number} is a prime number\")\n",
        "\n",
        "prime_num(17)\n",
        "\n",
        "# Another way\n",
        "def prime_num(number):\n",
        "  is_prime=True\n",
        "  for i in range(2,number):\n",
        "    if number%i==0:\n",
        "      is_prime=False\n",
        "  if not is_prime:\n",
        "    print(f\"{number} is not a prime number\")\n",
        "  else:\n",
        "    print(f\"{number} is a prime number\")\n",
        "prime_num(34)"
      ],
      "metadata": {
        "colab": {
          "base_uri": "https://localhost:8080/"
        },
        "id": "T_0vv4XNMpxB",
        "outputId": "d973f55a-5982-454f-98d7-9bd4d2ef1d14"
      },
      "execution_count": null,
      "outputs": [
        {
          "output_type": "stream",
          "name": "stdout",
          "text": [
            "17 is a prime number\n",
            "34 is not a prime number\n"
          ]
        }
      ]
    },
    {
      "cell_type": "code",
      "source": [
        "# Caesar Cipher game\n",
        "letters = ['a', 'b', 'c', 'd', 'e', 'f', 'g', 'h', 'i', 'j', 'k', 'l', 'm', 'n', 'o', 'p', 'q', 'r', 's', 't', 'u', 'v', 'w', 'x', 'y', 'z']\n",
        "direction=input(\"Enter if you want to encode or decode the code\")\n",
        "text=input(\"Enter the message\\n\").lower()\n",
        "shift=int(input(\"Enter the number of shift: \"))\n",
        "\n",
        "def encrypt(plain_text,shift_amt):\n",
        "  encrypt_result=\"\"\n",
        "  for i in plain_text:\n",
        "    x=letters.index(i)\n",
        "    if x+shift_amt>25:\n",
        "      x=(x+shift_amt)-26\n",
        "    else:\n",
        "      x=x+shift_amt\n",
        "    encrypt_result+=letters[x]\n",
        "  print(encrypt_result)\n",
        "\n",
        "def decrypt(plain_text,shift_amt):\n",
        "  decrypt_result=\"\"\n",
        "  for i in plain_text:\n",
        "    x=letters.index(i)\n",
        "    if x-shift_amt<0:\n",
        "      x=(x-shift_amt)+26\n",
        "    else:\n",
        "      x=x-shift_amt\n",
        "    decrypt_result+=letters[x]\n",
        "  print(decrypt_result)\n",
        "if direction==\"encode\":\n",
        "  encrypt(text,shift)\n",
        "else:\n",
        "  decrypt(text,shift)\n",
        "# rfmjxm"
      ],
      "metadata": {
        "colab": {
          "base_uri": "https://localhost:8080/"
        },
        "id": "19muhJQzTEFT",
        "outputId": "23ba6b76-aeb6-4e6c-aaf0-3c3ce83d9214"
      },
      "execution_count": null,
      "outputs": [
        {
          "output_type": "stream",
          "name": "stdout",
          "text": [
            "Enter if you want to encode or decode the codedecode\n",
            "Enter the message\n",
            "rfmjxm\n",
            "Enter the number of shift: 5\n",
            "mahesh\n"
          ]
        }
      ]
    },
    {
      "cell_type": "code",
      "source": [
        "# Putting all in one function\n",
        "mkj_logo = '''\n",
        "*   *  *   *  ***\n",
        "** **  *  *    *\n",
        "* * *  * *     *\n",
        "*   *  *  *  * *\n",
        "*   *  *   *  **\n",
        "'''\n",
        "print(mkj_logo)\n",
        "def caesar():\n",
        "  letters = ['a', 'b', 'c', 'd', 'e', 'f', 'g', 'h', 'i', 'j', 'k', 'l', 'm', 'n', 'o', 'p', 'q', 'r', 's', 't', 'u', 'v', 'w', 'x', 'y', 'z']\n",
        "  direction=input(\"Enter if you want to encode or decode the code: \").lower()\n",
        "  plain_text=input(\"Enter the message\\n\").lower()\n",
        "  shift_amt=int(input(\"Enter the number of shift: \"))\n",
        "  result=\"\"\n",
        "\n",
        "  if direction==\"encode\":\n",
        "    for i in plain_text:\n",
        "      x=letters.index(i)\n",
        "      if x+shift_amt>25:\n",
        "        x=(x+shift_amt)-26\n",
        "      else:\n",
        "        x=x+shift_amt\n",
        "      result+=letters[x]\n",
        "  else:\n",
        "    for i in plain_text:\n",
        "      x=letters.index(i)\n",
        "      if x-shift_amt<0:\n",
        "        x=(x-shift_amt)+26\n",
        "      else:\n",
        "        x=x-shift_amt\n",
        "      result+=letters[x]\n",
        "\n",
        "  print(result)\n",
        "  restart=input(\"Do you want to restart the game (Y/N): \").upper()\n",
        "  if restart=='Y':\n",
        "    caesar()\n",
        "\n",
        "caesar()"
      ],
      "metadata": {
        "colab": {
          "base_uri": "https://localhost:8080/"
        },
        "id": "a-47CNgOdAbH",
        "outputId": "8a29c6b7-0f2d-4029-f1e8-d45ba4903c5d"
      },
      "execution_count": null,
      "outputs": [
        {
          "name": "stdout",
          "output_type": "stream",
          "text": [
            "\n",
            "*   *  *   *  ***\n",
            "** **  *  *    * \n",
            "* * *  * *     * \n",
            "*   *  *  *  * * \n",
            "*   *  *   *  ** \n",
            "\n",
            "Enter if you want to encode or decode the code: encode\n",
            "Enter the message\n",
            "mahesh\n",
            "Enter the number of shift: 5\n",
            "rfmjxm\n",
            "Do you want to restart the game (Y/N): y\n",
            "Enter if you want to encode or decode the code: decode\n",
            "Enter the message\n",
            "rfmjxm\n",
            "Enter the number of shift: 5\n",
            "mahesh\n",
            "Do you want to restart the game (Y/N): n\n"
          ]
        }
      ]
    }
  ],
  "metadata": {
    "colab": {
      "provenance": [],
      "toc_visible": true,
      "include_colab_link": true
    },
    "kernelspec": {
      "display_name": "Python 3",
      "name": "python3"
    }
  },
  "nbformat": 4,
  "nbformat_minor": 0
}
