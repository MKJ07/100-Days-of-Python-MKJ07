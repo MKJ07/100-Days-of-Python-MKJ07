{
  "cells":[
    {
      "cell_type": "code",
      "source": [
        "from IPython.display import clear_output\n",
        "HANGMAN_PICS = ['''\n",
        "  +---+\n",
        "      |\n",
        "      |\n",
        "      |\n",
        "     ===''', '''\n",
        "  +---+\n",
        "  O   |\n",
        "      |\n",
        "      |\n",
        "     ===''', '''\n",
        "  +---+\n",
        "  O   |\n",
        "  |   |\n",
        "      |\n",
        "     ===''', '''\n",
        "  +---+\n",
        "  O   |\n",
        " /|   |\n",
        "      |\n",
        "     ===''', '''\n",
        "  +---+\n",
        "  O   |\n",
        " /|\\  |\n",
        "      |\n",
        "     ===''', '''\n",
        "  +---+\n",
        "  O   |\n",
        " /|\\  |\n",
        " /    |\n",
        "     ===''', '''\n",
        "  +---+\n",
        "  O   |\n",
        " /|\\  |\n",
        " / \\  |\n",
        "     ===''']\n",
        "\n",
        "\n",
        "hangman_len=len(HANGMAN_PICS)\n",
        "list=[\"mahesh\",\"prateek\",\"tej\",\"saket\",\"sunny\"]\n",
        "guess=random.choice(list)\n",
        "print(guess)\n",
        "display=[]\n",
        "word_length=len(guess)\n",
        "for i in range(word_length):\n",
        "  display+=\"_\"\n",
        "\n",
        "chance=0\n",
        "at_goal=False\n",
        "while not at_goal:\n",
        "  letter=input(\"Enter the letter: \").lower()\n",
        "  clear_output()\n",
        "  if \"_\" not in display:\n",
        "      at_goal=True\n",
        "      print(\"You win\")\n",
        "  if letter in display:\n",
        "    print(display)\n",
        "    print(\"You have already chosen the letter\")\n",
        "  elif letter not in guess :\n",
        "    print(f\"You have chosen the wrong letter{letter}, you lose a chance\")\n",
        "    print(HANGMAN_PICS[chance])\n",
        "    chance+=1\n",
        "    if chance==hangman_len:\n",
        "      at_goal=True\n",
        "      print(\"You Lose\")\n",
        "  for i in range(word_length):\n",
        "    if letter==guess[i]:\n",
        "      display[i]=letter\n",
        "\n",
        "\n"
      ],
      "metadata": {
        "colab": {
          "base_uri": "https://localhost:8080/"
        },
        "id": "Y_UHcpjPllFL",
        "outputId": "1d338c8c-24f2-4118-be70-0c9386d8ae45"
      },
      "execution_count": 29,
      "outputs": [
        {
          "output_type": "stream",
          "name": "stdout",
          "text": [
            "You have chosen the wrong letterc, you lose a chance\n",
            "\n",
            "  +---+\n",
            "  O   |\n",
            " /|\\  |\n",
            " / \\  |\n",
            "     ===\n",
            "You Lose\n"
          ]
        }
      ]
    }
  ],
  "metadata": {
    "colab": {
      "provenance": [],
      "toc_visible": true,
      "include_colab_link": true
    },
    "kernelspec": {
      "display_name": "Python 3",
      "name": "python3"
    }
  },
  "nbformat": 4,
  "nbformat_minor": 0
}
