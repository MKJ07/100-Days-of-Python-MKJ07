{
    "cells":[
      {
      "cell_type": "markdown",
      "source": [
        "# Day 17"
      ],
      "metadata": {
        "id": "3yQTXAYiE20z"
      }
    },
    {
      "cell_type": "code",
      "source": [
        "# Creating a class following PascalCase rule i.e.(FirstMiddleTitle)\n",
        "class User:\n",
        "  pass\n",
        "\n",
        "user_1=User() #creating an object of the class\n",
        "user_1.id=\"07\"\n",
        "user_1.username=\"MKJ\"\n",
        "\n",
        "print(user_1.username,user_1.id)"
      ],
      "metadata": {
        "colab": {
          "base_uri": "https://localhost:8080/"
        },
        "id": "lDaBlW8fE5Z5",
        "outputId": "f8ee0d5a-b016-4ffa-881a-fe4275fe7781"
      },
      "execution_count": null,
      "outputs": [
        {
          "output_type": "stream",
          "name": "stdout",
          "text": [
            "MKJ 07\n"
          ]
        }
      ]
    },
    {
      "cell_type": "code",
      "source": [
        "# Creating a constructor\n",
        "class User:\n",
        "  def __init__(self,user_id,username):\n",
        "    self.id=user_id\n",
        "    self.username=username\n",
        "\n",
        "user_1=User(7,\"MKJ\")\n",
        "user_2=User(20,\"David\")\n",
        "print(user_1.username,user_1.id,user_2.username,user_2.id)\n",
        "\n"
      ],
      "metadata": {
        "colab": {
          "base_uri": "https://localhost:8080/"
        },
        "id": "HbpRQa2tQaFs",
        "outputId": "c07cc843-4bd3-4f90-b320-d7b61e1ea342"
      },
      "execution_count": null,
      "outputs": [
        {
          "output_type": "stream",
          "name": "stdout",
          "text": [
            "MKJ 7 David 20\n",
            "\n"
          ]
        }
      ]
    },
    {
      "cell_type": "code",
      "source": [
        "# adding method to a class\n",
        "class User:\n",
        "  def __init__(self,user_id,username):\n",
        "    self.id=user_id\n",
        "    self.username=username\n",
        "    self.follower=0\n",
        "    self.following=0\n",
        "  def follow(self,user):\n",
        "    user.follower+=1\n",
        "    self.following+=1\n",
        "user_1=User(7,\"MKJ\")\n",
        "user_2=User(20,\"David\")\n",
        "user_1.follow(user_2) #in this user 1 is following user 2\n",
        "user_2.follow(user_1) #user 2 is following user 1\n",
        "for i in range(5):\n",
        "  user_2.follow(user_1)\n",
        "print(\"User 1:\",user_1.follower,user_1.following,\"\\nUser 2:\",user_2.follower,user_2.following)"
      ],
      "metadata": {
        "colab": {
          "base_uri": "https://localhost:8080/"
        },
        "id": "dPSWqAd7VMdQ",
        "outputId": "db0c57a2-d496-4f27-8ce7-5b6d7ee6a22e"
      },
      "execution_count": null,
      "outputs": [
        {
          "output_type": "stream",
          "name": "stdout",
          "text": [
            "User 1: 6 1 \n",
            "User 2: 1 6\n"
          ]
        }
      ]
    },
    {
      "cell_type": "code",
      "source": [
        "# Quiz Game Project\n",
        "# data.py\n",
        "question_data = [\n",
        "{\"text\": \"A slug's blood is green.\", \"answer\": \"True\"},\n",
        "{\"text\": \"The loudest animal is the African Elephant.\", \"answer\": \"False\"},\n",
        "{\"text\": \"Approximately one quarter of human bones are in the feet.\", \"answer\": \"True\"},\n",
        "{\"text\": \"The total surface area of a human lungs is the size of a football pitch.\", \"answer\": \"True\"},\n",
        "{\"text\": \"In West Virginia, USA, if you accidentally hit an animal with your car, you are free to take it home to eat.\", \"answer\": \"True\"},\n",
        "{\"text\": \"In London, UK, if you happen to die in the House of Parliament, you are entitled to a state funeral.\", \"answer\": \"False\"},\n",
        "{\"text\": \"It is illegal to pee in the Ocean in Portugal.\", \"answer\": \"True\"},\n",
        "{\"text\": \"You can lead a cow down stairs but not up stairs.\", \"answer\": \"False\"},\n",
        "{\"text\": \"Google was originally called 'Backrub'.\", \"answer\": \"True\"},\n",
        "{\"text\": \"Buzz Aldrin's mother's maiden name was 'Moon'.\", \"answer\": \"True\"},\n",
        "{\"text\": \"No piece of square dry paper can be folded in half more than 7 times.\", \"answer\": \"False\"},\n",
        "{\"text\": \"A few ounces of chocolate can to kill a small dog.\", \"answer\": \"True\"}\n",
        "]\n",
        "\n",
        "# print(question_data[0])"
      ],
      "metadata": {
        "id": "QYCWd05ltwBF"
      },
      "execution_count": null,
      "outputs": []
    },
    {
      "cell_type": "code",
      "source": [
        "# main.py\n",
        "from question_model import Question\n",
        "from data import question_data\n",
        "from quiz_brain import QuizBrain\n",
        "\n",
        "question_bank=[]\n",
        "for question in question_data:\n",
        "  q_text=question[\"text\"]\n",
        "  q_ans=question[\"answer\"]\n",
        "  n_q=Question(q_text,q_ans)\n",
        "  question_bank.append(n_q)\n",
        "quiz=QuizBrain(question_bank)\n",
        "while quiz.still_has_question():\n",
        "  quiz.NextQuestion()\n",
        "\n",
        "# You can follow the link to play the game or see the end result\n",
        "# Link:(https://replit.com/@trevis896159/quiz-game-start)\n"
      ],
      "metadata": {
        "id": "MYFUBeUrtMLz"
      },
      "execution_count": null,
      "outputs": []
    },
    {
      "cell_type": "code",
      "source": [
        "# question_model.py\n",
        "class Question:\n",
        "  def __init__(self, q_text, q_answer):\n",
        "    self.text=q_text\n",
        "    self.answer=q_answer\n",
        "\n",
        "# new_q=Question(\"What is the capital of france\",\"Paris\")\n",
        "# print(new_q.text,new_q.answer)"
      ],
      "metadata": {
        "id": "mjHMFySktceG"
      },
      "execution_count": null,
      "outputs": []
    },
    {
      "cell_type": "code",
      "source": [
        "# quiz_brain.py\n",
        "class QuizBrain:\n",
        "  score=0\n",
        "  def __init__(self,q_list):\n",
        "    self.ques_no=0\n",
        "    self.quest_list=q_list\n",
        "  def still_has_question(self):\n",
        "    if self.ques_no<len(self.quest_list):\n",
        "      return True\n",
        "    else:\n",
        "      return False\n",
        "  def NextQuestion(self):\n",
        "    curr_ques=self.quest_list[self.ques_no]\n",
        "    self.ques_no+=1\n",
        "    if input(f\"Q.{self.ques_no}: {curr_ques.text}(True/False) \")==curr_ques.answer:\n",
        "      print(\"You got it right!\")\n",
        "      self.score+=1\n",
        "      print(f\"Your current score is {self.score}/{self.ques_no}\")\n",
        "    else:\n",
        "      print(\"You are wrong\")\n",
        "      print(f\"The correct answer is {curr_ques.answer}\")\n",
        "      print(f\"Your current score is {self.score}/{self.ques_no}\")\n"
      ],
      "metadata": {
        "id": "k-AbZAIEtiGE"
      },
      "execution_count": null,
      "outputs": []
    }
  ],
  "metadata": {
    "colab": {
      "provenance": [],
      "toc_visible": true,
      "include_colab_link": true
    },
    "kernelspec": {
      "display_name": "Python 3",
      "name": "python3"
    }
  },
  "nbformat": 4,
  "nbformat_minor": 0
}
