{
  "cells":[
      {
      "cell_type": "markdown",
      "source": [
        "# Day 9"
      ],
      "metadata": {
        "id": "QY6HfOheSAlB"
      }
    },
    {
      "cell_type": "code",
      "source": [
        "# Dictionaries in Python\n",
        "dict={\"Bug\":\"An error\",\n",
        "      123:\"a piece of code in it\",\n",
        "      \"loop\":\"a continious running code\"}\n",
        "print(dict[\"loop\"]) #we have to declare in the same data type as we define in the dictionary\n",
        "print(dict[123])"
      ],
      "metadata": {
        "colab": {
          "base_uri": "https://localhost:8080/"
        },
        "id": "HS2xW-6-SC_i",
        "outputId": "6c1c8b2b-ed78-4e6c-9c56-49e951261783"
      },
      "execution_count": null,
      "outputs": [
        {
          "output_type": "stream",
          "name": "stdout",
          "text": [
            "a continious running code\n",
            "a piece of code in it\n"
          ]
        }
      ]
    },
    {
      "cell_type": "code",
      "source": [
        "# Adding new element to dictionary\n",
        "dict[\"mkj\"]=\"Mahesh Kr. Jaiswal\"\n",
        "print(dict)"
      ],
      "metadata": {
        "colab": {
          "base_uri": "https://localhost:8080/"
        },
        "id": "9SC4vb6zEvxp",
        "outputId": "d5f40d98-fb5f-4ecb-948d-c7fdb8e667f5"
      },
      "execution_count": null,
      "outputs": [
        {
          "output_type": "stream",
          "name": "stdout",
          "text": [
            "{'Bug': 'An error', 123: 'a piece of code in it', 'loop': 'a continious running code', 'mkj': 'Mahesh Kr. Jaiswal'}\n"
          ]
        }
      ]
    },
    {
      "cell_type": "code",
      "source": [
        "# empty the dictionary or changing the value of the key\n",
        "dict[\"Bug\"]=\"A big mistake\"\n",
        "print(dict)\n",
        "\n",
        "# dict={} // it will wipe all the data in the dictionary and redefine it\n",
        "# if the key is not there in the dictionary it will add it as a new key in the dictionary\n"
      ],
      "metadata": {
        "colab": {
          "base_uri": "https://localhost:8080/"
        },
        "id": "Ni5fBfwRJImp",
        "outputId": "5a630cea-4fe8-47ba-d1cd-270e965b86df"
      },
      "execution_count": null,
      "outputs": [
        {
          "output_type": "stream",
          "name": "stdout",
          "text": [
            "{'Bug': 'A big mistake', 123: 'a piece of code in it', 'loop': 'a continious running code', 'mkj': 'Mahesh Kr. Jaiswal'}\n"
          ]
        }
      ]
    },
    {
      "cell_type": "code",
      "source": [
        "# Iterating through the dictionary using for loop\n",
        "for key in dict:\n",
        "  print(key) #it will print the key present in the dictionary\n",
        "\n",
        "  print(dict[key]) # it will print the value of that key"
      ],
      "metadata": {
        "id": "bxbB6RayJy7-"
      },
      "execution_count": null,
      "outputs": []
    },
    {
      "cell_type": "code",
      "source": [
        "# Grade Program\n",
        "marks_dict={\"ram\":45,\"Shyam\":95,\"mkj\":87,\"tej\":77}\n",
        "\n",
        "grade_dict={}\n",
        "\n",
        "for key in marks_dict:\n",
        "  if marks_dict[key] > 90:\n",
        "    grade_dict[key]=\"Outstanding\"\n",
        "  elif marks_dict[key]>80:\n",
        "    grade_dict[key]=\"Exceeds Expectation\"\n",
        "  elif marks_dict[key]>70:\n",
        "    grade_dict[key]=\"Acceptable\"\n",
        "  else:\n",
        "    grade_dict[key]=\"fail\"\n",
        "\n",
        "print(grade_dict)"
      ],
      "metadata": {
        "colab": {
          "base_uri": "https://localhost:8080/"
        },
        "id": "K30JkCSxKksb",
        "outputId": "1a58d50e-25d4-44d4-b47f-e59044804446"
      },
      "execution_count": null,
      "outputs": [
        {
          "output_type": "stream",
          "name": "stdout",
          "text": [
            "{'ram': 'fail', 'Shyam': 'Outstanding', 'mkj': 'Exceeds Expectation', 'tej': 'Acceptable'}\n"
          ]
        }
      ]
    },
    {
      "cell_type": "code",
      "source": [
        "# Nested list and nested dictionaries\n",
        "\n",
        "# Nested dictionaries in dictionaries\n",
        "nested_list_dict={\"germany\":[\"berlin\",\"hamburg\"],\n",
        "                  \"france\":\"paris\"}\n",
        "\n",
        "nested_dict={\"germany\":{\"germany\":[\"berlin\",\"hamburg\"],\"total_visited\":34},\n",
        "             \"france\":[\"berlin\",\"hamburg\"]}\n",
        "print(nested_list_dict)\n",
        "print(nested_dict)\n",
        "\n",
        "# Nested dictionaries in list\n",
        "nested_list=[{\n",
        "    \"germany\":[\"berlin\",\"hamburg\"],\n",
        "    \"france\":\"paris\"\n",
        "    },\n",
        "     {\n",
        "        \"germany\":[\"berlin\",\"hamburg\"],\n",
        "        \"total_visited\":34\n",
        "        }]\n",
        "print(nested_list)\n",
        "\n",
        "print(nested_list[0])"
      ],
      "metadata": {
        "colab": {
          "base_uri": "https://localhost:8080/"
        },
        "id": "9QQoA9R6O5WB",
        "outputId": "036bd222-f3a1-439e-8676-96867e8501fe"
      },
      "execution_count": null,
      "outputs": [
        {
          "output_type": "stream",
          "name": "stdout",
          "text": [
            "{'germany': ['berlin', 'hamburg'], 'france': 'paris'}\n",
            "{'germany': {'germany': ['berlin', 'hamburg'], 'total_visited': 34}, 'france': ['berlin', 'hamburg']}\n",
            "[{'germany': ['berlin', 'hamburg'], 'france': 'paris'}, {'germany': ['berlin', 'hamburg'], 'total_visited': 34}]\n",
            "{'germany': ['berlin', 'hamburg'], 'france': 'paris'}\n"
          ]
        }
      ]
    },
    {
      "cell_type": "code",
      "source": [
        "from IPython.display import clear_output"
      ],
      "metadata": {
        "id": "N0xDsa8hk66Y"
      },
      "execution_count": null,
      "outputs": []
    },
    {
      "cell_type": "code",
      "source": [
        "# Secret Auction Game\n",
        "logo = '''\n",
        "                         ___________\n",
        "                         \\         /\n",
        "                          )_______(\n",
        "                          |\"\"\"\"\"\"\"|_.-._,.---------.,_.-._\n",
        "                          |       | | |               | | ''-.\n",
        "                          |       |_| |_             _| |_..-'\n",
        "                          |_______| '-' `'---------'` '-'\n",
        "                          )\"\"\"\"\"\"\"(\n",
        "                         /_________\\\\\n",
        "                       .-------------.\n",
        "                      /_______________\\\\\n",
        "'''\n",
        "print(logo)\n",
        "bid_dict={}\n",
        "\n",
        "def add_value_dict():\n",
        "  key=input(\"Enter the bidder's name: \")\n",
        "  value=int(input(\"Enter the bid amount: \"))\n",
        "  bid_dict[key]=value\n",
        "\n",
        "\n",
        "def bid_game():\n",
        "  more_bid=True\n",
        "  while more_bid:\n",
        "    add_value_dict()\n",
        "    question=input(\"Do you have any more bid's (Y/N): \").upper()\n",
        "    if question ==\"N\":\n",
        "      more_bid=False\n",
        "    clear_output()\n",
        "  h_bid_name=\"\"\n",
        "  h_bid=0\n",
        "  for key in bid_dict:\n",
        "    if bid_dict[key]>h_bid:\n",
        "      h_bid_name=key\n",
        "      h_bid=bid_dict[key]\n",
        "  print(f\"The highest bid is by {h_bid_name} of ${h_bid}\")\n",
        "\n",
        "bid_game()\n",
        "\n"
      ],
      "metadata": {
        "id": "WW7RtZJjgEvS"
      },
      "execution_count": null,
      "outputs": []
    }
  ]
  "metadata": {
    "colab": {
      "provenance": [],
      "toc_visible": true,
      "include_colab_link": true
    },
    "kernelspec": {
      "display_name": "Python 3",
      "name": "python3"
    }
  },
  "nbformat": 4,
  "nbformat_minor": 0
}
