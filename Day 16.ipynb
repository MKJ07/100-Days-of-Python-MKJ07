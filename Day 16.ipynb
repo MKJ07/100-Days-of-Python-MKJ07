{
    "cells":[
      {
      "cell_type": "markdown",
      "source": [
        "# Day 16"
      ],
      "metadata": {
        "id": "_dB4W24chpQw"
      }
    },
    {
      "cell_type": "code",
      "source": [
        "!pip3 install ColabTurtle"
      ],
      "metadata": {
        "colab": {
          "base_uri": "https://localhost:8080/"
        },
        "id": "tkEv4eVoiwzV",
        "outputId": "4f6b670e-cc96-48a6-9fab-9a4c5c3517ae"
      },
      "execution_count": null,
      "outputs": [
        {
          "output_type": "stream",
          "name": "stdout",
          "text": [
            "Collecting ColabTurtle\n",
            "  Downloading ColabTurtle-2.1.0.tar.gz (6.8 kB)\n",
            "  Preparing metadata (setup.py) ... \u001b[?25l\u001b[?25hdone\n",
            "Building wheels for collected packages: ColabTurtle\n",
            "  Building wheel for ColabTurtle (setup.py) ... \u001b[?25l\u001b[?25hdone\n",
            "  Created wheel for ColabTurtle: filename=ColabTurtle-2.1.0-py3-none-any.whl size=7641 sha256=97b2a8b39cf26f1759b7b2658f63ca0dc395dbcab34b57f1343ddd4ae21ada2d\n",
            "  Stored in directory: /root/.cache/pip/wheels/5b/86/e8/54f5c8c853606e3a3060bb2e60363cbed632374a12e0f33ffc\n",
            "Successfully built ColabTurtle\n",
            "Installing collected packages: ColabTurtle\n",
            "Successfully installed ColabTurtle-2.1.0\n"
          ]
        }
      ]
    },
    {
      "cell_type": "code",
      "source": [
        "from ColabTurtle.Turtle import *\n",
        "\n",
        "# from ColabTurtle.Turtle import Turtle\n",
        "# from Turtle import Screen"
      ],
      "metadata": {
        "id": "P1xjZAVeFcUh"
      },
      "execution_count": null,
      "outputs": []
    },
    {
      "cell_type": "code",
      "source": [
        "import ColabTurtle.Turtle as lia\n",
        "lia.initializeTurtle(initial_speed=5)\n",
        "lia.color('blue')\n",
        "lia.forward(100)\n",
        "lia.right(45)\n",
        "lia.color('red')\n",
        "lia.forward(50)\n",
        "lia.color('yellow')\n",
        "lia.right(90)\n",
        "lia.forward(50)\n",
        "lia.right(45)\n",
        "lia.color('green')\n",
        "lia.forward(100)\n",
        "lia.color('white')\n",
        "lia.right(90)\n",
        "lia.forward(80)\n",
        "\n"
      ],
      "metadata": {
        "colab": {
          "base_uri": "https://localhost:8080/",
          "height": 521
        },
        "id": "ohDOoXSheu-y",
        "outputId": "6569c1c8-9628-4aea-ed30-3523d8853e76"
      },
      "execution_count": null,
      "outputs": [
        {
          "output_type": "display_data",
          "data": {
            "text/plain": [
              "<IPython.core.display.HTML object>"
            ],
            "text/html": [
              "\n",
              "      <svg width=\"800\" height=\"500\">\n",
              "        <rect width=\"100%\" height=\"100%\" fill=\"black\"/>\n",
              "        <line x1=\"400\" y1=\"250\" x2=\"400.0\" y2=\"150.0\" stroke-linecap=\"round\" style=\"stroke:blue;stroke-width:4\"/><line x1=\"400.0\" y1=\"150.0\" x2=\"435.355\" y2=\"114.645\" stroke-linecap=\"round\" style=\"stroke:red;stroke-width:4\"/><line x1=\"435.355\" y1=\"114.645\" x2=\"470.71\" y2=\"150.0\" stroke-linecap=\"round\" style=\"stroke:yellow;stroke-width:4\"/><line x1=\"470.71\" y1=\"150.0\" x2=\"470.71\" y2=\"250.0\" stroke-linecap=\"round\" style=\"stroke:green;stroke-width:4\"/><line x1=\"470.71\" y1=\"250.0\" x2=\"390.71\" y2=\"250.0\" stroke-linecap=\"round\" style=\"stroke:white;stroke-width:4\"/>\n",
              "        <g visibility=visible transform=\"rotate(270,390.71,250.0) translate(372.71, 232.0)\">\n",
              "<path style=\" stroke:none;fill-rule:evenodd;fill:white;fill-opacity:1;\" d=\"M 18.214844 0.632812 C 16.109375 1.800781 15.011719 4.074219 15.074219 7.132812 L 15.085938 7.652344 L 14.785156 7.496094 C 13.476562 6.824219 11.957031 6.671875 10.40625 7.066406 C 8.46875 7.550781 6.515625 9.15625 4.394531 11.992188 C 3.0625 13.777344 2.679688 14.636719 3.042969 15.027344 L 3.15625 15.152344 L 3.519531 15.152344 C 4.238281 15.152344 4.828125 14.886719 8.1875 13.039062 C 9.386719 12.378906 10.371094 11.839844 10.378906 11.839844 C 10.386719 11.839844 10.355469 11.929688 10.304688 12.035156 C 9.832031 13.09375 9.257812 14.820312 8.96875 16.078125 C 7.914062 20.652344 8.617188 24.53125 11.070312 27.660156 C 11.351562 28.015625 11.363281 27.914062 10.972656 28.382812 C 8.925781 30.84375 7.945312 33.28125 8.238281 35.1875 C 8.289062 35.527344 8.28125 35.523438 8.917969 35.523438 C 10.941406 35.523438 13.074219 34.207031 15.136719 31.6875 C 15.359375 31.417969 15.328125 31.425781 15.5625 31.574219 C 16.292969 32.042969 18.023438 32.964844 18.175781 32.964844 C 18.335938 32.964844 19.941406 32.210938 20.828125 31.71875 C 20.996094 31.625 21.136719 31.554688 21.136719 31.558594 C 21.203125 31.664062 21.898438 32.414062 22.222656 32.730469 C 23.835938 34.300781 25.5625 35.132812 27.582031 35.300781 C 27.90625 35.328125 27.9375 35.308594 28.007812 34.984375 C 28.382812 33.242188 27.625 30.925781 25.863281 28.425781 L 25.542969 27.96875 L 25.699219 27.785156 C 28.945312 23.960938 29.132812 18.699219 26.257812 11.96875 L 26.207031 11.84375 L 27.945312 12.703125 C 31.53125 14.476562 32.316406 14.800781 33.03125 14.800781 C 33.976562 14.800781 33.78125 13.9375 32.472656 12.292969 C 28.519531 7.355469 25.394531 5.925781 21.921875 7.472656 L 21.558594 7.636719 L 21.578125 7.542969 C 21.699219 6.992188 21.761719 5.742188 21.699219 5.164062 C 21.496094 3.296875 20.664062 1.964844 19.003906 0.855469 C 18.480469 0.503906 18.457031 0.5 18.214844 0.632812\"/>\n",
              "</g>\n",
              "      </svg>\n",
              "    "
            ]
          },
          "metadata": {}
        }
      ]
    },
    {
      "cell_type": "code",
      "source": [
        "# OOPS\n",
        "# from turtle import Turtle, Screen\n",
        "# import tkinter as tk\n",
        "# import turtle\n",
        "\n",
        "timmy=lia\n",
        "print(timmy,\" hello\")\n",
        "# my_s=Screen()\n",
        "# print(my_s)\n",
        "# timmy=turtle.Turtle()\n",
        "# print(timmy)\n",
        "# # my_screen=Screen()\n",
        "# # print(my_screen.canvheight)"
      ],
      "metadata": {
        "colab": {
          "base_uri": "https://localhost:8080/"
        },
        "id": "SA08iwgZhorS",
        "outputId": "6683860d-34e1-49a2-d272-dd6e7088f5ce"
      },
      "execution_count": null,
      "outputs": [
        {
          "output_type": "stream",
          "name": "stdout",
          "text": [
            "<module 'ColabTurtle.Turtle' from '/usr/local/lib/python3.10/dist-packages/ColabTurtle/Turtle.py'>  hello\n"
          ]
        }
      ]
    },
    {
      "cell_type": "code",
      "source": [
        "from prettytable import PrettyTable"
      ],
      "metadata": {
        "id": "5AHa9FNolmyA"
      },
      "execution_count": null,
      "outputs": []
    },
    {
      "cell_type": "code",
      "source": [
        "table=PrettyTable()\n",
        "table.add_column(\"City\",[\"Kolkata\",\"Pune\",\"Delhi\",\"Patna\"])\n",
        "table.add_column(\"Pincode\",[711202,800001,300234,234003])\n",
        "print(table)"
      ],
      "metadata": {
        "colab": {
          "base_uri": "https://localhost:8080/"
        },
        "id": "1uMomSu4l7Xm",
        "outputId": "4f00fe94-0f38-431c-b482-576e5f8c2df0"
      },
      "execution_count": null,
      "outputs": [
        {
          "output_type": "stream",
          "name": "stdout",
          "text": [
            "+---------+---------+\n",
            "|   City  | Pincode |\n",
            "+---------+---------+\n",
            "| Kolkata |  711202 |\n",
            "|   Pune  |  800001 |\n",
            "|  Delhi  |  300234 |\n",
            "|  Patna  |  234003 |\n",
            "+---------+---------+\n"
          ]
        }
      ]
    },
    {
      "cell_type": "code",
      "source": [
        "# Using align object\n",
        "table.align[\"City\"]=\"l\"\n",
        "table.align[\"Pincode\"]=\"l\"\n",
        "print(table)\n",
        "print(table.align)"
      ],
      "metadata": {
        "colab": {
          "base_uri": "https://localhost:8080/"
        },
        "id": "yxu6xViGpeCH",
        "outputId": "e9f62aab-e631-433b-bfab-ba1cbfdb9cdf"
      },
      "execution_count": null,
      "outputs": [
        {
          "output_type": "stream",
          "name": "stdout",
          "text": [
            "+---------+---------+\n",
            "| City    | Pincode |\n",
            "+---------+---------+\n",
            "| Kolkata | 711202  |\n",
            "| Pune    | 800001  |\n",
            "| Delhi   | 300234  |\n",
            "| Patna   | 234003  |\n",
            "+---------+---------+\n",
            "{'base_align_value': 'c', 'City': 'l', 'Pincode': 'l', 'pincode': 'l', 'city': 'r'}\n"
          ]
        }
      ]
    }
],
"metadata": {
    "colab": {
      "provenance": [],
      "toc_visible": true,
      "include_colab_link": true
    },
    "kernelspec": {
      "display_name": "Python 3",
      "name": "python3"
    }
  },
  "nbformat": 4,
  "nbformat_minor": 0
}
