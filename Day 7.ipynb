{
  "cells": [
    {
      "cell_type": "markdown",
      "source": [
        "# Day 7"
      ],
      "metadata": {
        "id": "pU4J53XdVODV"
      }
    },
    {
      "cell_type": "code",
      "source": [
        "# Picking a random words\n",
        "import random\n",
        "list=[\"mahesh\",\"Prateek\",\"Tej\",\"Saket\",\"Sunny\"]\n",
        "guess=random.choice(list)\n",
        "letter=input(\"Enter the word: \")\n",
        "for i in guess:\n",
        "  if letter in i:\n",
        "    print(\"Right\")\n",
        "  else:\n",
        "    print(\"Wrong\")"
      ],
      "metadata": {
        "colab": {
          "base_uri": "https://localhost:8080/"
        },
        "id": "FO3af9QxVSZf",
        "outputId": "a7303557-9c0d-4c2b-eaa4-899ecb97c556"
      },
      "execution_count": 3,
      "outputs": [
        {
          "output_type": "stream",
          "name": "stdout",
          "text": [
            "Enter the word: a\n",
            "Wrong\n",
            "Right\n",
            "Wrong\n",
            "Wrong\n",
            "Wrong\n",
            "Wrong\n"
          ]
        }
      ]
    },
    {
      "cell_type": "code",
      "source": [
        "# Replace the blank with chosen letter\n",
        "list=[\"mahesh\",\"Prateek\",\"Tej\",\"Saket\",\"Sunny\"]\n",
        "guess=random.choice(list)\n",
        "display=[]\n",
        "word_length=len(guess)\n",
        "for i in range(word_length):\n",
        "  display+=\"_\"\n",
        "print(display)\n",
        "letter=input(\"Enter the letter:  \")\n",
        "\n",
        "for i in range(word_length):\n",
        "  if letter==guess[i]:\n",
        "    display[i]=letter\n",
        "\n",
        "print(display)"
      ],
      "metadata": {
        "colab": {
          "base_uri": "https://localhost:8080/"
        },
        "id": "rsDTWiktab9i",
        "outputId": "50df0eb7-646e-49c4-d5c2-00627eecdf51"
      },
      "execution_count": 11,
      "outputs": [
        {
          "output_type": "stream",
          "name": "stdout",
          "text": [
            "['_', '_', '_']\n",
            "Enter the lettere\n",
            "['_', 'e', '_']\n"
          ]
        }
      ]
    }
  ],
  "metadata": {
    "colab": {
      "provenance": [],
      "toc_visible": true,
      "include_colab_link": true
    },
    "kernelspec": {
      "display_name": "Python 3",
      "name": "python3"
    }
  },
  "nbformat": 4,
  "nbformat_minor": 0
}
