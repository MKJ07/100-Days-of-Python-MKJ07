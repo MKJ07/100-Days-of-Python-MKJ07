{
  "cells": [
    {
      "cell_type": "markdown",
      "source": [
        "# Day 6"
      ],
      "metadata": {
        "id": "WinuLuV3QFRz"
      }
    },
    {
      "cell_type": "code",
      "source": [
        "# Defining and Calling a function\n",
        "def my_function():\n",
        "  print(\"I am MKJ\")\n",
        "my_function() #calling the function\n",
        "\n",
        "def addition(a,b):\n",
        "  print(a+b)\n",
        "addition(3,5)"
      ],
      "metadata": {
        "colab": {
          "base_uri": "https://localhost:8080/"
        },
        "id": "AnC9BL92QJhs",
        "outputId": "f4b1d04b-eb56-4de1-87b8-f319a0e22cb9"
      },
      "execution_count": null,
      "outputs": [
        {
          "output_type": "stream",
          "name": "stdout",
          "text": [
            "I am MKJ\n",
            "8\n"
          ]
        }
      ]
    },
    {
      "cell_type": "code",
      "source": [
        "# Practice Function\n",
        "def turn_around():\n",
        "    turn_left()\n",
        "    turn_left()\n",
        "def turn_right():\n",
        "    turn_left()\n",
        "    turn_left()\n",
        "    turn_left()\n",
        "turn_left()\n",
        "move()\n",
        "move()\n",
        "turn_right()\n",
        "move()\n",
        "move()\n",
        "turn_right()\n",
        "move()\n",
        "move()\n",
        "turn_right()\n",
        "move()\n",
        "move()"
      ],
      "metadata": {
        "id": "hI61KMpSQrnf"
      },
      "execution_count": null,
      "outputs": []
    },
    {
      "cell_type": "code",
      "source": [
        "# Hurdles game 1\n",
        "def turn_right():\n",
        "    turn_left()\n",
        "    turn_left()\n",
        "    turn_left()\n",
        "def hurdles():\n",
        "    move()\n",
        "    turn_left()\n",
        "    move()\n",
        "    turn_right()\n",
        "    move()\n",
        "    turn_right()\n",
        "    move()\n",
        "    turn_left()\n",
        "# for i in range(0,6):\n",
        "#     hurdles()\n",
        "\n",
        "# Using While loop\n",
        "while i<6:\n",
        "  hurdles()\n",
        "  i+=1\n",
        "\n",
        "# Hurdles game 2\n",
        "def turn_right():\n",
        "    turn_left()\n",
        "    turn_left()\n",
        "    turn_left()\n",
        "def hurdles():\n",
        "    move()\n",
        "    turn_left()\n",
        "    move()\n",
        "    turn_right()\n",
        "    move()\n",
        "    turn_right()\n",
        "    move()\n",
        "    turn_left()\n",
        "i=0\n",
        "while at_goal()!=True:\n",
        "  hurdles()\n",
        "\n",
        "# Hurdles game 3\n",
        "def turn_right():\n",
        "    turn_left()\n",
        "    turn_left()\n",
        "    turn_left()\n",
        "def hurdles():\n",
        "    turn_left()\n",
        "    move()\n",
        "    turn_right()\n",
        "    move()\n",
        "    turn_right()\n",
        "    move()\n",
        "    turn_left()\n",
        "\n",
        "\n",
        "while not at_goal():\n",
        "    if wall_in_front():\n",
        "        hurdles()\n",
        "    else:\n",
        "        move()\n",
        "\n",
        "\n",
        "# Hurdles game 4\n",
        "def turn_right():\n",
        "    turn_left()\n",
        "    turn_left()\n",
        "    turn_left()\n",
        "def hurdles():\n",
        "    turn_left()\n",
        "    while not wall_in_front() and not right_is_clear():\n",
        "        move()\n",
        "    turn_right()\n",
        "    move()\n",
        "    turn_right()\n",
        "    while not wall_in_front():\n",
        "        move()\n",
        "    turn_left()\n",
        "\n",
        "while not at_goal():\n",
        "    if wall_in_front():\n",
        "        hurdles()\n",
        "    elif not front_is_clear():\n",
        "        turn_left()\n",
        "    else:\n",
        "        move()\n"
      ],
      "metadata": {
        "id": "LaVvi0IdSJCc"
      },
      "execution_count": null,
      "outputs": []
    },
    {
      "cell_type": "code",
      "source": [
        "# Day 6 project\n",
        "def turn_right():\n",
        "    turn_left()\n",
        "    turn_left()\n",
        "    turn_left()\n",
        "\n",
        "while front_is_clear():\n",
        "    move()\n",
        "turn_left()\n",
        "\n",
        "while not at_goal():\n",
        "    if right_is_clear():\n",
        "        turn_right()\n",
        "        move()\n",
        "    elif front_is_clear():\n",
        "        move()\n",
        "    else:\n",
        "        turn_left()"
      ],
      "metadata": {
        "id": "xlUIjkejP_1w"
      },
      "execution_count": null,
      "outputs": []
    }
  ],
  "metadata": {
    "colab": {
      "provenance": [],
      "toc_visible": true,
      "include_colab_link": true
    },
    "kernelspec": {
      "display_name": "Python 3",
      "name": "python3"
    }
  },
  "nbformat": 4,
  "nbformat_minor": 0
}
