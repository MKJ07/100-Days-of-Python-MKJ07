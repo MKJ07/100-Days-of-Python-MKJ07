{
  "cells": [
    {
      "cell_type": "markdown",
      "metadata": {
        "id": "view-in-github",
        "colab_type": "text"
      },
      "source": [
        "<a href=\"https://colab.research.google.com/github/MKJ07/100-Days-of-Python-MKJ07/blob/main/Day%204.ipynb\" target=\"_parent\"><img src=\"https://colab.research.google.com/assets/colab-badge.svg\" alt=\"Open In Colab\"/></a>"
      ]
    },
    {
      "cell_type": "markdown",
      "source": [
        "#100 Days of Python"
      ],
      "metadata": {
        "id": "TLAHhGjToDda"
      }
    },
    {
      "cell_type": "markdown",
      "source": [
        "# Day 1"
      ],
      "metadata": {
        "id": "QFqk6rnZO6Cs"
      }
    },
    {
      "cell_type": "code",
      "source": [
        "print(\"Hello World!!\")"
      ],
      "metadata": {
        "id": "dKBdZJVloO4_",
        "outputId": "cfdf2d2e-a138-4038-c9b8-a59379bb9440",
        "colab": {
          "base_uri": "https://localhost:8080/"
        }
      },
      "execution_count": null,
      "outputs": [
        {
          "output_type": "stream",
          "name": "stdout",
          "text": [
            "Hello World!!\n"
          ]
        }
      ]
    },
    {
      "cell_type": "code",
      "source": [
        "print(\"hello i am \\n MKJ\")\n",
        "print(\"Hello\"+\"MKJ\")"
      ],
      "metadata": {
        "id": "khcZLXyVqjzi",
        "outputId": "c5246313-072e-4115-d151-c742e8d5cc24",
        "colab": {
          "base_uri": "https://localhost:8080/"
        }
      },
      "execution_count": null,
      "outputs": [
        {
          "output_type": "stream",
          "name": "stdout",
          "text": [
            "hello i am \n",
            " MKJ\n",
            "HelloMKJ\n"
          ]
        }
      ]
    },
    {
      "cell_type": "code",
      "source": [
        "#input\n",
        "# input(\"What is your name\")\n",
        "print(\"Hello i am \"+ input())\n"
      ],
      "metadata": {
        "id": "Stgivyv0tFG0",
        "outputId": "56de48c1-bff5-4b4f-fa78-866ae8d4554b",
        "colab": {
          "base_uri": "https://localhost:8080/"
        }
      },
      "execution_count": null,
      "outputs": [
        {
          "output_type": "stream",
          "name": "stdout",
          "text": [
            "mkj\n",
            "Hello i am mkj\n"
          ]
        }
      ]
    },
    {
      "cell_type": "code",
      "source": [
        "name=\"Mahesh\"\n",
        "print(len(name))"
      ],
      "metadata": {
        "id": "0cJp_35Ztd0X",
        "outputId": "a4451505-66ad-4fb8-a493-534375fff619",
        "colab": {
          "base_uri": "https://localhost:8080/"
        }
      },
      "execution_count": null,
      "outputs": [
        {
          "output_type": "stream",
          "name": "stdout",
          "text": [
            "6\n"
          ]
        }
      ]
    },
    {
      "cell_type": "code",
      "source": [
        "# Swap two value\n",
        "a=20;b=10\n",
        "t=a\n",
        "a=b\n",
        "b=t\n",
        "print(a)\n",
        "print(b)"
      ],
      "metadata": {
        "id": "6wuijR-muK0r",
        "outputId": "dbe6060f-751f-4c93-864b-6d63d9e5c613",
        "colab": {
          "base_uri": "https://localhost:8080/"
        }
      },
      "execution_count": null,
      "outputs": [
        {
          "output_type": "stream",
          "name": "stdout",
          "text": [
            "10\n",
            "20\n"
          ]
        }
      ]
    },
    {
      "cell_type": "code",
      "source": [
        "# Band Game generator\n",
        "print(\"Hii\")\n",
        "name=input(\"Enter your city name \")\n",
        "pet_name=input(\"Enter your pet name \")\n",
        "print(\"Your band name is:\"+ name+\" \"+pet_name)"
      ],
      "metadata": {
        "id": "wXKXyiEezXbE",
        "outputId": "1893c362-b21e-4672-d29d-de65d85711c2",
        "colab": {
          "base_uri": "https://localhost:8080/"
        }
      },
      "execution_count": null,
      "outputs": [
        {
          "output_type": "stream",
          "name": "stdout",
          "text": [
            "Hii\n",
            "Enter your city nameKolkata\n",
            "Enter your pet namepuppy\n",
            "Your band name is:Kolkata puppy\n"
          ]
        }
      ]
    },
    {
      "cell_type": "markdown",
      "source": [
        "# Day 2"
      ],
      "metadata": {
        "id": "2im1ajxoPBk0"
      }
    },
    {
      "cell_type": "code",
      "source": [
        "# Primitive Data type\n",
        "# String\n",
        "print(\"Hello\"[0])\n",
        "\n",
        "# Integer\n",
        "num=123456\n",
        "print(123+456)\n",
        "\n",
        "# float\n",
        "dec=1235.63\n",
        "print(type(dec))\n",
        "\n",
        "# Boolean\n",
        "print(num==dec)"
      ],
      "metadata": {
        "colab": {
          "base_uri": "https://localhost:8080/"
        },
        "id": "eunRdppOPHYs",
        "outputId": "f5e64404-2b86-4011-b1b9-27874c01f55b"
      },
      "execution_count": null,
      "outputs": [
        {
          "output_type": "stream",
          "name": "stdout",
          "text": [
            "H\n",
            "579\n",
            "<class 'float'>\n",
            "False\n"
          ]
        }
      ]
    },
    {
      "cell_type": "code",
      "source": [
        "# Type error\n",
        "num=len(input(\" Enter your name \"))\n",
        "# print(\"Your name has \"+num+\" characters\") //TypeError: can only concatenate str (not \"int\") to str\n",
        "\n",
        "# type conversion\n",
        "print(\"Your name has \"+ str(num)+\" characters\")\n",
        "\n",
        "print(70+ float(\"125.236\"))"
      ],
      "metadata": {
        "colab": {
          "base_uri": "https://localhost:8080/"
        },
        "id": "bXxlsP_-QA8q",
        "outputId": "3760b5dc-14c4-41a4-be19-53557383054d"
      },
      "execution_count": null,
      "outputs": [
        {
          "output_type": "stream",
          "name": "stdout",
          "text": [
            " Enter your name Mahesh\n",
            "Your name has 6 characters\n",
            "195.236\n"
          ]
        }
      ]
    },
    {
      "cell_type": "code",
      "source": [
        "# Mathematical Operations in Python\n",
        "print(\"Addition \",3+5)\n",
        "print(\"Substraction \",35-9)\n",
        "print(\"Multiply \",3*5)\n",
        "print(\"Division \",35/5)\n",
        "print(\"Exponent \",3**2)\n",
        "\n",
        "# PEDMAS(Paranthesis,Exponent,Division,Multiply,Addition,Substract) rule\n",
        "print(3*3-5/2+6)\n",
        "\n",
        "print((3*3-5)/2+6)\n"
      ],
      "metadata": {
        "colab": {
          "base_uri": "https://localhost:8080/"
        },
        "id": "sF7DuTcMQ0bs",
        "outputId": "ef468081-41ef-4eb7-ba80-0df7e02b1d52"
      },
      "execution_count": null,
      "outputs": [
        {
          "output_type": "stream",
          "name": "stdout",
          "text": [
            "Addition  8\n",
            "Substraction  26\n",
            "Multiply  15\n",
            "Division  7.0\n",
            "Exponent  9\n",
            "12.5\n",
            "8.0\n"
          ]
        }
      ]
    },
    {
      "cell_type": "code",
      "source": [
        "# Number manipulation and Fstring\n",
        "print(8/3)\n",
        "num=(8//3) # gives int value\n",
        "print(type(num))\n",
        "\n",
        "print(f\"There are {20} flat in {2} building and having {num} gaurd\") # Fstring"
      ],
      "metadata": {
        "colab": {
          "base_uri": "https://localhost:8080/"
        },
        "id": "uzH_URrWQoZa",
        "outputId": "d484008e-53a3-47f3-8bfb-51b10dcad80c"
      },
      "execution_count": null,
      "outputs": [
        {
          "output_type": "stream",
          "name": "stdout",
          "text": [
            "2.6666666666666665\n",
            "<class 'int'>\n",
            "There are 20 flat in 2 building and having 2 gaurd\n"
          ]
        }
      ]
    },
    {
      "cell_type": "code",
      "source": [
        "# Life in weeks\n",
        "age=int(input())\n",
        "year=90-age\n",
        "weeks=year*52\n",
        "\n",
        "print(f\"You have {weeks} left in your life\")"
      ],
      "metadata": {
        "colab": {
          "base_uri": "https://localhost:8080/"
        },
        "id": "XsL49HZwWJf6",
        "outputId": "a0485db5-de5e-4aad-bf70-0c8951b55cdb"
      },
      "execution_count": null,
      "outputs": [
        {
          "output_type": "stream",
          "name": "stdout",
          "text": [
            "24\n",
            "You have 3432 left in your life\n"
          ]
        }
      ]
    },
    {
      "cell_type": "code",
      "source": [
        "# Project 2\n",
        "print(\"Welcome to tip calculator\")\n",
        "\n",
        "bill=float(input(\"What was the bill? \"))\n",
        "perbilltip=int(input(\"What percentage tip you want to give? 10,12,15? \"))\n",
        "ppl=int(input(\"How many people you want to split? \"))\n",
        "\n",
        "perbillinrs=float((bill*perbilltip)/100)\n",
        "totalbill=round((bill+perbillinrs)/ppl,2)\n",
        "\n",
        "print(f\"Total bill you all have to pay is{totalbill} \")"
      ],
      "metadata": {
        "colab": {
          "base_uri": "https://localhost:8080/"
        },
        "id": "leWj-2pwm7l2",
        "outputId": "e16ec95b-19d6-48c0-cd30-21cd6c0bfacb"
      },
      "execution_count": null,
      "outputs": [
        {
          "output_type": "stream",
          "name": "stdout",
          "text": [
            "Welcome to tip calculator\n",
            "What was the bill? 124.56\n",
            "What percentage tip you want to give? 10,12,15? 12\n",
            "How many people you want to split? 7\n",
            "Total bill you all have to pay is19.93 \n"
          ]
        }
      ]
    },
    {
      "cell_type": "markdown",
      "source": [
        "# Day 3\n"
      ],
      "metadata": {
        "id": "mogyCedKrjLa"
      }
    },
    {
      "cell_type": "code",
      "source": [
        "# Conditional Statement\n",
        "height=int(input(\"Enter your height \"))\n",
        "\n",
        "if height>120:\n",
        "  print(\"You are eligible\")\n",
        "else:\n",
        "  print(\"You are not eligible\")"
      ],
      "metadata": {
        "colab": {
          "base_uri": "https://localhost:8080/"
        },
        "id": "vkjIuVFQroNk",
        "outputId": "a442e6fe-a6a0-423f-d5e3-6bc2d1396780"
      },
      "execution_count": null,
      "outputs": [
        {
          "output_type": "stream",
          "name": "stdout",
          "text": [
            "Enter your height 132\n",
            "You are eligible\n"
          ]
        }
      ]
    },
    {
      "cell_type": "code",
      "source": [
        "# Check the number is even number or odd number\n",
        "num=int(input(\"Enter the number \"))\n",
        "\n",
        "if num % 2 == 0 :\n",
        "  print(f\"{num} is an even number\")\n",
        "else:\n",
        "  print(f\"{num} is a odd number\")"
      ],
      "metadata": {
        "colab": {
          "base_uri": "https://localhost:8080/"
        },
        "id": "aYk1ymh7t44c",
        "outputId": "291e1f29-b251-44e7-84fa-5cbf62a1170d"
      },
      "execution_count": null,
      "outputs": [
        {
          "output_type": "stream",
          "name": "stdout",
          "text": [
            "Enter the number34\n",
            "34 is an even number\n"
          ]
        }
      ]
    },
    {
      "cell_type": "code",
      "source": [
        "# Elif Statement - Nested if/else\n",
        "height=int(input(\"Enter your height \"))\n",
        "\n",
        "if height > 120:\n",
        "  print(\"Congratulations!! You are eligible\")\n",
        "  age=int(input(\"Enter your age \"))\n",
        "  if age>18:\n",
        "    print(\"You have to pay 17$\")\n",
        "  elif age<18 and age>12:\n",
        "    print(\"You have to pay 12$\")\n",
        "  else:\n",
        "    print(\"You have to pay 7$\")\n",
        "else:\n",
        "  print(\"Your are not eligible\")"
      ],
      "metadata": {
        "colab": {
          "base_uri": "https://localhost:8080/"
        },
        "id": "rWjhzNrL4ec0",
        "outputId": "bdc65b3a-99d2-464e-9161-907a1247456d"
      },
      "execution_count": null,
      "outputs": [
        {
          "output_type": "stream",
          "name": "stdout",
          "text": [
            "Enter your height 342\n",
            "Congratulations!! You are eligible\n",
            "Enter your age 14\n",
            "You have to pay 12$\n"
          ]
        }
      ]
    },
    {
      "cell_type": "code",
      "source": [
        "# BMI Calculator\n",
        "height=float(input(\"Enter your height \"))\n",
        "weight=int(input(\"Enter your weight \"))\n",
        "\n",
        "bmi=weight/(height*height)\n",
        "\n",
        "if bmi<18.5:\n",
        "  print(f\"Your BMI is {bmi}, you are underweight\")\n",
        "elif bmi<25:\n",
        "  print(f\"Your BMI is {bmi}, you are normal\")\n",
        "elif bmi<30:\n",
        "  print(f\"Your BMI is {bmi}, you are overweight\")\n",
        "elif bmi<35:\n",
        "  print(f\"Your BMI is {bmi}, you are obese\")\n",
        "else:\n",
        "  print(f\"Your BMI is {bmi}, you are clinically obese\")\n",
        "\n"
      ],
      "metadata": {
        "colab": {
          "base_uri": "https://localhost:8080/"
        },
        "id": "f7NtKNfi771O",
        "outputId": "f00270f6-68c8-46cd-a3ff-dd25e3477f24"
      },
      "execution_count": null,
      "outputs": [
        {
          "output_type": "stream",
          "name": "stdout",
          "text": [
            "Enter your height 1.8\n",
            "Enter your weight 50\n",
            "Your BMI is 15.432098765432098, you are underweight\n"
          ]
        }
      ]
    },
    {
      "cell_type": "code",
      "source": [
        "# Check the year is leap year or not\n",
        "year=int(input(\"Enter the year \"))\n",
        "if (year%4==0 and year%100!=0) or year%400==0:\n",
        "  print(f\"{year} is a leap year\")\n",
        "else:\n",
        "  print(f\"{year} is not a leap year\")"
      ],
      "metadata": {
        "colab": {
          "base_uri": "https://localhost:8080/"
        },
        "id": "V9-00hpkFEsP",
        "outputId": "bebf64e1-de1d-4226-aeff-9136d71ae7bb"
      },
      "execution_count": null,
      "outputs": [
        {
          "output_type": "stream",
          "name": "stdout",
          "text": [
            "Enter the year 2004\n",
            "2004 is a leap year\n"
          ]
        }
      ]
    },
    {
      "cell_type": "code",
      "source": [
        "# Nested if\n",
        "height=int(input(\"Enter your height \"))\n",
        "amt=0\n",
        "if height > 120:\n",
        "  print(\"Congratulations!! You are eligible\")\n",
        "  age=int(input(\"Enter your age \"))\n",
        "  if age>18:\n",
        "    amt=18\n",
        "    # print(\"You have to pay 17$\")\n",
        "  elif age<18 and age>12:\n",
        "    amt=12\n",
        "    # print(\"You have to pay 12$\")\n",
        "  else:\n",
        "    amt=7\n",
        "    # print(\"You have to pay 7$\")\n",
        "  ph=input(\"Do you want photo? Y or N \")\n",
        "  if ph=='Y':\n",
        "    amt+=3\n",
        "  print(f\"Total amount you have to pay ${amt}\")\n",
        "else:\n",
        "  print(\"Your are not eligible\")"
      ],
      "metadata": {
        "colab": {
          "base_uri": "https://localhost:8080/"
        },
        "id": "44N5-OfDwmgc",
        "outputId": "f2ad5450-8f05-4520-bcc2-0759409c24da"
      },
      "execution_count": null,
      "outputs": [
        {
          "output_type": "stream",
          "name": "stdout",
          "text": [
            "Enter your height 343\n",
            "Congratulations!! You are eligible\n",
            "Enter your age 34\n",
            "Do you want photo? Y or N Y\n",
            "Total amount you have to pay $21\n"
          ]
        }
      ]
    },
    {
      "cell_type": "code",
      "source": [
        "# Pizza order practice\n",
        "size=input(\"Enter the size of the pizza, S/M/L: \")\n",
        "pp=input(\"Do you pepperoni? Y/N: \")\n",
        "cheese=input(\"Do you want extra cheese? Y/N: \")\n",
        "price=0\n",
        "if size=='S':\n",
        "  price=15\n",
        "  if pp=='Y':\n",
        "    price+=2\n",
        "elif size=='M':\n",
        "  price=20\n",
        "  if pp=='Y':\n",
        "    price+=3\n",
        "else:\n",
        "  price=25\n",
        "  if pp=='Y':\n",
        "    price+=3\n",
        "if cheese=='Y':\n",
        "    price+=1\n",
        "print(f\"Cost of pizza is {price}\")\n"
      ],
      "metadata": {
        "colab": {
          "base_uri": "https://localhost:8080/"
        },
        "id": "i5D3v-GBqKIh",
        "outputId": "ff7403d6-2126-44eb-f056-2eb4f42f3c42"
      },
      "execution_count": null,
      "outputs": [
        {
          "output_type": "stream",
          "name": "stdout",
          "text": [
            "Enter the size of the pizza, S/M/L: S\n",
            "Do you pepperoni? Y/N: N\n",
            "Do you want extra cheese? Y/N: Y\n",
            "Cost of pizza is 16\n"
          ]
        }
      ]
    },
    {
      "cell_type": "code",
      "source": [
        "# Love Calculator\n",
        "name1=input(\"Enter the person 1's name: \")\n",
        "name2=input(\"Enter the person 2's name: \")\n",
        "tcount=0;lcount=0\n",
        "combined_name=name1+name2\n",
        "name3=combined_name.lower()\n",
        "t=name3.count('t')\n",
        "r=name3.count('r')\n",
        "u=name3.count('u')\n",
        "e=name3.count('e')\n",
        "name_count=t+r+u+e\n",
        "\n",
        "l=name3.count('l')\n",
        "o=name3.count('o')\n",
        "v=name3.count('v')\n",
        "e=name3.count('e')\n",
        "l_count=l+o+v+e\n",
        "\n",
        "total_count=int(str(name_count)+str(l_count))\n",
        "print(f\"Your love score is {total_count} \")\n",
        "\n"
      ],
      "metadata": {
        "colab": {
          "base_uri": "https://localhost:8080/"
        },
        "id": "w0DfizKOy1De",
        "outputId": "5ca5e605-89b9-491a-d0d5-c6b45f8fbf08"
      },
      "execution_count": null,
      "outputs": [
        {
          "output_type": "stream",
          "name": "stdout",
          "text": [
            "Enter the person 1's name: Angela yu\n",
            "Enter the person 2's name: jack bauer\n",
            "Your love score is 53 \n"
          ]
        }
      ]
    },
    {
      "cell_type": "code",
      "source": [
        "# Project 3\n",
        "print('''================================================.\n",
        "     .-.   .-.     .--.                         |\n",
        "    | OO| | OO|   / _.-' .-.   .-.  .-.   .''.  |\n",
        "    |   | |   |   \\  '-. '-'   '-'  '-'   '..'  |\n",
        "    '^^^' '^^^'    '--'                         |\n",
        "===============.  .-.  .================.  .-.  |\n",
        "               | |   | |                |  '-'  |\n",
        "               | |   | |                |       |\n",
        "               | ':-:' |                |  .-.  |\n",
        "               |  '-'  |                |  '-'  |\n",
        "==============='       '================'       |''')\n",
        "\n",
        "print(\"Welcome to Treasure Island.\\n Your mission is to find the treasure\")\n",
        "\n",
        "if input(\"Enter the first move: \")==\"left\":\n",
        "  if input(\"Do you want to swim or wait: \")==\"wait\":\n",
        "    if input(\"Which color gate you want to open: Blue/Yellow/Red \")==\"Yellow\":\n",
        "      print(\"Congratulations!! You win the game.\")\n",
        "    else:\n",
        "      print(\"Game Over\")\n",
        "  else:\n",
        "    print(\"Game Over\")\n",
        "else:\n",
        "  print(\"Game Over\")\n"
      ],
      "metadata": {
        "colab": {
          "base_uri": "https://localhost:8080/"
        },
        "id": "aOL14DxF4pRN",
        "outputId": "9f21bbb6-fbd5-4022-8270-319dc9182f78"
      },
      "execution_count": null,
      "outputs": [
        {
          "output_type": "stream",
          "name": "stdout",
          "text": [
            "================================================.\n",
            "     .-.   .-.     .--.                         |\n",
            "    | OO| | OO|   / _.-' .-.   .-.  .-.   .''.  |\n",
            "    |   | |   |   \\  '-. '-'   '-'  '-'   '..'  |\n",
            "    '^^^' '^^^'    '--'                         |\n",
            "===============.  .-.  .================.  .-.  |\n",
            "               | |   | |                |  '-'  |\n",
            "               | |   | |                |       |\n",
            "               | ':-:' |                |  .-.  |\n",
            "l42            |  '-'  |                |  '-'  |\n",
            "==============='       '================'       |\n",
            "Welcome to Treasure Island.\n",
            " Your mission is to find the treasure\n",
            "Enter the first move: left\n",
            "Do you want to swim or wait: wait\n",
            "Which color gate you want to open: Blue/Yellow/Red Yellow\n",
            "Congratulations!! You win the game.\n"
          ]
        }
      ]
    },
    {
      "cell_type": "markdown",
      "source": [
        "# Day 4"
      ],
      "metadata": {
        "id": "3nnGwIx1M0MQ"
      }
    },
    {
      "cell_type": "code",
      "source": [
        "# importing random library\n",
        "import random"
      ],
      "metadata": {
        "id": "a8IMFqsaNivo"
      },
      "execution_count": null,
      "outputs": []
    },
    {
      "cell_type": "code",
      "source": [
        "# Random integer\n",
        "rand_num=random.randint(0,10)\n",
        "print(rand_num)\n",
        "rand_float=random.random()\n",
        "print(rand_num*rand_float)"
      ],
      "metadata": {
        "colab": {
          "base_uri": "https://localhost:8080/"
        },
        "id": "GKTLn1LTM5eC",
        "outputId": "c1391094-fb75-41ce-d881-85e70d68fa74"
      },
      "execution_count": null,
      "outputs": [
        {
          "output_type": "stream",
          "name": "stdout",
          "text": [
            "8\n",
            "4.436280547090154\n"
          ]
        }
      ]
    },
    {
      "cell_type": "code",
      "source": [
        "# Toss generator\n",
        "rand_num=random.randint(1,100)\n",
        "if rand_num%2==0:\n",
        "  print(\"Head it is..\")\n",
        "else:\n",
        "  print(\"Tail it is..\")"
      ],
      "metadata": {
        "colab": {
          "base_uri": "https://localhost:8080/"
        },
        "id": "Tu-KMyAxScan",
        "outputId": "fe5f0000-b4ca-4157-de27-f0f3a615cca6"
      },
      "execution_count": null,
      "outputs": [
        {
          "output_type": "stream",
          "name": "stdout",
          "text": [
            "Tail it is..\n"
          ]
        }
      ]
    },
    {
      "cell_type": "code",
      "source": [
        "# Lists\n",
        "ind_states=[\"Andhra Pradesh\",\"Arunachal Pradesh \",\"Assam\",\"Bihar\",\"Chhattisgarh\",\"Goa\",\"Gujarat\",\"Haryana\",\"Himachal Pradesh\",\"Jammu and Kashmir\",\"Jharkhand\",\"Karnataka\",\"Kerala\",\"Madhya Pradesh\",\"Maharashtra\",\"Manipur\",\"Meghalaya\",\"Mizoram\",\"Nagaland\",\"Odisha\",\"Punjab\",\"Rajasthan\",\"Sikkim\",\"Tamil Nadu\",\"Telangana\",\"Tripura\",\"Uttar Pradesh\",\"Uttarakhand\",\"West Bengal\",\"Andaman and Nicobar Islands\",\"Chandigarh\",\"Dadra and Nagar Haveli\",\"Daman and Diu\",\"Lakshadweep\",\"National Capital Territory of Delhi\",\"Puducherry\"]\n",
        "size=len(ind_states)\n",
        "idx=random.randint(0,size)\n",
        "print(ind_states[idx])"
      ],
      "metadata": {
        "colab": {
          "base_uri": "https://localhost:8080/"
        },
        "id": "q51HKd-mWWLj",
        "outputId": "9befa192-5b2e-49a8-8b6b-f7c8f4233092"
      },
      "execution_count": null,
      "outputs": [
        {
          "output_type": "stream",
          "name": "stdout",
          "text": [
            "Jammu and Kashmir\n"
          ]
        }
      ]
    },
    {
      "cell_type": "code",
      "source": [
        "# List - Banker Roulette\n",
        "name_list=[\"Mkj\",\"Tiwari\",\"Notu\",\"Dhiru\",\"Sunny\",\"Mota\",\"Prateek\",\"Tej\",\"Ayush\"]\n",
        "size=len(name_list)\n",
        "chance=random.randint(0,size)\n",
        "print(f\"{name_list[chance]} will pay the bill\")"
      ],
      "metadata": {
        "colab": {
          "base_uri": "https://localhost:8080/"
        },
        "id": "aG4n28WQdazz",
        "outputId": "16867a72-2937-42ff-c92e-9b6e8fcc6dbb"
      },
      "execution_count": null,
      "outputs": [
        {
          "output_type": "stream",
          "name": "stdout",
          "text": [
            "Dhiru will pay the bill\n"
          ]
        }
      ]
    },
    {
      "cell_type": "code",
      "source": [
        "# Treasure Map\n",
        "list1=[\"_\",\"_\",\"_\"]\n",
        "list2=[\"_\",\"_\",\"_\"]\n",
        "list3=[\"_\",\"_\",\"_\"]\n",
        "\n",
        "nested_list=[list1,list2,list3]\n",
        "position=input()\n",
        "letter=position[0].lower()\n",
        "li=[\"a\",\"b\",\"c\"]\n",
        "idx1=li.index(letter)\n",
        "idx2=int(position[1])-1\n",
        "nested_list[idx1][idx2]=\"X\"\n",
        "print(nested_list)"
      ],
      "metadata": {
        "colab": {
          "base_uri": "https://localhost:8080/"
        },
        "id": "jxoUk0cipCIt",
        "outputId": "cdbd6271-58e1-429c-ec1b-8564710cd68c"
      },
      "execution_count": null,
      "outputs": [
        {
          "output_type": "stream",
          "name": "stdout",
          "text": [
            "C3\n",
            "[['_', '_', '_'], ['_', '_', '_'], ['_', '_', 'X']]\n"
          ]
        }
      ]
    },
    {
      "cell_type": "code",
      "source": [
        "# Day 4 project\n",
        "# Rock\n",
        "rock='''\n",
        "    _______\n",
        "---'   ____)\n",
        "      (_____)\n",
        "      (_____)\n",
        "      (____)\n",
        "---.__(___)\n",
        "'''\n",
        "\n",
        "# Paper\n",
        "paper='''\n",
        "     _______\n",
        "---'    ____)____\n",
        "           ______)\n",
        "          _______)\n",
        "         _______)\n",
        "---.__________)\n",
        "'''\n",
        "\n",
        "# Scissors\n",
        "scissors='''\n",
        "    _______\n",
        "---'   ____)____\n",
        "          ______)\n",
        "       __________)\n",
        "      (____)\n",
        "---.__(___)\n",
        "'''\n",
        "\n",
        "user_input=int(input(\"Press 1 for rock, 2 for paper, 3 for scissors\"))\n",
        "com_input=random.randint(1,3)\n",
        "if(user_input==com_input):\n",
        "  print(\"Draw\")\n",
        "elif (user_input==1 and com_input==3):\n",
        "  print(f\"User: {rock} \\n com: {scissors}\\n User won the bet\")\n",
        "elif (user_input==3 and com_input==2):\n",
        "  print(f\"User: {scissors} \\n com: {paper}\\n User won the bet\")\n",
        "\n"
      ],
      "metadata": {
        "colab": {
          "base_uri": "https://localhost:8080/"
        },
        "id": "uOEc08Y4urs0",
        "outputId": "0377c885-6404-4309-cd9e-1f7e1cfba389"
      },
      "execution_count": null,
      "outputs": [
        {
          "output_type": "stream",
          "name": "stdout",
          "text": [
            "Press 1 for rock, 2 for paper, 3 for scissors3\n",
            "User: \n",
            "    _______\n",
            "---'   ____)____\n",
            "          ______)\n",
            "       __________)\n",
            "      (____)\n",
            "---.__(___)\n",
            " \n",
            " com: \n",
            "     _______\n",
            "---'    ____)____\n",
            "           ______)\n",
            "          _______)\n",
            "         _______)\n",
            "---.__________)\n",
            "\n",
            " User won the bet\n"
          ]
        }
      ]
    }
  ],
  "metadata": {
    "colab": {
      "provenance": [],
      "toc_visible": true,
      "include_colab_link": true
    },
    "kernelspec": {
      "display_name": "Python 3",
      "name": "python3"
    }
  },
  "nbformat": 4,
  "nbformat_minor": 0
}