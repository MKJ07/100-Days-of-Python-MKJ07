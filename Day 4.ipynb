{
  "cells": [
    {
      "cell_type": "markdown",
      "source": [
        "# Day 4"
      ],
      "metadata": {
        "id": "3nnGwIx1M0MQ"
      }
    },
    {
      "cell_type": "code",
      "source": [
        "# importing random library\n",
        "import random"
      ],
      "metadata": {
        "id": "a8IMFqsaNivo"
      },
      "execution_count": null,
      "outputs": []
    },
    {
      "cell_type": "code",
      "source": [
        "# Random integer\n",
        "rand_num=random.randint(0,10)\n",
        "print(rand_num)\n",
        "rand_float=random.random()\n",
        "print(rand_num*rand_float)"
      ],
      "metadata": {
        "colab": {
          "base_uri": "https://localhost:8080/"
        },
        "id": "GKTLn1LTM5eC",
        "outputId": "c1391094-fb75-41ce-d881-85e70d68fa74"
      },
      "execution_count": null,
      "outputs": [
        {
          "output_type": "stream",
          "name": "stdout",
          "text": [
            "8\n",
            "4.436280547090154\n"
          ]
        }
      ]
    },
    {
      "cell_type": "code",
      "source": [
        "# Toss generator\n",
        "rand_num=random.randint(1,100)\n",
        "if rand_num%2==0:\n",
        "  print(\"Head it is..\")\n",
        "else:\n",
        "  print(\"Tail it is..\")"
      ],
      "metadata": {
        "colab": {
          "base_uri": "https://localhost:8080/"
        },
        "id": "Tu-KMyAxScan",
        "outputId": "fe5f0000-b4ca-4157-de27-f0f3a615cca6"
      },
      "execution_count": null,
      "outputs": [
        {
          "output_type": "stream",
          "name": "stdout",
          "text": [
            "Tail it is..\n"
          ]
        }
      ]
    },
    {
      "cell_type": "code",
      "source": [
        "# Lists\n",
        "ind_states=[\"Andhra Pradesh\",\"Arunachal Pradesh \",\"Assam\",\"Bihar\",\"Chhattisgarh\",\"Goa\",\"Gujarat\",\"Haryana\",\"Himachal Pradesh\",\"Jammu and Kashmir\",\"Jharkhand\",\"Karnataka\",\"Kerala\",\"Madhya Pradesh\",\"Maharashtra\",\"Manipur\",\"Meghalaya\",\"Mizoram\",\"Nagaland\",\"Odisha\",\"Punjab\",\"Rajasthan\",\"Sikkim\",\"Tamil Nadu\",\"Telangana\",\"Tripura\",\"Uttar Pradesh\",\"Uttarakhand\",\"West Bengal\",\"Andaman and Nicobar Islands\",\"Chandigarh\",\"Dadra and Nagar Haveli\",\"Daman and Diu\",\"Lakshadweep\",\"National Capital Territory of Delhi\",\"Puducherry\"]\n",
        "size=len(ind_states)\n",
        "idx=random.randint(0,size)\n",
        "print(ind_states[idx])"
      ],
      "metadata": {
        "colab": {
          "base_uri": "https://localhost:8080/"
        },
        "id": "q51HKd-mWWLj",
        "outputId": "9befa192-5b2e-49a8-8b6b-f7c8f4233092"
      },
      "execution_count": null,
      "outputs": [
        {
          "output_type": "stream",
          "name": "stdout",
          "text": [
            "Jammu and Kashmir\n"
          ]
        }
      ]
    },
    {
      "cell_type": "code",
      "source": [
        "# List - Banker Roulette\n",
        "name_list=[\"Mkj\",\"Tiwari\",\"Notu\",\"Dhiru\",\"Sunny\",\"Mota\",\"Prateek\",\"Tej\",\"Ayush\"]\n",
        "size=len(name_list)\n",
        "chance=random.randint(0,size)\n",
        "print(f\"{name_list[chance]} will pay the bill\")"
      ],
      "metadata": {
        "colab": {
          "base_uri": "https://localhost:8080/"
        },
        "id": "aG4n28WQdazz",
        "outputId": "16867a72-2937-42ff-c92e-9b6e8fcc6dbb"
      },
      "execution_count": null,
      "outputs": [
        {
          "output_type": "stream",
          "name": "stdout",
          "text": [
            "Dhiru will pay the bill\n"
          ]
        }
      ]
    },
    {
      "cell_type": "code",
      "source": [
        "# Treasure Map\n",
        "list1=[\"_\",\"_\",\"_\"]\n",
        "list2=[\"_\",\"_\",\"_\"]\n",
        "list3=[\"_\",\"_\",\"_\"]\n",
        "\n",
        "nested_list=[list1,list2,list3]\n",
        "position=input()\n",
        "letter=position[0].lower()\n",
        "li=[\"a\",\"b\",\"c\"]\n",
        "idx1=li.index(letter)\n",
        "idx2=int(position[1])-1\n",
        "nested_list[idx1][idx2]=\"X\"\n",
        "print(nested_list)"
      ],
      "metadata": {
        "colab": {
          "base_uri": "https://localhost:8080/"
        },
        "id": "jxoUk0cipCIt",
        "outputId": "cdbd6271-58e1-429c-ec1b-8564710cd68c"
      },
      "execution_count": null,
      "outputs": [
        {
          "output_type": "stream",
          "name": "stdout",
          "text": [
            "C3\n",
            "[['_', '_', '_'], ['_', '_', '_'], ['_', '_', 'X']]\n"
          ]
        }
      ]
    },
    {
      "cell_type": "code",
      "source": [
        "# Day 4 project\n",
        "# Rock\n",
        "rock='''\n",
        "    _______\n",
        "---'   ____)\n",
        "      (_____)\n",
        "      (_____)\n",
        "      (____)\n",
        "---.__(___)\n",
        "'''\n",
        "\n",
        "# Paper\n",
        "paper='''\n",
        "     _______\n",
        "---'    ____)____\n",
        "           ______)\n",
        "          _______)\n",
        "         _______)\n",
        "---.__________)\n",
        "'''\n",
        "\n",
        "# Scissors\n",
        "scissors='''\n",
        "    _______\n",
        "---'   ____)____\n",
        "          ______)\n",
        "       __________)\n",
        "      (____)\n",
        "---.__(___)\n",
        "'''\n",
        "\n",
        "user_input=int(input(\"Press 1 for rock, 2 for paper, 3 for scissors\"))\n",
        "com_input=random.randint(1,3)\n",
        "if(user_input==com_input):\n",
        "  print(\"Draw\")\n",
        "elif (user_input==1 and com_input==3):\n",
        "  print(f\"User: {rock} \\n com: {scissors}\\n User won the bet\")\n",
        "elif (user_input==3 and com_input==2):\n",
        "  print(f\"User: {scissors} \\n com: {paper}\\n User won the bet\")\n",
        "\n"
      ],
      "metadata": {
        "colab": {
          "base_uri": "https://localhost:8080/"
        },
        "id": "uOEc08Y4urs0",
        "outputId": "0377c885-6404-4309-cd9e-1f7e1cfba389"
      },
      "execution_count": null,
      "outputs": [
        {
          "output_type": "stream",
          "name": "stdout",
          "text": [
            "Press 1 for rock, 2 for paper, 3 for scissors3\n",
            "User: \n",
            "    _______\n",
            "---'   ____)____\n",
            "          ______)\n",
            "       __________)\n",
            "      (____)\n",
            "---.__(___)\n",
            " \n",
            " com: \n",
            "     _______\n",
            "---'    ____)____\n",
            "           ______)\n",
            "          _______)\n",
            "         _______)\n",
            "---.__________)\n",
            "\n",
            " User won the bet\n"
          ]
        }
      ]
    }
  ],
  "metadata": {
    "colab": {
      "provenance": [],
      "toc_visible": true,
      "include_colab_link": true
    },
    "kernelspec": {
      "display_name": "Python 3",
      "name": "python3"
    }
  },
  "nbformat": 4,
  "nbformat_minor": 0
}
