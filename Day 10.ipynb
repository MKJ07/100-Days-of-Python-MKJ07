{
  "cells":[
    {
      "cell_type": "markdown",
      "source": [
        "# Day 10"
      ],
      "metadata": {
        "id": "CZjW9I1Qf2Po"
      }
    },
    {
      "cell_type": "code",
      "source": [
        "# Functions with output\n",
        "def format_name(f_name,l_name):\n",
        "  # f=f_name[0].upper()\n",
        "  # l=l_name[0].upper()\n",
        "  # name=f+f_name[1:len(f_name)]+\" \"+l+l_name[1:len(l_name)]\n",
        "  f=f_name.title() # second way is using title() function\n",
        "  l=l_name.title()\n",
        "  name=f+\" \"+l\n",
        "  return name\n",
        "\n",
        "print(format_name(\"mahesh\",\"jaiswal\")) # Mahesh Jaiswal"
      ],
      "metadata": {
        "colab": {
          "base_uri": "https://localhost:8080/"
        },
        "id": "g6lLhu5yf7II",
        "outputId": "8da84983-11dc-451e-c910-f004f48c5e73"
      },
      "execution_count": null,
      "outputs": [
        {
          "output_type": "stream",
          "name": "stdout",
          "text": [
            "Mahesh Jaiswal\n"
          ]
        }
      ]
    },
    {
      "cell_type": "code",
      "source": [
        "# Functions with multiple return value\n",
        "def calc(operator,a,b):\n",
        "  if operator==\"+\":\n",
        "    return a+b\n",
        "  elif operator==\"-\":\n",
        "    return a-b\n",
        "  else:\n",
        "    return \"Invalid input\"\n",
        "op=input(\"Enter the operator: \")\n",
        "value1=int(input(\"Value1: \"))\n",
        "value2=int(input(\"Value2: \"))\n",
        "print(calc(op,value1,value2))"
      ],
      "metadata": {
        "colab": {
          "base_uri": "https://localhost:8080/"
        },
        "id": "HuZ_GVpC8jfF",
        "outputId": "fd25ce74-7dfe-412b-bbac-03c3d9bf11d8"
      },
      "execution_count": null,
      "outputs": [
        {
          "output_type": "stream",
          "name": "stdout",
          "text": [
            "Enter the operator: +\n",
            "Value1: 2\n",
            "Value2: 4\n",
            "6\n"
          ]
        }
      ]
    },
    {
      "cell_type": "code",
      "source": [
        "# Days in Month\n",
        "day_in_month=[31,28,31,30,31,30,31,31,30,31,30,31]\n",
        "\n",
        "def leap_y(year):\n",
        "  if (year%4==0 and year%100!=0) or year%400==0:\n",
        "    return True\n",
        "  else:\n",
        "    return False\n",
        "\n",
        "def days_in_month(year,month):\n",
        "  \"\"\"This is the function to get the no of days in a month\"\"\" #this is a docstring use to keep the information about what function is made for\n",
        "  if leap_y(year) and month==\"2\":\n",
        "    return day_in_month[1]\n",
        "  else:\n",
        "    return day_in_month[month-1]\n",
        "result=days_in_month(2030,5)\n",
        "print(result)\n"
      ],
      "metadata": {
        "colab": {
          "base_uri": "https://localhost:8080/"
        },
        "id": "ATTPkFAnBd44",
        "outputId": "dd5062ee-0e79-4273-ff3e-69a3b48ff93f"
      },
      "execution_count": 5,
      "outputs": [
        {
          "output_type": "stream",
          "name": "stdout",
          "text": [
            "31\n"
          ]
        }
      ]
    },
    {
      "cell_type": "code",
      "source": [
        "# Calculator Designing\n",
        "\n",
        "# add\n",
        "def add(a,b):\n",
        "  return a+b\n",
        "\n",
        "# substract\n",
        "def sub(a,b):\n",
        "  return a-b\n",
        "\n",
        "# Multiply\n",
        "def mul(a,b):\n",
        "  return a*b\n",
        "\n",
        "# divide\n",
        "def div(a,b):\n",
        "  return a/b\n",
        "\n",
        "# Definig a dictionaries\n",
        "calc_dict={\"+\":add,\n",
        "           \"-\": sub,\n",
        "            \"*\": mul,\n",
        "            \"/\": div}\n",
        "\n",
        "# num1=int(input(\"Enter the value 1: \"))\n",
        "# num2=int(input(\"Enter the value 2: \"))\n",
        "\n",
        "# for key in calc_dict:\n",
        "#   print(key)\n",
        "# operator=input(\"Choose one of the above operation: \")\n",
        "\n",
        "# ans=calc_dict[operator](num1,num2)\n",
        "# print(f\"{num1} {operator} {num2} is {ans}\")\n",
        "def calculator():\n",
        "  to_continue=True\n",
        "  num1=float(input(\"Enter the value 1: \"))\n",
        "\n",
        "  for key in calc_dict:\n",
        "      print(key)\n",
        "\n",
        "  while to_continue:\n",
        "    operator=input(\"Choose one of the above operation: \")\n",
        "    num2=float(input(\"Enter the value 2: \"))\n",
        "    ans=calc_dict[operator](num1,num2)\n",
        "    print(f\"{num1} {operator} {num2} is {ans}\")\n",
        "    op=input(\"Do you want to continue the calculation or want a new calculation or you want to exit (y/n/e): \").lower()\n",
        "    if op ==\"y\":\n",
        "      num1=ans\n",
        "    elif op==\"e\":\n",
        "      to_continue=False\n",
        "    else:\n",
        "      to_continue=False\n",
        "      calculator()\n",
        "\n",
        "calculator()"
      ],
      "metadata": {
        "id": "jzU6aACSDFOh",
        "colab": {
          "base_uri": "https://localhost:8080/"
        },
        "outputId": "089a9e97-2471-4b59-df33-a8d7f022a0d0"
      },
      "execution_count": 10,
      "outputs": [
        {
          "name": "stdout",
          "output_type": "stream",
          "text": [
            "Enter the value 1: 5\n",
            "+\n",
            "-\n",
            "*\n",
            "/\n",
            "Choose one of the above operation: *\n",
            "Enter the value 2: 9\n",
            "5.0 * 9.0 is 45.0\n",
            "Do you want to continue the calculation or want a new calculation or you want to exit (y/n/e): y\n",
            "Choose one of the above operation: -\n",
            "Enter the value 2: 5\n",
            "45.0 - 5.0 is 40.0\n",
            "Do you want to continue the calculation or want a new calculation or you want to exit (y/n/e): n\n",
            "Enter the value 1: 8\n",
            "+\n",
            "-\n",
            "*\n",
            "/\n",
            "Choose one of the above operation: +\n",
            "Enter the value 2: 25\n",
            "8.0 + 25.0 is 33.0\n",
            "Do you want to continue the calculation or want a new calculation or you want to exit (y/n/e): e\n"
          ]
        }
      ]
    }
  ],
  "metadata": {
    "colab": {
      "provenance": [],
      "toc_visible": true,
      "include_colab_link": true
    },
    "kernelspec": {
      "display_name": "Python 3",
      "name": "python3"
    }
  },
  "nbformat": 4,
  "nbformat_minor": 0
}
