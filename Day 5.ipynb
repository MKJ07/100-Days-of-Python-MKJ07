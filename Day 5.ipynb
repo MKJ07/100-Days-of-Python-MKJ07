{
  "cells": [
    {
      "cell_type": "markdown",
      "source": [
        "# Day 5"
      ],
      "metadata": {
        "id": "C5hDUjly1mdu"
      }
    },
    {
      "cell_type": "code",
      "source": [
        "# for loop in python\n",
        "fruits=[\"apples\",\"mangoes\",\"banana\",\"kiwi\",\"coconut\",\"orange\"]\n",
        "for i in fruits:\n",
        "  print(i,\"\\t\")"
      ],
      "metadata": {
        "colab": {
          "base_uri": "https://localhost:8080/"
        },
        "id": "H9qQOe1r1sCz",
        "outputId": "dc242092-3e9c-464a-9287-3d0e76f68d03"
      },
      "execution_count": null,
      "outputs": [
        {
          "output_type": "stream",
          "name": "stdout",
          "text": [
            "apples \t\n",
            "mangoes \t\n",
            "banana \t\n",
            "kiwi \t\n",
            "coconut \t\n",
            "orange \t\n"
          ]
        }
      ]
    },
    {
      "cell_type": "code",
      "source": [
        "# Average Height\n",
        "list=[145,167,200,190,170]\n",
        "size=len(list)\n",
        "sum=0\n",
        "for i in list:\n",
        "  sum+=i\n",
        "print(f\"Total height: {sum}\")\n",
        "print(f\"No of Students: {size}\")\n",
        "print(f\"Average of heights: {sum/size}\")"
      ],
      "metadata": {
        "colab": {
          "base_uri": "https://localhost:8080/"
        },
        "id": "29C-6nBn4RdN",
        "outputId": "de370a5d-242e-4555-8faf-18f22f792d85"
      },
      "execution_count": null,
      "outputs": [
        {
          "output_type": "stream",
          "name": "stdout",
          "text": [
            "Total height: 872\n",
            "No of Students: 5\n",
            "Average of heights: 174.4\n"
          ]
        }
      ]
    },
    {
      "cell_type": "code",
      "source": [
        "# Highest Score\n",
        "marks_list=[78,69,90,78,95,56]\n",
        "high=0\n",
        "for i in marks_list:\n",
        "  if i>high:\n",
        "    high=i\n",
        "print(f\"Highest marks: {high}\")"
      ],
      "metadata": {
        "colab": {
          "base_uri": "https://localhost:8080/"
        },
        "id": "TfeUmlA56U3c",
        "outputId": "968b8835-c753-4861-eb11-09642cf38c50"
      },
      "execution_count": null,
      "outputs": [
        {
          "output_type": "stream",
          "name": "stdout",
          "text": [
            "Highest marks: 95\n"
          ]
        }
      ]
    },
    {
      "cell_type": "code",
      "source": [
        "# range in for loop\n",
        "for i in range(0,10):\n",
        "  print(i) # it will not print 10 just like (i<10) works\n",
        "\n",
        "# Adding even number between 1 to 100\n",
        "sum=0\n",
        "for i in range(1,101):\n",
        "  if i%2==0:\n",
        "    sum+=i\n",
        "print(sum)\n",
        "\n",
        "# second way\n",
        "even_sum=0\n",
        "for i in range(0,101,2):\n",
        "  even_sum+=i\n",
        "print(even_sum)"
      ],
      "metadata": {
        "colab": {
          "base_uri": "https://localhost:8080/"
        },
        "id": "VGC7fzGBAeUC",
        "outputId": "a63fad92-8218-48bd-8ab4-70e500bafe46"
      },
      "execution_count": null,
      "outputs": [
        {
          "output_type": "stream",
          "name": "stdout",
          "text": [
            "0\n",
            "1\n",
            "2\n",
            "3\n",
            "4\n",
            "5\n",
            "6\n",
            "7\n",
            "8\n",
            "9\n",
            "2550\n",
            "2550\n"
          ]
        }
      ]
    },
    {
      "cell_type": "code",
      "source": [
        "# FizzBuzz game\n",
        "for i in range(0,101):\n",
        "  if i%3==0:\n",
        "    print(\"Fizz\")\n",
        "  elif i%5==0:\n",
        "    print(\"Buzz\")\n",
        "  elif i%3==0 and i%5==0:\n",
        "    print(\"FizzBuzz\")\n",
        "  else:\n",
        "    print(i)"
      ],
      "metadata": {
        "colab": {
          "base_uri": "https://localhost:8080/"
        },
        "id": "QEPatdmd4FR7",
        "outputId": "728a83d2-567d-4425-b517-0df39b645a87"
      },
      "execution_count": null,
      "outputs": [
        {
          "output_type": "stream",
          "name": "stdout",
          "text": [
            "Fizz\n",
            "1\n",
            "2\n",
            "Fizz\n",
            "4\n",
            "Buzz\n",
            "Fizz\n",
            "7\n",
            "8\n",
            "Fizz\n",
            "Buzz\n",
            "11\n",
            "Fizz\n",
            "13\n",
            "14\n",
            "Fizz\n",
            "16\n",
            "17\n",
            "Fizz\n",
            "19\n",
            "Buzz\n",
            "Fizz\n",
            "22\n",
            "23\n",
            "Fizz\n",
            "Buzz\n",
            "26\n",
            "Fizz\n",
            "28\n",
            "29\n",
            "Fizz\n",
            "31\n",
            "32\n",
            "Fizz\n",
            "34\n",
            "Buzz\n",
            "Fizz\n",
            "37\n",
            "38\n",
            "Fizz\n",
            "Buzz\n",
            "41\n",
            "Fizz\n",
            "43\n",
            "44\n",
            "Fizz\n",
            "46\n",
            "47\n",
            "Fizz\n",
            "49\n",
            "Buzz\n",
            "Fizz\n",
            "52\n",
            "53\n",
            "Fizz\n",
            "Buzz\n",
            "56\n",
            "Fizz\n",
            "58\n",
            "59\n",
            "Fizz\n",
            "61\n",
            "62\n",
            "Fizz\n",
            "64\n",
            "Buzz\n",
            "Fizz\n",
            "67\n",
            "68\n",
            "Fizz\n",
            "Buzz\n",
            "71\n",
            "Fizz\n",
            "73\n",
            "74\n",
            "Fizz\n",
            "76\n",
            "77\n",
            "Fizz\n",
            "79\n",
            "Buzz\n",
            "Fizz\n",
            "82\n",
            "83\n",
            "Fizz\n",
            "Buzz\n",
            "86\n",
            "Fizz\n",
            "88\n",
            "89\n",
            "Fizz\n",
            "91\n",
            "92\n",
            "Fizz\n",
            "94\n",
            "Buzz\n",
            "Fizz\n",
            "97\n",
            "98\n",
            "Fizz\n",
            "Buzz\n"
          ]
        }
      ]
    },
    {
      "cell_type": "code",
      "source": [
        "#Day 5 Project.\n",
        "# Password Generator Project.\n",
        "import random\n",
        "letters = ['a', 'b', 'c', 'd', 'e', 'f', 'g', 'h', 'i', 'j', 'k', 'l', 'm', 'n', 'o', 'p', 'q', 'r', 's', 't', 'u', 'v', 'w', 'x', 'y', 'z', 'A', 'B', 'C', 'D', 'E', 'F', 'G', 'H', 'I', 'J', 'K', 'L', 'M', 'N', 'O', 'P', 'Q', 'R', 'S', 'T', 'U', 'V', 'W', 'X', 'Y', 'Z']\n",
        "numbers = ['0', '1', '2', '3', '4', '5', '6', '7', '8', '9']\n",
        "symbols = ['!', '#', '$', '%', '&', '(', ')', '*', '+']\n",
        "\n",
        "print(\"Welcome to the PyPassword Generator!\")\n",
        "nr_letters = int(input(\"How many letters would you like in your password?\\n\"))\n",
        "nr_symbols = int(input(f\"How many symbols would you like?\\n\"))\n",
        "nr_numbers = int(input(f\"How many numbers would you like?\\n\"))\n",
        "\n",
        "\n",
        "# Easy Level\n",
        "# password=\"\"\n",
        "# for i in range(0,nr_letters):\n",
        "#   password+=str(letters[random.randint(0,len(letters))])\n",
        "# for i in range(0,nr_symbols):\n",
        "#   password+=str(numbers[random.randint(0,len(numbers))])\n",
        "# for i in range(0,nr_numbers):\n",
        "#   password+=str(symbols[random.randint(0,len(symbols))])\n",
        "# print(password)\n",
        "\n",
        "# Hard level\n",
        "password_gen=[]\n",
        "for i in range(0,nr_letters):\n",
        "  password_gen+=random.choice(letters)\n",
        "for i in range(0,nr_symbols):\n",
        "  password_gen+=random.choice(symbols)\n",
        "for i in range(0,nr_numbers):\n",
        "  password_gen+=random.choice(numbers)\n",
        "random.shuffle(password_gen)\n",
        "pass_key=\"\"\n",
        "for i in password_gen:\n",
        "  pass_key+=i\n",
        "print(pass_key)\n"
      ],
      "metadata": {
        "colab": {
          "base_uri": "https://localhost:8080/"
        },
        "id": "xCvvCAOj8IMY",
        "outputId": "7a3a11c8-69bc-41a4-9a3d-103b70d9559a"
      },
      "execution_count": null,
      "outputs": [
        {
          "output_type": "stream",
          "name": "stdout",
          "text": [
            "Welcome to the PyPassword Generator!\n",
            "How many letters would you like in your password?\n",
            "12\n",
            "How many symbols would you like?\n",
            "3\n",
            "How many numbers would you like?\n",
            "5\n",
            "s$nplyk4#8R2gDM5P*6l\n"
          ]
        }
      ]
    }
  ],
  "metadata": {
    "colab": {
      "provenance": [],
      "toc_visible": true,
      "include_colab_link": true
    },
    "kernelspec": {
      "display_name": "Python 3",
      "name": "python3"
    }
  },
  "nbformat": 4,
  "nbformat_minor": 0
}
