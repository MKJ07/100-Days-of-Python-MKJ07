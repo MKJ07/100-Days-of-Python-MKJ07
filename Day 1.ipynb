{
  "cells": [
    {
      "cell_type": "markdown",
      "metadata": {
        "id": "view-in-github",
        "colab_type": "text"
      },
      "source": [
        "<a href=\"https://colab.research.google.com/github/MKJ07/100-Days-of-Python-MKJ07/blob/main/Day%201.ipynb\" target=\"_parent\"><img src=\"https://colab.research.google.com/assets/colab-badge.svg\" alt=\"Open In Colab\"/></a>"
      ]
    },
    {
      "cell_type": "markdown",
      "source": [
        "#100 Days of Python"
      ],
      "metadata": {
        "id": "TLAHhGjToDda"
      }
    },
    {
      "cell_type": "code",
      "source": [
        "print(\"Hello World!!\")"
      ],
      "metadata": {
        "id": "dKBdZJVloO4_",
        "outputId": "cfdf2d2e-a138-4038-c9b8-a59379bb9440",
        "colab": {
          "base_uri": "https://localhost:8080/"
        }
      },
      "execution_count": null,
      "outputs": [
        {
          "output_type": "stream",
          "name": "stdout",
          "text": [
            "Hello World!!\n"
          ]
        }
      ]
    },
    {
      "cell_type": "code",
      "source": [
        "print(\"hello i am \\n MKJ\")\n",
        "print(\"Hello\"+\"MKJ\")"
      ],
      "metadata": {
        "id": "khcZLXyVqjzi",
        "outputId": "c5246313-072e-4115-d151-c742e8d5cc24",
        "colab": {
          "base_uri": "https://localhost:8080/"
        }
      },
      "execution_count": null,
      "outputs": [
        {
          "output_type": "stream",
          "name": "stdout",
          "text": [
            "hello i am \n",
            " MKJ\n",
            "HelloMKJ\n"
          ]
        }
      ]
    },
    {
      "cell_type": "code",
      "source": [
        "#input\n",
        "# input(\"What is your name\")\n",
        "print(\"Hello i am \"+ input())\n"
      ],
      "metadata": {
        "id": "Stgivyv0tFG0",
        "outputId": "56de48c1-bff5-4b4f-fa78-866ae8d4554b",
        "colab": {
          "base_uri": "https://localhost:8080/"
        }
      },
      "execution_count": null,
      "outputs": [
        {
          "output_type": "stream",
          "name": "stdout",
          "text": [
            "mkj\n",
            "Hello i am mkj\n"
          ]
        }
      ]
    },
    {
      "cell_type": "code",
      "source": [
        "name=\"Mahesh\"\n",
        "print(len(name))"
      ],
      "metadata": {
        "id": "0cJp_35Ztd0X",
        "outputId": "a4451505-66ad-4fb8-a493-534375fff619",
        "colab": {
          "base_uri": "https://localhost:8080/"
        }
      },
      "execution_count": null,
      "outputs": [
        {
          "output_type": "stream",
          "name": "stdout",
          "text": [
            "6\n"
          ]
        }
      ]
    },
    {
      "cell_type": "code",
      "source": [
        "# Swap two value\n",
        "a=20;b=10\n",
        "t=a\n",
        "a=b\n",
        "b=t\n",
        "print(a)\n",
        "print(b)"
      ],
      "metadata": {
        "id": "6wuijR-muK0r",
        "outputId": "dbe6060f-751f-4c93-864b-6d63d9e5c613",
        "colab": {
          "base_uri": "https://localhost:8080/"
        }
      },
      "execution_count": null,
      "outputs": [
        {
          "output_type": "stream",
          "name": "stdout",
          "text": [
            "10\n",
            "20\n"
          ]
        }
      ]
    },
    {
      "cell_type": "code",
      "source": [
        "# Band Game generator\n",
        "print(\"Hii\")\n",
        "name=input(\"Enter your city name \")\n",
        "pet_name=input(\"Enter your pet name \")\n",
        "print(\"Your band name is:\"+ name+\" \"+pet_name)"
      ],
      "metadata": {
        "id": "wXKXyiEezXbE",
        "outputId": "1893c362-b21e-4672-d29d-de65d85711c2",
        "colab": {
          "base_uri": "https://localhost:8080/"
        }
      },
      "execution_count": null,
      "outputs": [
        {
          "output_type": "stream",
          "name": "stdout",
          "text": [
            "Hii\n",
            "Enter your city nameKolkata\n",
            "Enter your pet namepuppy\n",
            "Your band name is:Kolkata puppy\n"
          ]
        }
      ]
    },
    {
      "cell_type": "code",
      "source": [],
      "metadata": {
        "id": "uuKU2rvJv601"
      },
      "execution_count": null,
      "outputs": []
    }
  ],
  "metadata": {
    "colab": {
      "provenance": [],
      "toc_visible": true,
      "include_colab_link": true
    },
    "kernelspec": {
      "display_name": "Python 3",
      "name": "python3"
    }
  },
  "nbformat": 4,
  "nbformat_minor": 0
}