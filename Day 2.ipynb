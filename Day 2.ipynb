{
  "cells": [
    {
      "cell_type": "markdown",
      "metadata": {
        "id": "view-in-github",
        "colab_type": "text"
      },
      "source": [
        "<a href=\"https://colab.research.google.com/github/MKJ07/100-Days-of-Python-MKJ07/blob/main/Day%202.ipynb\" target=\"_parent\"><img src=\"https://colab.research.google.com/assets/colab-badge.svg\" alt=\"Open In Colab\"/></a>"
      ]
    },
    {
      "cell_type": "markdown",
      "source": [
        "#100 Days of Python"
      ],
      "metadata": {
        "id": "TLAHhGjToDda"
      }
    },
    {
      "cell_type": "markdown",
      "source": [
        "# Day 1"
      ],
      "metadata": {
        "id": "QFqk6rnZO6Cs"
      }
    },
    {
      "cell_type": "code",
      "source": [
        "print(\"Hello World!!\")"
      ],
      "metadata": {
        "id": "dKBdZJVloO4_",
        "outputId": "cfdf2d2e-a138-4038-c9b8-a59379bb9440",
        "colab": {
          "base_uri": "https://localhost:8080/"
        }
      },
      "execution_count": null,
      "outputs": [
        {
          "output_type": "stream",
          "name": "stdout",
          "text": [
            "Hello World!!\n"
          ]
        }
      ]
    },
    {
      "cell_type": "code",
      "source": [
        "print(\"hello i am \\n MKJ\")\n",
        "print(\"Hello\"+\"MKJ\")"
      ],
      "metadata": {
        "id": "khcZLXyVqjzi",
        "outputId": "c5246313-072e-4115-d151-c742e8d5cc24",
        "colab": {
          "base_uri": "https://localhost:8080/"
        }
      },
      "execution_count": null,
      "outputs": [
        {
          "output_type": "stream",
          "name": "stdout",
          "text": [
            "hello i am \n",
            " MKJ\n",
            "HelloMKJ\n"
          ]
        }
      ]
    },
    {
      "cell_type": "code",
      "source": [
        "#input\n",
        "# input(\"What is your name\")\n",
        "print(\"Hello i am \"+ input())\n"
      ],
      "metadata": {
        "id": "Stgivyv0tFG0",
        "outputId": "56de48c1-bff5-4b4f-fa78-866ae8d4554b",
        "colab": {
          "base_uri": "https://localhost:8080/"
        }
      },
      "execution_count": null,
      "outputs": [
        {
          "output_type": "stream",
          "name": "stdout",
          "text": [
            "mkj\n",
            "Hello i am mkj\n"
          ]
        }
      ]
    },
    {
      "cell_type": "code",
      "source": [
        "name=\"Mahesh\"\n",
        "print(len(name))"
      ],
      "metadata": {
        "id": "0cJp_35Ztd0X",
        "outputId": "a4451505-66ad-4fb8-a493-534375fff619",
        "colab": {
          "base_uri": "https://localhost:8080/"
        }
      },
      "execution_count": null,
      "outputs": [
        {
          "output_type": "stream",
          "name": "stdout",
          "text": [
            "6\n"
          ]
        }
      ]
    },
    {
      "cell_type": "code",
      "source": [
        "# Swap two value\n",
        "a=20;b=10\n",
        "t=a\n",
        "a=b\n",
        "b=t\n",
        "print(a)\n",
        "print(b)"
      ],
      "metadata": {
        "id": "6wuijR-muK0r",
        "outputId": "dbe6060f-751f-4c93-864b-6d63d9e5c613",
        "colab": {
          "base_uri": "https://localhost:8080/"
        }
      },
      "execution_count": null,
      "outputs": [
        {
          "output_type": "stream",
          "name": "stdout",
          "text": [
            "10\n",
            "20\n"
          ]
        }
      ]
    },
    {
      "cell_type": "code",
      "source": [
        "# Band Game generator\n",
        "print(\"Hii\")\n",
        "name=input(\"Enter your city name \")\n",
        "pet_name=input(\"Enter your pet name \")\n",
        "print(\"Your band name is:\"+ name+\" \"+pet_name)"
      ],
      "metadata": {
        "id": "wXKXyiEezXbE",
        "outputId": "1893c362-b21e-4672-d29d-de65d85711c2",
        "colab": {
          "base_uri": "https://localhost:8080/"
        }
      },
      "execution_count": null,
      "outputs": [
        {
          "output_type": "stream",
          "name": "stdout",
          "text": [
            "Hii\n",
            "Enter your city nameKolkata\n",
            "Enter your pet namepuppy\n",
            "Your band name is:Kolkata puppy\n"
          ]
        }
      ]
    },
    {
      "cell_type": "markdown",
      "source": [
        "# Day 2"
      ],
      "metadata": {
        "id": "2im1ajxoPBk0"
      }
    },
    {
      "cell_type": "code",
      "source": [
        "# Primitive Data type\n",
        "# String\n",
        "print(\"Hello\"[0])\n",
        "\n",
        "# Integer\n",
        "num=123456\n",
        "print(123+456)\n",
        "\n",
        "# float\n",
        "dec=1235.63\n",
        "print(type(dec))\n",
        "\n",
        "# Boolean\n",
        "print(num==dec)"
      ],
      "metadata": {
        "colab": {
          "base_uri": "https://localhost:8080/"
        },
        "id": "eunRdppOPHYs",
        "outputId": "f5e64404-2b86-4011-b1b9-27874c01f55b"
      },
      "execution_count": null,
      "outputs": [
        {
          "output_type": "stream",
          "name": "stdout",
          "text": [
            "H\n",
            "579\n",
            "<class 'float'>\n",
            "False\n"
          ]
        }
      ]
    },
    {
      "cell_type": "code",
      "source": [
        "# Type error\n",
        "num=len(input(\" Enter your name \"))\n",
        "# print(\"Your name has \"+num+\" characters\") //TypeError: can only concatenate str (not \"int\") to str\n",
        "\n",
        "# type conversion\n",
        "print(\"Your name has \"+ str(num)+\" characters\")\n",
        "\n",
        "print(70+ float(\"125.236\"))"
      ],
      "metadata": {
        "colab": {
          "base_uri": "https://localhost:8080/"
        },
        "id": "bXxlsP_-QA8q",
        "outputId": "3760b5dc-14c4-41a4-be19-53557383054d"
      },
      "execution_count": null,
      "outputs": [
        {
          "output_type": "stream",
          "name": "stdout",
          "text": [
            " Enter your name Mahesh\n",
            "Your name has 6 characters\n",
            "195.236\n"
          ]
        }
      ]
    },
    {
      "cell_type": "code",
      "source": [
        "# Mathematical Operations in Python\n",
        "print(\"Addition \",3+5)\n",
        "print(\"Substraction \",35-9)\n",
        "print(\"Multiply \",3*5)\n",
        "print(\"Division \",35/5)\n",
        "print(\"Exponent \",3**2)\n",
        "\n",
        "# PEDMAS(Paranthesis,Exponent,Division,Multiply,Addition,Substract) rule\n",
        "print(3*3-5/2+6)\n",
        "\n",
        "print((3*3-5)/2+6)\n"
      ],
      "metadata": {
        "colab": {
          "base_uri": "https://localhost:8080/"
        },
        "id": "sF7DuTcMQ0bs",
        "outputId": "ef468081-41ef-4eb7-ba80-0df7e02b1d52"
      },
      "execution_count": null,
      "outputs": [
        {
          "output_type": "stream",
          "name": "stdout",
          "text": [
            "Addition  8\n",
            "Substraction  26\n",
            "Multiply  15\n",
            "Division  7.0\n",
            "Exponent  9\n",
            "12.5\n",
            "8.0\n"
          ]
        }
      ]
    },
    {
      "cell_type": "code",
      "source": [
        "# Number manipulation and Fstring\n",
        "print(8/3)\n",
        "num=(8//3) # gives int value\n",
        "print(type(num))\n",
        "\n",
        "print(f\"There are {20} flat in {2} building and having {num} gaurd\") # Fstring"
      ],
      "metadata": {
        "colab": {
          "base_uri": "https://localhost:8080/"
        },
        "id": "uzH_URrWQoZa",
        "outputId": "d484008e-53a3-47f3-8bfb-51b10dcad80c"
      },
      "execution_count": null,
      "outputs": [
        {
          "output_type": "stream",
          "name": "stdout",
          "text": [
            "2.6666666666666665\n",
            "<class 'int'>\n",
            "There are 20 flat in 2 building and having 2 gaurd\n"
          ]
        }
      ]
    },
    {
      "cell_type": "code",
      "source": [
        "# Life in weeks\n",
        "age=int(input())\n",
        "year=90-age\n",
        "weeks=year*52\n",
        "\n",
        "print(f\"You have {weeks} left in your life\")"
      ],
      "metadata": {
        "colab": {
          "base_uri": "https://localhost:8080/"
        },
        "id": "XsL49HZwWJf6",
        "outputId": "a0485db5-de5e-4aad-bf70-0c8951b55cdb"
      },
      "execution_count": null,
      "outputs": [
        {
          "output_type": "stream",
          "name": "stdout",
          "text": [
            "24\n",
            "You have 3432 left in your life\n"
          ]
        }
      ]
    },
    {
      "cell_type": "code",
      "source": [
        "# Project 2\n",
        "print(\"Welcome to tip calculator\")\n",
        "\n",
        "bill=float(input(\"What was the bill? \"))\n",
        "perbilltip=int(input(\"What percentage tip you want to give? 10,12,15? \"))\n",
        "ppl=int(input(\"How many people you want to split? \"))\n",
        "\n",
        "perbillinrs=float((bill*perbilltip)/100)\n",
        "totalbill=round((bill+perbillinrs)/ppl,2)\n",
        "\n",
        "print(f\"Total bill you all have to pay is{totalbill} \")"
      ],
      "metadata": {
        "colab": {
          "base_uri": "https://localhost:8080/"
        },
        "id": "leWj-2pwm7l2",
        "outputId": "e16ec95b-19d6-48c0-cd30-21cd6c0bfacb"
      },
      "execution_count": null,
      "outputs": [
        {
          "output_type": "stream",
          "name": "stdout",
          "text": [
            "Welcome to tip calculator\n",
            "What was the bill? 124.56\n",
            "What percentage tip you want to give? 10,12,15? 12\n",
            "How many people you want to split? 7\n",
            "Total bill you all have to pay is19.93 \n"
          ]
        }
      ]
    }
  ],
  "metadata": {
    "colab": {
      "provenance": [],
      "toc_visible": true,
      "include_colab_link": true
    },
    "kernelspec": {
      "display_name": "Python 3",
      "name": "python3"
    }
  },
  "nbformat": 4,
  "nbformat_minor": 0
}