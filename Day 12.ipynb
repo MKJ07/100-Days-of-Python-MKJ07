{
  "cells":[{
      "cell_type": "markdown",
      "source": [
        "# Day 12"
      ],
      "metadata": {
        "id": "03pZX5D9OZBU"
      }
    },
    {
      "cell_type": "code",
      "source": [
        "# Local vs Global Scope\n",
        "g_scope=34\n",
        "def my_function():\n",
        "  l_scope=34\n",
        "  print(f\"It will be available only inside the function {l_scope}\")\n",
        "\n",
        "my_function()\n",
        "print(f\"It will be available globally {g_scope}\")"
      ],
      "metadata": {
        "colab": {
          "base_uri": "https://localhost:8080/"
        },
        "id": "xJ1DRkgCOcc6",
        "outputId": "d92e266c-138b-4b19-e54a-af6f27b9968a"
      },
      "execution_count": null,
      "outputs": [
        {
          "output_type": "stream",
          "name": "stdout",
          "text": [
            "It will be available only inside the function 34\n",
            "It will be available globally 34\n"
          ]
        }
      ]
    },
    {
      "cell_type": "code",
      "source": [
        "# Python does not support block scope\n",
        "list=[23,45,25]\n",
        "if 23 in list:\n",
        "  n_variable=23\n",
        "print(n_variable)"
      ],
      "metadata": {
        "colab": {
          "base_uri": "https://localhost:8080/"
        },
        "id": "8Y4mZM1dR91C",
        "outputId": "f19b03cc-be30-4c59-b464-8fc7c42c5ac0"
      },
      "execution_count": null,
      "outputs": [
        {
          "output_type": "stream",
          "name": "stdout",
          "text": [
            "23\n"
          ]
        }
      ]
    },
    {
      "cell_type": "code",
      "source": [
        "# Guess the number\n",
        "\n",
        "logo='''\n",
        "GUESS THE NUMBER :)\n",
        "'''\n",
        "print(logo)\n",
        "\n",
        "def guess_result(num):\n",
        "  guess_num=int(input(\"Guess the number\"))\n",
        "  if guess_num>num:\n",
        "    print(f\"{guess_num} is too high.. Guess a little low\")\n",
        "    return 1\n",
        "  elif guess_num<num:\n",
        "    print(f\"{guess_num} is too low.. Guess a little high\")\n",
        "    return -1\n",
        "  else:\n",
        "    print(f\"Congratulations.. {guess_num} is the right guess\")\n",
        "    return 0\n",
        "\n",
        "\n",
        "play=True\n",
        "while play:\n",
        "  num=random.randint(1,101)\n",
        "  if input(\"Do you want to play: easy or hard (e/h)\").lower()==\"h\":\n",
        "    attempt=10\n",
        "    while attempt>0:\n",
        "        if guess_result()==0:\n",
        "            break\n",
        "        print(f\"You have only {attempt} to guess\")\n",
        "        guess_result(num)\n",
        "        attempt-=1\n",
        "\n",
        "    if attempt==0:\n",
        "      print(\"You lose the game\")\n",
        "\n",
        "  else:\n",
        "    attempt=5\n",
        "    while attempt>0:\n",
        "        if guess_result()==0:\n",
        "            break\n",
        "        print(f\"You have only {attempt} to guess\")\n",
        "        guess_result(num)\n",
        "        attempt-=1\n",
        "\n",
        "    if attempt==0:\n",
        "      print(\"You lose the game\")\n",
        "\n",
        "  if input(\"Do you want to play again? (y/n): \").lower()==\"n\":\n",
        "    play=False\n",
        "  else:\n",
        "    clear_output()"
      ],
      "metadata": {
        "colab": {
          "base_uri": "https://localhost:8080/",
          "height": 755
        },
        "id": "13NmifjuWqLi",
        "outputId": "2d1ec322-fd33-4578-8a6c-99cf53e2703b"
      },
      "execution_count": null,
      "outputs": [
        {
          "output_type": "stream",
          "name": "stdout",
          "text": [
            "\n",
            "GUESS THE NUMBER :)\n",
            "\n",
            "Do you want to play: easy or hard (e/h)h\n",
            "You have only 10 to guess\n",
            "Guess the number70\n",
            "70 is too high.. Guess a little low\n",
            "You have only 9 to guess\n",
            "Guess the number50\n",
            "50 is too high.. Guess a little low\n",
            "You have only 8 to guess\n",
            "Guess the number40\n",
            "40 is too high.. Guess a little low\n",
            "You have only 7 to guess\n",
            "Guess the number30\n",
            "30 is too high.. Guess a little low\n",
            "You have only 6 to guess\n",
            "Guess the number20\n",
            "Congratulations.. 20 is the right guess\n",
            "You have only 5 to guess\n"
          ]
        },
        {
          "output_type": "error",
          "ename": "KeyboardInterrupt",
          "evalue": "ignored",
          "traceback": [
            "\u001b[0;31m---------------------------------------------------------------------------\u001b[0m",
            "\u001b[0;31mKeyboardInterrupt\u001b[0m                         Traceback (most recent call last)",
            "\u001b[0;32m<ipython-input-21-7e7c2b4c99be>\u001b[0m in \u001b[0;36m<cell line: 22>\u001b[0;34m()\u001b[0m\n\u001b[1;32m     28\u001b[0m             \u001b[0;32mbreak\u001b[0m\u001b[0;34m\u001b[0m\u001b[0;34m\u001b[0m\u001b[0m\n\u001b[1;32m     29\u001b[0m         \u001b[0mprint\u001b[0m\u001b[0;34m(\u001b[0m\u001b[0;34mf\"You have only {attempt} to guess\"\u001b[0m\u001b[0;34m)\u001b[0m\u001b[0;34m\u001b[0m\u001b[0;34m\u001b[0m\u001b[0m\n\u001b[0;32m---> 30\u001b[0;31m         \u001b[0mguess_result\u001b[0m\u001b[0;34m(\u001b[0m\u001b[0mnum\u001b[0m\u001b[0;34m)\u001b[0m\u001b[0;34m\u001b[0m\u001b[0;34m\u001b[0m\u001b[0m\n\u001b[0m\u001b[1;32m     31\u001b[0m         \u001b[0mattempt\u001b[0m\u001b[0;34m-=\u001b[0m\u001b[0;36m1\u001b[0m\u001b[0;34m\u001b[0m\u001b[0;34m\u001b[0m\u001b[0m\n\u001b[1;32m     32\u001b[0m \u001b[0;34m\u001b[0m\u001b[0m\n",
            "\u001b[0;32m<ipython-input-21-7e7c2b4c99be>\u001b[0m in \u001b[0;36mguess_result\u001b[0;34m(num)\u001b[0m\n\u001b[1;32m      7\u001b[0m \u001b[0;34m\u001b[0m\u001b[0m\n\u001b[1;32m      8\u001b[0m \u001b[0;32mdef\u001b[0m \u001b[0mguess_result\u001b[0m\u001b[0;34m(\u001b[0m\u001b[0mnum\u001b[0m\u001b[0;34m)\u001b[0m\u001b[0;34m:\u001b[0m\u001b[0;34m\u001b[0m\u001b[0;34m\u001b[0m\u001b[0m\n\u001b[0;32m----> 9\u001b[0;31m   \u001b[0mguess_num\u001b[0m\u001b[0;34m=\u001b[0m\u001b[0mint\u001b[0m\u001b[0;34m(\u001b[0m\u001b[0minput\u001b[0m\u001b[0;34m(\u001b[0m\u001b[0;34m\"Guess the number\"\u001b[0m\u001b[0;34m)\u001b[0m\u001b[0;34m)\u001b[0m\u001b[0;34m\u001b[0m\u001b[0;34m\u001b[0m\u001b[0m\n\u001b[0m\u001b[1;32m     10\u001b[0m   \u001b[0;32mif\u001b[0m \u001b[0mguess_num\u001b[0m\u001b[0;34m>\u001b[0m\u001b[0mnum\u001b[0m\u001b[0;34m:\u001b[0m\u001b[0;34m\u001b[0m\u001b[0;34m\u001b[0m\u001b[0m\n\u001b[1;32m     11\u001b[0m     \u001b[0mprint\u001b[0m\u001b[0;34m(\u001b[0m\u001b[0;34mf\"{guess_num} is too high.. Guess a little low\"\u001b[0m\u001b[0;34m)\u001b[0m\u001b[0;34m\u001b[0m\u001b[0;34m\u001b[0m\u001b[0m\n",
            "\u001b[0;32m/usr/local/lib/python3.10/dist-packages/ipykernel/kernelbase.py\u001b[0m in \u001b[0;36mraw_input\u001b[0;34m(self, prompt)\u001b[0m\n\u001b[1;32m    849\u001b[0m                 \u001b[0;34m\"raw_input was called, but this frontend does not support input requests.\"\u001b[0m\u001b[0;34m\u001b[0m\u001b[0;34m\u001b[0m\u001b[0m\n\u001b[1;32m    850\u001b[0m             )\n\u001b[0;32m--> 851\u001b[0;31m         return self._input_request(str(prompt),\n\u001b[0m\u001b[1;32m    852\u001b[0m             \u001b[0mself\u001b[0m\u001b[0;34m.\u001b[0m\u001b[0m_parent_ident\u001b[0m\u001b[0;34m,\u001b[0m\u001b[0;34m\u001b[0m\u001b[0;34m\u001b[0m\u001b[0m\n\u001b[1;32m    853\u001b[0m             \u001b[0mself\u001b[0m\u001b[0;34m.\u001b[0m\u001b[0m_parent_header\u001b[0m\u001b[0;34m,\u001b[0m\u001b[0;34m\u001b[0m\u001b[0;34m\u001b[0m\u001b[0m\n",
            "\u001b[0;32m/usr/local/lib/python3.10/dist-packages/ipykernel/kernelbase.py\u001b[0m in \u001b[0;36m_input_request\u001b[0;34m(self, prompt, ident, parent, password)\u001b[0m\n\u001b[1;32m    893\u001b[0m             \u001b[0;32mexcept\u001b[0m \u001b[0mKeyboardInterrupt\u001b[0m\u001b[0;34m:\u001b[0m\u001b[0;34m\u001b[0m\u001b[0;34m\u001b[0m\u001b[0m\n\u001b[1;32m    894\u001b[0m                 \u001b[0;31m# re-raise KeyboardInterrupt, to truncate traceback\u001b[0m\u001b[0;34m\u001b[0m\u001b[0;34m\u001b[0m\u001b[0m\n\u001b[0;32m--> 895\u001b[0;31m                 \u001b[0;32mraise\u001b[0m \u001b[0mKeyboardInterrupt\u001b[0m\u001b[0;34m(\u001b[0m\u001b[0;34m\"Interrupted by user\"\u001b[0m\u001b[0;34m)\u001b[0m \u001b[0;32mfrom\u001b[0m \u001b[0;32mNone\u001b[0m\u001b[0;34m\u001b[0m\u001b[0;34m\u001b[0m\u001b[0m\n\u001b[0m\u001b[1;32m    896\u001b[0m             \u001b[0;32mexcept\u001b[0m \u001b[0mException\u001b[0m \u001b[0;32mas\u001b[0m \u001b[0me\u001b[0m\u001b[0;34m:\u001b[0m\u001b[0;34m\u001b[0m\u001b[0;34m\u001b[0m\u001b[0m\n\u001b[1;32m    897\u001b[0m                 \u001b[0mself\u001b[0m\u001b[0;34m.\u001b[0m\u001b[0mlog\u001b[0m\u001b[0;34m.\u001b[0m\u001b[0mwarning\u001b[0m\u001b[0;34m(\u001b[0m\u001b[0;34m\"Invalid Message:\"\u001b[0m\u001b[0;34m,\u001b[0m \u001b[0mexc_info\u001b[0m\u001b[0;34m=\u001b[0m\u001b[0;32mTrue\u001b[0m\u001b[0;34m)\u001b[0m\u001b[0;34m\u001b[0m\u001b[0;34m\u001b[0m\u001b[0m\n",
            "\u001b[0;31mKeyboardInterrupt\u001b[0m: Interrupted by user"
          ]
        }
      ]
    },
    {
      "cell_type": "markdown",
      "source": [],
      "metadata": {
        "id": "bo_OE_Rh25Yi"
      }
    }
  ],
  "metadata": {
    "colab": {
      "provenance": [],
      "toc_visible": true,
      "include_colab_link": true
    },
    "kernelspec": {
      "display_name": "Python 3",
      "name": "python3"
    }
  },
  "nbformat": 4,
  "nbformat_minor": 0
}
