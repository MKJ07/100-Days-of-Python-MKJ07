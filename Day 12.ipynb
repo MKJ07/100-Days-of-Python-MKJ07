{
  "cells":[{
      "cell_type": "markdown",
      "source": [
        "# Day 12"
      ],
      "metadata": {
        "id": "03pZX5D9OZBU"
      }
    },
    {
      "cell_type": "code",
      "source": [
        "# Local vs Global Scope\n",
        "g_scope=34\n",
        "def my_function():\n",
        "  l_scope=34\n",
        "  print(f\"It will be available only inside the function {l_scope}\")\n",
        "\n",
        "my_function()\n",
        "print(f\"It will be available globally {g_scope}\")"
      ],
      "metadata": {
        "colab": {
          "base_uri": "https://localhost:8080/"
        },
        "id": "xJ1DRkgCOcc6",
        "outputId": "d92e266c-138b-4b19-e54a-af6f27b9968a"
      },
      "execution_count": null,
      "outputs": [
        {
          "output_type": "stream",
          "name": "stdout",
          "text": [
            "It will be available only inside the function 34\n",
            "It will be available globally 34\n"
          ]
        }
      ]
    },
    {
      "cell_type": "code",
      "source": [
        "# Python does not support block scope\n",
        "list=[23,45,25]\n",
        "if 23 in list:\n",
        "  n_variable=23\n",
        "print(n_variable)"
      ],
      "metadata": {
        "colab": {
          "base_uri": "https://localhost:8080/"
        },
        "id": "8Y4mZM1dR91C",
        "outputId": "f19b03cc-be30-4c59-b464-8fc7c42c5ac0"
      },
      "execution_count": null,
      "outputs": [
        {
          "output_type": "stream",
          "name": "stdout",
          "text": [
            "23\n"
          ]
        }
      ]
    },
     {

   "cell_type": "markdown",

   "source": [

    "# Day 13"

   ],

   "metadata": {

    "id": "0hP8EreBMOmA"

   }

  },

  {

   "cell_type": "code",

   "source": [

    "# Bug fixing exercise 1\n",

    "# Which number do you want to check?\n",

    "number = int(input())\n",

    "\n",

    "if number % 2 = 0 : # here the it assigning the value not comparing\n",

    " print(\"This is an even numbe.\") velse:\n",

    "\n",

    "print(\"This is an odd number.\")\n",

    "\n",

    "# the correct code is\n",

    "if number % 2 == 0 :\n",

    " print(\"This is an even numbe.\") velse:\n",

    "\n",

    "print(\"This is an odd number.\")\n"

   ],

   "metadata": {

    "id": "oAXWHKACMQuP"

   },

   "execution_count": null,

   "outputs": []

  },

  {

   "cell_type": "code",

   "source": [

    "# Bug fixing exercise 2\n",

    "\n",

    "# Which year do you want to check?\n",

    "year = input() #here we want to take integer but we are taking str by default\n",

    "\n",

    "if year % 4 == 0:\n",

    "  if year % 100 == 0:\n",

    "    if year % 400 == 0:\n",

    "      print(\"Leap year.\")\n",

    "    else:\n",

    "      print(\"Not leap year.\")\n",

    "  else:\n",

    "    print(\"Leap year.\")\n",

    "else:\n",

    "  print(\"Not leap year.\")\n",

    "\n",

    "# the correct code is\n",

    "\n",

    "year = int(input())\n",

    "\n",

    "if year % 4 == 0:\n",

    "  if year % 100 == 0:\n",

    "    if year % 400 == 0:\n",

    "      print(\"Leap year.\")\n",

    "    else:\n",

    "      print(\"Not leap year.\")\n",

    "  else:\n",

    "    print(\"Leap year.\")\n",

    "else:\n",

    "  print(\"Not leap year.\")\n",

    "\n"

   ],

   "metadata": {

    "id": "27ffWlktMrJH"

   },

   "execution_count": null,

   "outputs": []

  },

  {

   "cell_type": "code",

   "source": [

    "# Bug fixing exercise 3\n",

    "\n",

    "# Target is the number up to which we count\n",

    "target = int(input())\n",

    "\n",

    "for number in range(1, target + 1):\n",

    "  if number % 3 == 0 and number % 5 == 0:\n",

    "    print(\"FizzBuzz\")\n",

    "  if number % 3 == 0: #instead we should use elif\n",

    "    print(\"Fizz\")\n",

    "  if number % 5 == 0:\n",

    "    print(\"Buzz\")\n",

    "  else:\n",

    "    print([number]) # here square bracket should be remove as number is int\n",

    "\n",

    "#the correct code is\n",

    "# Target is the number up to which we count\n",

    "target = int(input())\n",

    "\n",

    "for number in range(1, target + 1):\n",

    "  if number % 3 == 0 and number % 5 == 0:\n",

    "    print(\"FizzBuzz\")\n",

    "  elif number % 3 == 0:\n",

    "    print(\"Fizz\")\n",

    "  elif number % 5 == 0:\n",

    "    print(\"Buzz\")\n",

    "  else:\n",

    "    print(number)\n",

    "\n"

   ],

   "metadata": {

    "id": "Vvpm75SQN3l-"

   },

   "execution_count": null,

   "outputs": []

  },

  {

   "cell_type": "markdown",

   "source": [],

   "metadata": {

    "id": "bo_OE_Rh25Yi"

   }

  }

 ],

 "metadata": {

  "colab": {

   "provenance": [],

   "toc_visible": true,

   "include_colab_link": true

  },

  "kernelspec": {

   "display_name": "Python 3",

   "name": "python3"

  }

 },

 "nbformat": 4,

 "nbformat_minor": 0

}
      ]
    },
    {
      "cell_type": "markdown",
      "source": [],
      "metadata": {
        "id": "bo_OE_Rh25Yi"
      }
    }
  ],
  "metadata": {
    "colab": {
      "provenance": [],
      "toc_visible": true,
      "include_colab_link": true
    },
    "kernelspec": {
      "display_name": "Python 3",
      "name": "python3"
    }
  },
  "nbformat": 4,
  "nbformat_minor": 0
}
