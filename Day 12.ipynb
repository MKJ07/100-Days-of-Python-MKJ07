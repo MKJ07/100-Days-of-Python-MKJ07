{
  "cells":[{
      "cell_type": "markdown",
      "source": [
        "# Day 12"
      ],
      "metadata": {
        "id": "03pZX5D9OZBU"
      }
    },
    {
      "cell_type": "code",
      "source": [
        "# Local vs Global Scope\n",
        "g_scope=34\n",
        "def my_function():\n",
        "  l_scope=34\n",
        "  print(f\"It will be available only inside the function {l_scope}\")\n",
        "\n",
        "my_function()\n",
        "print(f\"It will be available globally {g_scope}\")"
      ],
      "metadata": {
        "colab": {
          "base_uri": "https://localhost:8080/"
        },
        "id": "xJ1DRkgCOcc6",
        "outputId": "d92e266c-138b-4b19-e54a-af6f27b9968a"
      },
      "execution_count": null,
      "outputs": [
        {
          "output_type": "stream",
          "name": "stdout",
          "text": [
            "It will be available only inside the function 34\n",
            "It will be available globally 34\n"
          ]
        }
      ]
    },
    {
      "cell_type": "code",
      "source": [
        "# Python does not support block scope\n",
        "list=[23,45,25]\n",
        "if 23 in list:\n",
        "  n_variable=23\n",
        "print(n_variable)"
      ],
      "metadata": {
        "colab": {
          "base_uri": "https://localhost:8080/"
        },
        "id": "8Y4mZM1dR91C",
        "outputId": "f19b03cc-be30-4c59-b464-8fc7c42c5ac0"
      },
      "execution_count": null,
      "outputs": [
        {
          "output_type": "stream",
          "name": "stdout",
          "text": [
            "23\n"
          ]
        }
      ]
    },
      {
      "cell_type": "code",
      "source": [
        "# Guess the number\n",
        "\n",
        "logo='''\n",
        "GUESS THE NUMBER :)\n",
        "'''\n",
        "\n",
        "def guess_result(num):\n",
        "  guess_num=int(input(\"Guess the number: \"))\n",
        "  if guess_num>num:\n",
        "    print(f\"{guess_num} is too high.. Guess a little low\")\n",
        "    return 1\n",
        "  elif guess_num<num:\n",
        "    print(f\"{guess_num} is too low.. Guess a little high\")\n",
        "    return -1\n",
        "  else:\n",
        "    print(f\"Congratulations.. {guess_num} is the right guess\")\n",
        "    return 0\n",
        "\n",
        "\n",
        "play=True\n",
        "while play:\n",
        "  num=random.randint(1,101)\n",
        "  print(logo)\n",
        "  if input(\"Do you want to play: easy or hard (e/h): \").lower()==\"h\":\n",
        "    attempt=10\n",
        "    number=guess_result(num)\n",
        "    while attempt>0:\n",
        "        if number==0:\n",
        "            break\n",
        "        attempt-=1\n",
        "        print(f\"You have only {attempt} to guess\")\n",
        "        if attempt==0:\n",
        "          print(\"You lose the game\")\n",
        "          print(f\"The number was {num}\")\n",
        "          break\n",
        "        number=guess_result(num)\n",
        "\n",
        "\n",
        "\n",
        "  else:\n",
        "    attempt=5\n",
        "    number=guess_result(num)\n",
        "    while attempt>0:\n",
        "        if number==0:\n",
        "            break\n",
        "        attempt-=1\n",
        "        print(f\"You have only {attempt} to guess\")\n",
        "        if attempt==0:\n",
        "          print(\"You lose the game\")\n",
        "          print(f\"The number was {num}\")\n",
        "          break\n",
        "        number=guess_result(num)\n",
        "\n",
        "\n",
        "\n",
        "\n",
        "  if input(\"Do you want to play again? (y/n): \").lower()==\"n\":\n",
        "    play=False\n",
        "  else:\n",
        "    clear_output()"
      ],
      "metadata": {
        "colab": {
          "base_uri": "https://localhost:8080/"
        },
        "id": "13NmifjuWqLi",
        "outputId": "440a7eb3-3766-43c8-9380-b9d95ca23a43"
      },
      "execution_count": null,
      "outputs": [
        {
          "name": "stdout",
          "output_type": "stream",
          "text": [
            "\n",
            "GUESS THE NUMBER :)\n",
            "\n",
            "Do you want to play: easy or hard (e/h): e\n",
            "Guess the number: 60\n",
            "60 is too high.. Guess a little low\n",
            "You have only 4 to guess\n",
            "Guess the number: 40\n",
            "40 is too high.. Guess a little low\n",
            "You have only 3 to guess\n",
            "Guess the number: 20\n",
            "20 is too low.. Guess a little high\n",
            "You have only 2 to guess\n",
            "Guess the number: 25\n",
            "25 is too high.. Guess a little low\n",
            "You have only 1 to guess\n",
            "Guess the number: 23\n",
            "23 is too low.. Guess a little high\n",
            "You have only 0 to guess\n",
            "You lose the game\n",
            "The number was 24\n",
            "Do you want to play again? (y/n): n\n"
          ]
        }
      ]
    }
    
      ]
    },
    {
      "cell_type": "markdown",
      "source": [],
      "metadata": {
        "id": "bo_OE_Rh25Yi"
      }
    }
  ],
  "metadata": {
    "colab": {
      "provenance": [],
      "toc_visible": true,
      "include_colab_link": true
    },
    "kernelspec": {
      "display_name": "Python 3",
      "name": "python3"
    }
  },
  "nbformat": 4,
  "nbformat_minor": 0
}
