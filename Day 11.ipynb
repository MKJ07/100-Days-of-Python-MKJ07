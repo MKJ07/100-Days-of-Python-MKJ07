{
  "cells": [
    {
      "cell_type": "markdown",
      "metadata": {
        "id": "view-in-github",
        "colab_type": "text"
      },
      "source": [
        "<a href=\"https://colab.research.google.com/github/MKJ07/100-Days-of-Python-MKJ07/blob/main/Day%2011.ipynb\" target=\"_parent\"><img src=\"https://colab.research.google.com/assets/colab-badge.svg\" alt=\"Open In Colab\"/></a>"
      ]
    },
    {
      "cell_type": "markdown",
      "source": [
        "#100 Days of Python"
      ],
      "metadata": {
        "id": "TLAHhGjToDda"
      }
    },
    {
      "cell_type": "markdown",
      "source": [
        "# Day 1"
      ],
      "metadata": {
        "id": "QFqk6rnZO6Cs"
      }
    },
    {
      "cell_type": "code",
      "source": [
        "print(\"Hello World!!\")"
      ],
      "metadata": {
        "id": "dKBdZJVloO4_",
        "outputId": "cfdf2d2e-a138-4038-c9b8-a59379bb9440",
        "colab": {
          "base_uri": "https://localhost:8080/"
        }
      },
      "execution_count": null,
      "outputs": [
        {
          "output_type": "stream",
          "name": "stdout",
          "text": [
            "Hello World!!\n"
          ]
        }
      ]
    },
    {
      "cell_type": "code",
      "source": [
        "print(\"hello i am \\n MKJ\")\n",
        "print(\"Hello\"+\"MKJ\")"
      ],
      "metadata": {
        "id": "khcZLXyVqjzi",
        "outputId": "c5246313-072e-4115-d151-c742e8d5cc24",
        "colab": {
          "base_uri": "https://localhost:8080/"
        }
      },
      "execution_count": null,
      "outputs": [
        {
          "output_type": "stream",
          "name": "stdout",
          "text": [
            "hello i am \n",
            " MKJ\n",
            "HelloMKJ\n"
          ]
        }
      ]
    },
    {
      "cell_type": "code",
      "source": [
        "#input\n",
        "# input(\"What is your name\")\n",
        "print(\"Hello i am \"+ input())\n"
      ],
      "metadata": {
        "id": "Stgivyv0tFG0",
        "outputId": "56de48c1-bff5-4b4f-fa78-866ae8d4554b",
        "colab": {
          "base_uri": "https://localhost:8080/"
        }
      },
      "execution_count": null,
      "outputs": [
        {
          "output_type": "stream",
          "name": "stdout",
          "text": [
            "mkj\n",
            "Hello i am mkj\n"
          ]
        }
      ]
    },
    {
      "cell_type": "code",
      "source": [
        "name=\"Mahesh\"\n",
        "print(len(name))"
      ],
      "metadata": {
        "id": "0cJp_35Ztd0X",
        "outputId": "a4451505-66ad-4fb8-a493-534375fff619",
        "colab": {
          "base_uri": "https://localhost:8080/"
        }
      },
      "execution_count": null,
      "outputs": [
        {
          "output_type": "stream",
          "name": "stdout",
          "text": [
            "6\n"
          ]
        }
      ]
    },
    {
      "cell_type": "code",
      "source": [
        "# Swap two value\n",
        "a=20;b=10\n",
        "t=a\n",
        "a=b\n",
        "b=t\n",
        "print(a)\n",
        "print(b)"
      ],
      "metadata": {
        "id": "6wuijR-muK0r",
        "outputId": "dbe6060f-751f-4c93-864b-6d63d9e5c613",
        "colab": {
          "base_uri": "https://localhost:8080/"
        }
      },
      "execution_count": null,
      "outputs": [
        {
          "output_type": "stream",
          "name": "stdout",
          "text": [
            "10\n",
            "20\n"
          ]
        }
      ]
    },
    {
      "cell_type": "code",
      "source": [
        "# Band Game generator\n",
        "print(\"Hii\")\n",
        "name=input(\"Enter your city name \")\n",
        "pet_name=input(\"Enter your pet name \")\n",
        "print(\"Your band name is:\"+ name+\" \"+pet_name)"
      ],
      "metadata": {
        "id": "wXKXyiEezXbE",
        "outputId": "1893c362-b21e-4672-d29d-de65d85711c2",
        "colab": {
          "base_uri": "https://localhost:8080/"
        }
      },
      "execution_count": null,
      "outputs": [
        {
          "output_type": "stream",
          "name": "stdout",
          "text": [
            "Hii\n",
            "Enter your city nameKolkata\n",
            "Enter your pet namepuppy\n",
            "Your band name is:Kolkata puppy\n"
          ]
        }
      ]
    },
    {
      "cell_type": "markdown",
      "source": [
        "# Day 2"
      ],
      "metadata": {
        "id": "2im1ajxoPBk0"
      }
    },
    {
      "cell_type": "code",
      "source": [
        "# Primitive Data type\n",
        "# String\n",
        "print(\"Hello\"[0])\n",
        "\n",
        "# Integer\n",
        "num=123456\n",
        "print(123+456)\n",
        "\n",
        "# float\n",
        "dec=1235.63\n",
        "print(type(dec))\n",
        "\n",
        "# Boolean\n",
        "print(num==dec)"
      ],
      "metadata": {
        "colab": {
          "base_uri": "https://localhost:8080/"
        },
        "id": "eunRdppOPHYs",
        "outputId": "f5e64404-2b86-4011-b1b9-27874c01f55b"
      },
      "execution_count": null,
      "outputs": [
        {
          "output_type": "stream",
          "name": "stdout",
          "text": [
            "H\n",
            "579\n",
            "<class 'float'>\n",
            "False\n"
          ]
        }
      ]
    },
    {
      "cell_type": "code",
      "source": [
        "# Type error\n",
        "num=len(input(\" Enter your name \"))\n",
        "# print(\"Your name has \"+num+\" characters\") //TypeError: can only concatenate str (not \"int\") to str\n",
        "\n",
        "# type conversion\n",
        "print(\"Your name has \"+ str(num)+\" characters\")\n",
        "\n",
        "print(70+ float(\"125.236\"))"
      ],
      "metadata": {
        "colab": {
          "base_uri": "https://localhost:8080/"
        },
        "id": "bXxlsP_-QA8q",
        "outputId": "3760b5dc-14c4-41a4-be19-53557383054d"
      },
      "execution_count": null,
      "outputs": [
        {
          "output_type": "stream",
          "name": "stdout",
          "text": [
            " Enter your name Mahesh\n",
            "Your name has 6 characters\n",
            "195.236\n"
          ]
        }
      ]
    },
    {
      "cell_type": "code",
      "source": [
        "# Mathematical Operations in Python\n",
        "print(\"Addition \",3+5)\n",
        "print(\"Substraction \",35-9)\n",
        "print(\"Multiply \",3*5)\n",
        "print(\"Division \",35/5)\n",
        "print(\"Exponent \",3**2)\n",
        "\n",
        "# PEDMAS(Paranthesis,Exponent,Division,Multiply,Addition,Substract) rule\n",
        "print(3*3-5/2+6)\n",
        "\n",
        "print((3*3-5)/2+6)\n"
      ],
      "metadata": {
        "colab": {
          "base_uri": "https://localhost:8080/"
        },
        "id": "sF7DuTcMQ0bs",
        "outputId": "ef468081-41ef-4eb7-ba80-0df7e02b1d52"
      },
      "execution_count": null,
      "outputs": [
        {
          "output_type": "stream",
          "name": "stdout",
          "text": [
            "Addition  8\n",
            "Substraction  26\n",
            "Multiply  15\n",
            "Division  7.0\n",
            "Exponent  9\n",
            "12.5\n",
            "8.0\n"
          ]
        }
      ]
    },
    {
      "cell_type": "code",
      "source": [
        "# Number manipulation and Fstring\n",
        "print(8/3)\n",
        "num=(8//3) # gives int value\n",
        "print(type(num))\n",
        "\n",
        "print(f\"There are {20} flat in {2} building and having {num} gaurd\") # Fstring"
      ],
      "metadata": {
        "colab": {
          "base_uri": "https://localhost:8080/"
        },
        "id": "uzH_URrWQoZa",
        "outputId": "d484008e-53a3-47f3-8bfb-51b10dcad80c"
      },
      "execution_count": null,
      "outputs": [
        {
          "output_type": "stream",
          "name": "stdout",
          "text": [
            "2.6666666666666665\n",
            "<class 'int'>\n",
            "There are 20 flat in 2 building and having 2 gaurd\n"
          ]
        }
      ]
    },
    {
      "cell_type": "code",
      "source": [
        "# Life in weeks\n",
        "age=int(input())\n",
        "year=90-age\n",
        "weeks=year*52\n",
        "\n",
        "print(f\"You have {weeks} left in your life\")"
      ],
      "metadata": {
        "colab": {
          "base_uri": "https://localhost:8080/"
        },
        "id": "XsL49HZwWJf6",
        "outputId": "a0485db5-de5e-4aad-bf70-0c8951b55cdb"
      },
      "execution_count": null,
      "outputs": [
        {
          "output_type": "stream",
          "name": "stdout",
          "text": [
            "24\n",
            "You have 3432 left in your life\n"
          ]
        }
      ]
    },
    {
      "cell_type": "code",
      "source": [
        "# Project 2\n",
        "print(\"Welcome to tip calculator\")\n",
        "\n",
        "bill=float(input(\"What was the bill? \"))\n",
        "perbilltip=int(input(\"What percentage tip you want to give? 10,12,15? \"))\n",
        "ppl=int(input(\"How many people you want to split? \"))\n",
        "\n",
        "perbillinrs=float((bill*perbilltip)/100)\n",
        "totalbill=round((bill+perbillinrs)/ppl,2)\n",
        "\n",
        "print(f\"Total bill you all have to pay is{totalbill} \")"
      ],
      "metadata": {
        "colab": {
          "base_uri": "https://localhost:8080/"
        },
        "id": "leWj-2pwm7l2",
        "outputId": "e16ec95b-19d6-48c0-cd30-21cd6c0bfacb"
      },
      "execution_count": null,
      "outputs": [
        {
          "output_type": "stream",
          "name": "stdout",
          "text": [
            "Welcome to tip calculator\n",
            "What was the bill? 124.56\n",
            "What percentage tip you want to give? 10,12,15? 12\n",
            "How many people you want to split? 7\n",
            "Total bill you all have to pay is19.93 \n"
          ]
        }
      ]
    },
    {
      "cell_type": "markdown",
      "source": [
        "# Day 3\n"
      ],
      "metadata": {
        "id": "mogyCedKrjLa"
      }
    },
    {
      "cell_type": "code",
      "source": [
        "# Conditional Statement\n",
        "height=int(input(\"Enter your height \"))\n",
        "\n",
        "if height>120:\n",
        "  print(\"You are eligible\")\n",
        "else:\n",
        "  print(\"You are not eligible\")"
      ],
      "metadata": {
        "colab": {
          "base_uri": "https://localhost:8080/"
        },
        "id": "vkjIuVFQroNk",
        "outputId": "a442e6fe-a6a0-423f-d5e3-6bc2d1396780"
      },
      "execution_count": null,
      "outputs": [
        {
          "output_type": "stream",
          "name": "stdout",
          "text": [
            "Enter your height 132\n",
            "You are eligible\n"
          ]
        }
      ]
    },
    {
      "cell_type": "code",
      "source": [
        "# Check the number is even number or odd number\n",
        "num=int(input(\"Enter the number \"))\n",
        "\n",
        "if num % 2 == 0 :\n",
        "  print(f\"{num} is an even number\")\n",
        "else:\n",
        "  print(f\"{num} is a odd number\")"
      ],
      "metadata": {
        "colab": {
          "base_uri": "https://localhost:8080/"
        },
        "id": "aYk1ymh7t44c",
        "outputId": "291e1f29-b251-44e7-84fa-5cbf62a1170d"
      },
      "execution_count": null,
      "outputs": [
        {
          "output_type": "stream",
          "name": "stdout",
          "text": [
            "Enter the number34\n",
            "34 is an even number\n"
          ]
        }
      ]
    },
    {
      "cell_type": "code",
      "source": [
        "# Elif Statement - Nested if/else\n",
        "height=int(input(\"Enter your height \"))\n",
        "\n",
        "if height > 120:\n",
        "  print(\"Congratulations!! You are eligible\")\n",
        "  age=int(input(\"Enter your age \"))\n",
        "  if age>18:\n",
        "    print(\"You have to pay 17$\")\n",
        "  elif age<18 and age>12:\n",
        "    print(\"You have to pay 12$\")\n",
        "  else:\n",
        "    print(\"You have to pay 7$\")\n",
        "else:\n",
        "  print(\"Your are not eligible\")"
      ],
      "metadata": {
        "colab": {
          "base_uri": "https://localhost:8080/"
        },
        "id": "rWjhzNrL4ec0",
        "outputId": "bdc65b3a-99d2-464e-9161-907a1247456d"
      },
      "execution_count": null,
      "outputs": [
        {
          "output_type": "stream",
          "name": "stdout",
          "text": [
            "Enter your height 342\n",
            "Congratulations!! You are eligible\n",
            "Enter your age 14\n",
            "You have to pay 12$\n"
          ]
        }
      ]
    },
    {
      "cell_type": "code",
      "source": [
        "# BMI Calculator\n",
        "height=float(input(\"Enter your height \"))\n",
        "weight=int(input(\"Enter your weight \"))\n",
        "\n",
        "bmi=weight/(height*height)\n",
        "\n",
        "if bmi<18.5:\n",
        "  print(f\"Your BMI is {bmi}, you are underweight\")\n",
        "elif bmi<25:\n",
        "  print(f\"Your BMI is {bmi}, you are normal\")\n",
        "elif bmi<30:\n",
        "  print(f\"Your BMI is {bmi}, you are overweight\")\n",
        "elif bmi<35:\n",
        "  print(f\"Your BMI is {bmi}, you are obese\")\n",
        "else:\n",
        "  print(f\"Your BMI is {bmi}, you are clinically obese\")\n",
        "\n"
      ],
      "metadata": {
        "colab": {
          "base_uri": "https://localhost:8080/"
        },
        "id": "f7NtKNfi771O",
        "outputId": "f00270f6-68c8-46cd-a3ff-dd25e3477f24"
      },
      "execution_count": null,
      "outputs": [
        {
          "output_type": "stream",
          "name": "stdout",
          "text": [
            "Enter your height 1.8\n",
            "Enter your weight 50\n",
            "Your BMI is 15.432098765432098, you are underweight\n"
          ]
        }
      ]
    },
    {
      "cell_type": "code",
      "source": [
        "# Check the year is leap year or not\n",
        "year=int(input(\"Enter the year \"))\n",
        "if (year%4==0 and year%100!=0) or year%400==0:\n",
        "  print(f\"{year} is a leap year\")\n",
        "else:\n",
        "  print(f\"{year} is not a leap year\")"
      ],
      "metadata": {
        "colab": {
          "base_uri": "https://localhost:8080/"
        },
        "id": "V9-00hpkFEsP",
        "outputId": "bebf64e1-de1d-4226-aeff-9136d71ae7bb"
      },
      "execution_count": null,
      "outputs": [
        {
          "output_type": "stream",
          "name": "stdout",
          "text": [
            "Enter the year 2004\n",
            "2004 is a leap year\n"
          ]
        }
      ]
    },
    {
      "cell_type": "code",
      "source": [
        "# Nested if\n",
        "height=int(input(\"Enter your height \"))\n",
        "amt=0\n",
        "if height > 120:\n",
        "  print(\"Congratulations!! You are eligible\")\n",
        "  age=int(input(\"Enter your age \"))\n",
        "  if age>18:\n",
        "    amt=18\n",
        "    # print(\"You have to pay 17$\")\n",
        "  elif age<18 and age>12:\n",
        "    amt=12\n",
        "    # print(\"You have to pay 12$\")\n",
        "  else:\n",
        "    amt=7\n",
        "    # print(\"You have to pay 7$\")\n",
        "  ph=input(\"Do you want photo? Y or N \")\n",
        "  if ph=='Y':\n",
        "    amt+=3\n",
        "  print(f\"Total amount you have to pay ${amt}\")\n",
        "else:\n",
        "  print(\"Your are not eligible\")"
      ],
      "metadata": {
        "colab": {
          "base_uri": "https://localhost:8080/"
        },
        "id": "44N5-OfDwmgc",
        "outputId": "f2ad5450-8f05-4520-bcc2-0759409c24da"
      },
      "execution_count": null,
      "outputs": [
        {
          "output_type": "stream",
          "name": "stdout",
          "text": [
            "Enter your height 343\n",
            "Congratulations!! You are eligible\n",
            "Enter your age 34\n",
            "Do you want photo? Y or N Y\n",
            "Total amount you have to pay $21\n"
          ]
        }
      ]
    },
    {
      "cell_type": "code",
      "source": [
        "# Pizza order practice\n",
        "size=input(\"Enter the size of the pizza, S/M/L: \")\n",
        "pp=input(\"Do you pepperoni? Y/N: \")\n",
        "cheese=input(\"Do you want extra cheese? Y/N: \")\n",
        "price=0\n",
        "if size=='S':\n",
        "  price=15\n",
        "  if pp=='Y':\n",
        "    price+=2\n",
        "elif size=='M':\n",
        "  price=20\n",
        "  if pp=='Y':\n",
        "    price+=3\n",
        "else:\n",
        "  price=25\n",
        "  if pp=='Y':\n",
        "    price+=3\n",
        "if cheese=='Y':\n",
        "    price+=1\n",
        "print(f\"Cost of pizza is {price}\")\n"
      ],
      "metadata": {
        "colab": {
          "base_uri": "https://localhost:8080/"
        },
        "id": "i5D3v-GBqKIh",
        "outputId": "ff7403d6-2126-44eb-f056-2eb4f42f3c42"
      },
      "execution_count": null,
      "outputs": [
        {
          "output_type": "stream",
          "name": "stdout",
          "text": [
            "Enter the size of the pizza, S/M/L: S\n",
            "Do you pepperoni? Y/N: N\n",
            "Do you want extra cheese? Y/N: Y\n",
            "Cost of pizza is 16\n"
          ]
        }
      ]
    },
    {
      "cell_type": "code",
      "source": [
        "# Love Calculator\n",
        "name1=input(\"Enter the person 1's name: \")\n",
        "name2=input(\"Enter the person 2's name: \")\n",
        "tcount=0;lcount=0\n",
        "combined_name=name1+name2\n",
        "name3=combined_name.lower()\n",
        "t=name3.count('t')\n",
        "r=name3.count('r')\n",
        "u=name3.count('u')\n",
        "e=name3.count('e')\n",
        "name_count=t+r+u+e\n",
        "\n",
        "l=name3.count('l')\n",
        "o=name3.count('o')\n",
        "v=name3.count('v')\n",
        "e=name3.count('e')\n",
        "l_count=l+o+v+e\n",
        "\n",
        "total_count=int(str(name_count)+str(l_count))\n",
        "print(f\"Your love score is {total_count} \")\n",
        "\n"
      ],
      "metadata": {
        "colab": {
          "base_uri": "https://localhost:8080/"
        },
        "id": "w0DfizKOy1De",
        "outputId": "5ca5e605-89b9-491a-d0d5-c6b45f8fbf08"
      },
      "execution_count": null,
      "outputs": [
        {
          "output_type": "stream",
          "name": "stdout",
          "text": [
            "Enter the person 1's name: Angela yu\n",
            "Enter the person 2's name: jack bauer\n",
            "Your love score is 53 \n"
          ]
        }
      ]
    },
    {
      "cell_type": "code",
      "source": [
        "# Project 3\n",
        "print('''================================================.\n",
        "     .-.   .-.     .--.                         |\n",
        "    | OO| | OO|   / _.-' .-.   .-.  .-.   .''.  |\n",
        "    |   | |   |   \\  '-. '-'   '-'  '-'   '..'  |\n",
        "    '^^^' '^^^'    '--'                         |\n",
        "===============.  .-.  .================.  .-.  |\n",
        "               | |   | |                |  '-'  |\n",
        "               | |   | |                |       |\n",
        "               | ':-:' |                |  .-.  |\n",
        "               |  '-'  |                |  '-'  |\n",
        "==============='       '================'       |''')\n",
        "\n",
        "print(\"Welcome to Treasure Island.\\n Your mission is to find the treasure\")\n",
        "\n",
        "if input(\"Enter the first move: \")==\"left\":\n",
        "  if input(\"Do you want to swim or wait: \")==\"wait\":\n",
        "    if input(\"Which color gate you want to open: Blue/Yellow/Red \")==\"Yellow\":\n",
        "      print(\"Congratulations!! You win the game.\")\n",
        "    else:\n",
        "      print(\"Game Over\")\n",
        "  else:\n",
        "    print(\"Game Over\")\n",
        "else:\n",
        "  print(\"Game Over\")\n"
      ],
      "metadata": {
        "colab": {
          "base_uri": "https://localhost:8080/"
        },
        "id": "aOL14DxF4pRN",
        "outputId": "9f21bbb6-fbd5-4022-8270-319dc9182f78"
      },
      "execution_count": null,
      "outputs": [
        {
          "output_type": "stream",
          "name": "stdout",
          "text": [
            "================================================.\n",
            "     .-.   .-.     .--.                         |\n",
            "    | OO| | OO|   / _.-' .-.   .-.  .-.   .''.  |\n",
            "    |   | |   |   \\  '-. '-'   '-'  '-'   '..'  |\n",
            "    '^^^' '^^^'    '--'                         |\n",
            "===============.  .-.  .================.  .-.  |\n",
            "               | |   | |                |  '-'  |\n",
            "               | |   | |                |       |\n",
            "               | ':-:' |                |  .-.  |\n",
            "l42            |  '-'  |                |  '-'  |\n",
            "==============='       '================'       |\n",
            "Welcome to Treasure Island.\n",
            " Your mission is to find the treasure\n",
            "Enter the first move: left\n",
            "Do you want to swim or wait: wait\n",
            "Which color gate you want to open: Blue/Yellow/Red Yellow\n",
            "Congratulations!! You win the game.\n"
          ]
        }
      ]
    },
    {
      "cell_type": "markdown",
      "source": [
        "# Day 4"
      ],
      "metadata": {
        "id": "3nnGwIx1M0MQ"
      }
    },
    {
      "cell_type": "code",
      "source": [
        "# importing random library\n",
        "import random"
      ],
      "metadata": {
        "id": "a8IMFqsaNivo"
      },
      "execution_count": null,
      "outputs": []
    },
    {
      "cell_type": "code",
      "source": [
        "# Random integer\n",
        "rand_num=random.randint(0,10)\n",
        "print(rand_num)\n",
        "rand_float=random.random()\n",
        "print(rand_num*rand_float)"
      ],
      "metadata": {
        "colab": {
          "base_uri": "https://localhost:8080/"
        },
        "id": "GKTLn1LTM5eC",
        "outputId": "c1391094-fb75-41ce-d881-85e70d68fa74"
      },
      "execution_count": null,
      "outputs": [
        {
          "output_type": "stream",
          "name": "stdout",
          "text": [
            "8\n",
            "4.436280547090154\n"
          ]
        }
      ]
    },
    {
      "cell_type": "code",
      "source": [
        "# Toss generator\n",
        "rand_num=random.randint(1,100)\n",
        "if rand_num%2==0:\n",
        "  print(\"Head it is..\")\n",
        "else:\n",
        "  print(\"Tail it is..\")"
      ],
      "metadata": {
        "colab": {
          "base_uri": "https://localhost:8080/"
        },
        "id": "Tu-KMyAxScan",
        "outputId": "fe5f0000-b4ca-4157-de27-f0f3a615cca6"
      },
      "execution_count": null,
      "outputs": [
        {
          "output_type": "stream",
          "name": "stdout",
          "text": [
            "Tail it is..\n"
          ]
        }
      ]
    },
    {
      "cell_type": "code",
      "source": [
        "# Lists\n",
        "ind_states=[\"Andhra Pradesh\",\"Arunachal Pradesh \",\"Assam\",\"Bihar\",\"Chhattisgarh\",\"Goa\",\"Gujarat\",\"Haryana\",\"Himachal Pradesh\",\"Jammu and Kashmir\",\"Jharkhand\",\"Karnataka\",\"Kerala\",\"Madhya Pradesh\",\"Maharashtra\",\"Manipur\",\"Meghalaya\",\"Mizoram\",\"Nagaland\",\"Odisha\",\"Punjab\",\"Rajasthan\",\"Sikkim\",\"Tamil Nadu\",\"Telangana\",\"Tripura\",\"Uttar Pradesh\",\"Uttarakhand\",\"West Bengal\",\"Andaman and Nicobar Islands\",\"Chandigarh\",\"Dadra and Nagar Haveli\",\"Daman and Diu\",\"Lakshadweep\",\"National Capital Territory of Delhi\",\"Puducherry\"]\n",
        "size=len(ind_states)\n",
        "idx=random.randint(0,size)\n",
        "print(ind_states[idx])"
      ],
      "metadata": {
        "colab": {
          "base_uri": "https://localhost:8080/"
        },
        "id": "q51HKd-mWWLj",
        "outputId": "9befa192-5b2e-49a8-8b6b-f7c8f4233092"
      },
      "execution_count": null,
      "outputs": [
        {
          "output_type": "stream",
          "name": "stdout",
          "text": [
            "Jammu and Kashmir\n"
          ]
        }
      ]
    },
    {
      "cell_type": "code",
      "source": [
        "# List - Banker Roulette\n",
        "name_list=[\"Mkj\",\"Tiwari\",\"Notu\",\"Dhiru\",\"Sunny\",\"Mota\",\"Prateek\",\"Tej\",\"Ayush\"]\n",
        "size=len(name_list)\n",
        "chance=random.randint(0,size)\n",
        "print(f\"{name_list[chance]} will pay the bill\")"
      ],
      "metadata": {
        "colab": {
          "base_uri": "https://localhost:8080/"
        },
        "id": "aG4n28WQdazz",
        "outputId": "16867a72-2937-42ff-c92e-9b6e8fcc6dbb"
      },
      "execution_count": null,
      "outputs": [
        {
          "output_type": "stream",
          "name": "stdout",
          "text": [
            "Dhiru will pay the bill\n"
          ]
        }
      ]
    },
    {
      "cell_type": "code",
      "source": [
        "# Treasure Map\n",
        "list1=[\"_\",\"_\",\"_\"]\n",
        "list2=[\"_\",\"_\",\"_\"]\n",
        "list3=[\"_\",\"_\",\"_\"]\n",
        "\n",
        "nested_list=[list1,list2,list3]\n",
        "position=input()\n",
        "letter=position[0].lower()\n",
        "li=[\"a\",\"b\",\"c\"]\n",
        "idx1=li.index(letter)\n",
        "idx2=int(position[1])-1\n",
        "nested_list[idx1][idx2]=\"X\"\n",
        "print(nested_list)"
      ],
      "metadata": {
        "colab": {
          "base_uri": "https://localhost:8080/"
        },
        "id": "jxoUk0cipCIt",
        "outputId": "cdbd6271-58e1-429c-ec1b-8564710cd68c"
      },
      "execution_count": null,
      "outputs": [
        {
          "output_type": "stream",
          "name": "stdout",
          "text": [
            "C3\n",
            "[['_', '_', '_'], ['_', '_', '_'], ['_', '_', 'X']]\n"
          ]
        }
      ]
    },
    {
      "cell_type": "code",
      "source": [
        "# Day 4 project\n",
        "# Rock\n",
        "rock='''\n",
        "    ______\n",
        "---'   ___)\n",
        "      (____)\n",
        "      (_____)\n",
        "      (____)\n",
        "---.__(___)\n",
        "'''\n",
        "\n",
        "# Paper\n",
        "paper='''\n",
        "     _______\n",
        "---'    ____)____\n",
        "           ______)\n",
        "          _______)\n",
        "         _______)\n",
        "---.__________)\n",
        "'''\n",
        "\n",
        "# Scissors\n",
        "scissors='''\n",
        "    _______\n",
        "---'   ____)____\n",
        "          ______)\n",
        "       __________)\n",
        "      (____)\n",
        "---.__(___)\n",
        "'''\n",
        "\n",
        "user_input=int(input(\"Press 1 for rock, 2 for paper, 3 for scissors: \"))\n",
        "com_input=random.randint(1,3)\n",
        "if user_input==com_input:\n",
        "  print(\"Draw\")\n",
        "if user_input==1:\n",
        "  if com_input==2:\n",
        "    print(f\"User: {rock} \\n Com: {paper} \\n Com won the bet\")\n",
        "  else:\n",
        "    print(f\"User: {rock} \\n Com: {scissors} \\n User won the bet\")\n",
        "elif user_input==2:\n",
        "  if com_input==1:\n",
        "    print(f\"User: {paper} \\n Com: {scissors} \\n Com won the bet\")\n",
        "  else:\n",
        "    print(f\"User: {paper} \\n Com: {rock} \\n User won the bet\")\n",
        "else:\n",
        "  if com_input==1:\n",
        "    print(f\"User: {scissors} \\n Com: {rock} \\n Com won the bet\")\n",
        "  else:\n",
        "    print(f\"User: {scissors} \\n Com {paper} \\n User won the bet\")\n",
        "\n",
        "\n"
      ],
      "metadata": {
        "colab": {
          "base_uri": "https://localhost:8080/"
        },
        "id": "uOEc08Y4urs0",
        "outputId": "365c9da4-2ce2-4cf2-d2fd-c73a4e7cec78"
      },
      "execution_count": null,
      "outputs": [
        {
          "output_type": "stream",
          "name": "stdout",
          "text": [
            "Press 1 for rock, 2 for paper, 3 for scissors: 1\n",
            "User: \n",
            "    ______\n",
            "---'   ___)\n",
            "      (____)\n",
            "      (_____)\n",
            "      (____)\n",
            "---.__(___)\n",
            " \n",
            " Com: \n",
            "    _______\n",
            "---'   ____)____\n",
            "          ______)\n",
            "       __________)\n",
            "      (____)\n",
            "---.__(___)\n",
            " \n",
            " User won the bet\n"
          ]
        }
      ]
    },
    {
      "cell_type": "markdown",
      "source": [
        "# Day 5"
      ],
      "metadata": {
        "id": "C5hDUjly1mdu"
      }
    },
    {
      "cell_type": "code",
      "source": [
        "# for loop in python\n",
        "fruits=[\"apples\",\"mangoes\",\"banana\",\"kiwi\",\"coconut\",\"orange\"]\n",
        "for i in fruits:\n",
        "  print(i,\"\\t\")"
      ],
      "metadata": {
        "colab": {
          "base_uri": "https://localhost:8080/"
        },
        "id": "H9qQOe1r1sCz",
        "outputId": "dc242092-3e9c-464a-9287-3d0e76f68d03"
      },
      "execution_count": null,
      "outputs": [
        {
          "output_type": "stream",
          "name": "stdout",
          "text": [
            "apples \t\n",
            "mangoes \t\n",
            "banana \t\n",
            "kiwi \t\n",
            "coconut \t\n",
            "orange \t\n"
          ]
        }
      ]
    },
    {
      "cell_type": "code",
      "source": [
        "# Average Height\n",
        "list=[145,167,200,190,170]\n",
        "size=len(list)\n",
        "sum=0\n",
        "for i in list:\n",
        "  sum+=i\n",
        "print(f\"Total height: {sum}\")\n",
        "print(f\"No of Students: {size}\")\n",
        "print(f\"Average of heights: {sum/size}\")"
      ],
      "metadata": {
        "colab": {
          "base_uri": "https://localhost:8080/"
        },
        "id": "29C-6nBn4RdN",
        "outputId": "de370a5d-242e-4555-8faf-18f22f792d85"
      },
      "execution_count": null,
      "outputs": [
        {
          "output_type": "stream",
          "name": "stdout",
          "text": [
            "Total height: 872\n",
            "No of Students: 5\n",
            "Average of heights: 174.4\n"
          ]
        }
      ]
    },
    {
      "cell_type": "code",
      "source": [
        "# Highest Score\n",
        "marks_list=[78,69,90,78,95,56]\n",
        "high=0\n",
        "for i in marks_list:\n",
        "  if i>high:\n",
        "    high=i\n",
        "print(f\"Highest marks: {high}\")"
      ],
      "metadata": {
        "colab": {
          "base_uri": "https://localhost:8080/"
        },
        "id": "TfeUmlA56U3c",
        "outputId": "968b8835-c753-4861-eb11-09642cf38c50"
      },
      "execution_count": null,
      "outputs": [
        {
          "output_type": "stream",
          "name": "stdout",
          "text": [
            "Highest marks: 95\n"
          ]
        }
      ]
    },
    {
      "cell_type": "code",
      "source": [
        "# range in for loop\n",
        "for i in range(0,10):\n",
        "  print(i) # it will not print 10 just like (i<10) works\n",
        "\n",
        "# Adding even number between 1 to 100\n",
        "sum=0\n",
        "for i in range(1,101):\n",
        "  if i%2==0:\n",
        "    sum+=i\n",
        "print(sum)\n",
        "\n",
        "# second way\n",
        "even_sum=0\n",
        "for i in range(0,101,2):\n",
        "  even_sum+=i\n",
        "print(even_sum)"
      ],
      "metadata": {
        "colab": {
          "base_uri": "https://localhost:8080/"
        },
        "id": "VGC7fzGBAeUC",
        "outputId": "a63fad92-8218-48bd-8ab4-70e500bafe46"
      },
      "execution_count": null,
      "outputs": [
        {
          "output_type": "stream",
          "name": "stdout",
          "text": [
            "0\n",
            "1\n",
            "2\n",
            "3\n",
            "4\n",
            "5\n",
            "6\n",
            "7\n",
            "8\n",
            "9\n",
            "2550\n",
            "2550\n"
          ]
        }
      ]
    },
    {
      "cell_type": "code",
      "source": [
        "# FizzBuzz game\n",
        "for i in range(0,101):\n",
        "  if i%3==0:\n",
        "    print(\"Fizz\")\n",
        "  elif i%5==0:\n",
        "    print(\"Buzz\")\n",
        "  elif i%3==0 and i%5==0:\n",
        "    print(\"FizzBuzz\")\n",
        "  else:\n",
        "    print(i)"
      ],
      "metadata": {
        "colab": {
          "base_uri": "https://localhost:8080/"
        },
        "id": "QEPatdmd4FR7",
        "outputId": "728a83d2-567d-4425-b517-0df39b645a87"
      },
      "execution_count": null,
      "outputs": [
        {
          "output_type": "stream",
          "name": "stdout",
          "text": [
            "Fizz\n",
            "1\n",
            "2\n",
            "Fizz\n",
            "4\n",
            "Buzz\n",
            "Fizz\n",
            "7\n",
            "8\n",
            "Fizz\n",
            "Buzz\n",
            "11\n",
            "Fizz\n",
            "13\n",
            "14\n",
            "Fizz\n",
            "16\n",
            "17\n",
            "Fizz\n",
            "19\n",
            "Buzz\n",
            "Fizz\n",
            "22\n",
            "23\n",
            "Fizz\n",
            "Buzz\n",
            "26\n",
            "Fizz\n",
            "28\n",
            "29\n",
            "Fizz\n",
            "31\n",
            "32\n",
            "Fizz\n",
            "34\n",
            "Buzz\n",
            "Fizz\n",
            "37\n",
            "38\n",
            "Fizz\n",
            "Buzz\n",
            "41\n",
            "Fizz\n",
            "43\n",
            "44\n",
            "Fizz\n",
            "46\n",
            "47\n",
            "Fizz\n",
            "49\n",
            "Buzz\n",
            "Fizz\n",
            "52\n",
            "53\n",
            "Fizz\n",
            "Buzz\n",
            "56\n",
            "Fizz\n",
            "58\n",
            "59\n",
            "Fizz\n",
            "61\n",
            "62\n",
            "Fizz\n",
            "64\n",
            "Buzz\n",
            "Fizz\n",
            "67\n",
            "68\n",
            "Fizz\n",
            "Buzz\n",
            "71\n",
            "Fizz\n",
            "73\n",
            "74\n",
            "Fizz\n",
            "76\n",
            "77\n",
            "Fizz\n",
            "79\n",
            "Buzz\n",
            "Fizz\n",
            "82\n",
            "83\n",
            "Fizz\n",
            "Buzz\n",
            "86\n",
            "Fizz\n",
            "88\n",
            "89\n",
            "Fizz\n",
            "91\n",
            "92\n",
            "Fizz\n",
            "94\n",
            "Buzz\n",
            "Fizz\n",
            "97\n",
            "98\n",
            "Fizz\n",
            "Buzz\n"
          ]
        }
      ]
    },
    {
      "cell_type": "code",
      "source": [
        "#Day 5 Project.\n",
        "# Password Generator Project.\n",
        "import random\n",
        "letters = ['a', 'b', 'c', 'd', 'e', 'f', 'g', 'h', 'i', 'j', 'k', 'l', 'm', 'n', 'o', 'p', 'q', 'r', 's', 't', 'u', 'v', 'w', 'x', 'y', 'z', 'A', 'B', 'C', 'D', 'E', 'F', 'G', 'H', 'I', 'J', 'K', 'L', 'M', 'N', 'O', 'P', 'Q', 'R', 'S', 'T', 'U', 'V', 'W', 'X', 'Y', 'Z']\n",
        "numbers = ['0', '1', '2', '3', '4', '5', '6', '7', '8', '9']\n",
        "symbols = ['!', '#', '$', '%', '&', '(', ')', '*', '+']\n",
        "\n",
        "print(\"Welcome to the PyPassword Generator!\")\n",
        "nr_letters = int(input(\"How many letters would you like in your password?\\n\"))\n",
        "nr_symbols = int(input(f\"How many symbols would you like?\\n\"))\n",
        "nr_numbers = int(input(f\"How many numbers would you like?\\n\"))\n",
        "\n",
        "\n",
        "# Easy Level\n",
        "# password=\"\"\n",
        "# for i in range(0,nr_letters):\n",
        "#   password+=str(letters[random.randint(0,len(letters))])\n",
        "# for i in range(0,nr_symbols):\n",
        "#   password+=str(numbers[random.randint(0,len(numbers))])\n",
        "# for i in range(0,nr_numbers):\n",
        "#   password+=str(symbols[random.randint(0,len(symbols))])\n",
        "# print(password)\n",
        "\n",
        "# Hard level\n",
        "password_gen=[]\n",
        "for i in range(0,nr_letters):\n",
        "  password_gen+=random.choice(letters)\n",
        "for i in range(0,nr_symbols):\n",
        "  password_gen+=random.choice(symbols)\n",
        "for i in range(0,nr_numbers):\n",
        "  password_gen+=random.choice(numbers)\n",
        "random.shuffle(password_gen)\n",
        "pass_key=\"\"\n",
        "for i in password_gen:\n",
        "  pass_key+=i\n",
        "print(pass_key)\n"
      ],
      "metadata": {
        "colab": {
          "base_uri": "https://localhost:8080/"
        },
        "id": "xCvvCAOj8IMY",
        "outputId": "7a3a11c8-69bc-41a4-9a3d-103b70d9559a"
      },
      "execution_count": null,
      "outputs": [
        {
          "output_type": "stream",
          "name": "stdout",
          "text": [
            "Welcome to the PyPassword Generator!\n",
            "How many letters would you like in your password?\n",
            "12\n",
            "How many symbols would you like?\n",
            "3\n",
            "How many numbers would you like?\n",
            "5\n",
            "s$nplyk4#8R2gDM5P*6l\n"
          ]
        }
      ]
    },
    {
      "cell_type": "markdown",
      "source": [
        "# Day 6"
      ],
      "metadata": {
        "id": "WinuLuV3QFRz"
      }
    },
    {
      "cell_type": "code",
      "source": [
        "# Defining and Calling a function\n",
        "def my_function():\n",
        "  print(\"I am MKJ\")\n",
        "my_function() #calling the function\n",
        "\n",
        "def addition(a,b):\n",
        "  print(a+b)\n",
        "addition(3,5)"
      ],
      "metadata": {
        "colab": {
          "base_uri": "https://localhost:8080/"
        },
        "id": "AnC9BL92QJhs",
        "outputId": "f4b1d04b-eb56-4de1-87b8-f319a0e22cb9"
      },
      "execution_count": null,
      "outputs": [
        {
          "output_type": "stream",
          "name": "stdout",
          "text": [
            "I am MKJ\n",
            "8\n"
          ]
        }
      ]
    },
    {
      "cell_type": "code",
      "source": [
        "# Practice Function\n",
        "def turn_around():\n",
        "    turn_left()\n",
        "    turn_left()\n",
        "def turn_right():\n",
        "    turn_left()\n",
        "    turn_left()\n",
        "    turn_left()\n",
        "turn_left()\n",
        "move()\n",
        "move()\n",
        "turn_right()\n",
        "move()\n",
        "move()\n",
        "turn_right()\n",
        "move()\n",
        "move()\n",
        "turn_right()\n",
        "move()\n",
        "move()"
      ],
      "metadata": {
        "id": "hI61KMpSQrnf"
      },
      "execution_count": null,
      "outputs": []
    },
    {
      "cell_type": "code",
      "source": [
        "# Hurdles game 1\n",
        "def turn_right():\n",
        "    turn_left()\n",
        "    turn_left()\n",
        "    turn_left()\n",
        "def hurdles():\n",
        "    move()\n",
        "    turn_left()\n",
        "    move()\n",
        "    turn_right()\n",
        "    move()\n",
        "    turn_right()\n",
        "    move()\n",
        "    turn_left()\n",
        "# for i in range(0,6):\n",
        "#     hurdles()\n",
        "\n",
        "# Using While loop\n",
        "while i<6:\n",
        "  hurdles()\n",
        "  i+=1\n",
        "\n",
        "# Hurdles game 2\n",
        "def turn_right():\n",
        "    turn_left()\n",
        "    turn_left()\n",
        "    turn_left()\n",
        "def hurdles():\n",
        "    move()\n",
        "    turn_left()\n",
        "    move()\n",
        "    turn_right()\n",
        "    move()\n",
        "    turn_right()\n",
        "    move()\n",
        "    turn_left()\n",
        "i=0\n",
        "while at_goal()!=True:\n",
        "  hurdles()\n",
        "\n",
        "# Hurdles game 3\n",
        "def turn_right():\n",
        "    turn_left()\n",
        "    turn_left()\n",
        "    turn_left()\n",
        "def hurdles():\n",
        "    turn_left()\n",
        "    move()\n",
        "    turn_right()\n",
        "    move()\n",
        "    turn_right()\n",
        "    move()\n",
        "    turn_left()\n",
        "\n",
        "\n",
        "while not at_goal():\n",
        "    if wall_in_front():\n",
        "        hurdles()\n",
        "    else:\n",
        "        move()\n",
        "\n",
        "\n",
        "# Hurdles game 4\n",
        "def turn_right():\n",
        "    turn_left()\n",
        "    turn_left()\n",
        "    turn_left()\n",
        "def hurdles():\n",
        "    turn_left()\n",
        "    while not wall_in_front() and not right_is_clear():\n",
        "        move()\n",
        "    turn_right()\n",
        "    move()\n",
        "    turn_right()\n",
        "    while not wall_in_front():\n",
        "        move()\n",
        "    turn_left()\n",
        "\n",
        "while not at_goal():\n",
        "    if wall_in_front():\n",
        "        hurdles()\n",
        "    elif not front_is_clear():\n",
        "        turn_left()\n",
        "    else:\n",
        "        move()\n"
      ],
      "metadata": {
        "id": "LaVvi0IdSJCc"
      },
      "execution_count": null,
      "outputs": []
    },
    {
      "cell_type": "code",
      "source": [
        "# Day 6 project\n",
        "def turn_right():\n",
        "    turn_left()\n",
        "    turn_left()\n",
        "    turn_left()\n",
        "\n",
        "while front_is_clear():\n",
        "    move()\n",
        "turn_left()\n",
        "\n",
        "while not at_goal():\n",
        "    if right_is_clear():\n",
        "        turn_right()\n",
        "        move()\n",
        "    elif front_is_clear():\n",
        "        move()\n",
        "    else:\n",
        "        turn_left()"
      ],
      "metadata": {
        "id": "xlUIjkejP_1w"
      },
      "execution_count": null,
      "outputs": []
    },
    {
      "cell_type": "markdown",
      "source": [
        "# Day 7"
      ],
      "metadata": {
        "id": "pU4J53XdVODV"
      }
    },
    {
      "cell_type": "code",
      "source": [
        "# Picking a random words\n",
        "import random\n",
        "list=[\"mahesh\",\"Prateek\",\"Tej\",\"Saket\",\"Sunny\"]\n",
        "guess=random.choice(list)\n",
        "letter=input(\"Enter the word: \")\n",
        "for i in guess:\n",
        "  if letter in i:\n",
        "    print(\"Right\")\n",
        "  else:\n",
        "    print(\"Wrong\")"
      ],
      "metadata": {
        "colab": {
          "base_uri": "https://localhost:8080/"
        },
        "id": "FO3af9QxVSZf",
        "outputId": "a7303557-9c0d-4c2b-eaa4-899ecb97c556"
      },
      "execution_count": null,
      "outputs": [
        {
          "output_type": "stream",
          "name": "stdout",
          "text": [
            "Enter the word: a\n",
            "Wrong\n",
            "Right\n",
            "Wrong\n",
            "Wrong\n",
            "Wrong\n",
            "Wrong\n"
          ]
        }
      ]
    },
    {
      "cell_type": "code",
      "source": [
        "# Replace the blank with chosen letter\n",
        "list=[\"mahesh\",\"Prateek\",\"Tej\",\"Saket\",\"Sunny\"]\n",
        "guess=random.choice(list)\n",
        "display=[]\n",
        "word_length=len(guess)\n",
        "for i in range(word_length):\n",
        "  display+=\"_\"\n",
        "print(display)\n",
        "letter=input(\"Enter the letter:  \")\n",
        "\n",
        "for i in range(word_length):\n",
        "  if letter==guess[i]:\n",
        "    display[i]=letter\n",
        "\n",
        "print(display)"
      ],
      "metadata": {
        "colab": {
          "base_uri": "https://localhost:8080/"
        },
        "id": "rsDTWiktab9i",
        "outputId": "50df0eb7-646e-49c4-d5c2-00627eecdf51"
      },
      "execution_count": null,
      "outputs": [
        {
          "output_type": "stream",
          "name": "stdout",
          "text": [
            "['_', '_', '_']\n",
            "Enter the lettere\n",
            "['_', 'e', '_']\n"
          ]
        }
      ]
    },
    {
      "cell_type": "code",
      "source": [
        "from IPython.display import clear_output\n",
        "HANGMAN_PICS = ['''\n",
        "  +---+\n",
        "      |\n",
        "      |\n",
        "      |\n",
        "     ===''', '''\n",
        "  +---+\n",
        "  O   |\n",
        "      |\n",
        "      |\n",
        "     ===''', '''\n",
        "  +---+\n",
        "  O   |\n",
        "  |   |\n",
        "      |\n",
        "     ===''', '''\n",
        "  +---+\n",
        "  O   |\n",
        " /|   |\n",
        "      |\n",
        "     ===''', '''\n",
        "  +---+\n",
        "  O   |\n",
        " /|\\  |\n",
        "      |\n",
        "     ===''', '''\n",
        "  +---+\n",
        "  O   |\n",
        " /|\\  |\n",
        " /    |\n",
        "     ===''', '''\n",
        "  +---+\n",
        "  O   |\n",
        " /|\\  |\n",
        " / \\  |\n",
        "     ===''']\n",
        "\n",
        "\n",
        "hangman_len=len(HANGMAN_PICS)\n",
        "list=[\"mahesh\",\"prateek\",\"tej\",\"saket\",\"sunny\"]\n",
        "guess=random.choice(list)\n",
        "print(guess)\n",
        "display=[]\n",
        "word_length=len(guess)\n",
        "for i in range(word_length):\n",
        "  display+=\"_\"\n",
        "\n",
        "chance=0\n",
        "at_goal=False\n",
        "while not at_goal:\n",
        "  letter=input(\"Enter the letter: \").lower()\n",
        "  clear_output()\n",
        "  if \"_\" not in display:\n",
        "      at_goal=True\n",
        "      print(\"You win\")\n",
        "  if letter in display:\n",
        "    print(display)\n",
        "    print(\"You have already chosen the letter\")\n",
        "  elif letter not in guess :\n",
        "    print(f\"You have chosen the wrong letter{letter}, you lose a chance\")\n",
        "    print(HANGMAN_PICS[chance])\n",
        "    chance+=1\n",
        "    if chance==hangman_len:\n",
        "      at_goal=True\n",
        "      print(\"You Lose\")\n",
        "  for i in range(word_length):\n",
        "    if letter==guess[i]:\n",
        "      display[i]=letter\n",
        "\n",
        "\n"
      ],
      "metadata": {
        "colab": {
          "base_uri": "https://localhost:8080/"
        },
        "id": "Y_UHcpjPllFL",
        "outputId": "1d338c8c-24f2-4118-be70-0c9386d8ae45"
      },
      "execution_count": null,
      "outputs": [
        {
          "output_type": "stream",
          "name": "stdout",
          "text": [
            "You have chosen the wrong letterc, you lose a chance\n",
            "\n",
            "  +---+\n",
            "  O   |\n",
            " /|\\  |\n",
            " / \\  |\n",
            "     ===\n",
            "You Lose\n"
          ]
        }
      ]
    },
    {
      "cell_type": "markdown",
      "source": [
        "# Day 8"
      ],
      "metadata": {
        "id": "GHqbMEiqE1ir"
      }
    },
    {
      "cell_type": "code",
      "source": [
        "def greet():\n",
        "  print(\"Hello\")\n",
        "greet()"
      ],
      "metadata": {
        "colab": {
          "base_uri": "https://localhost:8080/"
        },
        "id": "GbIzPRRkE4Rv",
        "outputId": "870ec1cb-c311-4e49-cc67-e67913bc7bc8"
      },
      "execution_count": null,
      "outputs": [
        {
          "output_type": "stream",
          "name": "stdout",
          "text": [
            "Hello\n"
          ]
        }
      ]
    },
    {
      "cell_type": "code",
      "source": [
        "# function with input\n",
        "def my_name(name):\n",
        "  print(f\"Hello i am {name}\")\n",
        "my_name(\"Mahesh\")"
      ],
      "metadata": {
        "colab": {
          "base_uri": "https://localhost:8080/"
        },
        "id": "-XX1gGEvGWOz",
        "outputId": "d3d94b4e-4584-4a35-ed84-0152d66545c4"
      },
      "execution_count": null,
      "outputs": [
        {
          "output_type": "stream",
          "name": "stdout",
          "text": [
            "Hello i am Mahesh\n"
          ]
        }
      ]
    },
    {
      "cell_type": "code",
      "source": [
        "# function with multiple input\n",
        "def my_name(name,location):\n",
        "  print(f\"Hello i am {name} from {location}\")\n",
        "my_name(\"Mahesh\",\"India\")\n",
        "\n",
        "# interchange the value\n",
        "def my_name(name,location):\n",
        "  print(f\"Hello i am {name} from {location}\")\n",
        "my_name(\"India\",\"Mahesh\")\n",
        "\n",
        "# same for variable assignment\n",
        "def my_function(a,b,c):\n",
        "  print(f\"The values are {a}, {b}, {c}\")\n",
        "\n",
        "my_function(a=1,b=2,c=3)\n",
        "\n",
        "# now interchanging the place\n",
        "def my_function(a,b,c):\n",
        "  print(f\"The values are {a}, {b}, {c}\")\n",
        "\n",
        "my_function(c=3,a=1,b=2)"
      ],
      "metadata": {
        "colab": {
          "base_uri": "https://localhost:8080/"
        },
        "id": "V2Iy3RW-HLfZ",
        "outputId": "71a8d8e6-b6c9-463c-875c-99badebb63ce"
      },
      "execution_count": null,
      "outputs": [
        {
          "output_type": "stream",
          "name": "stdout",
          "text": [
            "Hello i am Mahesh from India\n",
            "Hello i am India from Mahesh\n",
            "The values are 1, 2, 3\n",
            "The values are 1, 2, 3\n"
          ]
        }
      ]
    },
    {
      "cell_type": "code",
      "source": [
        "# Paint area calculator\n",
        "def paint_code(height,width,cover):\n",
        "  cal=round((height*width)/cover) #we can also use math.ceil to round up\n",
        "  print(cal)\n",
        "\n",
        "test_h=int(input(\"Enter the height: \"))\n",
        "test_w=int(input(\"Enter the width: \"))\n",
        "coverage=5\n",
        "\n",
        "paint_code(test_h,test_w,coverage)"
      ],
      "metadata": {
        "colab": {
          "base_uri": "https://localhost:8080/"
        },
        "id": "4XDKg688KyZu",
        "outputId": "f0cc5e89-8c44-40e9-e908-9de8d45865b2"
      },
      "execution_count": null,
      "outputs": [
        {
          "output_type": "stream",
          "name": "stdout",
          "text": [
            "Enter the height: 2\n",
            "Enter the width: 4\n",
            "2\n"
          ]
        }
      ]
    },
    {
      "cell_type": "code",
      "source": [
        "# to check the number is prime number or not\n",
        "import math\n",
        "def prime_num(number):\n",
        "  count=0\n",
        "  for i in range(1,number+1):\n",
        "    if number%i==0:\n",
        "      count+=1\n",
        "  if count>2:\n",
        "    print(f\"{number} is not a prime number\")\n",
        "  else:\n",
        "    print(f\"{number} is a prime number\")\n",
        "\n",
        "prime_num(17)\n",
        "\n",
        "# Another way\n",
        "def prime_num(number):\n",
        "  is_prime=True\n",
        "  for i in range(2,number):\n",
        "    if number%i==0:\n",
        "      is_prime=False\n",
        "  if not is_prime:\n",
        "    print(f\"{number} is not a prime number\")\n",
        "  else:\n",
        "    print(f\"{number} is a prime number\")\n",
        "prime_num(34)"
      ],
      "metadata": {
        "colab": {
          "base_uri": "https://localhost:8080/"
        },
        "id": "T_0vv4XNMpxB",
        "outputId": "d973f55a-5982-454f-98d7-9bd4d2ef1d14"
      },
      "execution_count": null,
      "outputs": [
        {
          "output_type": "stream",
          "name": "stdout",
          "text": [
            "17 is a prime number\n",
            "34 is not a prime number\n"
          ]
        }
      ]
    },
    {
      "cell_type": "code",
      "source": [
        "# Caesar Cipher game\n",
        "letters = ['a', 'b', 'c', 'd', 'e', 'f', 'g', 'h', 'i', 'j', 'k', 'l', 'm', 'n', 'o', 'p', 'q', 'r', 's', 't', 'u', 'v', 'w', 'x', 'y', 'z']\n",
        "direction=input(\"Enter if you want to encode or decode the code\")\n",
        "text=input(\"Enter the message\\n\").lower()\n",
        "shift=int(input(\"Enter the number of shift: \"))\n",
        "\n",
        "def encrypt(plain_text,shift_amt):\n",
        "  encrypt_result=\"\"\n",
        "  for i in plain_text:\n",
        "    x=letters.index(i)\n",
        "    if x+shift_amt>25:\n",
        "      x=(x+shift_amt)-26\n",
        "    else:\n",
        "      x=x+shift_amt\n",
        "    encrypt_result+=letters[x]\n",
        "  print(encrypt_result)\n",
        "\n",
        "def decrypt(plain_text,shift_amt):\n",
        "  decrypt_result=\"\"\n",
        "  for i in plain_text:\n",
        "    x=letters.index(i)\n",
        "    if x-shift_amt<0:\n",
        "      x=(x-shift_amt)+26\n",
        "    else:\n",
        "      x=x-shift_amt\n",
        "    decrypt_result+=letters[x]\n",
        "  print(decrypt_result)\n",
        "if direction==\"encode\":\n",
        "  encrypt(text,shift)\n",
        "else:\n",
        "  decrypt(text,shift)\n",
        "# rfmjxm"
      ],
      "metadata": {
        "colab": {
          "base_uri": "https://localhost:8080/"
        },
        "id": "19muhJQzTEFT",
        "outputId": "23ba6b76-aeb6-4e6c-aaf0-3c3ce83d9214"
      },
      "execution_count": null,
      "outputs": [
        {
          "output_type": "stream",
          "name": "stdout",
          "text": [
            "Enter if you want to encode or decode the codedecode\n",
            "Enter the message\n",
            "rfmjxm\n",
            "Enter the number of shift: 5\n",
            "mahesh\n"
          ]
        }
      ]
    },
    {
      "cell_type": "code",
      "source": [
        "# Putting all in one function\n",
        "mkj_logo = '''\n",
        "*   *  *   *  ***\n",
        "** **  *  *    *\n",
        "* * *  * *     *\n",
        "*   *  *  *  * *\n",
        "*   *  *   *  **\n",
        "'''\n",
        "print(mkj_logo)\n",
        "def caesar():\n",
        "  letters = ['a', 'b', 'c', 'd', 'e', 'f', 'g', 'h', 'i', 'j', 'k', 'l', 'm', 'n', 'o', 'p', 'q', 'r', 's', 't', 'u', 'v', 'w', 'x', 'y', 'z']\n",
        "  direction=input(\"Enter if you want to encode or decode the code: \").lower()\n",
        "  plain_text=input(\"Enter the message\\n\").lower()\n",
        "  shift_amt=int(input(\"Enter the number of shift: \"))\n",
        "  result=\"\"\n",
        "\n",
        "  if direction==\"encode\":\n",
        "    for i in plain_text:\n",
        "      x=letters.index(i)\n",
        "      if x+shift_amt>25:\n",
        "        x=(x+shift_amt)-26\n",
        "      else:\n",
        "        x=x+shift_amt\n",
        "      result+=letters[x]\n",
        "  else:\n",
        "    for i in plain_text:\n",
        "      x=letters.index(i)\n",
        "      if x-shift_amt<0:\n",
        "        x=(x-shift_amt)+26\n",
        "      else:\n",
        "        x=x-shift_amt\n",
        "      result+=letters[x]\n",
        "\n",
        "  print(result)\n",
        "  restart=input(\"Do you want to restart the game (Y/N): \").upper()\n",
        "  if restart=='Y':\n",
        "    caesar()\n",
        "\n",
        "caesar()"
      ],
      "metadata": {
        "colab": {
          "base_uri": "https://localhost:8080/"
        },
        "id": "a-47CNgOdAbH",
        "outputId": "8a29c6b7-0f2d-4029-f1e8-d45ba4903c5d"
      },
      "execution_count": null,
      "outputs": [
        {
          "name": "stdout",
          "output_type": "stream",
          "text": [
            "\n",
            "*   *  *   *  ***\n",
            "** **  *  *    * \n",
            "* * *  * *     * \n",
            "*   *  *  *  * * \n",
            "*   *  *   *  ** \n",
            "\n",
            "Enter if you want to encode or decode the code: encode\n",
            "Enter the message\n",
            "mahesh\n",
            "Enter the number of shift: 5\n",
            "rfmjxm\n",
            "Do you want to restart the game (Y/N): y\n",
            "Enter if you want to encode or decode the code: decode\n",
            "Enter the message\n",
            "rfmjxm\n",
            "Enter the number of shift: 5\n",
            "mahesh\n",
            "Do you want to restart the game (Y/N): n\n"
          ]
        }
      ]
    },
    {
      "cell_type": "markdown",
      "source": [
        "# Day 9"
      ],
      "metadata": {
        "id": "QY6HfOheSAlB"
      }
    },
    {
      "cell_type": "code",
      "source": [
        "# Dictionaries in Python\n",
        "dict={\"Bug\":\"An error\",\n",
        "      123:\"a piece of code in it\",\n",
        "      \"loop\":\"a continious running code\"}\n",
        "print(dict[\"loop\"]) #we have to declare in the same data type as we define in the dictionary\n",
        "print(dict[123])"
      ],
      "metadata": {
        "colab": {
          "base_uri": "https://localhost:8080/"
        },
        "id": "HS2xW-6-SC_i",
        "outputId": "6c1c8b2b-ed78-4e6c-9c56-49e951261783"
      },
      "execution_count": null,
      "outputs": [
        {
          "output_type": "stream",
          "name": "stdout",
          "text": [
            "a continious running code\n",
            "a piece of code in it\n"
          ]
        }
      ]
    },
    {
      "cell_type": "code",
      "source": [
        "# Adding new element to dictionary\n",
        "dict[\"mkj\"]=\"Mahesh Kr. Jaiswal\"\n",
        "print(dict)"
      ],
      "metadata": {
        "colab": {
          "base_uri": "https://localhost:8080/"
        },
        "id": "9SC4vb6zEvxp",
        "outputId": "d5f40d98-fb5f-4ecb-948d-c7fdb8e667f5"
      },
      "execution_count": null,
      "outputs": [
        {
          "output_type": "stream",
          "name": "stdout",
          "text": [
            "{'Bug': 'An error', 123: 'a piece of code in it', 'loop': 'a continious running code', 'mkj': 'Mahesh Kr. Jaiswal'}\n"
          ]
        }
      ]
    },
    {
      "cell_type": "code",
      "source": [
        "# empty the dictionary or changing the value of the key\n",
        "dict[\"Bug\"]=\"A big mistake\"\n",
        "print(dict)\n",
        "\n",
        "# dict={} // it will wipe all the data in the dictionary and redefine it\n",
        "# if the key is not there in the dictionary it will add it as a new key in the dictionary\n"
      ],
      "metadata": {
        "colab": {
          "base_uri": "https://localhost:8080/"
        },
        "id": "Ni5fBfwRJImp",
        "outputId": "5a630cea-4fe8-47ba-d1cd-270e965b86df"
      },
      "execution_count": null,
      "outputs": [
        {
          "output_type": "stream",
          "name": "stdout",
          "text": [
            "{'Bug': 'A big mistake', 123: 'a piece of code in it', 'loop': 'a continious running code', 'mkj': 'Mahesh Kr. Jaiswal'}\n"
          ]
        }
      ]
    },
    {
      "cell_type": "code",
      "source": [
        "# Iterating through the dictionary using for loop\n",
        "for key in dict:\n",
        "  print(key) #it will print the key present in the dictionary\n",
        "\n",
        "  print(dict[key]) # it will print the value of that key"
      ],
      "metadata": {
        "id": "bxbB6RayJy7-"
      },
      "execution_count": null,
      "outputs": []
    },
    {
      "cell_type": "code",
      "source": [
        "# Grade Program\n",
        "marks_dict={\"ram\":45,\"Shyam\":95,\"mkj\":87,\"tej\":77}\n",
        "\n",
        "grade_dict={}\n",
        "\n",
        "for key in marks_dict:\n",
        "  if marks_dict[key] > 90:\n",
        "    grade_dict[key]=\"Outstanding\"\n",
        "  elif marks_dict[key]>80:\n",
        "    grade_dict[key]=\"Exceeds Expectation\"\n",
        "  elif marks_dict[key]>70:\n",
        "    grade_dict[key]=\"Acceptable\"\n",
        "  else:\n",
        "    grade_dict[key]=\"fail\"\n",
        "\n",
        "print(grade_dict)"
      ],
      "metadata": {
        "colab": {
          "base_uri": "https://localhost:8080/"
        },
        "id": "K30JkCSxKksb",
        "outputId": "1a58d50e-25d4-44d4-b47f-e59044804446"
      },
      "execution_count": null,
      "outputs": [
        {
          "output_type": "stream",
          "name": "stdout",
          "text": [
            "{'ram': 'fail', 'Shyam': 'Outstanding', 'mkj': 'Exceeds Expectation', 'tej': 'Acceptable'}\n"
          ]
        }
      ]
    },
    {
      "cell_type": "code",
      "source": [
        "# Nested list and nested dictionaries\n",
        "\n",
        "# Nested dictionaries in dictionaries\n",
        "nested_list_dict={\"germany\":[\"berlin\",\"hamburg\"],\n",
        "                  \"france\":\"paris\"}\n",
        "\n",
        "nested_dict={\"germany\":{\"germany\":[\"berlin\",\"hamburg\"],\"total_visited\":34},\n",
        "             \"france\":[\"berlin\",\"hamburg\"]}\n",
        "print(nested_list_dict)\n",
        "print(nested_dict)\n",
        "\n",
        "# Nested dictionaries in list\n",
        "nested_list=[{\n",
        "    \"germany\":[\"berlin\",\"hamburg\"],\n",
        "    \"france\":\"paris\"\n",
        "    },\n",
        "     {\n",
        "        \"germany\":[\"berlin\",\"hamburg\"],\n",
        "        \"total_visited\":34\n",
        "        }]\n",
        "print(nested_list)\n",
        "\n",
        "print(nested_list[0])"
      ],
      "metadata": {
        "colab": {
          "base_uri": "https://localhost:8080/"
        },
        "id": "9QQoA9R6O5WB",
        "outputId": "036bd222-f3a1-439e-8676-96867e8501fe"
      },
      "execution_count": null,
      "outputs": [
        {
          "output_type": "stream",
          "name": "stdout",
          "text": [
            "{'germany': ['berlin', 'hamburg'], 'france': 'paris'}\n",
            "{'germany': {'germany': ['berlin', 'hamburg'], 'total_visited': 34}, 'france': ['berlin', 'hamburg']}\n",
            "[{'germany': ['berlin', 'hamburg'], 'france': 'paris'}, {'germany': ['berlin', 'hamburg'], 'total_visited': 34}]\n",
            "{'germany': ['berlin', 'hamburg'], 'france': 'paris'}\n"
          ]
        }
      ]
    },
    {
      "cell_type": "code",
      "source": [
        "from IPython.display import clear_output"
      ],
      "metadata": {
        "id": "N0xDsa8hk66Y"
      },
      "execution_count": null,
      "outputs": []
    },
    {
      "cell_type": "code",
      "source": [
        "# Secret Auction Game\n",
        "logo = '''\n",
        "                         ___________\n",
        "                         \\         /\n",
        "                          )_______(\n",
        "                          |\"\"\"\"\"\"\"|_.-._,.---------.,_.-._\n",
        "                          |       | | |               | | ''-.\n",
        "                          |       |_| |_             _| |_..-'\n",
        "                          |_______| '-' `'---------'` '-'\n",
        "                          )\"\"\"\"\"\"\"(\n",
        "                         /_________\\\n",
        "                      .---------------.\n",
        "                     /_________________\\\n",
        "'''\n",
        "print(logo)\n",
        "bid_dict={}\n",
        "\n",
        "def add_value_dict():\n",
        "  key=input(\"Enter the bidder's name: \")\n",
        "  value=int(input(\"Enter the bid amount: \"))\n",
        "  bid_dict[key]=value\n",
        "\n",
        "\n",
        "def bid_game():\n",
        "  more_bid=True\n",
        "  while more_bid:\n",
        "    add_value_dict()\n",
        "    question=input(\"Do you have any more bid's (Y/N): \").upper()\n",
        "    if question ==\"N\":\n",
        "      more_bid=False\n",
        "    clear_output()\n",
        "  h_bid_name=\"\"\n",
        "  h_bid=0\n",
        "  for key in bid_dict:\n",
        "    if bid_dict[key]>h_bid:\n",
        "      h_bid_name=key\n",
        "      h_bid=bid_dict[key]\n",
        "  print(f\"The highest bid is by {h_bid_name} of ${h_bid}\")\n",
        "\n",
        "bid_game()\n",
        "\n"
      ],
      "metadata": {
        "id": "WW7RtZJjgEvS"
      },
      "execution_count": null,
      "outputs": []
    },
    {
      "cell_type": "markdown",
      "source": [
        "# Day 10"
      ],
      "metadata": {
        "id": "CZjW9I1Qf2Po"
      }
    },
    {
      "cell_type": "code",
      "source": [
        "# Functions with output\n",
        "def format_name(f_name,l_name):\n",
        "  # f=f_name[0].upper()\n",
        "  # l=l_name[0].upper()\n",
        "  # name=f+f_name[1:len(f_name)]+\" \"+l+l_name[1:len(l_name)]\n",
        "  f=f_name.title() # second way is using title() function\n",
        "  l=l_name.title()\n",
        "  name=f+\" \"+l\n",
        "  return name\n",
        "\n",
        "print(format_name(\"mahesh\",\"jaiswal\")) # Mahesh Jaiswal"
      ],
      "metadata": {
        "colab": {
          "base_uri": "https://localhost:8080/"
        },
        "id": "g6lLhu5yf7II",
        "outputId": "8da84983-11dc-451e-c910-f004f48c5e73"
      },
      "execution_count": null,
      "outputs": [
        {
          "output_type": "stream",
          "name": "stdout",
          "text": [
            "Mahesh Jaiswal\n"
          ]
        }
      ]
    },
    {
      "cell_type": "code",
      "source": [
        "# Functions with multiple return value\n",
        "def calc(operator,a,b):\n",
        "  if operator==\"+\":\n",
        "    return a+b\n",
        "  elif operator==\"-\":\n",
        "    return a-b\n",
        "  else:\n",
        "    return \"Invalid input\"\n",
        "op=input(\"Enter the operator: \")\n",
        "value1=int(input(\"Value1: \"))\n",
        "value2=int(input(\"Value2: \"))\n",
        "print(calc(op,value1,value2))"
      ],
      "metadata": {
        "colab": {
          "base_uri": "https://localhost:8080/"
        },
        "id": "HuZ_GVpC8jfF",
        "outputId": "fd25ce74-7dfe-412b-bbac-03c3d9bf11d8"
      },
      "execution_count": null,
      "outputs": [
        {
          "output_type": "stream",
          "name": "stdout",
          "text": [
            "Enter the operator: +\n",
            "Value1: 2\n",
            "Value2: 4\n",
            "6\n"
          ]
        }
      ]
    },
    {
      "cell_type": "code",
      "source": [
        "# Days in Month\n",
        "day_in_month=[31,28,31,30,31,30,31,31,30,31,30,31]\n",
        "\n",
        "def leap_y(year):\n",
        "  if (year%4==0 and year%100!=0) or year%400==0:\n",
        "    return True\n",
        "  else:\n",
        "    return False\n",
        "\n",
        "def days_in_month(year,month):\n",
        "  \"\"\"This is the function to get the no of days in a month\"\"\" #this is a docstring use to keep the information about what function is made for\n",
        "  if leap_y(year) and month==\"2\":\n",
        "    return day_in_month[1]\n",
        "  else:\n",
        "    return day_in_month[month-1]\n",
        "result=days_in_month(2030,5)\n",
        "print(result)\n"
      ],
      "metadata": {
        "colab": {
          "base_uri": "https://localhost:8080/"
        },
        "id": "ATTPkFAnBd44",
        "outputId": "dd5062ee-0e79-4273-ff3e-69a3b48ff93f"
      },
      "execution_count": null,
      "outputs": [
        {
          "output_type": "stream",
          "name": "stdout",
          "text": [
            "31\n"
          ]
        }
      ]
    },
    {
      "cell_type": "code",
      "source": [
        "# Calculator Designing\n",
        "\n",
        "# add\n",
        "def add(a,b):\n",
        "  return a+b\n",
        "\n",
        "# substract\n",
        "def sub(a,b):\n",
        "  return a-b\n",
        "\n",
        "# Multiply\n",
        "def mul(a,b):\n",
        "  return a*b\n",
        "\n",
        "# divide\n",
        "def div(a,b):\n",
        "  return a/b\n",
        "\n",
        "# Definig a dictionaries\n",
        "calc_dict={\"+\":add,\n",
        "           \"-\": sub,\n",
        "            \"*\": mul,\n",
        "            \"/\": div}\n",
        "\n",
        "# num1=int(input(\"Enter the value 1: \"))\n",
        "# num2=int(input(\"Enter the value 2: \"))\n",
        "\n",
        "# for key in calc_dict:\n",
        "#   print(key)\n",
        "# operator=input(\"Choose one of the above operation: \")\n",
        "\n",
        "# ans=calc_dict[operator](num1,num2)\n",
        "# print(f\"{num1} {operator} {num2} is {ans}\")\n",
        "def calculator():\n",
        "  to_continue=True\n",
        "  num1=float(input(\"Enter the value 1: \"))\n",
        "\n",
        "  for key in calc_dict:\n",
        "      print(key)\n",
        "\n",
        "  while to_continue:\n",
        "    operator=input(\"Choose one of the above operation: \")\n",
        "    num2=float(input(\"Enter the value 2: \"))\n",
        "    ans=calc_dict[operator](num1,num2)\n",
        "    print(f\"{num1} {operator} {num2} is {ans}\")\n",
        "    op=input(\"Do you want to continue the calculation or want a new calculation or you want to exit (y/n/e): \").lower()\n",
        "    if op ==\"y\":\n",
        "      num1=ans\n",
        "    elif op==\"e\":\n",
        "      to_continue=False\n",
        "    else:\n",
        "      to_continue=False\n",
        "      calculator()\n",
        "\n",
        "calculator()"
      ],
      "metadata": {
        "id": "jzU6aACSDFOh",
        "colab": {
          "base_uri": "https://localhost:8080/"
        },
        "outputId": "089a9e97-2471-4b59-df33-a8d7f022a0d0"
      },
      "execution_count": null,
      "outputs": [
        {
          "name": "stdout",
          "output_type": "stream",
          "text": [
            "Enter the value 1: 5\n",
            "+\n",
            "-\n",
            "*\n",
            "/\n",
            "Choose one of the above operation: *\n",
            "Enter the value 2: 9\n",
            "5.0 * 9.0 is 45.0\n",
            "Do you want to continue the calculation or want a new calculation or you want to exit (y/n/e): y\n",
            "Choose one of the above operation: -\n",
            "Enter the value 2: 5\n",
            "45.0 - 5.0 is 40.0\n",
            "Do you want to continue the calculation or want a new calculation or you want to exit (y/n/e): n\n",
            "Enter the value 1: 8\n",
            "+\n",
            "-\n",
            "*\n",
            "/\n",
            "Choose one of the above operation: +\n",
            "Enter the value 2: 25\n",
            "8.0 + 25.0 is 33.0\n",
            "Do you want to continue the calculation or want a new calculation or you want to exit (y/n/e): e\n"
          ]
        }
      ]
    },
    {
      "cell_type": "markdown",
      "source": [
        "# Day 11"
      ],
      "metadata": {
        "id": "hX4tfdO-25b6"
      }
    },
    {
      "cell_type": "code",
      "source": [
        "# importing random library\n",
        "import random\n",
        "from IPython.display import clear_output"
      ],
      "metadata": {
        "id": "HpFAos0cafNO"
      },
      "execution_count": 17,
      "outputs": []
    },
    {
      "cell_type": "code",
      "source": [
        "# BlackJack Program\n",
        "cards=[11,2,3,4,5,6,7,8,9,10,10,10,10]\n",
        "\n",
        "still_in_game=True\n",
        "def extra_card():\n",
        "  return random.choice(cards)\n",
        "\n",
        "def blackjack():\n",
        "  user_value_1=random.choice(cards)\n",
        "  user_value_2=random.choice(cards)\n",
        "  com_value_1=random.choice(cards)\n",
        "  com_value_2=random.choice(cards)\n",
        "  # user_value_1=cards[random.randint(0,len(cards)-1)]\n",
        "  # user_value_2=cards[random.randint(0,len(cards)-1)]\n",
        "  # com_value_1=cards[random.randint(0,len(cards)-1)]\n",
        "  # com_value_2=cards[random.randint(0,len(cards)-1)]\n",
        "\n",
        "  user_sum=user_value_1+user_value_2\n",
        "  com_sum=com_value_1+com_value_2\n",
        "\n",
        "  if user_sum==21:\n",
        "    print(\"BlackJack! You win\")\n",
        "    return\n",
        "  # elif com_sum==21:\n",
        "  #   print(\"BlackJack! Com win\")\n",
        "  #   return\n",
        "  print(f\"Your total score is: {user_sum}\")\n",
        "  print(f\"Computer's first card score is {com_value_1}\")\n",
        "  more_card=True\n",
        "  while more_card:\n",
        "    if input(\"Do you want more cards(y/n): \").lower()==\"n\":\n",
        "      more_card=False\n",
        "      if user_sum>com_sum:\n",
        "        print(f\"Your score is {user_sum} and Com score is {com_sum}\")\n",
        "        print(\"BlackJack! You win\")\n",
        "        break\n",
        "      else:\n",
        "        print(f\"Your score is {user_sum} and Com score is {com_sum}\")\n",
        "        print(\"You Lose\")\n",
        "        break\n",
        "    else:\n",
        "      new_card=extra_card()\n",
        "      user_sum+=new_card\n",
        "      print(f\"You new card is {new_card} and your score is {user_sum}\")\n",
        "\n",
        "    if com_sum<17:\n",
        "      new_card=extra_card()\n",
        "      com_sum+=new_card\n",
        "\n",
        "    if user_sum>21:\n",
        "      print(f\"Your score is {user_sum} and Com score is {com_sum}\")\n",
        "      print(\"Bust!! You lose\")\n",
        "      more_card=False\n",
        "    elif com_sum>21:\n",
        "      print(f\"Your score is {user_sum} and Com score is {com_sum}\")\n",
        "      print(\"BlackJack! You win\")\n",
        "      more_card=False\n",
        "blackjack()\n",
        "\n",
        "while input(\"Do you want to play the game again? y/n: \").lower()==\"y\":\n",
        "  clear_output()\n",
        "  blackjack()"
      ],
      "metadata": {
        "colab": {
          "base_uri": "https://localhost:8080/"
        },
        "id": "WMrdGJO627wQ",
        "outputId": "4196b508-361b-41ba-e09d-21abd4ebfcc6"
      },
      "execution_count": 19,
      "outputs": [
        {
          "name": "stdout",
          "output_type": "stream",
          "text": [
            "Your total score is: 14\n",
            "Computer's first card score is 6\n",
            "Do you want more cards(y/n): y\n",
            "You new card is 9 and your score is 23\n",
            "Your score is 23 and Com score is 17\n",
            "Bust!! You lose\n",
            "Do you want to play the game again? y/n: n\n"
          ]
        }
      ]
    },
    {
      "cell_type": "markdown",
      "source": [],
      "metadata": {
        "id": "bo_OE_Rh25Yi"
      }
    }
  ],
  "metadata": {
    "colab": {
      "provenance": [],
      "toc_visible": true,
      "include_colab_link": true
    },
    "kernelspec": {
      "display_name": "Python 3",
      "name": "python3"
    }
  },
  "nbformat": 4,
  "nbformat_minor": 0
}