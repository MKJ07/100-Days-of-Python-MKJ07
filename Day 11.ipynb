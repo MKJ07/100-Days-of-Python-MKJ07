{
  "cells":[
    {
      "cell_type": "markdown",
      "source": [
        "# Day 11"
      ],
      "metadata": {
        "id": "hX4tfdO-25b6"
      }
    },
    {
      "cell_type": "code",
      "source": [
        "# importing random library\n",
        "import random\n",
        "from IPython.display import clear_output"
      ],
      "metadata": {
        "id": "HpFAos0cafNO"
      },
      "execution_count": 17,
      "outputs": []
    },
    {
      "cell_type": "code",
      "source": [
        "# BlackJack Program\n",
        "cards=[11,2,3,4,5,6,7,8,9,10,10,10,10]\n",
        "\n",
        "still_in_game=True\n",
        "def extra_card():\n",
        "  return random.choice(cards)\n",
        "\n",
        "def blackjack():\n",
        "  user_value_1=random.choice(cards)\n",
        "  user_value_2=random.choice(cards)\n",
        "  com_value_1=random.choice(cards)\n",
        "  com_value_2=random.choice(cards)\n",
        "  # user_value_1=cards[random.randint(0,len(cards)-1)]\n",
        "  # user_value_2=cards[random.randint(0,len(cards)-1)]\n",
        "  # com_value_1=cards[random.randint(0,len(cards)-1)]\n",
        "  # com_value_2=cards[random.randint(0,len(cards)-1)]\n",
        "\n",
        "  user_sum=user_value_1+user_value_2\n",
        "  com_sum=com_value_1+com_value_2\n",
        "\n",
        "  if user_sum==21:\n",
        "    print(\"BlackJack! You win\")\n",
        "    return\n",
        "  # elif com_sum==21:\n",
        "  #   print(\"BlackJack! Com win\")\n",
        "  #   return\n",
        "  print(f\"Your total score is: {user_sum}\")\n",
        "  print(f\"Computer's first card score is {com_value_1}\")\n",
        "  more_card=True\n",
        "  while more_card:\n",
        "    if input(\"Do you want more cards(y/n): \").lower()==\"n\":\n",
        "      more_card=False\n",
        "      if user_sum>com_sum:\n",
        "        print(f\"Your score is {user_sum} and Com score is {com_sum}\")\n",
        "        print(\"BlackJack! You win\")\n",
        "        break\n",
        "      else:\n",
        "        print(f\"Your score is {user_sum} and Com score is {com_sum}\")\n",
        "        print(\"You Lose\")\n",
        "        break\n",
        "    else:\n",
        "      new_card=extra_card()\n",
        "      user_sum+=new_card\n",
        "      print(f\"You new card is {new_card} and your score is {user_sum}\")\n",
        "\n",
        "    if com_sum<17:\n",
        "      new_card=extra_card()\n",
        "      com_sum+=new_card\n",
        "\n",
        "    if user_sum>21:\n",
        "      print(f\"Your score is {user_sum} and Com score is {com_sum}\")\n",
        "      print(\"Bust!! You lose\")\n",
        "      more_card=False\n",
        "    elif com_sum>21:\n",
        "      print(f\"Your score is {user_sum} and Com score is {com_sum}\")\n",
        "      print(\"BlackJack! You win\")\n",
        "      more_card=False\n",
        "blackjack()\n",
        "\n",
        "while input(\"Do you want to play the game again? y/n: \").lower()==\"y\":\n",
        "  clear_output()\n",
        "  blackjack()"
      ],
      "metadata": {
        "colab": {
          "base_uri": "https://localhost:8080/"
        },
        "id": "WMrdGJO627wQ",
        "outputId": "4196b508-361b-41ba-e09d-21abd4ebfcc6"
      },
      "execution_count": 19,
      "outputs": [
        {
          "name": "stdout",
          "output_type": "stream",
          "text": [
            "Your total score is: 14\n",
            "Computer's first card score is 6\n",
            "Do you want more cards(y/n): y\n",
            "You new card is 9 and your score is 23\n",
            "Your score is 23 and Com score is 17\n",
            "Bust!! You lose\n",
            "Do you want to play the game again? y/n: n\n"
          ]
        }
      ]
    },
    {
      "cell_type": "markdown",
      "source": [],
      "metadata": {
        "id": "bo_OE_Rh25Yi"
      }
    }
  ],
  "metadata": {
    "colab": {
      "provenance": [],
      "toc_visible": true,
      "include_colab_link": true
    },
    "kernelspec": {
      "display_name": "Python 3",
      "name": "python3"
    }
  },
  "nbformat": 4,
  "nbformat_minor": 0
}
