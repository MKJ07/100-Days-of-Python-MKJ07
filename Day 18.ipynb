{
  "cells": [
    {
      "cell_type": "markdown",
      "metadata": {
        "id": "view-in-github",
        "colab_type": "text"
      },
      "source": [
        "<a href=\"https://colab.research.google.com/github/MKJ07/100-Days-of-Python-MKJ07/blob/main/Day%2018.ipynb\" target=\"_parent\"><img src=\"https://colab.research.google.com/assets/colab-badge.svg\" alt=\"Open In Colab\"/></a>"
      ]
    },
    {
      "cell_type": "markdown",
      "source": [
        "#100 Days of Python"
      ],
      "metadata": {
        "id": "TLAHhGjToDda"
      }
    },
    {
      "cell_type": "markdown",
      "source": [
        "# Day 1"
      ],
      "metadata": {
        "id": "QFqk6rnZO6Cs"
      }
    },
    {
      "cell_type": "code",
      "source": [
        "print(\"Hello World!!\")"
      ],
      "metadata": {
        "id": "dKBdZJVloO4_",
        "outputId": "cfdf2d2e-a138-4038-c9b8-a59379bb9440",
        "colab": {
          "base_uri": "https://localhost:8080/"
        }
      },
      "execution_count": null,
      "outputs": [
        {
          "output_type": "stream",
          "name": "stdout",
          "text": [
            "Hello World!!\n"
          ]
        }
      ]
    },
    {
      "cell_type": "code",
      "source": [
        "print(\"hello i am \\n MKJ\")\n",
        "print(\"Hello\"+\"MKJ\")"
      ],
      "metadata": {
        "id": "khcZLXyVqjzi",
        "outputId": "c5246313-072e-4115-d151-c742e8d5cc24",
        "colab": {
          "base_uri": "https://localhost:8080/"
        }
      },
      "execution_count": null,
      "outputs": [
        {
          "output_type": "stream",
          "name": "stdout",
          "text": [
            "hello i am \n",
            " MKJ\n",
            "HelloMKJ\n"
          ]
        }
      ]
    },
    {
      "cell_type": "code",
      "source": [
        "#input\n",
        "# input(\"What is your name\")\n",
        "print(\"Hello i am \"+ input())\n"
      ],
      "metadata": {
        "id": "Stgivyv0tFG0",
        "outputId": "56de48c1-bff5-4b4f-fa78-866ae8d4554b",
        "colab": {
          "base_uri": "https://localhost:8080/"
        }
      },
      "execution_count": null,
      "outputs": [
        {
          "output_type": "stream",
          "name": "stdout",
          "text": [
            "mkj\n",
            "Hello i am mkj\n"
          ]
        }
      ]
    },
    {
      "cell_type": "code",
      "source": [
        "name=\"Mahesh\"\n",
        "print(len(name))"
      ],
      "metadata": {
        "id": "0cJp_35Ztd0X",
        "outputId": "a4451505-66ad-4fb8-a493-534375fff619",
        "colab": {
          "base_uri": "https://localhost:8080/"
        }
      },
      "execution_count": null,
      "outputs": [
        {
          "output_type": "stream",
          "name": "stdout",
          "text": [
            "6\n"
          ]
        }
      ]
    },
    {
      "cell_type": "code",
      "source": [
        "# Swap two value\n",
        "a=20;b=10\n",
        "t=a\n",
        "a=b\n",
        "b=t\n",
        "print(a)\n",
        "print(b)"
      ],
      "metadata": {
        "id": "6wuijR-muK0r",
        "outputId": "dbe6060f-751f-4c93-864b-6d63d9e5c613",
        "colab": {
          "base_uri": "https://localhost:8080/"
        }
      },
      "execution_count": null,
      "outputs": [
        {
          "output_type": "stream",
          "name": "stdout",
          "text": [
            "10\n",
            "20\n"
          ]
        }
      ]
    },
    {
      "cell_type": "code",
      "source": [
        "# Band Game generator\n",
        "print(\"Hii\")\n",
        "name=input(\"Enter your city name \")\n",
        "pet_name=input(\"Enter your pet name \")\n",
        "print(\"Your band name is:\"+ name+\" \"+pet_name)"
      ],
      "metadata": {
        "id": "wXKXyiEezXbE",
        "outputId": "1893c362-b21e-4672-d29d-de65d85711c2",
        "colab": {
          "base_uri": "https://localhost:8080/"
        }
      },
      "execution_count": null,
      "outputs": [
        {
          "output_type": "stream",
          "name": "stdout",
          "text": [
            "Hii\n",
            "Enter your city nameKolkata\n",
            "Enter your pet namepuppy\n",
            "Your band name is:Kolkata puppy\n"
          ]
        }
      ]
    },
    {
      "cell_type": "markdown",
      "source": [
        "# Day 2"
      ],
      "metadata": {
        "id": "2im1ajxoPBk0"
      }
    },
    {
      "cell_type": "code",
      "source": [
        "# Primitive Data type\n",
        "# String\n",
        "print(\"Hello\"[0])\n",
        "\n",
        "# Integer\n",
        "num=123456\n",
        "print(123+456)\n",
        "\n",
        "# float\n",
        "dec=1235.63\n",
        "print(type(dec))\n",
        "\n",
        "# Boolean\n",
        "print(num==dec)"
      ],
      "metadata": {
        "colab": {
          "base_uri": "https://localhost:8080/"
        },
        "id": "eunRdppOPHYs",
        "outputId": "f5e64404-2b86-4011-b1b9-27874c01f55b"
      },
      "execution_count": null,
      "outputs": [
        {
          "output_type": "stream",
          "name": "stdout",
          "text": [
            "H\n",
            "579\n",
            "<class 'float'>\n",
            "False\n"
          ]
        }
      ]
    },
    {
      "cell_type": "code",
      "source": [
        "# Type error\n",
        "num=len(input(\" Enter your name \"))\n",
        "# print(\"Your name has \"+num+\" characters\") //TypeError: can only concatenate str (not \"int\") to str\n",
        "\n",
        "# type conversion\n",
        "print(\"Your name has \"+ str(num)+\" characters\")\n",
        "\n",
        "print(70+ float(\"125.236\"))"
      ],
      "metadata": {
        "colab": {
          "base_uri": "https://localhost:8080/"
        },
        "id": "bXxlsP_-QA8q",
        "outputId": "3760b5dc-14c4-41a4-be19-53557383054d"
      },
      "execution_count": null,
      "outputs": [
        {
          "output_type": "stream",
          "name": "stdout",
          "text": [
            " Enter your name Mahesh\n",
            "Your name has 6 characters\n",
            "195.236\n"
          ]
        }
      ]
    },
    {
      "cell_type": "code",
      "source": [
        "# Mathematical Operations in Python\n",
        "print(\"Addition \",3+5)\n",
        "print(\"Substraction \",35-9)\n",
        "print(\"Multiply \",3*5)\n",
        "print(\"Division \",35/5)\n",
        "print(\"Exponent \",3**2)\n",
        "\n",
        "# PEDMAS(Paranthesis,Exponent,Division,Multiply,Addition,Substract) rule\n",
        "print(3*3-5/2+6)\n",
        "\n",
        "print((3*3-5)/2+6)\n"
      ],
      "metadata": {
        "colab": {
          "base_uri": "https://localhost:8080/"
        },
        "id": "sF7DuTcMQ0bs",
        "outputId": "ef468081-41ef-4eb7-ba80-0df7e02b1d52"
      },
      "execution_count": null,
      "outputs": [
        {
          "output_type": "stream",
          "name": "stdout",
          "text": [
            "Addition  8\n",
            "Substraction  26\n",
            "Multiply  15\n",
            "Division  7.0\n",
            "Exponent  9\n",
            "12.5\n",
            "8.0\n"
          ]
        }
      ]
    },
    {
      "cell_type": "code",
      "source": [
        "# Number manipulation and Fstring\n",
        "print(8/3)\n",
        "num=(8//3) # gives int value\n",
        "print(type(num))\n",
        "\n",
        "print(f\"There are {20} flat in {2} building and having {num} gaurd\") # Fstring"
      ],
      "metadata": {
        "colab": {
          "base_uri": "https://localhost:8080/"
        },
        "id": "uzH_URrWQoZa",
        "outputId": "d484008e-53a3-47f3-8bfb-51b10dcad80c"
      },
      "execution_count": null,
      "outputs": [
        {
          "output_type": "stream",
          "name": "stdout",
          "text": [
            "2.6666666666666665\n",
            "<class 'int'>\n",
            "There are 20 flat in 2 building and having 2 gaurd\n"
          ]
        }
      ]
    },
    {
      "cell_type": "code",
      "source": [
        "# Life in weeks\n",
        "age=int(input())\n",
        "year=90-age\n",
        "weeks=year*52\n",
        "\n",
        "print(f\"You have {weeks} left in your life\")"
      ],
      "metadata": {
        "colab": {
          "base_uri": "https://localhost:8080/"
        },
        "id": "XsL49HZwWJf6",
        "outputId": "a0485db5-de5e-4aad-bf70-0c8951b55cdb"
      },
      "execution_count": null,
      "outputs": [
        {
          "output_type": "stream",
          "name": "stdout",
          "text": [
            "24\n",
            "You have 3432 left in your life\n"
          ]
        }
      ]
    },
    {
      "cell_type": "code",
      "source": [
        "# Project 2\n",
        "print(\"Welcome to tip calculator\")\n",
        "\n",
        "bill=float(input(\"What was the bill? \"))\n",
        "perbilltip=int(input(\"What percentage tip you want to give? 10,12,15? \"))\n",
        "ppl=int(input(\"How many people you want to split? \"))\n",
        "\n",
        "perbillinrs=float((bill*perbilltip)/100)\n",
        "totalbill=round((bill+perbillinrs)/ppl,2)\n",
        "\n",
        "print(f\"Total bill you all have to pay is{totalbill} \")"
      ],
      "metadata": {
        "colab": {
          "base_uri": "https://localhost:8080/"
        },
        "id": "leWj-2pwm7l2",
        "outputId": "e16ec95b-19d6-48c0-cd30-21cd6c0bfacb"
      },
      "execution_count": null,
      "outputs": [
        {
          "output_type": "stream",
          "name": "stdout",
          "text": [
            "Welcome to tip calculator\n",
            "What was the bill? 124.56\n",
            "What percentage tip you want to give? 10,12,15? 12\n",
            "How many people you want to split? 7\n",
            "Total bill you all have to pay is19.93 \n"
          ]
        }
      ]
    },
    {
      "cell_type": "markdown",
      "source": [
        "# Day 3\n"
      ],
      "metadata": {
        "id": "mogyCedKrjLa"
      }
    },
    {
      "cell_type": "code",
      "source": [
        "# Conditional Statement\n",
        "height=int(input(\"Enter your height \"))\n",
        "\n",
        "if height>120:\n",
        "  print(\"You are eligible\")\n",
        "else:\n",
        "  print(\"You are not eligible\")"
      ],
      "metadata": {
        "colab": {
          "base_uri": "https://localhost:8080/"
        },
        "id": "vkjIuVFQroNk",
        "outputId": "a442e6fe-a6a0-423f-d5e3-6bc2d1396780"
      },
      "execution_count": null,
      "outputs": [
        {
          "output_type": "stream",
          "name": "stdout",
          "text": [
            "Enter your height 132\n",
            "You are eligible\n"
          ]
        }
      ]
    },
    {
      "cell_type": "code",
      "source": [
        "# Check the number is even number or odd number\n",
        "num=int(input(\"Enter the number \"))\n",
        "\n",
        "if num % 2 == 0 :\n",
        "  print(f\"{num} is an even number\")\n",
        "else:\n",
        "  print(f\"{num} is a odd number\")"
      ],
      "metadata": {
        "colab": {
          "base_uri": "https://localhost:8080/"
        },
        "id": "aYk1ymh7t44c",
        "outputId": "291e1f29-b251-44e7-84fa-5cbf62a1170d"
      },
      "execution_count": null,
      "outputs": [
        {
          "output_type": "stream",
          "name": "stdout",
          "text": [
            "Enter the number34\n",
            "34 is an even number\n"
          ]
        }
      ]
    },
    {
      "cell_type": "code",
      "source": [
        "# Elif Statement - Nested if/else\n",
        "height=int(input(\"Enter your height \"))\n",
        "\n",
        "if height > 120:\n",
        "  print(\"Congratulations!! You are eligible\")\n",
        "  age=int(input(\"Enter your age \"))\n",
        "  if age>18:\n",
        "    print(\"You have to pay 17$\")\n",
        "  elif age<18 and age>12:\n",
        "    print(\"You have to pay 12$\")\n",
        "  else:\n",
        "    print(\"You have to pay 7$\")\n",
        "else:\n",
        "  print(\"Your are not eligible\")"
      ],
      "metadata": {
        "colab": {
          "base_uri": "https://localhost:8080/"
        },
        "id": "rWjhzNrL4ec0",
        "outputId": "bdc65b3a-99d2-464e-9161-907a1247456d"
      },
      "execution_count": null,
      "outputs": [
        {
          "output_type": "stream",
          "name": "stdout",
          "text": [
            "Enter your height 342\n",
            "Congratulations!! You are eligible\n",
            "Enter your age 14\n",
            "You have to pay 12$\n"
          ]
        }
      ]
    },
    {
      "cell_type": "code",
      "source": [
        "# BMI Calculator\n",
        "height=float(input(\"Enter your height \"))\n",
        "weight=int(input(\"Enter your weight \"))\n",
        "\n",
        "bmi=weight/(height*height)\n",
        "\n",
        "if bmi<18.5:\n",
        "  print(f\"Your BMI is {bmi}, you are underweight\")\n",
        "elif bmi<25:\n",
        "  print(f\"Your BMI is {bmi}, you are normal\")\n",
        "elif bmi<30:\n",
        "  print(f\"Your BMI is {bmi}, you are overweight\")\n",
        "elif bmi<35:\n",
        "  print(f\"Your BMI is {bmi}, you are obese\")\n",
        "else:\n",
        "  print(f\"Your BMI is {bmi}, you are clinically obese\")\n",
        "\n"
      ],
      "metadata": {
        "colab": {
          "base_uri": "https://localhost:8080/"
        },
        "id": "f7NtKNfi771O",
        "outputId": "f00270f6-68c8-46cd-a3ff-dd25e3477f24"
      },
      "execution_count": null,
      "outputs": [
        {
          "output_type": "stream",
          "name": "stdout",
          "text": [
            "Enter your height 1.8\n",
            "Enter your weight 50\n",
            "Your BMI is 15.432098765432098, you are underweight\n"
          ]
        }
      ]
    },
    {
      "cell_type": "code",
      "source": [
        "# Check the year is leap year or not\n",
        "year=int(input(\"Enter the year \"))\n",
        "if (year%4==0 and year%100!=0) or year%400==0:\n",
        "  print(f\"{year} is a leap year\")\n",
        "else:\n",
        "  print(f\"{year} is not a leap year\")"
      ],
      "metadata": {
        "colab": {
          "base_uri": "https://localhost:8080/"
        },
        "id": "V9-00hpkFEsP",
        "outputId": "bebf64e1-de1d-4226-aeff-9136d71ae7bb"
      },
      "execution_count": null,
      "outputs": [
        {
          "output_type": "stream",
          "name": "stdout",
          "text": [
            "Enter the year 2004\n",
            "2004 is a leap year\n"
          ]
        }
      ]
    },
    {
      "cell_type": "code",
      "source": [
        "# Nested if\n",
        "height=int(input(\"Enter your height \"))\n",
        "amt=0\n",
        "if height > 120:\n",
        "  print(\"Congratulations!! You are eligible\")\n",
        "  age=int(input(\"Enter your age \"))\n",
        "  if age>18:\n",
        "    amt=18\n",
        "    # print(\"You have to pay 17$\")\n",
        "  elif age<18 and age>12:\n",
        "    amt=12\n",
        "    # print(\"You have to pay 12$\")\n",
        "  else:\n",
        "    amt=7\n",
        "    # print(\"You have to pay 7$\")\n",
        "  ph=input(\"Do you want photo? Y or N \")\n",
        "  if ph=='Y':\n",
        "    amt+=3\n",
        "  print(f\"Total amount you have to pay ${amt}\")\n",
        "else:\n",
        "  print(\"Your are not eligible\")"
      ],
      "metadata": {
        "colab": {
          "base_uri": "https://localhost:8080/"
        },
        "id": "44N5-OfDwmgc",
        "outputId": "f2ad5450-8f05-4520-bcc2-0759409c24da"
      },
      "execution_count": null,
      "outputs": [
        {
          "output_type": "stream",
          "name": "stdout",
          "text": [
            "Enter your height 343\n",
            "Congratulations!! You are eligible\n",
            "Enter your age 34\n",
            "Do you want photo? Y or N Y\n",
            "Total amount you have to pay $21\n"
          ]
        }
      ]
    },
    {
      "cell_type": "code",
      "source": [
        "# Pizza order practice\n",
        "size=input(\"Enter the size of the pizza, S/M/L: \")\n",
        "pp=input(\"Do you pepperoni? Y/N: \")\n",
        "cheese=input(\"Do you want extra cheese? Y/N: \")\n",
        "price=0\n",
        "if size=='S':\n",
        "  price=15\n",
        "  if pp=='Y':\n",
        "    price+=2\n",
        "elif size=='M':\n",
        "  price=20\n",
        "  if pp=='Y':\n",
        "    price+=3\n",
        "else:\n",
        "  price=25\n",
        "  if pp=='Y':\n",
        "    price+=3\n",
        "if cheese=='Y':\n",
        "    price+=1\n",
        "print(f\"Cost of pizza is {price}\")\n"
      ],
      "metadata": {
        "colab": {
          "base_uri": "https://localhost:8080/"
        },
        "id": "i5D3v-GBqKIh",
        "outputId": "ff7403d6-2126-44eb-f056-2eb4f42f3c42"
      },
      "execution_count": null,
      "outputs": [
        {
          "output_type": "stream",
          "name": "stdout",
          "text": [
            "Enter the size of the pizza, S/M/L: S\n",
            "Do you pepperoni? Y/N: N\n",
            "Do you want extra cheese? Y/N: Y\n",
            "Cost of pizza is 16\n"
          ]
        }
      ]
    },
    {
      "cell_type": "code",
      "source": [
        "# Love Calculator\n",
        "name1=input(\"Enter the person 1's name: \")\n",
        "name2=input(\"Enter the person 2's name: \")\n",
        "tcount=0;lcount=0\n",
        "combined_name=name1+name2\n",
        "name3=combined_name.lower()\n",
        "t=name3.count('t')\n",
        "r=name3.count('r')\n",
        "u=name3.count('u')\n",
        "e=name3.count('e')\n",
        "name_count=t+r+u+e\n",
        "\n",
        "l=name3.count('l')\n",
        "o=name3.count('o')\n",
        "v=name3.count('v')\n",
        "e=name3.count('e')\n",
        "l_count=l+o+v+e\n",
        "\n",
        "total_count=int(str(name_count)+str(l_count))\n",
        "print(f\"Your love score is {total_count} \")\n",
        "\n"
      ],
      "metadata": {
        "colab": {
          "base_uri": "https://localhost:8080/"
        },
        "id": "w0DfizKOy1De",
        "outputId": "5ca5e605-89b9-491a-d0d5-c6b45f8fbf08"
      },
      "execution_count": null,
      "outputs": [
        {
          "output_type": "stream",
          "name": "stdout",
          "text": [
            "Enter the person 1's name: Angela yu\n",
            "Enter the person 2's name: jack bauer\n",
            "Your love score is 53 \n"
          ]
        }
      ]
    },
    {
      "cell_type": "code",
      "source": [
        "# Project 3\n",
        "print('''================================================.\n",
        "     .-.   .-.     .--.                         |\n",
        "    | OO| | OO|   / _.-' .-.   .-.  .-.   .''.  |\n",
        "    |   | |   |   \\  '-. '-'   '-'  '-'   '..'  |\n",
        "    '^^^' '^^^'    '--'                         |\n",
        "===============.  .-.  .================.  .-.  |\n",
        "               | |   | |                |  '-'  |\n",
        "               | |   | |                |       |\n",
        "               | ':-:' |                |  .-.  |\n",
        "               |  '-'  |                |  '-'  |\n",
        "==============='       '================'       |''')\n",
        "\n",
        "print(\"Welcome to Treasure Island.\\n Your mission is to find the treasure\")\n",
        "\n",
        "if input(\"Enter the first move: \")==\"left\":\n",
        "  if input(\"Do you want to swim or wait: \")==\"wait\":\n",
        "    if input(\"Which color gate you want to open: Blue/Yellow/Red \")==\"Yellow\":\n",
        "      print(\"Congratulations!! You win the game.\")\n",
        "    else:\n",
        "      print(\"Game Over\")\n",
        "  else:\n",
        "    print(\"Game Over\")\n",
        "else:\n",
        "  print(\"Game Over\")\n"
      ],
      "metadata": {
        "colab": {
          "base_uri": "https://localhost:8080/"
        },
        "id": "aOL14DxF4pRN",
        "outputId": "9f21bbb6-fbd5-4022-8270-319dc9182f78"
      },
      "execution_count": null,
      "outputs": [
        {
          "output_type": "stream",
          "name": "stdout",
          "text": [
            "================================================.\n",
            "     .-.   .-.     .--.                         |\n",
            "    | OO| | OO|   / _.-' .-.   .-.  .-.   .''.  |\n",
            "    |   | |   |   \\  '-. '-'   '-'  '-'   '..'  |\n",
            "    '^^^' '^^^'    '--'                         |\n",
            "===============.  .-.  .================.  .-.  |\n",
            "               | |   | |                |  '-'  |\n",
            "               | |   | |                |       |\n",
            "               | ':-:' |                |  .-.  |\n",
            "l42            |  '-'  |                |  '-'  |\n",
            "==============='       '================'       |\n",
            "Welcome to Treasure Island.\n",
            " Your mission is to find the treasure\n",
            "Enter the first move: left\n",
            "Do you want to swim or wait: wait\n",
            "Which color gate you want to open: Blue/Yellow/Red Yellow\n",
            "Congratulations!! You win the game.\n"
          ]
        }
      ]
    },
    {
      "cell_type": "markdown",
      "source": [
        "# Day 4"
      ],
      "metadata": {
        "id": "3nnGwIx1M0MQ"
      }
    },
    {
      "cell_type": "code",
      "source": [
        "# importing random library\n",
        "import random"
      ],
      "metadata": {
        "id": "a8IMFqsaNivo"
      },
      "execution_count": null,
      "outputs": []
    },
    {
      "cell_type": "code",
      "source": [
        "# Random integer\n",
        "rand_num=random.randint(0,10)\n",
        "print(rand_num)\n",
        "rand_float=random.random()\n",
        "print(rand_num*rand_float)"
      ],
      "metadata": {
        "colab": {
          "base_uri": "https://localhost:8080/"
        },
        "id": "GKTLn1LTM5eC",
        "outputId": "c1391094-fb75-41ce-d881-85e70d68fa74"
      },
      "execution_count": null,
      "outputs": [
        {
          "output_type": "stream",
          "name": "stdout",
          "text": [
            "8\n",
            "4.436280547090154\n"
          ]
        }
      ]
    },
    {
      "cell_type": "code",
      "source": [
        "# Toss generator\n",
        "rand_num=random.randint(1,100)\n",
        "if rand_num%2==0:\n",
        "  print(\"Head it is..\")\n",
        "else:\n",
        "  print(\"Tail it is..\")"
      ],
      "metadata": {
        "colab": {
          "base_uri": "https://localhost:8080/"
        },
        "id": "Tu-KMyAxScan",
        "outputId": "fe5f0000-b4ca-4157-de27-f0f3a615cca6"
      },
      "execution_count": null,
      "outputs": [
        {
          "output_type": "stream",
          "name": "stdout",
          "text": [
            "Tail it is..\n"
          ]
        }
      ]
    },
    {
      "cell_type": "code",
      "source": [
        "# Lists\n",
        "ind_states=[\"Andhra Pradesh\",\"Arunachal Pradesh \",\"Assam\",\"Bihar\",\"Chhattisgarh\",\"Goa\",\"Gujarat\",\"Haryana\",\"Himachal Pradesh\",\"Jammu and Kashmir\",\"Jharkhand\",\"Karnataka\",\"Kerala\",\"Madhya Pradesh\",\"Maharashtra\",\"Manipur\",\"Meghalaya\",\"Mizoram\",\"Nagaland\",\"Odisha\",\"Punjab\",\"Rajasthan\",\"Sikkim\",\"Tamil Nadu\",\"Telangana\",\"Tripura\",\"Uttar Pradesh\",\"Uttarakhand\",\"West Bengal\",\"Andaman and Nicobar Islands\",\"Chandigarh\",\"Dadra and Nagar Haveli\",\"Daman and Diu\",\"Lakshadweep\",\"National Capital Territory of Delhi\",\"Puducherry\"]\n",
        "size=len(ind_states)\n",
        "idx=random.randint(0,size)\n",
        "print(ind_states[idx])"
      ],
      "metadata": {
        "colab": {
          "base_uri": "https://localhost:8080/"
        },
        "id": "q51HKd-mWWLj",
        "outputId": "9befa192-5b2e-49a8-8b6b-f7c8f4233092"
      },
      "execution_count": null,
      "outputs": [
        {
          "output_type": "stream",
          "name": "stdout",
          "text": [
            "Jammu and Kashmir\n"
          ]
        }
      ]
    },
    {
      "cell_type": "code",
      "source": [
        "# List - Banker Roulette\n",
        "name_list=[\"Mkj\",\"Tiwari\",\"Notu\",\"Dhiru\",\"Sunny\",\"Mota\",\"Prateek\",\"Tej\",\"Ayush\"]\n",
        "size=len(name_list)\n",
        "chance=random.randint(0,size)\n",
        "print(f\"{name_list[chance]} will pay the bill\")"
      ],
      "metadata": {
        "colab": {
          "base_uri": "https://localhost:8080/"
        },
        "id": "aG4n28WQdazz",
        "outputId": "16867a72-2937-42ff-c92e-9b6e8fcc6dbb"
      },
      "execution_count": null,
      "outputs": [
        {
          "output_type": "stream",
          "name": "stdout",
          "text": [
            "Dhiru will pay the bill\n"
          ]
        }
      ]
    },
    {
      "cell_type": "code",
      "source": [
        "# Treasure Map\n",
        "list1=[\"_\",\"_\",\"_\"]\n",
        "list2=[\"_\",\"_\",\"_\"]\n",
        "list3=[\"_\",\"_\",\"_\"]\n",
        "\n",
        "nested_list=[list1,list2,list3]\n",
        "position=input()\n",
        "letter=position[0].lower()\n",
        "li=[\"a\",\"b\",\"c\"]\n",
        "idx1=li.index(letter)\n",
        "idx2=int(position[1])-1\n",
        "nested_list[idx1][idx2]=\"X\"\n",
        "print(nested_list)"
      ],
      "metadata": {
        "colab": {
          "base_uri": "https://localhost:8080/"
        },
        "id": "jxoUk0cipCIt",
        "outputId": "cdbd6271-58e1-429c-ec1b-8564710cd68c"
      },
      "execution_count": null,
      "outputs": [
        {
          "output_type": "stream",
          "name": "stdout",
          "text": [
            "C3\n",
            "[['_', '_', '_'], ['_', '_', '_'], ['_', '_', 'X']]\n"
          ]
        }
      ]
    },
    {
      "cell_type": "code",
      "source": [
        "# Day 4 project\n",
        "# Rock\n",
        "rock='''\n",
        "    ______\n",
        "---'   ___)\n",
        "      (____)\n",
        "      (_____)\n",
        "      (____)\n",
        "---.__(___)\n",
        "'''\n",
        "\n",
        "# Paper\n",
        "paper='''\n",
        "     _______\n",
        "---'    ____)____\n",
        "           ______)\n",
        "          _______)\n",
        "         _______)\n",
        "---.__________)\n",
        "'''\n",
        "\n",
        "# Scissors\n",
        "scissors='''\n",
        "    _______\n",
        "---'   ____)____\n",
        "          ______)\n",
        "       __________)\n",
        "      (____)\n",
        "---.__(___)\n",
        "'''\n",
        "\n",
        "user_input=int(input(\"Press 1 for rock, 2 for paper, 3 for scissors: \"))\n",
        "com_input=random.randint(1,3)\n",
        "if user_input==com_input:\n",
        "  print(\"Draw\")\n",
        "if user_input==1:\n",
        "  if com_input==2:\n",
        "    print(f\"User: {rock} \\n Com: {paper} \\n Com won the bet\")\n",
        "  else:\n",
        "    print(f\"User: {rock} \\n Com: {scissors} \\n User won the bet\")\n",
        "elif user_input==2:\n",
        "  if com_input==1:\n",
        "    print(f\"User: {paper} \\n Com: {scissors} \\n Com won the bet\")\n",
        "  else:\n",
        "    print(f\"User: {paper} \\n Com: {rock} \\n User won the bet\")\n",
        "else:\n",
        "  if com_input==1:\n",
        "    print(f\"User: {scissors} \\n Com: {rock} \\n Com won the bet\")\n",
        "  else:\n",
        "    print(f\"User: {scissors} \\n Com {paper} \\n User won the bet\")\n",
        "\n",
        "\n"
      ],
      "metadata": {
        "colab": {
          "base_uri": "https://localhost:8080/"
        },
        "id": "uOEc08Y4urs0",
        "outputId": "365c9da4-2ce2-4cf2-d2fd-c73a4e7cec78"
      },
      "execution_count": null,
      "outputs": [
        {
          "output_type": "stream",
          "name": "stdout",
          "text": [
            "Press 1 for rock, 2 for paper, 3 for scissors: 1\n",
            "User: \n",
            "    ______\n",
            "---'   ___)\n",
            "      (____)\n",
            "      (_____)\n",
            "      (____)\n",
            "---.__(___)\n",
            " \n",
            " Com: \n",
            "    _______\n",
            "---'   ____)____\n",
            "          ______)\n",
            "       __________)\n",
            "      (____)\n",
            "---.__(___)\n",
            " \n",
            " User won the bet\n"
          ]
        }
      ]
    },
    {
      "cell_type": "markdown",
      "source": [
        "# Day 5"
      ],
      "metadata": {
        "id": "C5hDUjly1mdu"
      }
    },
    {
      "cell_type": "code",
      "source": [
        "# for loop in python\n",
        "fruits=[\"apples\",\"mangoes\",\"banana\",\"kiwi\",\"coconut\",\"orange\"]\n",
        "for i in fruits:\n",
        "  print(i,\"\\t\")"
      ],
      "metadata": {
        "colab": {
          "base_uri": "https://localhost:8080/"
        },
        "id": "H9qQOe1r1sCz",
        "outputId": "dc242092-3e9c-464a-9287-3d0e76f68d03"
      },
      "execution_count": null,
      "outputs": [
        {
          "output_type": "stream",
          "name": "stdout",
          "text": [
            "apples \t\n",
            "mangoes \t\n",
            "banana \t\n",
            "kiwi \t\n",
            "coconut \t\n",
            "orange \t\n"
          ]
        }
      ]
    },
    {
      "cell_type": "code",
      "source": [
        "# Average Height\n",
        "list=[145,167,200,190,170]\n",
        "size=len(list)\n",
        "sum=0\n",
        "for i in list:\n",
        "  sum+=i\n",
        "print(f\"Total height: {sum}\")\n",
        "print(f\"No of Students: {size}\")\n",
        "print(f\"Average of heights: {sum/size}\")"
      ],
      "metadata": {
        "colab": {
          "base_uri": "https://localhost:8080/"
        },
        "id": "29C-6nBn4RdN",
        "outputId": "de370a5d-242e-4555-8faf-18f22f792d85"
      },
      "execution_count": null,
      "outputs": [
        {
          "output_type": "stream",
          "name": "stdout",
          "text": [
            "Total height: 872\n",
            "No of Students: 5\n",
            "Average of heights: 174.4\n"
          ]
        }
      ]
    },
    {
      "cell_type": "code",
      "source": [
        "# Highest Score\n",
        "marks_list=[78,69,90,78,95,56]\n",
        "high=0\n",
        "for i in marks_list:\n",
        "  if i>high:\n",
        "    high=i\n",
        "print(f\"Highest marks: {high}\")"
      ],
      "metadata": {
        "colab": {
          "base_uri": "https://localhost:8080/"
        },
        "id": "TfeUmlA56U3c",
        "outputId": "968b8835-c753-4861-eb11-09642cf38c50"
      },
      "execution_count": null,
      "outputs": [
        {
          "output_type": "stream",
          "name": "stdout",
          "text": [
            "Highest marks: 95\n"
          ]
        }
      ]
    },
    {
      "cell_type": "code",
      "source": [
        "# range in for loop\n",
        "for i in range(0,10):\n",
        "  print(i) # it will not print 10 just like (i<10) works\n",
        "\n",
        "# Adding even number between 1 to 100\n",
        "sum=0\n",
        "for i in range(1,101):\n",
        "  if i%2==0:\n",
        "    sum+=i\n",
        "print(sum)\n",
        "\n",
        "# second way\n",
        "even_sum=0\n",
        "for i in range(0,101,2):\n",
        "  even_sum+=i\n",
        "print(even_sum)"
      ],
      "metadata": {
        "colab": {
          "base_uri": "https://localhost:8080/"
        },
        "id": "VGC7fzGBAeUC",
        "outputId": "a63fad92-8218-48bd-8ab4-70e500bafe46"
      },
      "execution_count": null,
      "outputs": [
        {
          "output_type": "stream",
          "name": "stdout",
          "text": [
            "0\n",
            "1\n",
            "2\n",
            "3\n",
            "4\n",
            "5\n",
            "6\n",
            "7\n",
            "8\n",
            "9\n",
            "2550\n",
            "2550\n"
          ]
        }
      ]
    },
    {
      "cell_type": "code",
      "source": [
        "# FizzBuzz game\n",
        "for i in range(0,101):\n",
        "  if i%3==0:\n",
        "    print(\"Fizz\")\n",
        "  elif i%5==0:\n",
        "    print(\"Buzz\")\n",
        "  elif i%3==0 and i%5==0:\n",
        "    print(\"FizzBuzz\")\n",
        "  else:\n",
        "    print(i)"
      ],
      "metadata": {
        "colab": {
          "base_uri": "https://localhost:8080/"
        },
        "id": "QEPatdmd4FR7",
        "outputId": "728a83d2-567d-4425-b517-0df39b645a87"
      },
      "execution_count": null,
      "outputs": [
        {
          "output_type": "stream",
          "name": "stdout",
          "text": [
            "Fizz\n",
            "1\n",
            "2\n",
            "Fizz\n",
            "4\n",
            "Buzz\n",
            "Fizz\n",
            "7\n",
            "8\n",
            "Fizz\n",
            "Buzz\n",
            "11\n",
            "Fizz\n",
            "13\n",
            "14\n",
            "Fizz\n",
            "16\n",
            "17\n",
            "Fizz\n",
            "19\n",
            "Buzz\n",
            "Fizz\n",
            "22\n",
            "23\n",
            "Fizz\n",
            "Buzz\n",
            "26\n",
            "Fizz\n",
            "28\n",
            "29\n",
            "Fizz\n",
            "31\n",
            "32\n",
            "Fizz\n",
            "34\n",
            "Buzz\n",
            "Fizz\n",
            "37\n",
            "38\n",
            "Fizz\n",
            "Buzz\n",
            "41\n",
            "Fizz\n",
            "43\n",
            "44\n",
            "Fizz\n",
            "46\n",
            "47\n",
            "Fizz\n",
            "49\n",
            "Buzz\n",
            "Fizz\n",
            "52\n",
            "53\n",
            "Fizz\n",
            "Buzz\n",
            "56\n",
            "Fizz\n",
            "58\n",
            "59\n",
            "Fizz\n",
            "61\n",
            "62\n",
            "Fizz\n",
            "64\n",
            "Buzz\n",
            "Fizz\n",
            "67\n",
            "68\n",
            "Fizz\n",
            "Buzz\n",
            "71\n",
            "Fizz\n",
            "73\n",
            "74\n",
            "Fizz\n",
            "76\n",
            "77\n",
            "Fizz\n",
            "79\n",
            "Buzz\n",
            "Fizz\n",
            "82\n",
            "83\n",
            "Fizz\n",
            "Buzz\n",
            "86\n",
            "Fizz\n",
            "88\n",
            "89\n",
            "Fizz\n",
            "91\n",
            "92\n",
            "Fizz\n",
            "94\n",
            "Buzz\n",
            "Fizz\n",
            "97\n",
            "98\n",
            "Fizz\n",
            "Buzz\n"
          ]
        }
      ]
    },
    {
      "cell_type": "code",
      "source": [
        "#Day 5 Project.\n",
        "# Password Generator Project.\n",
        "import random\n",
        "letters = ['a', 'b', 'c', 'd', 'e', 'f', 'g', 'h', 'i', 'j', 'k', 'l', 'm', 'n', 'o', 'p', 'q', 'r', 's', 't', 'u', 'v', 'w', 'x', 'y', 'z', 'A', 'B', 'C', 'D', 'E', 'F', 'G', 'H', 'I', 'J', 'K', 'L', 'M', 'N', 'O', 'P', 'Q', 'R', 'S', 'T', 'U', 'V', 'W', 'X', 'Y', 'Z']\n",
        "numbers = ['0', '1', '2', '3', '4', '5', '6', '7', '8', '9']\n",
        "symbols = ['!', '#', '$', '%', '&', '(', ')', '*', '+']\n",
        "\n",
        "print(\"Welcome to the PyPassword Generator!\")\n",
        "nr_letters = int(input(\"How many letters would you like in your password?\\n\"))\n",
        "nr_symbols = int(input(f\"How many symbols would you like?\\n\"))\n",
        "nr_numbers = int(input(f\"How many numbers would you like?\\n\"))\n",
        "\n",
        "\n",
        "# Easy Level\n",
        "# password=\"\"\n",
        "# for i in range(0,nr_letters):\n",
        "#   password+=str(letters[random.randint(0,len(letters))])\n",
        "# for i in range(0,nr_symbols):\n",
        "#   password+=str(numbers[random.randint(0,len(numbers))])\n",
        "# for i in range(0,nr_numbers):\n",
        "#   password+=str(symbols[random.randint(0,len(symbols))])\n",
        "# print(password)\n",
        "\n",
        "# Hard level\n",
        "password_gen=[]\n",
        "for i in range(0,nr_letters):\n",
        "  password_gen+=random.choice(letters)\n",
        "for i in range(0,nr_symbols):\n",
        "  password_gen+=random.choice(symbols)\n",
        "for i in range(0,nr_numbers):\n",
        "  password_gen+=random.choice(numbers)\n",
        "random.shuffle(password_gen)\n",
        "pass_key=\"\"\n",
        "for i in password_gen:\n",
        "  pass_key+=i\n",
        "print(pass_key)\n"
      ],
      "metadata": {
        "colab": {
          "base_uri": "https://localhost:8080/"
        },
        "id": "xCvvCAOj8IMY",
        "outputId": "7a3a11c8-69bc-41a4-9a3d-103b70d9559a"
      },
      "execution_count": null,
      "outputs": [
        {
          "output_type": "stream",
          "name": "stdout",
          "text": [
            "Welcome to the PyPassword Generator!\n",
            "How many letters would you like in your password?\n",
            "12\n",
            "How many symbols would you like?\n",
            "3\n",
            "How many numbers would you like?\n",
            "5\n",
            "s$nplyk4#8R2gDM5P*6l\n"
          ]
        }
      ]
    },
    {
      "cell_type": "markdown",
      "source": [
        "# Day 6"
      ],
      "metadata": {
        "id": "WinuLuV3QFRz"
      }
    },
    {
      "cell_type": "code",
      "source": [
        "# Defining and Calling a function\n",
        "def my_function():\n",
        "  print(\"I am MKJ\")\n",
        "my_function() #calling the function\n",
        "\n",
        "def addition(a,b):\n",
        "  print(a+b)\n",
        "addition(3,5)"
      ],
      "metadata": {
        "colab": {
          "base_uri": "https://localhost:8080/"
        },
        "id": "AnC9BL92QJhs",
        "outputId": "f4b1d04b-eb56-4de1-87b8-f319a0e22cb9"
      },
      "execution_count": null,
      "outputs": [
        {
          "output_type": "stream",
          "name": "stdout",
          "text": [
            "I am MKJ\n",
            "8\n"
          ]
        }
      ]
    },
    {
      "cell_type": "code",
      "source": [
        "# Practice Function\n",
        "def turn_around():\n",
        "    turn_left()\n",
        "    turn_left()\n",
        "def turn_right():\n",
        "    turn_left()\n",
        "    turn_left()\n",
        "    turn_left()\n",
        "turn_left()\n",
        "move()\n",
        "move()\n",
        "turn_right()\n",
        "move()\n",
        "move()\n",
        "turn_right()\n",
        "move()\n",
        "move()\n",
        "turn_right()\n",
        "move()\n",
        "move()"
      ],
      "metadata": {
        "id": "hI61KMpSQrnf"
      },
      "execution_count": null,
      "outputs": []
    },
    {
      "cell_type": "code",
      "source": [
        "# Hurdles game 1\n",
        "def turn_right():\n",
        "    turn_left()\n",
        "    turn_left()\n",
        "    turn_left()\n",
        "def hurdles():\n",
        "    move()\n",
        "    turn_left()\n",
        "    move()\n",
        "    turn_right()\n",
        "    move()\n",
        "    turn_right()\n",
        "    move()\n",
        "    turn_left()\n",
        "# for i in range(0,6):\n",
        "#     hurdles()\n",
        "\n",
        "# Using While loop\n",
        "while i<6:\n",
        "  hurdles()\n",
        "  i+=1\n",
        "\n",
        "# Hurdles game 2\n",
        "def turn_right():\n",
        "    turn_left()\n",
        "    turn_left()\n",
        "    turn_left()\n",
        "def hurdles():\n",
        "    move()\n",
        "    turn_left()\n",
        "    move()\n",
        "    turn_right()\n",
        "    move()\n",
        "    turn_right()\n",
        "    move()\n",
        "    turn_left()\n",
        "i=0\n",
        "while at_goal()!=True:\n",
        "  hurdles()\n",
        "\n",
        "# Hurdles game 3\n",
        "def turn_right():\n",
        "    turn_left()\n",
        "    turn_left()\n",
        "    turn_left()\n",
        "def hurdles():\n",
        "    turn_left()\n",
        "    move()\n",
        "    turn_right()\n",
        "    move()\n",
        "    turn_right()\n",
        "    move()\n",
        "    turn_left()\n",
        "\n",
        "\n",
        "while not at_goal():\n",
        "    if wall_in_front():\n",
        "        hurdles()\n",
        "    else:\n",
        "        move()\n",
        "\n",
        "\n",
        "# Hurdles game 4\n",
        "def turn_right():\n",
        "    turn_left()\n",
        "    turn_left()\n",
        "    turn_left()\n",
        "def hurdles():\n",
        "    turn_left()\n",
        "    while not wall_in_front() and not right_is_clear():\n",
        "        move()\n",
        "    turn_right()\n",
        "    move()\n",
        "    turn_right()\n",
        "    while not wall_in_front():\n",
        "        move()\n",
        "    turn_left()\n",
        "\n",
        "while not at_goal():\n",
        "    if wall_in_front():\n",
        "        hurdles()\n",
        "    elif not front_is_clear():\n",
        "        turn_left()\n",
        "    else:\n",
        "        move()\n"
      ],
      "metadata": {
        "id": "LaVvi0IdSJCc"
      },
      "execution_count": null,
      "outputs": []
    },
    {
      "cell_type": "code",
      "source": [
        "# Day 6 project\n",
        "def turn_right():\n",
        "    turn_left()\n",
        "    turn_left()\n",
        "    turn_left()\n",
        "\n",
        "while front_is_clear():\n",
        "    move()\n",
        "turn_left()\n",
        "\n",
        "while not at_goal():\n",
        "    if right_is_clear():\n",
        "        turn_right()\n",
        "        move()\n",
        "    elif front_is_clear():\n",
        "        move()\n",
        "    else:\n",
        "        turn_left()"
      ],
      "metadata": {
        "id": "xlUIjkejP_1w"
      },
      "execution_count": null,
      "outputs": []
    },
    {
      "cell_type": "markdown",
      "source": [
        "# Day 7"
      ],
      "metadata": {
        "id": "pU4J53XdVODV"
      }
    },
    {
      "cell_type": "code",
      "source": [
        "# Picking a random words\n",
        "import random\n",
        "list=[\"mahesh\",\"Prateek\",\"Tej\",\"Saket\",\"Sunny\"]\n",
        "guess=random.choice(list)\n",
        "letter=input(\"Enter the word: \")\n",
        "for i in guess:\n",
        "  if letter in i:\n",
        "    print(\"Right\")\n",
        "  else:\n",
        "    print(\"Wrong\")"
      ],
      "metadata": {
        "colab": {
          "base_uri": "https://localhost:8080/"
        },
        "id": "FO3af9QxVSZf",
        "outputId": "a7303557-9c0d-4c2b-eaa4-899ecb97c556"
      },
      "execution_count": null,
      "outputs": [
        {
          "output_type": "stream",
          "name": "stdout",
          "text": [
            "Enter the word: a\n",
            "Wrong\n",
            "Right\n",
            "Wrong\n",
            "Wrong\n",
            "Wrong\n",
            "Wrong\n"
          ]
        }
      ]
    },
    {
      "cell_type": "code",
      "source": [
        "# Replace the blank with chosen letter\n",
        "list=[\"mahesh\",\"Prateek\",\"Tej\",\"Saket\",\"Sunny\"]\n",
        "guess=random.choice(list)\n",
        "display=[]\n",
        "word_length=len(guess)\n",
        "for i in range(word_length):\n",
        "  display+=\"_\"\n",
        "print(display)\n",
        "letter=input(\"Enter the letter:  \")\n",
        "\n",
        "for i in range(word_length):\n",
        "  if letter==guess[i]:\n",
        "    display[i]=letter\n",
        "\n",
        "print(display)"
      ],
      "metadata": {
        "colab": {
          "base_uri": "https://localhost:8080/"
        },
        "id": "rsDTWiktab9i",
        "outputId": "50df0eb7-646e-49c4-d5c2-00627eecdf51"
      },
      "execution_count": null,
      "outputs": [
        {
          "output_type": "stream",
          "name": "stdout",
          "text": [
            "['_', '_', '_']\n",
            "Enter the lettere\n",
            "['_', 'e', '_']\n"
          ]
        }
      ]
    },
    {
      "cell_type": "code",
      "source": [
        "from IPython.display import clear_output\n",
        "HANGMAN_PICS = ['''\n",
        "  +---+\n",
        "      |\n",
        "      |\n",
        "      |\n",
        "     ===''', '''\n",
        "  +---+\n",
        "  O   |\n",
        "      |\n",
        "      |\n",
        "     ===''', '''\n",
        "  +---+\n",
        "  O   |\n",
        "  |   |\n",
        "      |\n",
        "     ===''', '''\n",
        "  +---+\n",
        "  O   |\n",
        " /|   |\n",
        "      |\n",
        "     ===''', '''\n",
        "  +---+\n",
        "  O   |\n",
        " /|\\  |\n",
        "      |\n",
        "     ===''', '''\n",
        "  +---+\n",
        "  O   |\n",
        " /|\\  |\n",
        " /    |\n",
        "     ===''', '''\n",
        "  +---+\n",
        "  O   |\n",
        " /|\\  |\n",
        " / \\  |\n",
        "     ===''']\n",
        "\n",
        "\n",
        "hangman_len=len(HANGMAN_PICS)\n",
        "list=[\"mahesh\",\"prateek\",\"tej\",\"saket\",\"sunny\"]\n",
        "guess=random.choice(list)\n",
        "print(guess)\n",
        "display=[]\n",
        "word_length=len(guess)\n",
        "for i in range(word_length):\n",
        "  display+=\"_\"\n",
        "\n",
        "chance=0\n",
        "at_goal=False\n",
        "while not at_goal:\n",
        "  letter=input(\"Enter the letter: \").lower()\n",
        "  clear_output()\n",
        "  if \"_\" not in display:\n",
        "      at_goal=True\n",
        "      print(\"You win\")\n",
        "  if letter in display:\n",
        "    print(display)\n",
        "    print(\"You have already chosen the letter\")\n",
        "  elif letter not in guess :\n",
        "    print(f\"You have chosen the wrong letter{letter}, you lose a chance\")\n",
        "    print(HANGMAN_PICS[chance])\n",
        "    chance+=1\n",
        "    if chance==hangman_len:\n",
        "      at_goal=True\n",
        "      print(\"You Lose\")\n",
        "  for i in range(word_length):\n",
        "    if letter==guess[i]:\n",
        "      display[i]=letter\n",
        "\n",
        "\n"
      ],
      "metadata": {
        "colab": {
          "base_uri": "https://localhost:8080/"
        },
        "id": "Y_UHcpjPllFL",
        "outputId": "1d338c8c-24f2-4118-be70-0c9386d8ae45"
      },
      "execution_count": null,
      "outputs": [
        {
          "output_type": "stream",
          "name": "stdout",
          "text": [
            "You have chosen the wrong letterc, you lose a chance\n",
            "\n",
            "  +---+\n",
            "  O   |\n",
            " /|\\  |\n",
            " / \\  |\n",
            "     ===\n",
            "You Lose\n"
          ]
        }
      ]
    },
    {
      "cell_type": "markdown",
      "source": [
        "# Day 8"
      ],
      "metadata": {
        "id": "GHqbMEiqE1ir"
      }
    },
    {
      "cell_type": "code",
      "source": [
        "def greet():\n",
        "  print(\"Hello\")\n",
        "greet()"
      ],
      "metadata": {
        "colab": {
          "base_uri": "https://localhost:8080/"
        },
        "id": "GbIzPRRkE4Rv",
        "outputId": "870ec1cb-c311-4e49-cc67-e67913bc7bc8"
      },
      "execution_count": null,
      "outputs": [
        {
          "output_type": "stream",
          "name": "stdout",
          "text": [
            "Hello\n"
          ]
        }
      ]
    },
    {
      "cell_type": "code",
      "source": [
        "# function with input\n",
        "def my_name(name):\n",
        "  print(f\"Hello i am {name}\")\n",
        "my_name(\"Mahesh\")"
      ],
      "metadata": {
        "colab": {
          "base_uri": "https://localhost:8080/"
        },
        "id": "-XX1gGEvGWOz",
        "outputId": "d3d94b4e-4584-4a35-ed84-0152d66545c4"
      },
      "execution_count": null,
      "outputs": [
        {
          "output_type": "stream",
          "name": "stdout",
          "text": [
            "Hello i am Mahesh\n"
          ]
        }
      ]
    },
    {
      "cell_type": "code",
      "source": [
        "# function with multiple input\n",
        "def my_name(name,location):\n",
        "  print(f\"Hello i am {name} from {location}\")\n",
        "my_name(\"Mahesh\",\"India\")\n",
        "\n",
        "# interchange the value\n",
        "def my_name(name,location):\n",
        "  print(f\"Hello i am {name} from {location}\")\n",
        "my_name(\"India\",\"Mahesh\")\n",
        "\n",
        "# same for variable assignment\n",
        "def my_function(a,b,c):\n",
        "  print(f\"The values are {a}, {b}, {c}\")\n",
        "\n",
        "my_function(a=1,b=2,c=3)\n",
        "\n",
        "# now interchanging the place\n",
        "def my_function(a,b,c):\n",
        "  print(f\"The values are {a}, {b}, {c}\")\n",
        "\n",
        "my_function(c=3,a=1,b=2)"
      ],
      "metadata": {
        "colab": {
          "base_uri": "https://localhost:8080/"
        },
        "id": "V2Iy3RW-HLfZ",
        "outputId": "71a8d8e6-b6c9-463c-875c-99badebb63ce"
      },
      "execution_count": null,
      "outputs": [
        {
          "output_type": "stream",
          "name": "stdout",
          "text": [
            "Hello i am Mahesh from India\n",
            "Hello i am India from Mahesh\n",
            "The values are 1, 2, 3\n",
            "The values are 1, 2, 3\n"
          ]
        }
      ]
    },
    {
      "cell_type": "code",
      "source": [
        "# Paint area calculator\n",
        "def paint_code(height,width,cover):\n",
        "  cal=round((height*width)/cover) #we can also use math.ceil to round up\n",
        "  print(cal)\n",
        "\n",
        "test_h=int(input(\"Enter the height: \"))\n",
        "test_w=int(input(\"Enter the width: \"))\n",
        "coverage=5\n",
        "\n",
        "paint_code(test_h,test_w,coverage)"
      ],
      "metadata": {
        "colab": {
          "base_uri": "https://localhost:8080/"
        },
        "id": "4XDKg688KyZu",
        "outputId": "f0cc5e89-8c44-40e9-e908-9de8d45865b2"
      },
      "execution_count": null,
      "outputs": [
        {
          "output_type": "stream",
          "name": "stdout",
          "text": [
            "Enter the height: 2\n",
            "Enter the width: 4\n",
            "2\n"
          ]
        }
      ]
    },
    {
      "cell_type": "code",
      "source": [
        "# to check the number is prime number or not\n",
        "import math\n",
        "def prime_num(number):\n",
        "  count=0\n",
        "  for i in range(1,number+1):\n",
        "    if number%i==0:\n",
        "      count+=1\n",
        "  if count>2:\n",
        "    print(f\"{number} is not a prime number\")\n",
        "  else:\n",
        "    print(f\"{number} is a prime number\")\n",
        "\n",
        "prime_num(17)\n",
        "\n",
        "# Another way\n",
        "def prime_num(number):\n",
        "  is_prime=True\n",
        "  for i in range(2,number):\n",
        "    if number%i==0:\n",
        "      is_prime=False\n",
        "  if not is_prime:\n",
        "    print(f\"{number} is not a prime number\")\n",
        "  else:\n",
        "    print(f\"{number} is a prime number\")\n",
        "prime_num(34)"
      ],
      "metadata": {
        "colab": {
          "base_uri": "https://localhost:8080/"
        },
        "id": "T_0vv4XNMpxB",
        "outputId": "d973f55a-5982-454f-98d7-9bd4d2ef1d14"
      },
      "execution_count": null,
      "outputs": [
        {
          "output_type": "stream",
          "name": "stdout",
          "text": [
            "17 is a prime number\n",
            "34 is not a prime number\n"
          ]
        }
      ]
    },
    {
      "cell_type": "code",
      "source": [
        "# Caesar Cipher game\n",
        "letters = ['a', 'b', 'c', 'd', 'e', 'f', 'g', 'h', 'i', 'j', 'k', 'l', 'm', 'n', 'o', 'p', 'q', 'r', 's', 't', 'u', 'v', 'w', 'x', 'y', 'z']\n",
        "direction=input(\"Enter if you want to encode or decode the code\")\n",
        "text=input(\"Enter the message\\n\").lower()\n",
        "shift=int(input(\"Enter the number of shift: \"))\n",
        "\n",
        "def encrypt(plain_text,shift_amt):\n",
        "  encrypt_result=\"\"\n",
        "  for i in plain_text:\n",
        "    x=letters.index(i)\n",
        "    if x+shift_amt>25:\n",
        "      x=(x+shift_amt)-26\n",
        "    else:\n",
        "      x=x+shift_amt\n",
        "    encrypt_result+=letters[x]\n",
        "  print(encrypt_result)\n",
        "\n",
        "def decrypt(plain_text,shift_amt):\n",
        "  decrypt_result=\"\"\n",
        "  for i in plain_text:\n",
        "    x=letters.index(i)\n",
        "    if x-shift_amt<0:\n",
        "      x=(x-shift_amt)+26\n",
        "    else:\n",
        "      x=x-shift_amt\n",
        "    decrypt_result+=letters[x]\n",
        "  print(decrypt_result)\n",
        "if direction==\"encode\":\n",
        "  encrypt(text,shift)\n",
        "else:\n",
        "  decrypt(text,shift)\n",
        "# rfmjxm"
      ],
      "metadata": {
        "colab": {
          "base_uri": "https://localhost:8080/"
        },
        "id": "19muhJQzTEFT",
        "outputId": "23ba6b76-aeb6-4e6c-aaf0-3c3ce83d9214"
      },
      "execution_count": null,
      "outputs": [
        {
          "output_type": "stream",
          "name": "stdout",
          "text": [
            "Enter if you want to encode or decode the codedecode\n",
            "Enter the message\n",
            "rfmjxm\n",
            "Enter the number of shift: 5\n",
            "mahesh\n"
          ]
        }
      ]
    },
    {
      "cell_type": "code",
      "source": [
        "# Putting all in one function\n",
        "mkj_logo = '''\n",
        "*   *  *   *  ***\n",
        "** **  *  *    *\n",
        "* * *  * *     *\n",
        "*   *  *  *  * *\n",
        "*   *  *   *  **\n",
        "'''\n",
        "print(mkj_logo)\n",
        "def caesar():\n",
        "  letters = ['a', 'b', 'c', 'd', 'e', 'f', 'g', 'h', 'i', 'j', 'k', 'l', 'm', 'n', 'o', 'p', 'q', 'r', 's', 't', 'u', 'v', 'w', 'x', 'y', 'z']\n",
        "  direction=input(\"Enter if you want to encode or decode the code: \").lower()\n",
        "  plain_text=input(\"Enter the message\\n\").lower()\n",
        "  shift_amt=int(input(\"Enter the number of shift: \"))\n",
        "  result=\"\"\n",
        "\n",
        "  if direction==\"encode\":\n",
        "    for i in plain_text:\n",
        "      x=letters.index(i)\n",
        "      if x+shift_amt>25:\n",
        "        x=(x+shift_amt)-26\n",
        "      else:\n",
        "        x=x+shift_amt\n",
        "      result+=letters[x]\n",
        "  else:\n",
        "    for i in plain_text:\n",
        "      x=letters.index(i)\n",
        "      if x-shift_amt<0:\n",
        "        x=(x-shift_amt)+26\n",
        "      else:\n",
        "        x=x-shift_amt\n",
        "      result+=letters[x]\n",
        "\n",
        "  print(result)\n",
        "  restart=input(\"Do you want to restart the game (Y/N): \").upper()\n",
        "  if restart=='Y':\n",
        "    caesar()\n",
        "\n",
        "caesar()"
      ],
      "metadata": {
        "colab": {
          "base_uri": "https://localhost:8080/"
        },
        "id": "a-47CNgOdAbH",
        "outputId": "8a29c6b7-0f2d-4029-f1e8-d45ba4903c5d"
      },
      "execution_count": null,
      "outputs": [
        {
          "name": "stdout",
          "output_type": "stream",
          "text": [
            "\n",
            "*   *  *   *  ***\n",
            "** **  *  *    * \n",
            "* * *  * *     * \n",
            "*   *  *  *  * * \n",
            "*   *  *   *  ** \n",
            "\n",
            "Enter if you want to encode or decode the code: encode\n",
            "Enter the message\n",
            "mahesh\n",
            "Enter the number of shift: 5\n",
            "rfmjxm\n",
            "Do you want to restart the game (Y/N): y\n",
            "Enter if you want to encode or decode the code: decode\n",
            "Enter the message\n",
            "rfmjxm\n",
            "Enter the number of shift: 5\n",
            "mahesh\n",
            "Do you want to restart the game (Y/N): n\n"
          ]
        }
      ]
    },
    {
      "cell_type": "markdown",
      "source": [
        "# Day 9"
      ],
      "metadata": {
        "id": "QY6HfOheSAlB"
      }
    },
    {
      "cell_type": "code",
      "source": [
        "# Dictionaries in Python\n",
        "dict={\"Bug\":\"An error\",\n",
        "      123:\"a piece of code in it\",\n",
        "      \"loop\":\"a continious running code\"}\n",
        "print(dict[\"loop\"]) #we have to declare in the same data type as we define in the dictionary\n",
        "print(dict[123])"
      ],
      "metadata": {
        "colab": {
          "base_uri": "https://localhost:8080/"
        },
        "id": "HS2xW-6-SC_i",
        "outputId": "6c1c8b2b-ed78-4e6c-9c56-49e951261783"
      },
      "execution_count": null,
      "outputs": [
        {
          "output_type": "stream",
          "name": "stdout",
          "text": [
            "a continious running code\n",
            "a piece of code in it\n"
          ]
        }
      ]
    },
    {
      "cell_type": "code",
      "source": [
        "# Adding new element to dictionary\n",
        "dict[\"mkj\"]=\"Mahesh Kr. Jaiswal\"\n",
        "print(dict)"
      ],
      "metadata": {
        "colab": {
          "base_uri": "https://localhost:8080/"
        },
        "id": "9SC4vb6zEvxp",
        "outputId": "d5f40d98-fb5f-4ecb-948d-c7fdb8e667f5"
      },
      "execution_count": null,
      "outputs": [
        {
          "output_type": "stream",
          "name": "stdout",
          "text": [
            "{'Bug': 'An error', 123: 'a piece of code in it', 'loop': 'a continious running code', 'mkj': 'Mahesh Kr. Jaiswal'}\n"
          ]
        }
      ]
    },
    {
      "cell_type": "code",
      "source": [
        "# empty the dictionary or changing the value of the key\n",
        "dict[\"Bug\"]=\"A big mistake\"\n",
        "print(dict)\n",
        "\n",
        "# dict={} // it will wipe all the data in the dictionary and redefine it\n",
        "# if the key is not there in the dictionary it will add it as a new key in the dictionary\n"
      ],
      "metadata": {
        "colab": {
          "base_uri": "https://localhost:8080/"
        },
        "id": "Ni5fBfwRJImp",
        "outputId": "5a630cea-4fe8-47ba-d1cd-270e965b86df"
      },
      "execution_count": null,
      "outputs": [
        {
          "output_type": "stream",
          "name": "stdout",
          "text": [
            "{'Bug': 'A big mistake', 123: 'a piece of code in it', 'loop': 'a continious running code', 'mkj': 'Mahesh Kr. Jaiswal'}\n"
          ]
        }
      ]
    },
    {
      "cell_type": "code",
      "source": [
        "# Iterating through the dictionary using for loop\n",
        "for key in dict:\n",
        "  print(key) #it will print the key present in the dictionary\n",
        "\n",
        "  print(dict[key]) # it will print the value of that key"
      ],
      "metadata": {
        "id": "bxbB6RayJy7-"
      },
      "execution_count": null,
      "outputs": []
    },
    {
      "cell_type": "code",
      "source": [
        "# Grade Program\n",
        "marks_dict={\"ram\":45,\"Shyam\":95,\"mkj\":87,\"tej\":77}\n",
        "\n",
        "grade_dict={}\n",
        "\n",
        "for key in marks_dict:\n",
        "  if marks_dict[key] > 90:\n",
        "    grade_dict[key]=\"Outstanding\"\n",
        "  elif marks_dict[key]>80:\n",
        "    grade_dict[key]=\"Exceeds Expectation\"\n",
        "  elif marks_dict[key]>70:\n",
        "    grade_dict[key]=\"Acceptable\"\n",
        "  else:\n",
        "    grade_dict[key]=\"fail\"\n",
        "\n",
        "print(grade_dict)"
      ],
      "metadata": {
        "colab": {
          "base_uri": "https://localhost:8080/"
        },
        "id": "K30JkCSxKksb",
        "outputId": "1a58d50e-25d4-44d4-b47f-e59044804446"
      },
      "execution_count": null,
      "outputs": [
        {
          "output_type": "stream",
          "name": "stdout",
          "text": [
            "{'ram': 'fail', 'Shyam': 'Outstanding', 'mkj': 'Exceeds Expectation', 'tej': 'Acceptable'}\n"
          ]
        }
      ]
    },
    {
      "cell_type": "code",
      "source": [
        "# Nested list and nested dictionaries\n",
        "\n",
        "# Nested dictionaries in dictionaries\n",
        "nested_list_dict={\"germany\":[\"berlin\",\"hamburg\"],\n",
        "                  \"france\":\"paris\"}\n",
        "\n",
        "nested_dict={\"germany\":{\"germany\":[\"berlin\",\"hamburg\"],\"total_visited\":34},\n",
        "             \"france\":[\"berlin\",\"hamburg\"]}\n",
        "print(nested_list_dict)\n",
        "print(nested_dict)\n",
        "\n",
        "# Nested dictionaries in list\n",
        "nested_list=[{\n",
        "    \"germany\":[\"berlin\",\"hamburg\"],\n",
        "    \"france\":\"paris\"\n",
        "    },\n",
        "     {\n",
        "        \"germany\":[\"berlin\",\"hamburg\"],\n",
        "        \"total_visited\":34\n",
        "        }]\n",
        "print(nested_list)\n",
        "\n",
        "print(nested_list[0])"
      ],
      "metadata": {
        "colab": {
          "base_uri": "https://localhost:8080/"
        },
        "id": "9QQoA9R6O5WB",
        "outputId": "036bd222-f3a1-439e-8676-96867e8501fe"
      },
      "execution_count": null,
      "outputs": [
        {
          "output_type": "stream",
          "name": "stdout",
          "text": [
            "{'germany': ['berlin', 'hamburg'], 'france': 'paris'}\n",
            "{'germany': {'germany': ['berlin', 'hamburg'], 'total_visited': 34}, 'france': ['berlin', 'hamburg']}\n",
            "[{'germany': ['berlin', 'hamburg'], 'france': 'paris'}, {'germany': ['berlin', 'hamburg'], 'total_visited': 34}]\n",
            "{'germany': ['berlin', 'hamburg'], 'france': 'paris'}\n"
          ]
        }
      ]
    },
    {
      "cell_type": "code",
      "source": [
        "from IPython.display import clear_output"
      ],
      "metadata": {
        "id": "N0xDsa8hk66Y"
      },
      "execution_count": null,
      "outputs": []
    },
    {
      "cell_type": "code",
      "source": [
        "# Secret Auction Game\n",
        "logo = '''\n",
        "                         ___________\n",
        "                         \\         /\n",
        "                          )_______(\n",
        "                          |\"\"\"\"\"\"\"|_.-._,.---------.,_.-._\n",
        "                          |       | | |               | | ''-.\n",
        "                          |       |_| |_             _| |_..-'\n",
        "                          |_______| '-' `'---------'` '-'\n",
        "                          )\"\"\"\"\"\"\"(\n",
        "                         /_________\\\n",
        "                      .---------------.\n",
        "                     /_________________\\\n",
        "'''\n",
        "print(logo)\n",
        "bid_dict={}\n",
        "\n",
        "def add_value_dict():\n",
        "  key=input(\"Enter the bidder's name: \")\n",
        "  value=int(input(\"Enter the bid amount: \"))\n",
        "  bid_dict[key]=value\n",
        "\n",
        "\n",
        "def bid_game():\n",
        "  more_bid=True\n",
        "  while more_bid:\n",
        "    add_value_dict()\n",
        "    question=input(\"Do you have any more bid's (Y/N): \").upper()\n",
        "    if question ==\"N\":\n",
        "      more_bid=False\n",
        "    clear_output()\n",
        "  h_bid_name=\"\"\n",
        "  h_bid=0\n",
        "  for key in bid_dict:\n",
        "    if bid_dict[key]>h_bid:\n",
        "      h_bid_name=key\n",
        "      h_bid=bid_dict[key]\n",
        "  print(f\"The highest bid is by {h_bid_name} of ${h_bid}\")\n",
        "\n",
        "bid_game()\n",
        "\n"
      ],
      "metadata": {
        "id": "WW7RtZJjgEvS"
      },
      "execution_count": null,
      "outputs": []
    },
    {
      "cell_type": "markdown",
      "source": [
        "# Day 10"
      ],
      "metadata": {
        "id": "CZjW9I1Qf2Po"
      }
    },
    {
      "cell_type": "code",
      "source": [
        "# Functions with output\n",
        "def format_name(f_name,l_name):\n",
        "  # f=f_name[0].upper()\n",
        "  # l=l_name[0].upper()\n",
        "  # name=f+f_name[1:len(f_name)]+\" \"+l+l_name[1:len(l_name)]\n",
        "  f=f_name.title() # second way is using title() function\n",
        "  l=l_name.title()\n",
        "  name=f+\" \"+l\n",
        "  return name\n",
        "\n",
        "print(format_name(\"mahesh\",\"jaiswal\")) # Mahesh Jaiswal"
      ],
      "metadata": {
        "colab": {
          "base_uri": "https://localhost:8080/"
        },
        "id": "g6lLhu5yf7II",
        "outputId": "8da84983-11dc-451e-c910-f004f48c5e73"
      },
      "execution_count": null,
      "outputs": [
        {
          "output_type": "stream",
          "name": "stdout",
          "text": [
            "Mahesh Jaiswal\n"
          ]
        }
      ]
    },
    {
      "cell_type": "code",
      "source": [
        "# Functions with multiple return value\n",
        "def calc(operator,a,b):\n",
        "  if operator==\"+\":\n",
        "    return a+b\n",
        "  elif operator==\"-\":\n",
        "    return a-b\n",
        "  else:\n",
        "    return \"Invalid input\"\n",
        "op=input(\"Enter the operator: \")\n",
        "value1=int(input(\"Value1: \"))\n",
        "value2=int(input(\"Value2: \"))\n",
        "print(calc(op,value1,value2))"
      ],
      "metadata": {
        "colab": {
          "base_uri": "https://localhost:8080/"
        },
        "id": "HuZ_GVpC8jfF",
        "outputId": "fd25ce74-7dfe-412b-bbac-03c3d9bf11d8"
      },
      "execution_count": null,
      "outputs": [
        {
          "output_type": "stream",
          "name": "stdout",
          "text": [
            "Enter the operator: +\n",
            "Value1: 2\n",
            "Value2: 4\n",
            "6\n"
          ]
        }
      ]
    },
    {
      "cell_type": "code",
      "source": [
        "# Days in Month\n",
        "day_in_month=[31,28,31,30,31,30,31,31,30,31,30,31]\n",
        "\n",
        "def leap_y(year):\n",
        "  if (year%4==0 and year%100!=0) or year%400==0:\n",
        "    return True\n",
        "  else:\n",
        "    return False\n",
        "\n",
        "def days_in_month(year,month):\n",
        "  \"\"\"This is the function to get the no of days in a month\"\"\" #this is a docstring use to keep the information about what function is made for\n",
        "  if leap_y(year) and month==\"2\":\n",
        "    return day_in_month[1]\n",
        "  else:\n",
        "    return day_in_month[month-1]\n",
        "result=days_in_month(2030,5)\n",
        "print(result)\n"
      ],
      "metadata": {
        "colab": {
          "base_uri": "https://localhost:8080/"
        },
        "id": "ATTPkFAnBd44",
        "outputId": "dd5062ee-0e79-4273-ff3e-69a3b48ff93f"
      },
      "execution_count": null,
      "outputs": [
        {
          "output_type": "stream",
          "name": "stdout",
          "text": [
            "31\n"
          ]
        }
      ]
    },
    {
      "cell_type": "code",
      "source": [
        "# Calculator Designing\n",
        "\n",
        "# add\n",
        "def add(a,b):\n",
        "  return a+b\n",
        "\n",
        "# substract\n",
        "def sub(a,b):\n",
        "  return a-b\n",
        "\n",
        "# Multiply\n",
        "def mul(a,b):\n",
        "  return a*b\n",
        "\n",
        "# divide\n",
        "def div(a,b):\n",
        "  return a/b\n",
        "\n",
        "# Definig a dictionaries\n",
        "calc_dict={\"+\":add,\n",
        "           \"-\": sub,\n",
        "            \"*\": mul,\n",
        "            \"/\": div}\n",
        "\n",
        "# num1=int(input(\"Enter the value 1: \"))\n",
        "# num2=int(input(\"Enter the value 2: \"))\n",
        "\n",
        "# for key in calc_dict:\n",
        "#   print(key)\n",
        "# operator=input(\"Choose one of the above operation: \")\n",
        "\n",
        "# ans=calc_dict[operator](num1,num2)\n",
        "# print(f\"{num1} {operator} {num2} is {ans}\")\n",
        "def calculator():\n",
        "  to_continue=True\n",
        "  num1=float(input(\"Enter the value 1: \"))\n",
        "\n",
        "  for key in calc_dict:\n",
        "      print(key)\n",
        "\n",
        "  while to_continue:\n",
        "    operator=input(\"Choose one of the above operation: \")\n",
        "    num2=float(input(\"Enter the value 2: \"))\n",
        "    ans=calc_dict[operator](num1,num2)\n",
        "    print(f\"{num1} {operator} {num2} is {ans}\")\n",
        "    op=input(\"Do you want to continue the calculation or want a new calculation or you want to exit (y/n/e): \").lower()\n",
        "    if op ==\"y\":\n",
        "      num1=ans\n",
        "    elif op==\"e\":\n",
        "      to_continue=False\n",
        "    else:\n",
        "      to_continue=False\n",
        "      calculator()\n",
        "\n",
        "calculator()"
      ],
      "metadata": {
        "id": "jzU6aACSDFOh",
        "colab": {
          "base_uri": "https://localhost:8080/"
        },
        "outputId": "089a9e97-2471-4b59-df33-a8d7f022a0d0"
      },
      "execution_count": null,
      "outputs": [
        {
          "name": "stdout",
          "output_type": "stream",
          "text": [
            "Enter the value 1: 5\n",
            "+\n",
            "-\n",
            "*\n",
            "/\n",
            "Choose one of the above operation: *\n",
            "Enter the value 2: 9\n",
            "5.0 * 9.0 is 45.0\n",
            "Do you want to continue the calculation or want a new calculation or you want to exit (y/n/e): y\n",
            "Choose one of the above operation: -\n",
            "Enter the value 2: 5\n",
            "45.0 - 5.0 is 40.0\n",
            "Do you want to continue the calculation or want a new calculation or you want to exit (y/n/e): n\n",
            "Enter the value 1: 8\n",
            "+\n",
            "-\n",
            "*\n",
            "/\n",
            "Choose one of the above operation: +\n",
            "Enter the value 2: 25\n",
            "8.0 + 25.0 is 33.0\n",
            "Do you want to continue the calculation or want a new calculation or you want to exit (y/n/e): e\n"
          ]
        }
      ]
    },
    {
      "cell_type": "markdown",
      "source": [
        "# Day 11"
      ],
      "metadata": {
        "id": "hX4tfdO-25b6"
      }
    },
    {
      "cell_type": "code",
      "source": [
        "# importing random library\n",
        "import random\n",
        "from IPython.display import clear_output"
      ],
      "metadata": {
        "id": "HpFAos0cafNO"
      },
      "execution_count": null,
      "outputs": []
    },
    {
      "cell_type": "code",
      "source": [
        "# BlackJack Program\n",
        "cards=[11,2,3,4,5,6,7,8,9,10,10,10,10]\n",
        "\n",
        "still_in_game=True\n",
        "def extra_card():\n",
        "  return random.choice(cards)\n",
        "\n",
        "def blackjack():\n",
        "  user_value_1=random.choice(cards)\n",
        "  user_value_2=random.choice(cards)\n",
        "  com_value_1=random.choice(cards)\n",
        "  com_value_2=random.choice(cards)\n",
        "  # user_value_1=cards[random.randint(0,len(cards)-1)]\n",
        "  # user_value_2=cards[random.randint(0,len(cards)-1)]\n",
        "  # com_value_1=cards[random.randint(0,len(cards)-1)]\n",
        "  # com_value_2=cards[random.randint(0,len(cards)-1)]\n",
        "\n",
        "  user_sum=user_value_1+user_value_2\n",
        "  com_sum=com_value_1+com_value_2\n",
        "\n",
        "  if user_sum==21:\n",
        "    print(\"BlackJack! You win\")\n",
        "    return\n",
        "  # elif com_sum==21:\n",
        "  #   print(\"BlackJack! Com win\")\n",
        "  #   return\n",
        "  print(f\"Your total score is: {user_sum}\")\n",
        "  print(f\"Computer's first card score is {com_value_1}\")\n",
        "  more_card=True\n",
        "  while more_card:\n",
        "    if input(\"Do you want more cards(y/n): \").lower()==\"n\":\n",
        "      more_card=False\n",
        "      if user_sum>com_sum:\n",
        "        print(f\"Your score is {user_sum} and Com score is {com_sum}\")\n",
        "        print(\"BlackJack! You win\")\n",
        "        break\n",
        "      else:\n",
        "        print(f\"Your score is {user_sum} and Com score is {com_sum}\")\n",
        "        print(\"You Lose\")\n",
        "        break\n",
        "    else:\n",
        "      new_card=extra_card()\n",
        "      user_sum+=new_card\n",
        "      print(f\"You new card is {new_card} and your score is {user_sum}\")\n",
        "\n",
        "    if com_sum<17:\n",
        "      new_card=extra_card()\n",
        "      com_sum+=new_card\n",
        "\n",
        "    if user_sum>21:\n",
        "      print(f\"Your score is {user_sum} and Com score is {com_sum}\")\n",
        "      print(\"Bust!! You lose\")\n",
        "      more_card=False\n",
        "    elif com_sum>21:\n",
        "      print(f\"Your score is {user_sum} and Com score is {com_sum}\")\n",
        "      print(\"BlackJack! You win\")\n",
        "      more_card=False\n",
        "blackjack()\n",
        "\n",
        "while input(\"Do you want to play the game again? y/n: \").lower()==\"y\":\n",
        "  clear_output()\n",
        "  blackjack()"
      ],
      "metadata": {
        "colab": {
          "base_uri": "https://localhost:8080/"
        },
        "id": "WMrdGJO627wQ",
        "outputId": "4196b508-361b-41ba-e09d-21abd4ebfcc6"
      },
      "execution_count": null,
      "outputs": [
        {
          "name": "stdout",
          "output_type": "stream",
          "text": [
            "Your total score is: 14\n",
            "Computer's first card score is 6\n",
            "Do you want more cards(y/n): y\n",
            "You new card is 9 and your score is 23\n",
            "Your score is 23 and Com score is 17\n",
            "Bust!! You lose\n",
            "Do you want to play the game again? y/n: n\n"
          ]
        }
      ]
    },
    {
      "cell_type": "markdown",
      "source": [
        "# Day 12"
      ],
      "metadata": {
        "id": "03pZX5D9OZBU"
      }
    },
    {
      "cell_type": "code",
      "source": [
        "# Local vs Global Scope\n",
        "g_scope=34\n",
        "def my_function():\n",
        "  l_scope=34\n",
        "  print(f\"It will be available only inside the function {l_scope}\")\n",
        "\n",
        "my_function()\n",
        "print(f\"It will be available globally {g_scope}\")"
      ],
      "metadata": {
        "colab": {
          "base_uri": "https://localhost:8080/"
        },
        "id": "xJ1DRkgCOcc6",
        "outputId": "d92e266c-138b-4b19-e54a-af6f27b9968a"
      },
      "execution_count": null,
      "outputs": [
        {
          "output_type": "stream",
          "name": "stdout",
          "text": [
            "It will be available only inside the function 34\n",
            "It will be available globally 34\n"
          ]
        }
      ]
    },
    {
      "cell_type": "code",
      "source": [
        "# Python does not support block scope\n",
        "list=[23,45,25]\n",
        "if 23 in list:\n",
        "  n_variable=23\n",
        "print(n_variable)"
      ],
      "metadata": {
        "colab": {
          "base_uri": "https://localhost:8080/"
        },
        "id": "8Y4mZM1dR91C",
        "outputId": "f19b03cc-be30-4c59-b464-8fc7c42c5ac0"
      },
      "execution_count": null,
      "outputs": [
        {
          "output_type": "stream",
          "name": "stdout",
          "text": [
            "23\n"
          ]
        }
      ]
    },
    {
      "cell_type": "code",
      "source": [
        "# Guess the number\n",
        "\n",
        "logo='''\n",
        "GUESS THE NUMBER :)\n",
        "'''\n",
        "\n",
        "def guess_result(num):\n",
        "  guess_num=int(input(\"Guess the number: \"))\n",
        "  if guess_num>num:\n",
        "    print(f\"{guess_num} is too high.. Guess a little low\")\n",
        "    return 1\n",
        "  elif guess_num<num:\n",
        "    print(f\"{guess_num} is too low.. Guess a little high\")\n",
        "    return -1\n",
        "  else:\n",
        "    print(f\"Congratulations.. {guess_num} is the right guess\")\n",
        "    return 0\n",
        "\n",
        "\n",
        "play=True\n",
        "while play:\n",
        "  num=random.randint(1,101)\n",
        "  print(logo)\n",
        "  if input(\"Do you want to play: easy or hard (e/h): \").lower()==\"h\":\n",
        "    attempt=10\n",
        "    number=guess_result(num)\n",
        "    while attempt>0:\n",
        "        if number==0:\n",
        "            break\n",
        "        attempt-=1\n",
        "        print(f\"You have only {attempt} to guess\")\n",
        "        if attempt==0:\n",
        "          print(\"You lose the game\")\n",
        "          print(f\"The number was {num}\")\n",
        "          break\n",
        "        number=guess_result(num)\n",
        "\n",
        "\n",
        "\n",
        "  else:\n",
        "    attempt=5\n",
        "    number=guess_result(num)\n",
        "    while attempt>0:\n",
        "        if number==0:\n",
        "            break\n",
        "        attempt-=1\n",
        "        print(f\"You have only {attempt} to guess\")\n",
        "        if attempt==0:\n",
        "          print(\"You lose the game\")\n",
        "          print(f\"The number was {num}\")\n",
        "          break\n",
        "        number=guess_result(num)\n",
        "\n",
        "\n",
        "\n",
        "\n",
        "  if input(\"Do you want to play again? (y/n): \").lower()==\"n\":\n",
        "    play=False\n",
        "  else:\n",
        "    clear_output()"
      ],
      "metadata": {
        "colab": {
          "base_uri": "https://localhost:8080/"
        },
        "id": "13NmifjuWqLi",
        "outputId": "440a7eb3-3766-43c8-9380-b9d95ca23a43"
      },
      "execution_count": null,
      "outputs": [
        {
          "name": "stdout",
          "output_type": "stream",
          "text": [
            "\n",
            "GUESS THE NUMBER :)\n",
            "\n",
            "Do you want to play: easy or hard (e/h): e\n",
            "Guess the number: 60\n",
            "60 is too high.. Guess a little low\n",
            "You have only 4 to guess\n",
            "Guess the number: 40\n",
            "40 is too high.. Guess a little low\n",
            "You have only 3 to guess\n",
            "Guess the number: 20\n",
            "20 is too low.. Guess a little high\n",
            "You have only 2 to guess\n",
            "Guess the number: 25\n",
            "25 is too high.. Guess a little low\n",
            "You have only 1 to guess\n",
            "Guess the number: 23\n",
            "23 is too low.. Guess a little high\n",
            "You have only 0 to guess\n",
            "You lose the game\n",
            "The number was 24\n",
            "Do you want to play again? (y/n): n\n"
          ]
        }
      ]
    },
    {
      "cell_type": "markdown",
      "source": [
        "# Day 13"
      ],
      "metadata": {
        "id": "0hP8EreBMOmA"
      }
    },
    {
      "cell_type": "code",
      "source": [
        "# Bug fixing exercise 1\n",
        "# Which number do you want to check?\n",
        "number = int(input())\n",
        "\n",
        "if number % 2 = 0 :  # here the it assigning the value not comparing\n",
        "  print(\"This is an even numbe.\") velse:\n",
        "\n",
        "print(\"This is an odd number.\")\n",
        "\n",
        "# the correct code is\n",
        "if number % 2 == 0 :\n",
        "  print(\"This is an even numbe.\") velse:\n",
        "\n",
        "print(\"This is an odd number.\")\n"
      ],
      "metadata": {
        "id": "oAXWHKACMQuP"
      },
      "execution_count": null,
      "outputs": []
    },
    {
      "cell_type": "code",
      "source": [
        "# Bug fixing exercise 2\n",
        "\n",
        "# Which year do you want to check?\n",
        "year = input()  #here we want to take integer but we are taking str by default\n",
        "\n",
        "if year % 4 == 0:\n",
        "    if year % 100 == 0:\n",
        "        if year % 400 == 0:\n",
        "            print(\"Leap year.\")\n",
        "        else:\n",
        "            print(\"Not leap year.\")\n",
        "    else:\n",
        "        print(\"Leap year.\")\n",
        "else:\n",
        "    print(\"Not leap year.\")\n",
        "\n",
        "# the correct code is\n",
        "\n",
        "year = int(input())\n",
        "\n",
        "if year % 4 == 0:\n",
        "    if year % 100 == 0:\n",
        "        if year % 400 == 0:\n",
        "            print(\"Leap year.\")\n",
        "        else:\n",
        "            print(\"Not leap year.\")\n",
        "    else:\n",
        "        print(\"Leap year.\")\n",
        "else:\n",
        "    print(\"Not leap year.\")\n",
        "\n"
      ],
      "metadata": {
        "id": "27ffWlktMrJH"
      },
      "execution_count": null,
      "outputs": []
    },
    {
      "cell_type": "code",
      "source": [
        "# Bug fixing exercise 3\n",
        "\n",
        "# Target is the number up to which we count\n",
        "target = int(input())\n",
        "\n",
        "for number in range(1, target + 1):\n",
        "    if number % 3 == 0 and number % 5 == 0:\n",
        "        print(\"FizzBuzz\")\n",
        "    if number % 3 == 0:  #instead we should use elif\n",
        "        print(\"Fizz\")\n",
        "    if number % 5 == 0:\n",
        "        print(\"Buzz\")\n",
        "    else:\n",
        "        print([number])  # here square bracket should be remove as number is int\n",
        "\n",
        "#the correct code is\n",
        "# Target is the number up to which we count\n",
        "target = int(input())\n",
        "\n",
        "for number in range(1, target + 1):\n",
        "    if number % 3 == 0 and number % 5 == 0:\n",
        "        print(\"FizzBuzz\")\n",
        "    elif number % 3 == 0:\n",
        "        print(\"Fizz\")\n",
        "    elif number % 5 == 0:\n",
        "        print(\"Buzz\")\n",
        "    else:\n",
        "        print(number)\n",
        "\n"
      ],
      "metadata": {
        "id": "Vvpm75SQN3l-"
      },
      "execution_count": null,
      "outputs": []
    },
    {
      "cell_type": "markdown",
      "source": [
        "# Day 14"
      ],
      "metadata": {
        "id": "Gy_5JTnYCNKr"
      }
    },
    {
      "cell_type": "code",
      "source": [
        "import random\n",
        "from IPython.display import clear_output"
      ],
      "metadata": {
        "id": "Nv6458kQ6NZ6"
      },
      "execution_count": null,
      "outputs": []
    },
    {
      "cell_type": "code",
      "source": [
        "# Higher and Lower Game\n",
        "\n",
        "logo = \"\"\"\n",
        "    __  ___       __\n",
        "   / / / (_)___ _/ /_  ___  _____\n",
        "  / /_/ / / __ `/ __ \\/ _ \\/ ___/\n",
        " / __  / / /_/ / / / /  __/ /\n",
        "/_/ ///_/\\__, /_/ /_/\\___/_/\n",
        "   / /  /____/_      _____  _____\n",
        "  / /   / __ \\ | /| / / _ \\/ ___/\n",
        " / /___/ /_/ / |/ |/ /  __/ /\n",
        "/_____/\\____/|__/|__/\\___/_/\n",
        "\"\"\"\n",
        "\n",
        "vs = \"\"\"\n",
        "  _    __\n",
        "  | |  / /____\n",
        "  | | / / ___/\n",
        "  | |/ (__  )\n",
        "  |___/____(_)\n",
        "\"\"\"\n",
        "\n",
        "# Data to play on\n",
        "\n",
        "data = [\n",
        "    {\n",
        "        'name': 'Instagram',\n",
        "        'follower_count': 346,\n",
        "        'description': 'Social media platform',\n",
        "        'country': 'United States'\n",
        "    },\n",
        "    {\n",
        "        'name': 'Cristiano Ronaldo',\n",
        "        'follower_count': 215,\n",
        "        'description': 'Footballer',\n",
        "        'country': 'Portugal'\n",
        "    },\n",
        "    {\n",
        "        'name': 'Ariana Grande',\n",
        "        'follower_count': 183,\n",
        "        'description': 'Musician and actress',\n",
        "        'country': 'United States'\n",
        "    },\n",
        "    {\n",
        "        'name': 'Dwayne Johnson',\n",
        "        'follower_count': 181,\n",
        "        'description': 'Actor and professional wrestler',\n",
        "        'country': 'United States'\n",
        "    },\n",
        "    {\n",
        "        'name': 'Selena Gomez',\n",
        "        'follower_count': 174,\n",
        "        'description': 'Musician and actress',\n",
        "        'country': 'United States'\n",
        "    },\n",
        "    {\n",
        "        'name': 'Kylie Jenner',\n",
        "        'follower_count': 172,\n",
        "        'description': 'Reality TV personality and businesswoman and Self-Made Billionaire',\n",
        "        'country': 'United States'\n",
        "    },\n",
        "    {\n",
        "        'name': 'Kim Kardashian',\n",
        "        'follower_count': 167,\n",
        "        'description': 'Reality TV personality and businesswoman',\n",
        "        'country': 'United States'\n",
        "    },\n",
        "    {\n",
        "        'name': 'Lionel Messi',\n",
        "        'follower_count': 149,\n",
        "        'description': 'Footballer',\n",
        "        'country': 'Argentina'\n",
        "    },\n",
        "    {\n",
        "        'name': 'Beyoncé',\n",
        "        'follower_count': 145,\n",
        "        'description': 'Musician',\n",
        "        'country': 'United States'\n",
        "    },\n",
        "    {\n",
        "        'name': 'Neymar',\n",
        "        'follower_count': 138,\n",
        "        'description': 'Footballer',\n",
        "        'country': 'Brasil'\n",
        "    },\n",
        "    {\n",
        "        'name': 'National Geographic',\n",
        "        'follower_count': 135,\n",
        "        'description': 'Magazine',\n",
        "        'country': 'United States'\n",
        "    },\n",
        "    {\n",
        "        'name': 'Justin Bieber',\n",
        "        'follower_count': 133,\n",
        "        'description': 'Musician',\n",
        "        'country': 'Canada'\n",
        "    },\n",
        "    {\n",
        "        'name': 'Taylor Swift',\n",
        "        'follower_count': 131,\n",
        "        'description': 'Musician',\n",
        "        'country': 'United States'\n",
        "    },\n",
        "    {\n",
        "        'name': 'Kendall Jenner',\n",
        "        'follower_count': 127,\n",
        "        'description': 'Reality TV personality and Model',\n",
        "        'country': 'United States'\n",
        "    },\n",
        "    {\n",
        "        'name': 'Jennifer Lopez',\n",
        "        'follower_count': 119,\n",
        "        'description': 'Musician and actress',\n",
        "        'country': 'United States'\n",
        "    },\n",
        "    {\n",
        "        'name': 'Nicki Minaj',\n",
        "        'follower_count': 113,\n",
        "        'description': 'Musician',\n",
        "        'country': 'Trinidad and Tobago'\n",
        "    },\n",
        "    {\n",
        "        'name': 'Nike',\n",
        "        'follower_count': 109,\n",
        "        'description': 'Sportswear multinational',\n",
        "        'country': 'United States'\n",
        "    },\n",
        "    {\n",
        "        'name': 'Khloé Kardashian',\n",
        "        'follower_count': 108,\n",
        "        'description': 'Reality TV personality and businesswoman',\n",
        "        'country': 'United States'\n",
        "    },\n",
        "    {\n",
        "        'name': 'Miley Cyrus',\n",
        "        'follower_count': 107,\n",
        "        'description': 'Musician and actress',\n",
        "        'country': 'United States'\n",
        "    },\n",
        "    {\n",
        "        'name': 'Katy Perry',\n",
        "        'follower_count': 94,\n",
        "        'description': 'Musician',\n",
        "        'country': 'United States'\n",
        "    },\n",
        "    {\n",
        "        'name': 'Kourtney Kardashian',\n",
        "        'follower_count': 90,\n",
        "        'description': 'Reality TV personality',\n",
        "        'country': 'United States'\n",
        "    },\n",
        "    {\n",
        "        'name': 'Kevin Hart',\n",
        "        'follower_count': 89,\n",
        "        'description': 'Comedian and actor',\n",
        "        'country': 'United States'\n",
        "    },\n",
        "    {\n",
        "        'name': 'Ellen DeGeneres',\n",
        "        'follower_count': 87,\n",
        "        'description': 'Comedian',\n",
        "        'country': 'United States'\n",
        "    },\n",
        "    {\n",
        "        'name': 'Real Madrid CF',\n",
        "        'follower_count': 86,\n",
        "        'description': 'Football club',\n",
        "        'country': 'Spain'\n",
        "    },\n",
        "    {\n",
        "        'name': 'FC Barcelona',\n",
        "        'follower_count': 85,\n",
        "        'description': 'Football club',\n",
        "        'country': 'Spain'\n",
        "    },\n",
        "    {\n",
        "        'name': 'Rihanna',\n",
        "        'follower_count': 81,\n",
        "        'description': 'Musician and businesswoman',\n",
        "        'country': 'Barbados'\n",
        "    },\n",
        "    {\n",
        "        'name': 'Demi Lovato',\n",
        "        'follower_count': 80,\n",
        "        'description': 'Musician and actress',\n",
        "        'country': 'United States'\n",
        "    },\n",
        "    {\n",
        "        'name': \"Victoria's Secret\",\n",
        "        'follower_count': 69,\n",
        "        'description': 'Lingerie brand',\n",
        "        'country': 'United States'\n",
        "    },\n",
        "    {\n",
        "        'name': 'Zendaya',\n",
        "        'follower_count': 68,\n",
        "        'description': 'Actress and musician',\n",
        "        'country': 'United States'\n",
        "    },\n",
        "    {\n",
        "        'name': 'Shakira',\n",
        "        'follower_count': 66,\n",
        "        'description': 'Musician',\n",
        "        'country': 'Colombia'\n",
        "    },\n",
        "    {\n",
        "        'name': 'Drake',\n",
        "        'follower_count': 65,\n",
        "        'description': 'Musician',\n",
        "        'country': 'Canada'\n",
        "    },\n",
        "    {\n",
        "        'name': 'Chris Brown',\n",
        "        'follower_count': 64,\n",
        "        'description': 'Musician',\n",
        "        'country': 'United States'\n",
        "    },\n",
        "    {\n",
        "        'name': 'LeBron James',\n",
        "        'follower_count': 63,\n",
        "        'description': 'Basketball player',\n",
        "        'country': 'United States'\n",
        "    },\n",
        "    {\n",
        "        'name': 'Vin Diesel',\n",
        "        'follower_count': 62,\n",
        "        'description': 'Actor',\n",
        "        'country': 'United States'\n",
        "    },\n",
        "    {\n",
        "        'name': 'Cardi B',\n",
        "        'follower_count': 67,\n",
        "        'description': 'Musician',\n",
        "        'country': 'United States'\n",
        "    },\n",
        "    {\n",
        "        'name': 'David Beckham',\n",
        "        'follower_count': 82,\n",
        "        'description': 'Footballer',\n",
        "        'country': 'United Kingdom'\n",
        "    },\n",
        "    {\n",
        "        'name': 'Billie Eilish',\n",
        "        'follower_count': 61,\n",
        "        'description': 'Musician',\n",
        "        'country': 'United States'\n",
        "    },\n",
        "    {\n",
        "        'name': 'Justin Timberlake',\n",
        "        'follower_count': 59,\n",
        "        'description': 'Musician and actor',\n",
        "        'country': 'United States'\n",
        "    },\n",
        "    {\n",
        "        'name': 'UEFA Champions League',\n",
        "        'follower_count': 58,\n",
        "        'description': 'Club football competition',\n",
        "        'country': 'Europe'\n",
        "    },\n",
        "    {\n",
        "        'name': 'NASA',\n",
        "        'follower_count': 56,\n",
        "        'description': 'Space agency',\n",
        "        'country': 'United States'\n",
        "    },\n",
        "    {\n",
        "        'name': 'Emma Watson',\n",
        "        'follower_count': 56,\n",
        "        'description': 'Actress',\n",
        "        'country': 'United Kingdom'\n",
        "    },\n",
        "    {\n",
        "        'name': 'Shawn Mendes',\n",
        "        'follower_count': 57,\n",
        "        'description': 'Musician',\n",
        "        'country': 'Canada'\n",
        "    },\n",
        "    {\n",
        "        'name': 'Virat Kohli',\n",
        "        'follower_count': 55,\n",
        "        'description': 'Cricketer',\n",
        "        'country': 'India'\n",
        "    },\n",
        "    {\n",
        "        'name': 'Gigi Hadid',\n",
        "        'follower_count': 54,\n",
        "        'description': 'Model',\n",
        "        'country': 'United States'\n",
        "    },\n",
        "    {\n",
        "        'name': 'Priyanka Chopra Jonas',\n",
        "        'follower_count': 53,\n",
        "        'description': 'Actress and musician',\n",
        "        'country': 'India'\n",
        "    },\n",
        "    {\n",
        "        'name': '9GAG',\n",
        "        'follower_count': 52,\n",
        "        'description': 'Social media platform',\n",
        "        'country': 'China'\n",
        "    },\n",
        "    {\n",
        "        'name': 'Ronaldinho',\n",
        "        'follower_count': 51,\n",
        "        'description': 'Footballer',\n",
        "        'country': 'Brasil'\n",
        "    },\n",
        "    {\n",
        "        'name': 'Maluma',\n",
        "        'follower_count': 50,\n",
        "        'description': 'Musician',\n",
        "        'country': 'Colombia'\n",
        "    },\n",
        "    {\n",
        "        'name': 'Camila Cabello',\n",
        "        'follower_count': 49,\n",
        "        'description': 'Musician',\n",
        "        'country': 'Cuba'\n",
        "    },\n",
        "    {\n",
        "        'name': 'NBA',\n",
        "        'follower_count': 47,\n",
        "        'description': 'Club Basketball Competition',\n",
        "        'country': 'United States'\n",
        "    }\n",
        "]\n",
        "\n",
        "def format_data(account):\n",
        "  \"\"\"Format account into printable format: name, description and country\"\"\"\n",
        "  name = account[\"name\"]\n",
        "  description = account[\"description\"]\n",
        "  country = account[\"country\"]\n",
        "  # print(f'{name}: {account[\"follower_count\"]}')\n",
        "  return f\"{name}, a {description}, from {country}\"\n",
        "\n",
        "def check(guess,f1,f2):\n",
        "  if f1>f2:\n",
        "    return guess==\"a\"\n",
        "  else:\n",
        "    return guess==\"b\"\n",
        "play=True\n",
        "# print(random.choice(data))\n",
        "score=0\n",
        "while play:\n",
        "  print(logo)\n",
        "  choice1=random.choice(data)\n",
        "  choice2=random.choice(data)\n",
        "  f_count1=f_count2=0\n",
        "  print(f\"Compare A: {format_data(choice1)}\")\n",
        "  print(vs)\n",
        "  print(f\"Compare B: {format_data(choice2)}\")\n",
        "  f_count1=choice1[\"follower_count\"]\n",
        "  f_count2=choice2[\"follower_count\"]\n",
        "  # for key,value in choice1.items():\n",
        "  #   if key !=\"follower_count\":\n",
        "  #     print(value,\",\",end=\" \")\n",
        "  #   else:\n",
        "  #     f_count1=value\n",
        "  # print(vs)\n",
        "  # print(\"Compare B:\",end=\" \")\n",
        "  # for key,value in choice2.items():\n",
        "  #   if key!=\"follower_count\":\n",
        "  #     print(value,\",\",end=\" \")\n",
        "  #   else:\n",
        "  #     f_count2=value\n",
        "  print()\n",
        "\n",
        "  option=input(\"Which has more followers A or B: \").lower()\n",
        "  is_correct=check(option,f_count1,f_count2)\n",
        "\n",
        "  if is_correct:\n",
        "    score+=1\n",
        "    choice1=choice2\n",
        "    choice2=random.choice(data)\n",
        "    print(f\"You're right! Current score: {score}.\")\n",
        "  else:\n",
        "    play=False\n",
        "    print(f\"Sorry, that's wrong. Final score: {score}.\")\n",
        "  # print()\n",
        "  # if option==\"a\":\n",
        "  #   if f_count1>f_count2:\n",
        "  #     print(\"You made the right choice\")\n",
        "  #   else:\n",
        "  #     print(\"Sorry wrong choice\")\n",
        "  # elif option==\"b\":\n",
        "  #   if f_count2>f_count1:\n",
        "  #     print(\"You made the right choice\")\n",
        "  #   else:\n",
        "  #     print(\"Sorry made the wrong choice\")\n",
        "  # else:\n",
        "  #   print(\"Invalid Choice\")\n",
        "  # pl=input(\"Do you want to play again? Yes/No \").lower()\n",
        "  # if pl==\"no\":\n",
        "  #   play=False\n",
        "  # elif pl==\"yes\":\n",
        "  #   clear_output()\n",
        "  # else:\n",
        "  #   print(\"Invalid input\")\n",
        "  #   play=False\n",
        "\n"
      ],
      "metadata": {
        "colab": {
          "base_uri": "https://localhost:8080/"
        },
        "id": "jyY6hThYCQeq",
        "outputId": "df8949c1-2919-44a2-a5b3-2d52a7545740"
      },
      "execution_count": null,
      "outputs": [
        {
          "output_type": "stream",
          "name": "stdout",
          "text": [
            "\n",
            "    __  ___       __\n",
            "   / / / (_)___ _/ /_  ___  _____\n",
            "  / /_/ / / __ `/ __ \\/ _ \\/ ___/\n",
            " / __  / / /_/ / / / /  __/ /\n",
            "/_/ ///_/\\__, /_/ /_/\\___/_/\n",
            "   / /  /____/_      _____  _____\n",
            "  / /   / __ \\ | /| / / _ \\/ ___/\n",
            " / /___/ /_/ / |/ |/ /  __/ /\n",
            "/_____/\\____/|__/|__/\\___/_/\n",
            "\n",
            "Compare A: Ariana Grande, a Musician and actress, from United States\n",
            "\n",
            "  _    __\n",
            "  | |  / /____\n",
            "  | | / / ___/\n",
            "  | |/ (__  )\n",
            "  |___/____(_)\n",
            "\n",
            "Compare B: 9GAG, a Social media platform, from China\n",
            "\n",
            "Which has more followers A or B: a\n",
            "You're right! Current score: 1.\n",
            "\n",
            "    __  ___       __\n",
            "   / / / (_)___ _/ /_  ___  _____\n",
            "  / /_/ / / __ `/ __ \\/ _ \\/ ___/\n",
            " / __  / / /_/ / / / /  __/ /\n",
            "/_/ ///_/\\__, /_/ /_/\\___/_/\n",
            "   / /  /____/_      _____  _____\n",
            "  / /   / __ \\ | /| / / _ \\/ ___/\n",
            " / /___/ /_/ / |/ |/ /  __/ /\n",
            "/_____/\\____/|__/|__/\\___/_/\n",
            "\n",
            "Compare A: NASA, a Space agency, from United States\n",
            "\n",
            "  _    __\n",
            "  | |  / /____\n",
            "  | | / / ___/\n",
            "  | |/ (__  )\n",
            "  |___/____(_)\n",
            "\n",
            "Compare B: Khloé Kardashian, a Reality TV personality and businesswoman, from United States\n",
            "\n",
            "Which has more followers A or B: a\n",
            "Sorry, that's wrong. Final score: 1.\n"
          ]
        }
      ]
    },
    {
      "cell_type": "markdown",
      "source": [],
      "metadata": {
        "id": "bo_OE_Rh25Yi"
      }
    },
    {
      "cell_type": "markdown",
      "source": [
        "# Day 15"
      ],
      "metadata": {
        "id": "zTJo9-6Q6xzf"
      }
    },
    {
      "cell_type": "code",
      "source": [
        "# Coffee logo\n",
        "logo=\"\"\"\n",
        "      )  (\n",
        "     (   ) )\n",
        "      ) ( (\n",
        "    __(____)_\n",
        " .-'---------|\n",
        "( C|/\\/\\/\\/\\/|\n",
        " '-./\\/\\/\\/\\/|\n",
        "   '_________'\n",
        "    '-------'\n",
        "\"\"\"\n",
        "\n",
        "# Data\n",
        "MENU = {\n",
        "    \"espresso\": {\n",
        "        \"ingredients\": {\n",
        "            \"water\": 50,\n",
        "            \"coffee\": 18,\n",
        "        },\n",
        "        \"cost\": 1.5,\n",
        "    },\n",
        "    \"latte\": {\n",
        "        \"ingredients\": {\n",
        "            \"water\": 200,\n",
        "            \"milk\": 150,\n",
        "            \"coffee\": 24,\n",
        "        },\n",
        "        \"cost\": 2.5,\n",
        "    },\n",
        "    \"cappuccino\": {\n",
        "        \"ingredients\": {\n",
        "            \"water\": 250,\n",
        "            \"milk\": 100,\n",
        "            \"coffee\": 24,\n",
        "        },\n",
        "        \"cost\": 3.0,\n",
        "    }\n",
        "}\n",
        "\n",
        "resources = {\n",
        "    \"water\": 1300,\n",
        "    \"milk\": 400,\n",
        "    \"coffee\": 1100,\n",
        "}\n",
        "\n",
        "def format_data():\n",
        "  \"\"\"Format account into printable format: name, description and country\"\"\"\n",
        "  water=resources[\"water\"]\n",
        "  milk=resources[\"milk\"]\n",
        "  coffee=resources[\"coffee\"]\n",
        "  # print(f'{name}: {account[\"follower_count\"]}')\n",
        "  print(f\"Water: {water}, milk: {milk}, coffee: {coffee}\")\n",
        "\n",
        "def espresso():\n",
        "  if (resources[\"water\"]-MENU[\"latte\"][\"ingredients\"][\"water\"])<0 or (resources[\"milk\"]-MENU[\"latte\"][\"ingredients\"][\"milk\"])<0 or (resources[\"coffee\"]-MENU[\"latte\"][\"ingredients\"][\"coffee\"])<0:\n",
        "    return False\n",
        "  else:\n",
        "    resources[\"water\"]=resources[\"water\"]-MENU[\"latte\"][\"ingredients\"][\"water\"]\n",
        "    resources[\"milk\"]=resources[\"milk\"]-MENU[\"latte\"][\"ingredients\"][\"milk\"]\n",
        "    resources[\"coffee\"]=resources[\"coffee\"]-MENU[\"latte\"][\"ingredients\"][\"coffee\"]\n",
        "    return True\n",
        "\n",
        "def cappuccino():\n",
        "  if (resources[\"water\"]-MENU[\"latte\"][\"ingredients\"][\"water\"])<0 or (resources[\"milk\"]-MENU[\"latte\"][\"ingredients\"][\"milk\"])<0 or (resources[\"coffee\"]-MENU[\"latte\"][\"ingredients\"][\"coffee\"])<0:\n",
        "    return False\n",
        "  else:\n",
        "    resources[\"water\"]=resources[\"water\"]-MENU[\"latte\"][\"ingredients\"][\"water\"]\n",
        "    resources[\"milk\"]=resources[\"milk\"]-MENU[\"latte\"][\"ingredients\"][\"milk\"]\n",
        "    resources[\"coffee\"]=resources[\"coffee\"]-MENU[\"latte\"][\"ingredients\"][\"coffee\"]\n",
        "    return True\n",
        "\n",
        "def latte():\n",
        "  if (resources[\"water\"]-MENU[\"latte\"][\"ingredients\"][\"water\"])<0 or (resources[\"milk\"]-MENU[\"latte\"][\"ingredients\"][\"milk\"])<0 or (resources[\"coffee\"]-MENU[\"latte\"][\"ingredients\"][\"coffee\"])<0:\n",
        "    return False\n",
        "  else:\n",
        "    resources[\"water\"]=resources[\"water\"]-MENU[\"latte\"][\"ingredients\"][\"water\"]\n",
        "    resources[\"milk\"]=resources[\"milk\"]-MENU[\"latte\"][\"ingredients\"][\"milk\"]\n",
        "    resources[\"coffee\"]=resources[\"coffee\"]-MENU[\"latte\"][\"ingredients\"][\"coffee\"]\n",
        "    return True\n",
        "\n",
        "def stock_check(option):\n",
        "  if option==\"latte\":\n",
        "    if latte():\n",
        "      print(f\"Enjoy your {option}\")\n",
        "      return True\n",
        "    else:\n",
        "      print(f\"Sorry! out of stock for {option}\")\n",
        "      return False\n",
        "  elif option==\"cappuccino\":\n",
        "    if cappuccino():\n",
        "      print(f\"Enjoy your {option}\")\n",
        "      return True\n",
        "    else:\n",
        "      print(f\"Sorry! out of stock for {option} \")\n",
        "      return False\n",
        "  else:\n",
        "    if espresso():\n",
        "      print(f\"Enjoy your {option}\")\n",
        "      return True\n",
        "    else:\n",
        "      print(f\"Sorry! out of stock for {option} \")\n",
        "      return False\n",
        "\n",
        "\n",
        "\n",
        "def coffee_machine():\n",
        "  more_coffee=True\n",
        "  while more_coffee:\n",
        "    print(logo)\n",
        "    option=input(\"What would you like? (espresso/latte/cappuccino): \").lower()\n",
        "    while (option!=\"latte\") and (option!=\"espresso\") and (option!=\"cappuccino\"):\n",
        "      print(\"Invalid input\")\n",
        "      option=input(\"What would you like? (espresso/latte/cappuccino): \").lower()\n",
        "    check=stock_check(option)\n",
        "    if not check:\n",
        "      format_data()\n",
        "      more_coffee=False\n",
        "    # else:\n",
        "    #   clear_output()\n",
        "\n",
        "\n",
        "\n",
        "coffee_machine()\n",
        "\n"
      ],
      "metadata": {
        "colab": {
          "base_uri": "https://localhost:8080/"
        },
        "id": "LllxwQ1T6z_f",
        "outputId": "a0b7c595-9064-4c2e-d8b6-15b86bf85b18"
      },
      "execution_count": null,
      "outputs": [
        {
          "output_type": "stream",
          "name": "stdout",
          "text": [
            "\n",
            "      )  (\n",
            "     (   ) )\n",
            "      ) ( (\n",
            "    __(____)_\n",
            " .-'---------|  \n",
            "( C|/\\/\\/\\/\\/|\n",
            " '-./\\/\\/\\/\\/|\n",
            "   '_________'\n",
            "    '-------'\n",
            "\n",
            "What would you like? (espresso/latte/cappuccino): latte\n",
            "Enjoy your latte\n",
            "\n",
            "      )  (\n",
            "     (   ) )\n",
            "      ) ( (\n",
            "    __(____)_\n",
            " .-'---------|  \n",
            "( C|/\\/\\/\\/\\/|\n",
            " '-./\\/\\/\\/\\/|\n",
            "   '_________'\n",
            "    '-------'\n",
            "\n",
            "What would you like? (espresso/latte/cappuccino): latte\n",
            "Enjoy your latte\n",
            "\n",
            "      )  (\n",
            "     (   ) )\n",
            "      ) ( (\n",
            "    __(____)_\n",
            " .-'---------|  \n",
            "( C|/\\/\\/\\/\\/|\n",
            " '-./\\/\\/\\/\\/|\n",
            "   '_________'\n",
            "    '-------'\n",
            "\n",
            "What would you like? (espresso/latte/cappuccino): espresso\n",
            "Sorry! out of stock for espresso \n",
            "Water: 900, milk: 100, coffee: 1052\n"
          ]
        }
      ]
    },
    {
      "cell_type": "markdown",
      "source": [
        "# Day 16"
      ],
      "metadata": {
        "id": "_QCUUoKjFJU0"
      }
    },
    {
      "cell_type": "code",
      "source": [
        "!pip3 install ColabTurtle"
      ],
      "metadata": {
        "colab": {
          "base_uri": "https://localhost:8080/"
        },
        "id": "tkEv4eVoiwzV",
        "outputId": "4f6b670e-cc96-48a6-9fab-9a4c5c3517ae"
      },
      "execution_count": null,
      "outputs": [
        {
          "output_type": "stream",
          "name": "stdout",
          "text": [
            "Collecting ColabTurtle\n",
            "  Downloading ColabTurtle-2.1.0.tar.gz (6.8 kB)\n",
            "  Preparing metadata (setup.py) ... \u001b[?25l\u001b[?25hdone\n",
            "Building wheels for collected packages: ColabTurtle\n",
            "  Building wheel for ColabTurtle (setup.py) ... \u001b[?25l\u001b[?25hdone\n",
            "  Created wheel for ColabTurtle: filename=ColabTurtle-2.1.0-py3-none-any.whl size=7641 sha256=97b2a8b39cf26f1759b7b2658f63ca0dc395dbcab34b57f1343ddd4ae21ada2d\n",
            "  Stored in directory: /root/.cache/pip/wheels/5b/86/e8/54f5c8c853606e3a3060bb2e60363cbed632374a12e0f33ffc\n",
            "Successfully built ColabTurtle\n",
            "Installing collected packages: ColabTurtle\n",
            "Successfully installed ColabTurtle-2.1.0\n"
          ]
        }
      ]
    },
    {
      "cell_type": "code",
      "source": [
        "from ColabTurtle.Turtle import *\n",
        "\n",
        "# from ColabTurtle.Turtle import Turtle\n",
        "# from Turtle import Screen"
      ],
      "metadata": {
        "id": "P1xjZAVeFcUh"
      },
      "execution_count": null,
      "outputs": []
    },
    {
      "cell_type": "code",
      "source": [
        "import ColabTurtle.Turtle as lia\n",
        "lia.initializeTurtle(initial_speed=5)\n",
        "lia.color('blue')\n",
        "lia.forward(100)\n",
        "lia.right(45)\n",
        "lia.color('red')\n",
        "lia.forward(50)\n",
        "lia.color('yellow')\n",
        "lia.right(90)\n",
        "lia.forward(50)\n",
        "lia.right(45)\n",
        "lia.color('green')\n",
        "lia.forward(100)\n",
        "lia.color('white')\n",
        "lia.right(90)\n",
        "lia.forward(80)\n",
        "\n"
      ],
      "metadata": {
        "colab": {
          "base_uri": "https://localhost:8080/",
          "height": 521
        },
        "id": "ohDOoXSheu-y",
        "outputId": "6569c1c8-9628-4aea-ed30-3523d8853e76"
      },
      "execution_count": null,
      "outputs": [
        {
          "output_type": "display_data",
          "data": {
            "text/plain": [
              "<IPython.core.display.HTML object>"
            ],
            "text/html": [
              "\n",
              "      <svg width=\"800\" height=\"500\">\n",
              "        <rect width=\"100%\" height=\"100%\" fill=\"black\"/>\n",
              "        <line x1=\"400\" y1=\"250\" x2=\"400.0\" y2=\"150.0\" stroke-linecap=\"round\" style=\"stroke:blue;stroke-width:4\"/><line x1=\"400.0\" y1=\"150.0\" x2=\"435.355\" y2=\"114.645\" stroke-linecap=\"round\" style=\"stroke:red;stroke-width:4\"/><line x1=\"435.355\" y1=\"114.645\" x2=\"470.71\" y2=\"150.0\" stroke-linecap=\"round\" style=\"stroke:yellow;stroke-width:4\"/><line x1=\"470.71\" y1=\"150.0\" x2=\"470.71\" y2=\"250.0\" stroke-linecap=\"round\" style=\"stroke:green;stroke-width:4\"/><line x1=\"470.71\" y1=\"250.0\" x2=\"390.71\" y2=\"250.0\" stroke-linecap=\"round\" style=\"stroke:white;stroke-width:4\"/>\n",
              "        <g visibility=visible transform=\"rotate(270,390.71,250.0) translate(372.71, 232.0)\">\n",
              "<path style=\" stroke:none;fill-rule:evenodd;fill:white;fill-opacity:1;\" d=\"M 18.214844 0.632812 C 16.109375 1.800781 15.011719 4.074219 15.074219 7.132812 L 15.085938 7.652344 L 14.785156 7.496094 C 13.476562 6.824219 11.957031 6.671875 10.40625 7.066406 C 8.46875 7.550781 6.515625 9.15625 4.394531 11.992188 C 3.0625 13.777344 2.679688 14.636719 3.042969 15.027344 L 3.15625 15.152344 L 3.519531 15.152344 C 4.238281 15.152344 4.828125 14.886719 8.1875 13.039062 C 9.386719 12.378906 10.371094 11.839844 10.378906 11.839844 C 10.386719 11.839844 10.355469 11.929688 10.304688 12.035156 C 9.832031 13.09375 9.257812 14.820312 8.96875 16.078125 C 7.914062 20.652344 8.617188 24.53125 11.070312 27.660156 C 11.351562 28.015625 11.363281 27.914062 10.972656 28.382812 C 8.925781 30.84375 7.945312 33.28125 8.238281 35.1875 C 8.289062 35.527344 8.28125 35.523438 8.917969 35.523438 C 10.941406 35.523438 13.074219 34.207031 15.136719 31.6875 C 15.359375 31.417969 15.328125 31.425781 15.5625 31.574219 C 16.292969 32.042969 18.023438 32.964844 18.175781 32.964844 C 18.335938 32.964844 19.941406 32.210938 20.828125 31.71875 C 20.996094 31.625 21.136719 31.554688 21.136719 31.558594 C 21.203125 31.664062 21.898438 32.414062 22.222656 32.730469 C 23.835938 34.300781 25.5625 35.132812 27.582031 35.300781 C 27.90625 35.328125 27.9375 35.308594 28.007812 34.984375 C 28.382812 33.242188 27.625 30.925781 25.863281 28.425781 L 25.542969 27.96875 L 25.699219 27.785156 C 28.945312 23.960938 29.132812 18.699219 26.257812 11.96875 L 26.207031 11.84375 L 27.945312 12.703125 C 31.53125 14.476562 32.316406 14.800781 33.03125 14.800781 C 33.976562 14.800781 33.78125 13.9375 32.472656 12.292969 C 28.519531 7.355469 25.394531 5.925781 21.921875 7.472656 L 21.558594 7.636719 L 21.578125 7.542969 C 21.699219 6.992188 21.761719 5.742188 21.699219 5.164062 C 21.496094 3.296875 20.664062 1.964844 19.003906 0.855469 C 18.480469 0.503906 18.457031 0.5 18.214844 0.632812\"/>\n",
              "</g>\n",
              "      </svg>\n",
              "    "
            ]
          },
          "metadata": {}
        }
      ]
    },
    {
      "cell_type": "code",
      "source": [
        "# OOPS\n",
        "# from turtle import Turtle, Screen\n",
        "# import tkinter as tk\n",
        "# import turtle\n",
        "\n",
        "timmy=lia\n",
        "print(timmy,\" hello\")\n",
        "# my_s=Screen()\n",
        "# print(my_s)\n",
        "# timmy=turtle.Turtle()\n",
        "# print(timmy)\n",
        "# # my_screen=Screen()\n",
        "# # print(my_screen.canvheight)"
      ],
      "metadata": {
        "colab": {
          "base_uri": "https://localhost:8080/"
        },
        "id": "SA08iwgZhorS",
        "outputId": "6683860d-34e1-49a2-d272-dd6e7088f5ce"
      },
      "execution_count": null,
      "outputs": [
        {
          "output_type": "stream",
          "name": "stdout",
          "text": [
            "<module 'ColabTurtle.Turtle' from '/usr/local/lib/python3.10/dist-packages/ColabTurtle/Turtle.py'>  hello\n"
          ]
        }
      ]
    },
    {
      "cell_type": "code",
      "source": [
        "from prettytable import PrettyTable"
      ],
      "metadata": {
        "id": "5AHa9FNolmyA"
      },
      "execution_count": null,
      "outputs": []
    },
    {
      "cell_type": "code",
      "source": [
        "table=PrettyTable()\n",
        "table.add_column(\"City\",[\"Kolkata\",\"Pune\",\"Delhi\",\"Patna\"])\n",
        "table.add_column(\"Pincode\",[711202,800001,300234,234003])\n",
        "print(table)"
      ],
      "metadata": {
        "colab": {
          "base_uri": "https://localhost:8080/"
        },
        "id": "1uMomSu4l7Xm",
        "outputId": "4f00fe94-0f38-431c-b482-576e5f8c2df0"
      },
      "execution_count": null,
      "outputs": [
        {
          "output_type": "stream",
          "name": "stdout",
          "text": [
            "+---------+---------+\n",
            "|   City  | Pincode |\n",
            "+---------+---------+\n",
            "| Kolkata |  711202 |\n",
            "|   Pune  |  800001 |\n",
            "|  Delhi  |  300234 |\n",
            "|  Patna  |  234003 |\n",
            "+---------+---------+\n"
          ]
        }
      ]
    },
    {
      "cell_type": "code",
      "source": [
        "# Using align object\n",
        "table.align[\"City\"]=\"l\"\n",
        "table.align[\"Pincode\"]=\"l\"\n",
        "print(table)\n",
        "print(table.align)"
      ],
      "metadata": {
        "colab": {
          "base_uri": "https://localhost:8080/"
        },
        "id": "yxu6xViGpeCH",
        "outputId": "e9f62aab-e631-433b-bfab-ba1cbfdb9cdf"
      },
      "execution_count": null,
      "outputs": [
        {
          "output_type": "stream",
          "name": "stdout",
          "text": [
            "+---------+---------+\n",
            "| City    | Pincode |\n",
            "+---------+---------+\n",
            "| Kolkata | 711202  |\n",
            "| Pune    | 800001  |\n",
            "| Delhi   | 300234  |\n",
            "| Patna   | 234003  |\n",
            "+---------+---------+\n",
            "{'base_align_value': 'c', 'City': 'l', 'Pincode': 'l', 'pincode': 'l', 'city': 'r'}\n"
          ]
        }
      ]
    },
    {
      "cell_type": "markdown",
      "source": [
        "# Day 17"
      ],
      "metadata": {
        "id": "3yQTXAYiE20z"
      }
    },
    {
      "cell_type": "code",
      "source": [
        "# Creating a class following PascalCase rule i.e.(FirstMiddleTitle)\n",
        "class User:\n",
        "  pass\n",
        "\n",
        "user_1=User() #creating an object of the class\n",
        "user_1.id=\"07\"\n",
        "user_1.username=\"MKJ\"\n",
        "\n",
        "print(user_1.username,user_1.id)"
      ],
      "metadata": {
        "colab": {
          "base_uri": "https://localhost:8080/"
        },
        "id": "lDaBlW8fE5Z5",
        "outputId": "f8ee0d5a-b016-4ffa-881a-fe4275fe7781"
      },
      "execution_count": null,
      "outputs": [
        {
          "output_type": "stream",
          "name": "stdout",
          "text": [
            "MKJ 07\n"
          ]
        }
      ]
    },
    {
      "cell_type": "code",
      "source": [
        "# Creating a constructor\n",
        "class User:\n",
        "  def __init__(self,user_id,username):\n",
        "    self.id=user_id\n",
        "    self.username=username\n",
        "\n",
        "user_1=User(7,\"MKJ\")\n",
        "user_2=User(20,\"David\")\n",
        "print(user_1.username,user_1.id,user_2.username,user_2.id)\n",
        "\n"
      ],
      "metadata": {
        "colab": {
          "base_uri": "https://localhost:8080/"
        },
        "id": "HbpRQa2tQaFs",
        "outputId": "c07cc843-4bd3-4f90-b320-d7b61e1ea342"
      },
      "execution_count": null,
      "outputs": [
        {
          "output_type": "stream",
          "name": "stdout",
          "text": [
            "MKJ 7 David 20\n",
            "\n"
          ]
        }
      ]
    },
    {
      "cell_type": "code",
      "source": [
        "# adding method to a class\n",
        "class User:\n",
        "  def __init__(self,user_id,username):\n",
        "    self.id=user_id\n",
        "    self.username=username\n",
        "    self.follower=0\n",
        "    self.following=0\n",
        "  def follow(self,user):\n",
        "    user.follower+=1\n",
        "    self.following+=1\n",
        "user_1=User(7,\"MKJ\")\n",
        "user_2=User(20,\"David\")\n",
        "user_1.follow(user_2) #in this user 1 is following user 2\n",
        "user_2.follow(user_1) #user 2 is following user 1\n",
        "for i in range(5):\n",
        "  user_2.follow(user_1)\n",
        "print(\"User 1:\",user_1.follower,user_1.following,\"\\nUser 2:\",user_2.follower,user_2.following)"
      ],
      "metadata": {
        "colab": {
          "base_uri": "https://localhost:8080/"
        },
        "id": "dPSWqAd7VMdQ",
        "outputId": "db0c57a2-d496-4f27-8ce7-5b6d7ee6a22e"
      },
      "execution_count": null,
      "outputs": [
        {
          "output_type": "stream",
          "name": "stdout",
          "text": [
            "User 1: 6 1 \n",
            "User 2: 1 6\n"
          ]
        }
      ]
    },
    {
      "cell_type": "code",
      "source": [
        "# Quiz Game Project\n",
        "# data.py\n",
        "question_data = [\n",
        "{\"text\": \"A slug's blood is green.\", \"answer\": \"True\"},\n",
        "{\"text\": \"The loudest animal is the African Elephant.\", \"answer\": \"False\"},\n",
        "{\"text\": \"Approximately one quarter of human bones are in the feet.\", \"answer\": \"True\"},\n",
        "{\"text\": \"The total surface area of a human lungs is the size of a football pitch.\", \"answer\": \"True\"},\n",
        "{\"text\": \"In West Virginia, USA, if you accidentally hit an animal with your car, you are free to take it home to eat.\", \"answer\": \"True\"},\n",
        "{\"text\": \"In London, UK, if you happen to die in the House of Parliament, you are entitled to a state funeral.\", \"answer\": \"False\"},\n",
        "{\"text\": \"It is illegal to pee in the Ocean in Portugal.\", \"answer\": \"True\"},\n",
        "{\"text\": \"You can lead a cow down stairs but not up stairs.\", \"answer\": \"False\"},\n",
        "{\"text\": \"Google was originally called 'Backrub'.\", \"answer\": \"True\"},\n",
        "{\"text\": \"Buzz Aldrin's mother's maiden name was 'Moon'.\", \"answer\": \"True\"},\n",
        "{\"text\": \"No piece of square dry paper can be folded in half more than 7 times.\", \"answer\": \"False\"},\n",
        "{\"text\": \"A few ounces of chocolate can to kill a small dog.\", \"answer\": \"True\"}\n",
        "]\n",
        "\n",
        "# print(question_data[0])"
      ],
      "metadata": {
        "id": "QYCWd05ltwBF"
      },
      "execution_count": null,
      "outputs": []
    },
    {
      "cell_type": "code",
      "source": [
        "# main.py\n",
        "from question_model import Question\n",
        "from data import question_data\n",
        "from quiz_brain import QuizBrain\n",
        "\n",
        "question_bank=[]\n",
        "for question in question_data:\n",
        "  q_text=question[\"text\"]\n",
        "  q_ans=question[\"answer\"]\n",
        "  n_q=Question(q_text,q_ans)\n",
        "  question_bank.append(n_q)\n",
        "quiz=QuizBrain(question_bank)\n",
        "while quiz.still_has_question():\n",
        "  quiz.NextQuestion()\n",
        "\n",
        "# You can follow the link to play the game or see the end result\n",
        "# Link:(https://replit.com/@trevis896159/quiz-game-start)\n"
      ],
      "metadata": {
        "id": "MYFUBeUrtMLz"
      },
      "execution_count": null,
      "outputs": []
    },
    {
      "cell_type": "code",
      "source": [
        "# question_model.py\n",
        "class Question:\n",
        "  def __init__(self, q_text, q_answer):\n",
        "    self.text=q_text\n",
        "    self.answer=q_answer\n",
        "\n",
        "# new_q=Question(\"What is the capital of france\",\"Paris\")\n",
        "# print(new_q.text,new_q.answer)"
      ],
      "metadata": {
        "id": "mjHMFySktceG"
      },
      "execution_count": null,
      "outputs": []
    },
    {
      "cell_type": "code",
      "source": [
        "# quiz_brain.py\n",
        "class QuizBrain:\n",
        "  score=0\n",
        "  def __init__(self,q_list):\n",
        "    self.ques_no=0\n",
        "    self.quest_list=q_list\n",
        "  def still_has_question(self):\n",
        "    if self.ques_no<len(self.quest_list):\n",
        "      return True\n",
        "    else:\n",
        "      return False\n",
        "  def NextQuestion(self):\n",
        "    curr_ques=self.quest_list[self.ques_no]\n",
        "    self.ques_no+=1\n",
        "    if input(f\"Q.{self.ques_no}: {curr_ques.text}(True/False) \")==curr_ques.answer:\n",
        "      print(\"You got it right!\")\n",
        "      self.score+=1\n",
        "      print(f\"Your current score is {self.score}/{self.ques_no}\")\n",
        "    else:\n",
        "      print(\"You are wrong\")\n",
        "      print(f\"The correct answer is {curr_ques.answer}\")\n",
        "      print(f\"Your current score is {self.score}/{self.ques_no}\")\n"
      ],
      "metadata": {
        "id": "k-AbZAIEtiGE"
      },
      "execution_count": null,
      "outputs": []
    },
    {
      "cell_type": "markdown",
      "source": [
        "# Day 18"
      ],
      "metadata": {
        "id": "i98pyuM44-3g"
      }
    },
    {
      "cell_type": "code",
      "source": [
        "# import colab turtle library\n",
        "!pip install ColabTurtlePlus\n",
        "import ColabTurtlePlus.Turtle as turtle"
      ],
      "metadata": {
        "colab": {
          "base_uri": "https://localhost:8080/"
        },
        "id": "9DCxDdZN5jzW",
        "outputId": "bf61b452-b38e-40a1-dd95-336f6203cbbf"
      },
      "execution_count": 1,
      "outputs": [
        {
          "output_type": "stream",
          "name": "stdout",
          "text": [
            "Collecting ColabTurtlePlus\n",
            "  Downloading ColabTurtlePlus-2.0.1-py3-none-any.whl (31 kB)\n",
            "Installing collected packages: ColabTurtlePlus\n",
            "Successfully installed ColabTurtlePlus-2.0.1\n",
            "Put clearscreen() as the first line in a cell (after the import command) to re-run turtle commands in the cell\n"
          ]
        }
      ]
    },
    {
      "cell_type": "code",
      "source": [
        "# Turtle Challenge 1 : Draw a square\n",
        "turtle.initializeTurtle()\n",
        "turtle.pencolor(\"black\")\n",
        "turtle.bgcolor(\"grey\")\n",
        "turtle.shape('arrow')\n",
        "for _ in range(4):\n",
        "  turtle.forward(100)\n",
        "  turtle.right(90)\n"
      ],
      "metadata": {
        "colab": {
          "base_uri": "https://localhost:8080/",
          "height": 621
        },
        "id": "2tfgFXXl5BzZ",
        "outputId": "2333b29b-8dc5-4c43-def8-25f5bb100f78"
      },
      "execution_count": null,
      "outputs": [
        {
          "output_type": "display_data",
          "data": {
            "text/plain": [
              "<IPython.core.display.HTML object>"
            ],
            "text/html": [
              "\n",
              "      <svg width=\"800\" height=\"600\">  \n",
              "        <rect width=\"100%\" height=\"100%\" style=\"fill:grey;stroke:;stroke-width:1\"/>\n",
              "        \n",
              "        \n",
              "        <line x1=\"400.0\" y1=\"300.0\" x2=\"500.0\" y2=\"300.0\" stroke-linecap=\"round\" style=\"stroke:black;stroke-width:1\" /><line x1=\"500.0\" y1=\"300.0\" x2=\"500.0\" y2=\"400.0\" stroke-linecap=\"round\" style=\"stroke:black;stroke-width:1\" /><line x1=\"500.0\" y1=\"400.0\" x2=\"400.0\" y2=\"400.0\" stroke-linecap=\"round\" style=\"stroke:black;stroke-width:1\" /><line x1=\"400.0\" y1=\"400.0\" x2=\"400.0\" y2=\"300.0\" stroke-linecap=\"round\" style=\"stroke:black;stroke-width:1\" />\n",
              "        \n",
              "        \n",
              "        <g id=\"arrow\" visibility=\"visible\" transform=\"rotate(180,400.0,300.0) translate(400.0, 300.0)\">\n",
              "<polygon points=\"-10,-5 0,5 10,-5\" transform=\"skewX(0) scale(1,1)\" style=\"stroke:black;fill:black;stroke-width:1\" />\n",
              "<animateTransform id = \"one\" attributeName=\"transform\" \n",
              "                      type=\"scale\"\n",
              "                      from=\"1 1\" to=\"1 1\"\n",
              "                      begin=\"0s\" dur=\"0.01s\"\n",
              "                      repeatCount=\"1\"\n",
              "                      additive=\"sum\"\n",
              "                      fill=\"freeze\"\n",
              "                /><animateTransform attributeName=\"transform\"\n",
              "                    type=\"rotate\"\n",
              "                    from=\"0 0 0\" to =\"90 0 0\"\n",
              "                    begin=\"one.end\" dur=\"0.25s\"\n",
              "                    repeatCount=\"1\"\n",
              "                    additive=\"sum\"\n",
              "                    fill=\"freeze\"\n",
              "                /></g>\n",
              "      </svg>\n",
              "    "
            ]
          },
          "metadata": {}
        }
      ]
    },
    {
      "cell_type": "code",
      "source": [
        "# Turtle Challenge 2 : Draw a dashed line\n",
        "turtle.initializeTurtle()\n",
        "\n",
        "turtle.bgcolor(\"grey\")\n",
        "turtle.shape('arrow')\n",
        "for _ in range(10):\n",
        "  #you can use any of the method to print\n",
        "  turtle.pendown()\n",
        "  turtle.forward(10)\n",
        "  turtle.penup()\n",
        "  turtle.forward(10)\n",
        "  # turtle.pencolor(\"grey\")\n",
        "  # turtle.forward(10)\n",
        "  # turtle.pencolor(\"black\")\n"
      ],
      "metadata": {
        "colab": {
          "base_uri": "https://localhost:8080/",
          "height": 621
        },
        "id": "_5NjIcQ3BkIC",
        "outputId": "5912b8fb-f3cf-425b-d40d-92a68c75fdb3"
      },
      "execution_count": null,
      "outputs": [
        {
          "output_type": "display_data",
          "data": {
            "text/plain": [
              "<IPython.core.display.HTML object>"
            ],
            "text/html": [
              "\n",
              "      <svg width=\"800\" height=\"600\">  \n",
              "        <rect width=\"100%\" height=\"100%\" style=\"fill:grey;stroke:;stroke-width:1\"/>\n",
              "        \n",
              "        \n",
              "        <line x1=\"400.0\" y1=\"300.0\" x2=\"410.0\" y2=\"300.0\" stroke-linecap=\"round\" style=\"stroke:black;stroke-width:1\" /><line x1=\"420.0\" y1=\"300.0\" x2=\"430.0\" y2=\"300.0\" stroke-linecap=\"round\" style=\"stroke:black;stroke-width:1\" /><line x1=\"440.0\" y1=\"300.0\" x2=\"450.0\" y2=\"300.0\" stroke-linecap=\"round\" style=\"stroke:black;stroke-width:1\" /><line x1=\"460.0\" y1=\"300.0\" x2=\"470.0\" y2=\"300.0\" stroke-linecap=\"round\" style=\"stroke:black;stroke-width:1\" /><line x1=\"480.0\" y1=\"300.0\" x2=\"490.0\" y2=\"300.0\" stroke-linecap=\"round\" style=\"stroke:black;stroke-width:1\" /><line x1=\"500.0\" y1=\"300.0\" x2=\"510.0\" y2=\"300.0\" stroke-linecap=\"round\" style=\"stroke:black;stroke-width:1\" /><line x1=\"520.0\" y1=\"300.0\" x2=\"530.0\" y2=\"300.0\" stroke-linecap=\"round\" style=\"stroke:black;stroke-width:1\" /><line x1=\"540.0\" y1=\"300.0\" x2=\"550.0\" y2=\"300.0\" stroke-linecap=\"round\" style=\"stroke:black;stroke-width:1\" /><line x1=\"560.0\" y1=\"300.0\" x2=\"570.0\" y2=\"300.0\" stroke-linecap=\"round\" style=\"stroke:black;stroke-width:1\" /><line x1=\"580.0\" y1=\"300.0\" x2=\"590.0\" y2=\"300.0\" stroke-linecap=\"round\" style=\"stroke:black;stroke-width:1\" />\n",
              "        \n",
              "        \n",
              "        <g id=\"arrow\" visibility=\"visible\" transform=\"rotate(-90,600.0,300.0) translate(600.0, 300.0)\">\n",
              "<polygon points=\"-10,-5 0,5 10,-5\" transform=\"skewX(0) scale(1,1)\" style=\"stroke:black;fill:black;stroke-width:1\" />\n",
              "</g>\n",
              "      </svg>\n",
              "    "
            ]
          },
          "metadata": {}
        }
      ]
    },
    {
      "cell_type": "code",
      "source": [
        "# Turtle challenge 3 : Draw different Shapes\n",
        "from IPython.display import clear_output\n",
        "def square():\n",
        "  turtle.pencolor(\"black\")\n",
        "  # turtle.bgcolor(\"\")\n",
        "  for _ in range(4):\n",
        "    turtle.forward(100)\n",
        "    turtle.right(90)\n",
        "\n",
        "def pentagon():\n",
        "  turtle.pencolor(\"blue\")\n",
        "  for _ in range(5):\n",
        "    turtle.forward(100)\n",
        "    turtle.right(72)\n",
        "\n",
        "def hexagon():\n",
        "  for _ in range(6):\n",
        "    turtle.pencolor(\"red\")\n",
        "    turtle.forward(100)\n",
        "    turtle.right(60)\n",
        "\n",
        "def heptagon():\n",
        "  for _ in range(7):\n",
        "    turtle.pencolor(\"purple\")\n",
        "    turtle.forward(100)\n",
        "    turtle.right(51.4)\n",
        "\n",
        "def octagon():\n",
        "  for _ in range(8):\n",
        "    turtle.pencolor(\"brown\")\n",
        "    turtle.forward(100)\n",
        "    turtle.right(45)\n",
        "\n",
        "turtle.clear()\n",
        "turtle.bgcolor(\"grey\")\n",
        "square()\n",
        "pentagon()\n",
        "hexagon()\n",
        "heptagon()\n",
        "octagon()"
      ],
      "metadata": {
        "colab": {
          "base_uri": "https://localhost:8080/",
          "height": 621
        },
        "id": "43ja6HW3BjmY",
        "outputId": "cabdab8c-c04d-408b-d33e-0d1226477530"
      },
      "execution_count": null,
      "outputs": [
        {
          "output_type": "display_data",
          "data": {
            "text/plain": [
              "<IPython.core.display.HTML object>"
            ],
            "text/html": [
              "\n",
              "      <svg width=\"800\" height=\"600\">  \n",
              "        <rect width=\"100%\" height=\"100%\" style=\"fill:grey;stroke:;stroke-width:1\"/>\n",
              "        \n",
              "        \n",
              "        <line x1=\"549.864\" y1=\"384.998\" x2=\"514.68\" y2=\"478.604\" stroke-linecap=\"round\" style=\"stroke:black;stroke-width:1\" /><line x1=\"514.68\" y1=\"478.604\" x2=\"421.074\" y2=\"443.42\" stroke-linecap=\"round\" style=\"stroke:black;stroke-width:1\" /><line x1=\"421.074\" y1=\"443.42\" x2=\"456.258\" y2=\"349.814\" stroke-linecap=\"round\" style=\"stroke:black;stroke-width:1\" /><line x1=\"456.258\" y1=\"349.814\" x2=\"549.864\" y2=\"384.998\" stroke-linecap=\"round\" style=\"stroke:black;stroke-width:1\" /><line x1=\"549.864\" y1=\"384.998\" x2=\"514.68\" y2=\"478.604\" stroke-linecap=\"round\" style=\"stroke:blue;stroke-width:1\" /><line x1=\"514.68\" y1=\"478.604\" x2=\"414.783\" y2=\"474.068\" stroke-linecap=\"round\" style=\"stroke:blue;stroke-width:1\" /><line x1=\"414.783\" y1=\"474.068\" x2=\"388.227\" y2=\"377.658\" stroke-linecap=\"round\" style=\"stroke:blue;stroke-width:1\" /><line x1=\"388.227\" y1=\"377.658\" x2=\"471.712\" y2=\"322.61\" stroke-linecap=\"round\" style=\"stroke:blue;stroke-width:1\" /><line x1=\"471.712\" y1=\"322.61\" x2=\"549.864\" y2=\"384.998\" stroke-linecap=\"round\" style=\"stroke:blue;stroke-width:1\" /><line x1=\"549.864\" y1=\"384.998\" x2=\"514.68\" y2=\"478.604\" stroke-linecap=\"round\" style=\"stroke:red;stroke-width:1\" /><line x1=\"514.68\" y1=\"478.604\" x2=\"416.023\" y2=\"494.937\" stroke-linecap=\"round\" style=\"stroke:red;stroke-width:1\" /><line x1=\"416.023\" y1=\"494.937\" x2=\"352.55\" y2=\"417.664\" stroke-linecap=\"round\" style=\"stroke:red;stroke-width:1\" /><line x1=\"352.55\" y1=\"417.664\" x2=\"387.734\" y2=\"324.058\" stroke-linecap=\"round\" style=\"stroke:red;stroke-width:1\" /><line x1=\"387.734\" y1=\"324.058\" x2=\"486.391\" y2=\"307.725\" stroke-linecap=\"round\" style=\"stroke:red;stroke-width:1\" /><line x1=\"486.391\" y1=\"307.725\" x2=\"549.864\" y2=\"384.998\" stroke-linecap=\"round\" style=\"stroke:red;stroke-width:1\" /><line x1=\"549.864\" y1=\"384.998\" x2=\"514.68\" y2=\"478.604\" stroke-linecap=\"round\" style=\"stroke:purple;stroke-width:1\" /><line x1=\"514.68\" y1=\"478.604\" x2=\"419.574\" y2=\"509.506\" stroke-linecap=\"round\" style=\"stroke:purple;stroke-width:1\" /><line x1=\"419.574\" y1=\"509.506\" x2=\"336.089\" y2=\"454.458\" stroke-linecap=\"round\" style=\"stroke:purple;stroke-width:1\" /><line x1=\"336.089\" y1=\"454.458\" x2=\"327.026\" y2=\"354.87\" stroke-linecap=\"round\" style=\"stroke:purple;stroke-width:1\" /><line x1=\"327.026\" y1=\"354.87\" x2=\"399.202\" y2=\"285.656\" stroke-linecap=\"round\" style=\"stroke:purple;stroke-width:1\" /><line x1=\"399.202\" y1=\"285.656\" x2=\"498.324\" y2=\"298.882\" stroke-linecap=\"round\" style=\"stroke:purple;stroke-width:1\" /><line x1=\"498.324\" y1=\"298.882\" x2=\"549.828\" y2=\"384.599\" stroke-linecap=\"round\" style=\"stroke:purple;stroke-width:1\" /><line x1=\"549.828\" y1=\"384.599\" x2=\"514.971\" y2=\"478.327\" stroke-linecap=\"round\" style=\"stroke:brown;stroke-width:1\" /><line x1=\"514.971\" y1=\"478.327\" x2=\"424.047\" y2=\"519.955\" stroke-linecap=\"round\" style=\"stroke:brown;stroke-width:1\" /><line x1=\"424.047\" y1=\"519.955\" x2=\"330.319\" y2=\"485.098\" stroke-linecap=\"round\" style=\"stroke:brown;stroke-width:1\" /><line x1=\"330.319\" y1=\"485.098\" x2=\"288.691\" y2=\"394.174\" stroke-linecap=\"round\" style=\"stroke:brown;stroke-width:1\" /><line x1=\"288.691\" y1=\"394.174\" x2=\"323.548\" y2=\"300.446\" stroke-linecap=\"round\" style=\"stroke:brown;stroke-width:1\" /><line x1=\"323.548\" y1=\"300.446\" x2=\"414.472\" y2=\"258.818\" stroke-linecap=\"round\" style=\"stroke:brown;stroke-width:1\" /><line x1=\"414.472\" y1=\"258.818\" x2=\"508.2\" y2=\"293.675\" stroke-linecap=\"round\" style=\"stroke:brown;stroke-width:1\" /><line x1=\"508.2\" y1=\"293.675\" x2=\"549.828\" y2=\"384.599\" stroke-linecap=\"round\" style=\"stroke:brown;stroke-width:1\" />\n",
              "        \n",
              "        \n",
              "        <g id=\"arrow\" visibility=\"visible\" transform=\"rotate(-24.60000000000025,549.828,384.599) translate(549.828, 384.599)\">\n",
              "<polygon points=\"-10,-5 0,5 10,-5\" transform=\"skewX(0) scale(1,1)\" style=\"stroke:brown;fill:grey;stroke-width:1\" />\n",
              "<animateTransform id = \"one\" attributeName=\"transform\" \n",
              "                      type=\"scale\"\n",
              "                      from=\"1 1\" to=\"1 1\"\n",
              "                      begin=\"0s\" dur=\"0.01s\"\n",
              "                      repeatCount=\"1\"\n",
              "                      additive=\"sum\"\n",
              "                      fill=\"freeze\"\n",
              "                /><animateTransform attributeName=\"transform\"\n",
              "                    type=\"rotate\"\n",
              "                    from=\"0 0 0\" to =\"45 0 0\"\n",
              "                    begin=\"one.end\" dur=\"0.125s\"\n",
              "                    repeatCount=\"1\"\n",
              "                    additive=\"sum\"\n",
              "                    fill=\"freeze\"\n",
              "                /></g>\n",
              "      </svg>\n",
              "    "
            ]
          },
          "metadata": {}
        }
      ]
    },
    {
      "cell_type": "code",
      "source": [
        "# Turtle Challenge 4 : Generate a random walk\n",
        "import random\n",
        "turtle.clear()\n",
        "turtle.reset()\n",
        "turtle.width(10)\n",
        "turtle.speed(9)\n",
        "color_list=[\"blue\",\"green\",\"brown\",\"red\",\"yellow\",\"black\",\"pink\",\"white\"]\n",
        "def movement(loop,step):\n",
        "  turtle.forward(step)\n",
        "  turtle.setheading(loop)\n",
        "\n",
        "move_list=[0,90,180,270]\n",
        "for i in range(50):\n",
        "  loop=random.choice(move_list)\n",
        "  turtle.color(random.choice(color_list))\n",
        "  step=random.randint(1,100)\n",
        "  movement(loop,step)\n"
      ],
      "metadata": {
        "colab": {
          "base_uri": "https://localhost:8080/",
          "height": 621
        },
        "id": "tZNihDsDjOGR",
        "outputId": "b9247cae-a700-43a9-ffe6-e74ba476c195"
      },
      "execution_count": null,
      "outputs": [
        {
          "output_type": "display_data",
          "data": {
            "text/plain": [
              "<IPython.core.display.HTML object>"
            ],
            "text/html": [
              "\n",
              "      <svg width=\"800\" height=\"600\">  \n",
              "        <rect width=\"100%\" height=\"100%\" style=\"fill:grey;stroke:;stroke-width:1\"/>\n",
              "        \n",
              "        \n",
              "        <line x1=\"400.0\" y1=\"300.0\" x2=\"481.0\" y2=\"300.0\" stroke-linecap=\"round\" style=\"stroke:yellow;stroke-width:10\" /><line x1=\"481.0\" y1=\"300.0\" x2=\"447.0\" y2=\"300.0\" stroke-linecap=\"round\" style=\"stroke:white;stroke-width:10\" /><line x1=\"447.0\" y1=\"300.0\" x2=\"447.0\" y2=\"293.0\" stroke-linecap=\"round\" style=\"stroke:red;stroke-width:10\" /><line x1=\"447.0\" y1=\"293.0\" x2=\"447.0\" y2=\"230.0\" stroke-linecap=\"round\" style=\"stroke:yellow;stroke-width:10\" /><line x1=\"447.0\" y1=\"230.0\" x2=\"354.0\" y2=\"230.0\" stroke-linecap=\"round\" style=\"stroke:brown;stroke-width:10\" /><line x1=\"354.0\" y1=\"230.0\" x2=\"354.0\" y2=\"193.0\" stroke-linecap=\"round\" style=\"stroke:blue;stroke-width:10\" /><line x1=\"354.0\" y1=\"193.0\" x2=\"354.0\" y2=\"256.0\" stroke-linecap=\"round\" style=\"stroke:green;stroke-width:10\" /><line x1=\"354.0\" y1=\"256.0\" x2=\"354.0\" y2=\"194.0\" stroke-linecap=\"round\" style=\"stroke:brown;stroke-width:10\" /><line x1=\"354.0\" y1=\"194.0\" x2=\"354.0\" y2=\"104.0\" stroke-linecap=\"round\" style=\"stroke:blue;stroke-width:10\" /><line x1=\"354.0\" y1=\"104.0\" x2=\"278.0\" y2=\"104.0\" stroke-linecap=\"round\" style=\"stroke:blue;stroke-width:10\" /><line x1=\"278.0\" y1=\"104.0\" x2=\"210.0\" y2=\"104.0\" stroke-linecap=\"round\" style=\"stroke:red;stroke-width:10\" /><line x1=\"210.0\" y1=\"104.0\" x2=\"221.0\" y2=\"104.0\" stroke-linecap=\"round\" style=\"stroke:black;stroke-width:10\" /><line x1=\"221.0\" y1=\"104.0\" x2=\"242.0\" y2=\"104.0\" stroke-linecap=\"round\" style=\"stroke:black;stroke-width:10\" /><line x1=\"242.0\" y1=\"104.0\" x2=\"242.0\" y2=\"113.0\" stroke-linecap=\"round\" style=\"stroke:pink;stroke-width:10\" /><line x1=\"242.0\" y1=\"113.0\" x2=\"242.0\" y2=\"169.0\" stroke-linecap=\"round\" style=\"stroke:brown;stroke-width:10\" /><line x1=\"242.0\" y1=\"169.0\" x2=\"267.0\" y2=\"169.0\" stroke-linecap=\"round\" style=\"stroke:green;stroke-width:10\" /><line x1=\"267.0\" y1=\"169.0\" x2=\"303.0\" y2=\"169.0\" stroke-linecap=\"round\" style=\"stroke:red;stroke-width:10\" /><line x1=\"303.0\" y1=\"169.0\" x2=\"303.0\" y2=\"189.0\" stroke-linecap=\"round\" style=\"stroke:pink;stroke-width:10\" /><line x1=\"303.0\" y1=\"189.0\" x2=\"303.0\" y2=\"132.0\" stroke-linecap=\"round\" style=\"stroke:pink;stroke-width:10\" /><line x1=\"303.0\" y1=\"132.0\" x2=\"277.0\" y2=\"132.0\" stroke-linecap=\"round\" style=\"stroke:green;stroke-width:10\" /><line x1=\"277.0\" y1=\"132.0\" x2=\"357.0\" y2=\"132.0\" stroke-linecap=\"round\" style=\"stroke:blue;stroke-width:10\" /><line x1=\"357.0\" y1=\"132.0\" x2=\"357.0\" y2=\"204.0\" stroke-linecap=\"round\" style=\"stroke:red;stroke-width:10\" /><line x1=\"357.0\" y1=\"204.0\" x2=\"273.0\" y2=\"204.0\" stroke-linecap=\"round\" style=\"stroke:pink;stroke-width:10\" /><line x1=\"273.0\" y1=\"204.0\" x2=\"222.0\" y2=\"204.0\" stroke-linecap=\"round\" style=\"stroke:brown;stroke-width:10\" /><line x1=\"222.0\" y1=\"204.0\" x2=\"153.0\" y2=\"204.0\" stroke-linecap=\"round\" style=\"stroke:blue;stroke-width:10\" /><line x1=\"153.0\" y1=\"204.0\" x2=\"153.0\" y2=\"257.0\" stroke-linecap=\"round\" style=\"stroke:white;stroke-width:10\" /><line x1=\"153.0\" y1=\"257.0\" x2=\"181.0\" y2=\"257.0\" stroke-linecap=\"round\" style=\"stroke:brown;stroke-width:10\" /><line x1=\"181.0\" y1=\"257.0\" x2=\"181.0\" y2=\"274.0\" stroke-linecap=\"round\" style=\"stroke:yellow;stroke-width:10\" /><line x1=\"181.0\" y1=\"274.0\" x2=\"181.0\" y2=\"192.0\" stroke-linecap=\"round\" style=\"stroke:green;stroke-width:10\" /><line x1=\"181.0\" y1=\"192.0\" x2=\"181.0\" y2=\"196.0\" stroke-linecap=\"round\" style=\"stroke:brown;stroke-width:10\" /><line x1=\"181.0\" y1=\"196.0\" x2=\"181.0\" y2=\"134.0\" stroke-linecap=\"round\" style=\"stroke:yellow;stroke-width:10\" /><line x1=\"181.0\" y1=\"134.0\" x2=\"146.0\" y2=\"134.0\" stroke-linecap=\"round\" style=\"stroke:brown;stroke-width:10\" /><line x1=\"146.0\" y1=\"134.0\" x2=\"189.0\" y2=\"134.0\" stroke-linecap=\"round\" style=\"stroke:black;stroke-width:10\" /><line x1=\"189.0\" y1=\"134.0\" x2=\"256.0\" y2=\"134.0\" stroke-linecap=\"round\" style=\"stroke:white;stroke-width:10\" /><line x1=\"256.0\" y1=\"134.0\" x2=\"256.0\" y2=\"138.0\" stroke-linecap=\"round\" style=\"stroke:brown;stroke-width:10\" /><line x1=\"256.0\" y1=\"138.0\" x2=\"256.0\" y2=\"225.0\" stroke-linecap=\"round\" style=\"stroke:yellow;stroke-width:10\" /><line x1=\"256.0\" y1=\"225.0\" x2=\"179.0\" y2=\"225.0\" stroke-linecap=\"round\" style=\"stroke:yellow;stroke-width:10\" /><line x1=\"179.0\" y1=\"225.0\" x2=\"177.0\" y2=\"225.0\" stroke-linecap=\"round\" style=\"stroke:black;stroke-width:10\" /><line x1=\"177.0\" y1=\"225.0\" x2=\"177.0\" y2=\"157.0\" stroke-linecap=\"round\" style=\"stroke:black;stroke-width:10\" /><line x1=\"177.0\" y1=\"157.0\" x2=\"177.0\" y2=\"139.0\" stroke-linecap=\"round\" style=\"stroke:pink;stroke-width:10\" /><line x1=\"177.0\" y1=\"139.0\" x2=\"87.0\" y2=\"139.0\" stroke-linecap=\"round\" style=\"stroke:pink;stroke-width:10\" /><line x1=\"87.0\" y1=\"139.0\" x2=\"87.0\" y2=\"140.0\" stroke-linecap=\"round\" style=\"stroke:black;stroke-width:10\" /><line x1=\"87.0\" y1=\"140.0\" x2=\"-5.0\" y2=\"140.0\" stroke-linecap=\"round\" style=\"stroke:brown;stroke-width:10\" /><line x1=\"-5.0\" y1=\"140.0\" x2=\"-85.0\" y2=\"140.0\" stroke-linecap=\"round\" style=\"stroke:black;stroke-width:10\" /><line x1=\"-85.0\" y1=\"140.0\" x2=\"-85.0\" y2=\"97.0\" stroke-linecap=\"round\" style=\"stroke:yellow;stroke-width:10\" /><line x1=\"-85.0\" y1=\"97.0\" x2=\"-85.0\" y2=\"148.0\" stroke-linecap=\"round\" style=\"stroke:white;stroke-width:10\" /><line x1=\"-85.0\" y1=\"148.0\" x2=\"-123.0\" y2=\"148.0\" stroke-linecap=\"round\" style=\"stroke:pink;stroke-width:10\" /><line x1=\"-123.0\" y1=\"148.0\" x2=\"-177.0\" y2=\"148.0\" stroke-linecap=\"round\" style=\"stroke:pink;stroke-width:10\" /><line x1=\"-177.0\" y1=\"148.0\" x2=\"-177.0\" y2=\"126.0\" stroke-linecap=\"round\" style=\"stroke:pink;stroke-width:10\" /><line x1=\"-177.0\" y1=\"126.0\" x2=\"-177.0\" y2=\"119.0\" stroke-linecap=\"round\" style=\"stroke:green;stroke-width:10\" />\n",
              "        \n",
              "        \n",
              "        <g id=\"arrow\" visibility=\"visible\" transform=\"rotate(180,-177.0,119.0) translate(-177.0, 119.0)\">\n",
              "<polygon points=\"-10,-5 0,5 10,-5\" transform=\"skewX(0) scale(1,1)\" style=\"stroke:green;fill:green;stroke-width:1\" />\n",
              "<animateTransform id = \"one\" attributeName=\"transform\" \n",
              "                      type=\"scale\"\n",
              "                      from=\"1 1\" to=\"1 1\"\n",
              "                      begin=\"0s\" dur=\"0.01s\"\n",
              "                      repeatCount=\"1\"\n",
              "                      additive=\"sum\"\n",
              "                      fill=\"freeze\"\n",
              "                /><animateTransform attributeName=\"transform\"\n",
              "                    type=\"rotate\"\n",
              "                    from=\"0 0 0\" to =\"90 0 0\"\n",
              "                    begin=\"one.end\" dur=\"0.25s\"\n",
              "                    repeatCount=\"1\"\n",
              "                    additive=\"sum\"\n",
              "                    fill=\"freeze\"\n",
              "                /><animateTransform id = \"one\" attributeName=\"transform\" \n",
              "                      type=\"scale\"\n",
              "                      from=\"1 1\" to=\"1 1\"\n",
              "                      begin=\"0s\" dur=\"0.01s\"\n",
              "                      repeatCount=\"1\"\n",
              "                      additive=\"sum\"\n",
              "                      fill=\"freeze\"\n",
              "                /><animateTransform attributeName=\"transform\"\n",
              "                    type=\"rotate\"\n",
              "                    from=\"0 0 0\" to =\"270 0 0\"\n",
              "                    begin=\"one.end\" dur=\"0.753s\"\n",
              "                    repeatCount=\"1\"\n",
              "                    additive=\"sum\"\n",
              "                    fill=\"freeze\"\n",
              "                /><animateTransform id = \"one\" attributeName=\"transform\" \n",
              "                      type=\"scale\"\n",
              "                      from=\"1 1\" to=\"1 1\"\n",
              "                      begin=\"0s\" dur=\"0.01s\"\n",
              "                      repeatCount=\"1\"\n",
              "                      additive=\"sum\"\n",
              "                      fill=\"freeze\"\n",
              "                /><animateTransform attributeName=\"transform\"\n",
              "                    type=\"rotate\"\n",
              "                    from=\"0 0 0\" to =\"-90 0 0\"\n",
              "                    begin=\"one.end\" dur=\"0.1s\"\n",
              "                    repeatCount=\"1\"\n",
              "                    additive=\"sum\"\n",
              "                    fill=\"freeze\"\n",
              "                /></g>\n",
              "      </svg>\n",
              "    "
            ]
          },
          "metadata": {}
        }
      ]
    },
    {
      "cell_type": "code",
      "source": [
        "# Using Tuple for random color\n",
        "# Turtle Challenge 4 : Generate a random walk\n",
        "import random\n",
        "turtle.clear()\n",
        "turtle.reset()\n",
        "turtle.width(10)\n",
        "turtle.speed(9)\n",
        "def movement(loop,step):\n",
        "  turtle.forward(step)\n",
        "  turtle.setheading(loop)\n",
        "def rand_color():\n",
        "  r=random.randint(0,255)\n",
        "  g=random.randint(0,255)\n",
        "  b=random.randint(0,255)\n",
        "  return (r,g,b)\n",
        "\n",
        "move_list=[0,90,180,270]\n",
        "for i in range(100):\n",
        "  loop=random.choice(move_list)\n",
        "  turtle.pencolor(rand_color())\n",
        "  step=random.randint(1,100)\n",
        "  movement(loop,step)\n"
      ],
      "metadata": {
        "colab": {
          "base_uri": "https://localhost:8080/",
          "height": 621
        },
        "id": "p5Wal4XHrXcH",
        "outputId": "2bcae2f6-951e-4c46-c5e1-17266168100b"
      },
      "execution_count": null,
      "outputs": [
        {
          "output_type": "display_data",
          "data": {
            "text/plain": [
              "<IPython.core.display.HTML object>"
            ],
            "text/html": [
              "\n",
              "      <svg width=\"800\" height=\"600\">  \n",
              "        <rect width=\"100%\" height=\"100%\" style=\"fill:grey;stroke:;stroke-width:1\"/>\n",
              "        \n",
              "        \n",
              "        <line x1=\"400.0\" y1=\"300.0\" x2=\"443.0\" y2=\"300.0\" stroke-linecap=\"round\" style=\"stroke:rgb(49,112,237);stroke-width:10\" /><line x1=\"443.0\" y1=\"300.0\" x2=\"496.0\" y2=\"300.0\" stroke-linecap=\"round\" style=\"stroke:rgb(9,186,26);stroke-width:10\" /><line x1=\"496.0\" y1=\"300.0\" x2=\"496.0\" y2=\"368.0\" stroke-linecap=\"round\" style=\"stroke:rgb(42,72,150);stroke-width:10\" /><line x1=\"496.0\" y1=\"368.0\" x2=\"496.0\" y2=\"373.0\" stroke-linecap=\"round\" style=\"stroke:rgb(112,28,111);stroke-width:10\" /><line x1=\"496.0\" y1=\"373.0\" x2=\"456.0\" y2=\"373.0\" stroke-linecap=\"round\" style=\"stroke:rgb(6,153,70);stroke-width:10\" /><line x1=\"456.0\" y1=\"373.0\" x2=\"456.0\" y2=\"448.0\" stroke-linecap=\"round\" style=\"stroke:rgb(101,49,142);stroke-width:10\" /><line x1=\"456.0\" y1=\"448.0\" x2=\"467.0\" y2=\"448.0\" stroke-linecap=\"round\" style=\"stroke:rgb(134,125,80);stroke-width:10\" /><line x1=\"467.0\" y1=\"448.0\" x2=\"472.0\" y2=\"448.0\" stroke-linecap=\"round\" style=\"stroke:rgb(137,205,161);stroke-width:10\" /><line x1=\"472.0\" y1=\"448.0\" x2=\"561.0\" y2=\"448.0\" stroke-linecap=\"round\" style=\"stroke:rgb(202,136,238);stroke-width:10\" /><line x1=\"561.0\" y1=\"448.0\" x2=\"561.0\" y2=\"459.0\" stroke-linecap=\"round\" style=\"stroke:rgb(114,205,24);stroke-width:10\" /><line x1=\"561.0\" y1=\"459.0\" x2=\"561.0\" y2=\"466.0\" stroke-linecap=\"round\" style=\"stroke:rgb(170,236,200);stroke-width:10\" /><line x1=\"561.0\" y1=\"466.0\" x2=\"605.0\" y2=\"466.0\" stroke-linecap=\"round\" style=\"stroke:rgb(180,73,68);stroke-width:10\" /><line x1=\"605.0\" y1=\"466.0\" x2=\"605.0\" y2=\"451.0\" stroke-linecap=\"round\" style=\"stroke:rgb(221,32,36);stroke-width:10\" /><line x1=\"605.0\" y1=\"451.0\" x2=\"661.0\" y2=\"451.0\" stroke-linecap=\"round\" style=\"stroke:rgb(155,97,193);stroke-width:10\" /><line x1=\"661.0\" y1=\"451.0\" x2=\"575.0\" y2=\"451.0\" stroke-linecap=\"round\" style=\"stroke:rgb(135,109,224);stroke-width:10\" /><line x1=\"575.0\" y1=\"451.0\" x2=\"574.0\" y2=\"451.0\" stroke-linecap=\"round\" style=\"stroke:rgb(172,4,93);stroke-width:10\" /><line x1=\"574.0\" y1=\"451.0\" x2=\"667.0\" y2=\"451.0\" stroke-linecap=\"round\" style=\"stroke:rgb(245,42,34);stroke-width:10\" /><line x1=\"667.0\" y1=\"451.0\" x2=\"667.0\" y2=\"448.0\" stroke-linecap=\"round\" style=\"stroke:rgb(221,118,240);stroke-width:10\" /><line x1=\"667.0\" y1=\"448.0\" x2=\"667.0\" y2=\"517.0\" stroke-linecap=\"round\" style=\"stroke:rgb(7,186,153);stroke-width:10\" /><line x1=\"667.0\" y1=\"517.0\" x2=\"646.0\" y2=\"517.0\" stroke-linecap=\"round\" style=\"stroke:rgb(184,164,131);stroke-width:10\" /><line x1=\"646.0\" y1=\"517.0\" x2=\"646.0\" y2=\"564.0\" stroke-linecap=\"round\" style=\"stroke:rgb(235,157,240);stroke-width:10\" /><line x1=\"646.0\" y1=\"564.0\" x2=\"702.0\" y2=\"564.0\" stroke-linecap=\"round\" style=\"stroke:rgb(198,85,157);stroke-width:10\" /><line x1=\"702.0\" y1=\"564.0\" x2=\"755.0\" y2=\"564.0\" stroke-linecap=\"round\" style=\"stroke:rgb(75,163,207);stroke-width:10\" /><line x1=\"755.0\" y1=\"564.0\" x2=\"755.0\" y2=\"489.0\" stroke-linecap=\"round\" style=\"stroke:rgb(95,117,121);stroke-width:10\" /><line x1=\"755.0\" y1=\"489.0\" x2=\"755.0\" y2=\"422.0\" stroke-linecap=\"round\" style=\"stroke:rgb(149,101,226);stroke-width:10\" /><line x1=\"755.0\" y1=\"422.0\" x2=\"755.0\" y2=\"459.0\" stroke-linecap=\"round\" style=\"stroke:rgb(71,111,173);stroke-width:10\" /><line x1=\"755.0\" y1=\"459.0\" x2=\"771.0\" y2=\"459.0\" stroke-linecap=\"round\" style=\"stroke:rgb(216,186,235);stroke-width:10\" /><line x1=\"771.0\" y1=\"459.0\" x2=\"771.0\" y2=\"435.0\" stroke-linecap=\"round\" style=\"stroke:rgb(211,82,209);stroke-width:10\" /><line x1=\"771.0\" y1=\"435.0\" x2=\"715.0\" y2=\"435.0\" stroke-linecap=\"round\" style=\"stroke:rgb(80,84,77);stroke-width:10\" /><line x1=\"715.0\" y1=\"435.0\" x2=\"715.0\" y2=\"342.0\" stroke-linecap=\"round\" style=\"stroke:rgb(163,42,103);stroke-width:10\" /><line x1=\"715.0\" y1=\"342.0\" x2=\"715.0\" y2=\"407.0\" stroke-linecap=\"round\" style=\"stroke:rgb(152,39,64);stroke-width:10\" /><line x1=\"715.0\" y1=\"407.0\" x2=\"715.0\" y2=\"380.0\" stroke-linecap=\"round\" style=\"stroke:rgb(112,152,151);stroke-width:10\" /><line x1=\"715.0\" y1=\"380.0\" x2=\"715.0\" y2=\"473.0\" stroke-linecap=\"round\" style=\"stroke:rgb(64,214,204);stroke-width:10\" /><line x1=\"715.0\" y1=\"473.0\" x2=\"715.0\" y2=\"570.0\" stroke-linecap=\"round\" style=\"stroke:rgb(41,252,148);stroke-width:10\" /><line x1=\"715.0\" y1=\"570.0\" x2=\"715.0\" y2=\"574.0\" stroke-linecap=\"round\" style=\"stroke:rgb(5,90,143);stroke-width:10\" /><line x1=\"715.0\" y1=\"574.0\" x2=\"721.0\" y2=\"574.0\" stroke-linecap=\"round\" style=\"stroke:rgb(11,227,78);stroke-width:10\" /><line x1=\"721.0\" y1=\"574.0\" x2=\"721.0\" y2=\"529.0\" stroke-linecap=\"round\" style=\"stroke:rgb(52,94,165);stroke-width:10\" /><line x1=\"721.0\" y1=\"529.0\" x2=\"721.0\" y2=\"518.0\" stroke-linecap=\"round\" style=\"stroke:rgb(236,224,13);stroke-width:10\" /><line x1=\"721.0\" y1=\"518.0\" x2=\"721.0\" y2=\"585.0\" stroke-linecap=\"round\" style=\"stroke:rgb(193,156,128);stroke-width:10\" /><line x1=\"721.0\" y1=\"585.0\" x2=\"643.0\" y2=\"585.0\" stroke-linecap=\"round\" style=\"stroke:rgb(106,152,188);stroke-width:10\" /><line x1=\"643.0\" y1=\"585.0\" x2=\"643.0\" y2=\"639.0\" stroke-linecap=\"round\" style=\"stroke:rgb(230,188,119);stroke-width:10\" /><line x1=\"643.0\" y1=\"639.0\" x2=\"643.0\" y2=\"596.0\" stroke-linecap=\"round\" style=\"stroke:rgb(117,8,231);stroke-width:10\" /><line x1=\"643.0\" y1=\"596.0\" x2=\"643.0\" y2=\"669.0\" stroke-linecap=\"round\" style=\"stroke:rgb(239,40,110);stroke-width:10\" /><line x1=\"643.0\" y1=\"669.0\" x2=\"643.0\" y2=\"727.0\" stroke-linecap=\"round\" style=\"stroke:rgb(178,58,249);stroke-width:10\" /><line x1=\"643.0\" y1=\"727.0\" x2=\"655.0\" y2=\"727.0\" stroke-linecap=\"round\" style=\"stroke:rgb(70,197,111);stroke-width:10\" /><line x1=\"655.0\" y1=\"727.0\" x2=\"623.0\" y2=\"727.0\" stroke-linecap=\"round\" style=\"stroke:rgb(30,25,238);stroke-width:10\" /><line x1=\"623.0\" y1=\"727.0\" x2=\"623.0\" y2=\"810.0\" stroke-linecap=\"round\" style=\"stroke:rgb(174,36,202);stroke-width:10\" /><line x1=\"623.0\" y1=\"810.0\" x2=\"544.0\" y2=\"810.0\" stroke-linecap=\"round\" style=\"stroke:rgb(141,58,244);stroke-width:10\" /><line x1=\"544.0\" y1=\"810.0\" x2=\"544.0\" y2=\"898.0\" stroke-linecap=\"round\" style=\"stroke:rgb(144,125,190);stroke-width:10\" /><line x1=\"544.0\" y1=\"898.0\" x2=\"544.0\" y2=\"804.0\" stroke-linecap=\"round\" style=\"stroke:rgb(24,147,116);stroke-width:10\" /><line x1=\"544.0\" y1=\"804.0\" x2=\"597.0\" y2=\"804.0\" stroke-linecap=\"round\" style=\"stroke:rgb(90,158,212);stroke-width:10\" /><line x1=\"597.0\" y1=\"804.0\" x2=\"597.0\" y2=\"788.0\" stroke-linecap=\"round\" style=\"stroke:rgb(248,131,89);stroke-width:10\" /><line x1=\"597.0\" y1=\"788.0\" x2=\"631.0\" y2=\"788.0\" stroke-linecap=\"round\" style=\"stroke:rgb(185,150,240);stroke-width:10\" /><line x1=\"631.0\" y1=\"788.0\" x2=\"631.0\" y2=\"804.0\" stroke-linecap=\"round\" style=\"stroke:rgb(55,113,165);stroke-width:10\" /><line x1=\"631.0\" y1=\"804.0\" x2=\"631.0\" y2=\"883.0\" stroke-linecap=\"round\" style=\"stroke:rgb(148,149,44);stroke-width:10\" /><line x1=\"631.0\" y1=\"883.0\" x2=\"631.0\" y2=\"956.0\" stroke-linecap=\"round\" style=\"stroke:rgb(44,204,40);stroke-width:10\" /><line x1=\"631.0\" y1=\"956.0\" x2=\"663.0\" y2=\"956.0\" stroke-linecap=\"round\" style=\"stroke:rgb(68,247,202);stroke-width:10\" /><line x1=\"663.0\" y1=\"956.0\" x2=\"663.0\" y2=\"961.0\" stroke-linecap=\"round\" style=\"stroke:rgb(44,161,149);stroke-width:10\" /><line x1=\"663.0\" y1=\"961.0\" x2=\"730.0\" y2=\"961.0\" stroke-linecap=\"round\" style=\"stroke:rgb(118,226,58);stroke-width:10\" /><line x1=\"730.0\" y1=\"961.0\" x2=\"731.0\" y2=\"961.0\" stroke-linecap=\"round\" style=\"stroke:rgb(229,74,73);stroke-width:10\" /><line x1=\"731.0\" y1=\"961.0\" x2=\"741.0\" y2=\"961.0\" stroke-linecap=\"round\" style=\"stroke:rgb(164,164,88);stroke-width:10\" /><line x1=\"741.0\" y1=\"961.0\" x2=\"741.0\" y2=\"881.0\" stroke-linecap=\"round\" style=\"stroke:rgb(84,219,27);stroke-width:10\" /><line x1=\"741.0\" y1=\"881.0\" x2=\"655.0\" y2=\"881.0\" stroke-linecap=\"round\" style=\"stroke:rgb(39,65,124);stroke-width:10\" /><line x1=\"655.0\" y1=\"881.0\" x2=\"655.0\" y2=\"862.0\" stroke-linecap=\"round\" style=\"stroke:rgb(60,65,152);stroke-width:10\" /><line x1=\"655.0\" y1=\"862.0\" x2=\"575.0\" y2=\"862.0\" stroke-linecap=\"round\" style=\"stroke:rgb(180,216,73);stroke-width:10\" /><line x1=\"575.0\" y1=\"862.0\" x2=\"575.0\" y2=\"790.0\" stroke-linecap=\"round\" style=\"stroke:rgb(191,136,45);stroke-width:10\" /><line x1=\"575.0\" y1=\"790.0\" x2=\"575.0\" y2=\"860.0\" stroke-linecap=\"round\" style=\"stroke:rgb(49,252,18);stroke-width:10\" /><line x1=\"575.0\" y1=\"860.0\" x2=\"575.0\" y2=\"834.0\" stroke-linecap=\"round\" style=\"stroke:rgb(102,46,21);stroke-width:10\" /><line x1=\"575.0\" y1=\"834.0\" x2=\"575.0\" y2=\"836.0\" stroke-linecap=\"round\" style=\"stroke:rgb(219,2,220);stroke-width:10\" /><line x1=\"575.0\" y1=\"836.0\" x2=\"619.0\" y2=\"836.0\" stroke-linecap=\"round\" style=\"stroke:rgb(248,131,109);stroke-width:10\" /><line x1=\"619.0\" y1=\"836.0\" x2=\"619.0\" y2=\"911.0\" stroke-linecap=\"round\" style=\"stroke:rgb(20,232,115);stroke-width:10\" /><line x1=\"619.0\" y1=\"911.0\" x2=\"701.0\" y2=\"911.0\" stroke-linecap=\"round\" style=\"stroke:rgb(164,167,113);stroke-width:10\" /><line x1=\"701.0\" y1=\"911.0\" x2=\"701.0\" y2=\"979.0\" stroke-linecap=\"round\" style=\"stroke:rgb(249,188,74);stroke-width:10\" /><line x1=\"701.0\" y1=\"979.0\" x2=\"701.0\" y2=\"1001.0\" stroke-linecap=\"round\" style=\"stroke:rgb(10,63,47);stroke-width:10\" /><line x1=\"701.0\" y1=\"1001.0\" x2=\"701.0\" y2=\"1042.0\" stroke-linecap=\"round\" style=\"stroke:rgb(232,228,140);stroke-width:10\" /><line x1=\"701.0\" y1=\"1042.0\" x2=\"701.0\" y2=\"1021.0\" stroke-linecap=\"round\" style=\"stroke:rgb(52,8,84);stroke-width:10\" /><line x1=\"701.0\" y1=\"1021.0\" x2=\"701.0\" y2=\"1019.0\" stroke-linecap=\"round\" style=\"stroke:rgb(12,55,116);stroke-width:10\" /><line x1=\"701.0\" y1=\"1019.0\" x2=\"776.0\" y2=\"1019.0\" stroke-linecap=\"round\" style=\"stroke:rgb(201,68,100);stroke-width:10\" /><line x1=\"776.0\" y1=\"1019.0\" x2=\"776.0\" y2=\"937.0\" stroke-linecap=\"round\" style=\"stroke:rgb(212,236,97);stroke-width:10\" /><line x1=\"776.0\" y1=\"937.0\" x2=\"776.0\" y2=\"887.0\" stroke-linecap=\"round\" style=\"stroke:rgb(203,80,61);stroke-width:10\" /><line x1=\"776.0\" y1=\"887.0\" x2=\"776.0\" y2=\"805.0\" stroke-linecap=\"round\" style=\"stroke:rgb(239,69,231);stroke-width:10\" /><line x1=\"776.0\" y1=\"805.0\" x2=\"769.0\" y2=\"805.0\" stroke-linecap=\"round\" style=\"stroke:rgb(71,133,96);stroke-width:10\" /><line x1=\"769.0\" y1=\"805.0\" x2=\"733.0\" y2=\"805.0\" stroke-linecap=\"round\" style=\"stroke:rgb(62,138,68);stroke-width:10\" /><line x1=\"733.0\" y1=\"805.0\" x2=\"671.0\" y2=\"805.0\" stroke-linecap=\"round\" style=\"stroke:rgb(40,218,244);stroke-width:10\" /><line x1=\"671.0\" y1=\"805.0\" x2=\"649.0\" y2=\"805.0\" stroke-linecap=\"round\" style=\"stroke:rgb(2,57,206);stroke-width:10\" /><line x1=\"649.0\" y1=\"805.0\" x2=\"726.0\" y2=\"805.0\" stroke-linecap=\"round\" style=\"stroke:rgb(18,56,152);stroke-width:10\" /><line x1=\"726.0\" y1=\"805.0\" x2=\"659.0\" y2=\"805.0\" stroke-linecap=\"round\" style=\"stroke:rgb(19,216,199);stroke-width:10\" /><line x1=\"659.0\" y1=\"805.0\" x2=\"659.0\" y2=\"810.0\" stroke-linecap=\"round\" style=\"stroke:rgb(129,157,201);stroke-width:10\" /><line x1=\"659.0\" y1=\"810.0\" x2=\"591.0\" y2=\"810.0\" stroke-linecap=\"round\" style=\"stroke:rgb(92,185,120);stroke-width:10\" /><line x1=\"591.0\" y1=\"810.0\" x2=\"607.0\" y2=\"810.0\" stroke-linecap=\"round\" style=\"stroke:rgb(238,218,187);stroke-width:10\" /><line x1=\"607.0\" y1=\"810.0\" x2=\"631.0\" y2=\"810.0\" stroke-linecap=\"round\" style=\"stroke:rgb(173,222,175);stroke-width:10\" /><line x1=\"631.0\" y1=\"810.0\" x2=\"631.0\" y2=\"874.0\" stroke-linecap=\"round\" style=\"stroke:rgb(200,86,255);stroke-width:10\" /><line x1=\"631.0\" y1=\"874.0\" x2=\"631.0\" y2=\"806.0\" stroke-linecap=\"round\" style=\"stroke:rgb(186,63,155);stroke-width:10\" /><line x1=\"631.0\" y1=\"806.0\" x2=\"631.0\" y2=\"768.0\" stroke-linecap=\"round\" style=\"stroke:rgb(189,77,247);stroke-width:10\" /><line x1=\"631.0\" y1=\"768.0\" x2=\"596.0\" y2=\"768.0\" stroke-linecap=\"round\" style=\"stroke:rgb(234,211,139);stroke-width:10\" /><line x1=\"596.0\" y1=\"768.0\" x2=\"578.0\" y2=\"768.0\" stroke-linecap=\"round\" style=\"stroke:rgb(11,199,169);stroke-width:10\" /><line x1=\"578.0\" y1=\"768.0\" x2=\"486.0\" y2=\"768.0\" stroke-linecap=\"round\" style=\"stroke:rgb(101,92,235);stroke-width:10\" /><line x1=\"486.0\" y1=\"768.0\" x2=\"474.0\" y2=\"768.0\" stroke-linecap=\"round\" style=\"stroke:rgb(210,6,167);stroke-width:10\" /><line x1=\"474.0\" y1=\"768.0\" x2=\"474.0\" y2=\"820.0\" stroke-linecap=\"round\" style=\"stroke:rgb(13,175,62);stroke-width:10\" /><line x1=\"474.0\" y1=\"820.0\" x2=\"533.0\" y2=\"820.0\" stroke-linecap=\"round\" style=\"stroke:rgb(151,198,204);stroke-width:10\" />\n",
              "        \n",
              "        \n",
              "        <g id=\"arrow\" visibility=\"visible\" transform=\"rotate(-90,533.0,820.0) translate(533.0, 820.0)\">\n",
              "<polygon points=\"-10,-5 0,5 10,-5\" transform=\"skewX(0) scale(1,1)\" style=\"stroke:rgb(151,198,204);fill:black;stroke-width:1\" />\n",
              "<animateTransform id = \"one\" attributeName=\"transform\" \n",
              "                      type=\"scale\"\n",
              "                      from=\"1 1\" to=\"1 1\"\n",
              "                      begin=\"0s\" dur=\"0.01s\"\n",
              "                      repeatCount=\"1\"\n",
              "                      additive=\"sum\"\n",
              "                      fill=\"freeze\"\n",
              "                /><animateTransform attributeName=\"transform\"\n",
              "                    type=\"rotate\"\n",
              "                    from=\"0 0 0\" to =\"90 0 0\"\n",
              "                    begin=\"one.end\" dur=\"0.25s\"\n",
              "                    repeatCount=\"1\"\n",
              "                    additive=\"sum\"\n",
              "                    fill=\"freeze\"\n",
              "                /><animateTransform id = \"one\" attributeName=\"transform\" \n",
              "                      type=\"scale\"\n",
              "                      from=\"1 1\" to=\"1 1\"\n",
              "                      begin=\"0s\" dur=\"0.01s\"\n",
              "                      repeatCount=\"1\"\n",
              "                      additive=\"sum\"\n",
              "                      fill=\"freeze\"\n",
              "                /><animateTransform attributeName=\"transform\"\n",
              "                    type=\"rotate\"\n",
              "                    from=\"0 0 0\" to =\"270 0 0\"\n",
              "                    begin=\"one.end\" dur=\"0.753s\"\n",
              "                    repeatCount=\"1\"\n",
              "                    additive=\"sum\"\n",
              "                    fill=\"freeze\"\n",
              "                /><animateTransform id = \"one\" attributeName=\"transform\" \n",
              "                      type=\"scale\"\n",
              "                      from=\"1 1\" to=\"1 1\"\n",
              "                      begin=\"0s\" dur=\"0.01s\"\n",
              "                      repeatCount=\"1\"\n",
              "                      additive=\"sum\"\n",
              "                      fill=\"freeze\"\n",
              "                /><animateTransform attributeName=\"transform\"\n",
              "                    type=\"rotate\"\n",
              "                    from=\"0 0 0\" to =\"-90 0 0\"\n",
              "                    begin=\"one.end\" dur=\"0.1s\"\n",
              "                    repeatCount=\"1\"\n",
              "                    additive=\"sum\"\n",
              "                    fill=\"freeze\"\n",
              "                /></g>\n",
              "      </svg>\n",
              "    "
            ]
          },
          "metadata": {}
        }
      ]
    },
    {
      "cell_type": "code",
      "source": [
        "# Turtle Challenge 5 : Draw a spirograph\n",
        "import random\n",
        "turtle.clear()\n",
        "turtle.reset()\n",
        "turtle.speed(20)\n",
        "\n",
        "def rand_color():\n",
        "  r=random.randint(0,255)\n",
        "  g=random.randint(0,255)\n",
        "  b=random.randint(0,255)\n",
        "  return (r,g,b)\n",
        "def generator_size(size):\n",
        "  for _ in range(int(360/size)):\n",
        "    turtle.pencolor(rand_color())\n",
        "    turtle.circle(75)\n",
        "    turtle.setheading(turtle.heading()+size)\n",
        "\n",
        "generator_size(5)"
      ],
      "metadata": {
        "colab": {
          "base_uri": "https://localhost:8080/",
          "height": 621
        },
        "id": "bkE-0y7EzCgO",
        "outputId": "1c68ff37-63a6-468e-83fc-a55effdc5dba"
      },
      "execution_count": null,
      "outputs": [
        {
          "output_type": "display_data",
          "data": {
            "text/plain": [
              "<IPython.core.display.HTML object>"
            ],
            "text/html": [
              "\n",
              "      <svg width=\"800\" height=\"600\">  \n",
              "        <rect width=\"100%\" height=\"100%\" style=\"fill:grey;stroke:;stroke-width:1\"/>\n",
              "        \n",
              "        \n",
              "        <path d=\"M 400.0 300.0 A 75 75 0 0 0 400.0 150.0\" stroke-linecap=\"round\" \n",
              "            fill=\"transparent\" fill-opacity=\"0\" style=\"stroke:rgb(163,202,163);stroke-width:1\"/><path d=\"M 400.0 150.0 A 75 75 0 0 0 400.0 300.0\" stroke-linecap=\"round\" \n",
              "            fill=\"transparent\" fill-opacity=\"0\" style=\"stroke:rgb(163,202,163);stroke-width:1\"/><path d=\"M 400.0 300.0 A 75 75 0 0 0 386.927 150.571\" stroke-linecap=\"round\" \n",
              "            fill=\"transparent\" fill-opacity=\"0\" style=\"stroke:rgb(74,37,146);stroke-width:1\"/><path d=\"M 386.927 150.571 A 75 75 0 0 0 400.0 300.0\" stroke-linecap=\"round\" \n",
              "            fill=\"transparent\" fill-opacity=\"0\" style=\"stroke:rgb(74,37,146);stroke-width:1\"/><path d=\"M 400.0 300.0 A 75 75 0 0 0 373.953 152.279\" stroke-linecap=\"round\" \n",
              "            fill=\"transparent\" fill-opacity=\"0\" style=\"stroke:rgb(157,3,179);stroke-width:1\"/><path d=\"M 373.953 152.279 A 75 75 0 0 0 400.0 300.0\" stroke-linecap=\"round\" \n",
              "            fill=\"transparent\" fill-opacity=\"0\" style=\"stroke:rgb(157,3,179);stroke-width:1\"/><path d=\"M 400.0 300.0 A 75 75 0 0 0 361.177 155.111\" stroke-linecap=\"round\" \n",
              "            fill=\"transparent\" fill-opacity=\"0\" style=\"stroke:rgb(242,197,75);stroke-width:1\"/><path d=\"M 361.177 155.111 A 75 75 0 0 0 400.0 300.0\" stroke-linecap=\"round\" \n",
              "            fill=\"transparent\" fill-opacity=\"0\" style=\"stroke:rgb(242,197,75);stroke-width:1\"/><path d=\"M 400.0 300.0 A 75 75 0 0 0 348.697 159.046\" stroke-linecap=\"round\" \n",
              "            fill=\"transparent\" fill-opacity=\"0\" style=\"stroke:rgb(47,223,165);stroke-width:1\"/><path d=\"M 348.697 159.046 A 75 75 0 0 0 400.0 300.0\" stroke-linecap=\"round\" \n",
              "            fill=\"transparent\" fill-opacity=\"0\" style=\"stroke:rgb(47,223,165);stroke-width:1\"/><path d=\"M 400.0 300.0 A 75 75 0 0 0 336.607 164.054\" stroke-linecap=\"round\" \n",
              "            fill=\"transparent\" fill-opacity=\"0\" style=\"stroke:rgb(248,2,233);stroke-width:1\"/><path d=\"M 336.607 164.054 A 75 75 0 0 0 400.0 300.0\" stroke-linecap=\"round\" \n",
              "            fill=\"transparent\" fill-opacity=\"0\" style=\"stroke:rgb(248,2,233);stroke-width:1\"/><path d=\"M 400.0 300.0 A 75 75 0 0 0 325.0 170.096\" stroke-linecap=\"round\" \n",
              "            fill=\"transparent\" fill-opacity=\"0\" style=\"stroke:rgb(236,138,124);stroke-width:1\"/><path d=\"M 325.0 170.096 A 75 75 0 0 0 400.0 300.0\" stroke-linecap=\"round\" \n",
              "            fill=\"transparent\" fill-opacity=\"0\" style=\"stroke:rgb(236,138,124);stroke-width:1\"/><path d=\"M 400.0 300.0 A 75 75 0 0 0 313.964 177.127\" stroke-linecap=\"round\" \n",
              "            fill=\"transparent\" fill-opacity=\"0\" style=\"stroke:rgb(0,178,167);stroke-width:1\"/><path d=\"M 313.964 177.127 A 75 75 0 0 0 400.0 300.0\" stroke-linecap=\"round\" \n",
              "            fill=\"transparent\" fill-opacity=\"0\" style=\"stroke:rgb(0,178,167);stroke-width:1\"/><path d=\"M 400.0 300.0 A 75 75 0 0 0 303.582 185.093\" stroke-linecap=\"round\" \n",
              "            fill=\"transparent\" fill-opacity=\"0\" style=\"stroke:rgb(64,37,72);stroke-width:1\"/><path d=\"M 303.582 185.093 A 75 75 0 0 0 400.0 300.0\" stroke-linecap=\"round\" \n",
              "            fill=\"transparent\" fill-opacity=\"0\" style=\"stroke:rgb(64,37,72);stroke-width:1\"/><path d=\"M 400.0 300.0 A 75 75 0 0 0 293.934 193.934\" stroke-linecap=\"round\" \n",
              "            fill=\"transparent\" fill-opacity=\"0\" style=\"stroke:rgb(236,22,178);stroke-width:1\"/><path d=\"M 293.934 193.934 A 75 75 0 0 0 400.0 300.0\" stroke-linecap=\"round\" \n",
              "            fill=\"transparent\" fill-opacity=\"0\" style=\"stroke:rgb(236,22,178);stroke-width:1\"/><path d=\"M 400.0 300.0 A 75 75 0 0 0 285.093 203.582\" stroke-linecap=\"round\" \n",
              "            fill=\"transparent\" fill-opacity=\"0\" style=\"stroke:rgb(196,14,224);stroke-width:1\"/><path d=\"M 285.093 203.582 A 75 75 0 0 0 400.0 300.0\" stroke-linecap=\"round\" \n",
              "            fill=\"transparent\" fill-opacity=\"0\" style=\"stroke:rgb(196,14,224);stroke-width:1\"/><path d=\"M 400.0 300.0 A 75 75 0 0 0 277.127 213.964\" stroke-linecap=\"round\" \n",
              "            fill=\"transparent\" fill-opacity=\"0\" style=\"stroke:rgb(220,22,103);stroke-width:1\"/><path d=\"M 277.127 213.964 A 75 75 0 0 0 400.0 300.0\" stroke-linecap=\"round\" \n",
              "            fill=\"transparent\" fill-opacity=\"0\" style=\"stroke:rgb(220,22,103);stroke-width:1\"/><path d=\"M 400.0 300.0 A 75 75 0 0 0 270.096 225.0\" stroke-linecap=\"round\" \n",
              "            fill=\"transparent\" fill-opacity=\"0\" style=\"stroke:rgb(221,88,66);stroke-width:1\"/><path d=\"M 270.096 225.0 A 75 75 0 0 0 400.0 300.0\" stroke-linecap=\"round\" \n",
              "            fill=\"transparent\" fill-opacity=\"0\" style=\"stroke:rgb(221,88,66);stroke-width:1\"/><path d=\"M 400.0 300.0 A 75 75 0 0 0 264.054 236.607\" stroke-linecap=\"round\" \n",
              "            fill=\"transparent\" fill-opacity=\"0\" style=\"stroke:rgb(163,110,103);stroke-width:1\"/><path d=\"M 264.054 236.607 A 75 75 0 0 0 400.0 300.0\" stroke-linecap=\"round\" \n",
              "            fill=\"transparent\" fill-opacity=\"0\" style=\"stroke:rgb(163,110,103);stroke-width:1\"/><path d=\"M 400.0 300.0 A 75 75 0 0 0 259.046 248.697\" stroke-linecap=\"round\" \n",
              "            fill=\"transparent\" fill-opacity=\"0\" style=\"stroke:rgb(39,15,3);stroke-width:1\"/><path d=\"M 259.046 248.697 A 75 75 0 0 0 400.0 300.0\" stroke-linecap=\"round\" \n",
              "            fill=\"transparent\" fill-opacity=\"0\" style=\"stroke:rgb(39,15,3);stroke-width:1\"/><path d=\"M 400.0 300.0 A 75 75 0 0 0 255.111 261.177\" stroke-linecap=\"round\" \n",
              "            fill=\"transparent\" fill-opacity=\"0\" style=\"stroke:rgb(181,53,24);stroke-width:1\"/><path d=\"M 255.111 261.177 A 75 75 0 0 0 400.0 300.0\" stroke-linecap=\"round\" \n",
              "            fill=\"transparent\" fill-opacity=\"0\" style=\"stroke:rgb(181,53,24);stroke-width:1\"/><path d=\"M 400.0 300.0 A 75 75 0 0 0 252.279 273.953\" stroke-linecap=\"round\" \n",
              "            fill=\"transparent\" fill-opacity=\"0\" style=\"stroke:rgb(100,212,131);stroke-width:1\"/><path d=\"M 252.279 273.953 A 75 75 0 0 0 400.0 300.0\" stroke-linecap=\"round\" \n",
              "            fill=\"transparent\" fill-opacity=\"0\" style=\"stroke:rgb(100,212,131);stroke-width:1\"/><path d=\"M 400.0 300.0 A 75 75 0 0 0 250.571 286.927\" stroke-linecap=\"round\" \n",
              "            fill=\"transparent\" fill-opacity=\"0\" style=\"stroke:rgb(85,91,229);stroke-width:1\"/><path d=\"M 250.571 286.927 A 75 75 0 0 0 400.0 300.0\" stroke-linecap=\"round\" \n",
              "            fill=\"transparent\" fill-opacity=\"0\" style=\"stroke:rgb(85,91,229);stroke-width:1\"/><path d=\"M 400.0 300.0 A 75 75 0 0 0 250.0 300.0\" stroke-linecap=\"round\" \n",
              "            fill=\"transparent\" fill-opacity=\"0\" style=\"stroke:rgb(230,107,62);stroke-width:1\"/><path d=\"M 250.0 300.0 A 75 75 0 0 0 400.0 300.0\" stroke-linecap=\"round\" \n",
              "            fill=\"transparent\" fill-opacity=\"0\" style=\"stroke:rgb(230,107,62);stroke-width:1\"/><path d=\"M 400.0 300.0 A 75 75 0 0 0 250.571 313.073\" stroke-linecap=\"round\" \n",
              "            fill=\"transparent\" fill-opacity=\"0\" style=\"stroke:rgb(76,21,101);stroke-width:1\"/><path d=\"M 250.571 313.073 A 75 75 0 0 0 400.0 300.0\" stroke-linecap=\"round\" \n",
              "            fill=\"transparent\" fill-opacity=\"0\" style=\"stroke:rgb(76,21,101);stroke-width:1\"/><path d=\"M 400.0 300.0 A 75 75 0 0 0 252.279 326.047\" stroke-linecap=\"round\" \n",
              "            fill=\"transparent\" fill-opacity=\"0\" style=\"stroke:rgb(64,5,165);stroke-width:1\"/><path d=\"M 252.279 326.047 A 75 75 0 0 0 400.0 300.0\" stroke-linecap=\"round\" \n",
              "            fill=\"transparent\" fill-opacity=\"0\" style=\"stroke:rgb(64,5,165);stroke-width:1\"/><path d=\"M 400.0 300.0 A 75 75 0 0 0 255.111 338.823\" stroke-linecap=\"round\" \n",
              "            fill=\"transparent\" fill-opacity=\"0\" style=\"stroke:rgb(26,191,219);stroke-width:1\"/><path d=\"M 255.111 338.823 A 75 75 0 0 0 400.0 300.0\" stroke-linecap=\"round\" \n",
              "            fill=\"transparent\" fill-opacity=\"0\" style=\"stroke:rgb(26,191,219);stroke-width:1\"/><path d=\"M 400.0 300.0 A 75 75 0 0 0 259.046 351.303\" stroke-linecap=\"round\" \n",
              "            fill=\"transparent\" fill-opacity=\"0\" style=\"stroke:rgb(14,53,195);stroke-width:1\"/><path d=\"M 259.046 351.303 A 75 75 0 0 0 400.0 300.0\" stroke-linecap=\"round\" \n",
              "            fill=\"transparent\" fill-opacity=\"0\" style=\"stroke:rgb(14,53,195);stroke-width:1\"/><path d=\"M 400.0 300.0 A 75 75 0 0 0 264.054 363.393\" stroke-linecap=\"round\" \n",
              "            fill=\"transparent\" fill-opacity=\"0\" style=\"stroke:rgb(122,68,30);stroke-width:1\"/><path d=\"M 264.054 363.393 A 75 75 0 0 0 400.0 300.0\" stroke-linecap=\"round\" \n",
              "            fill=\"transparent\" fill-opacity=\"0\" style=\"stroke:rgb(122,68,30);stroke-width:1\"/><path d=\"M 400.0 300.0 A 75 75 0 0 0 270.096 375.0\" stroke-linecap=\"round\" \n",
              "            fill=\"transparent\" fill-opacity=\"0\" style=\"stroke:rgb(45,228,111);stroke-width:1\"/><path d=\"M 270.096 375.0 A 75 75 0 0 0 400.0 300.0\" stroke-linecap=\"round\" \n",
              "            fill=\"transparent\" fill-opacity=\"0\" style=\"stroke:rgb(45,228,111);stroke-width:1\"/><path d=\"M 400.0 300.0 A 75 75 0 0 0 277.127 386.036\" stroke-linecap=\"round\" \n",
              "            fill=\"transparent\" fill-opacity=\"0\" style=\"stroke:rgb(194,90,15);stroke-width:1\"/><path d=\"M 277.127 386.036 A 75 75 0 0 0 400.0 300.0\" stroke-linecap=\"round\" \n",
              "            fill=\"transparent\" fill-opacity=\"0\" style=\"stroke:rgb(194,90,15);stroke-width:1\"/><path d=\"M 400.0 300.0 A 75 75 0 0 0 285.093 396.418\" stroke-linecap=\"round\" \n",
              "            fill=\"transparent\" fill-opacity=\"0\" style=\"stroke:rgb(188,188,170);stroke-width:1\"/><path d=\"M 285.093 396.418 A 75 75 0 0 0 400.0 300.0\" stroke-linecap=\"round\" \n",
              "            fill=\"transparent\" fill-opacity=\"0\" style=\"stroke:rgb(188,188,170);stroke-width:1\"/><path d=\"M 400.0 300.0 A 75 75 0 0 0 293.934 406.066\" stroke-linecap=\"round\" \n",
              "            fill=\"transparent\" fill-opacity=\"0\" style=\"stroke:rgb(68,113,212);stroke-width:1\"/><path d=\"M 293.934 406.066 A 75 75 0 0 0 400.0 300.0\" stroke-linecap=\"round\" \n",
              "            fill=\"transparent\" fill-opacity=\"0\" style=\"stroke:rgb(68,113,212);stroke-width:1\"/><path d=\"M 400.0 300.0 A 75 75 0 0 0 303.582 414.907\" stroke-linecap=\"round\" \n",
              "            fill=\"transparent\" fill-opacity=\"0\" style=\"stroke:rgb(96,211,114);stroke-width:1\"/><path d=\"M 303.582 414.907 A 75 75 0 0 0 400.0 300.0\" stroke-linecap=\"round\" \n",
              "            fill=\"transparent\" fill-opacity=\"0\" style=\"stroke:rgb(96,211,114);stroke-width:1\"/><path d=\"M 400.0 300.0 A 75 75 0 0 0 313.964 422.873\" stroke-linecap=\"round\" \n",
              "            fill=\"transparent\" fill-opacity=\"0\" style=\"stroke:rgb(94,84,88);stroke-width:1\"/><path d=\"M 313.964 422.873 A 75 75 0 0 0 400.0 300.0\" stroke-linecap=\"round\" \n",
              "            fill=\"transparent\" fill-opacity=\"0\" style=\"stroke:rgb(94,84,88);stroke-width:1\"/><path d=\"M 400.0 300.0 A 75 75 0 0 0 325.0 429.904\" stroke-linecap=\"round\" \n",
              "            fill=\"transparent\" fill-opacity=\"0\" style=\"stroke:rgb(135,108,117);stroke-width:1\"/><path d=\"M 325.0 429.904 A 75 75 0 0 0 400.0 300.0\" stroke-linecap=\"round\" \n",
              "            fill=\"transparent\" fill-opacity=\"0\" style=\"stroke:rgb(135,108,117);stroke-width:1\"/><path d=\"M 400.0 300.0 A 75 75 0 0 0 336.607 435.946\" stroke-linecap=\"round\" \n",
              "            fill=\"transparent\" fill-opacity=\"0\" style=\"stroke:rgb(136,185,115);stroke-width:1\"/><path d=\"M 336.607 435.946 A 75 75 0 0 0 400.0 300.0\" stroke-linecap=\"round\" \n",
              "            fill=\"transparent\" fill-opacity=\"0\" style=\"stroke:rgb(136,185,115);stroke-width:1\"/><path d=\"M 400.0 300.0 A 75 75 0 0 0 348.697 440.954\" stroke-linecap=\"round\" \n",
              "            fill=\"transparent\" fill-opacity=\"0\" style=\"stroke:rgb(240,186,89);stroke-width:1\"/><path d=\"M 348.697 440.954 A 75 75 0 0 0 400.0 300.0\" stroke-linecap=\"round\" \n",
              "            fill=\"transparent\" fill-opacity=\"0\" style=\"stroke:rgb(240,186,89);stroke-width:1\"/><path d=\"M 400.0 300.0 A 75 75 0 0 0 361.177 444.889\" stroke-linecap=\"round\" \n",
              "            fill=\"transparent\" fill-opacity=\"0\" style=\"stroke:rgb(144,185,194);stroke-width:1\"/><path d=\"M 361.177 444.889 A 75 75 0 0 0 400.0 300.0\" stroke-linecap=\"round\" \n",
              "            fill=\"transparent\" fill-opacity=\"0\" style=\"stroke:rgb(144,185,194);stroke-width:1\"/><path d=\"M 400.0 300.0 A 75 75 0 0 0 373.953 447.721\" stroke-linecap=\"round\" \n",
              "            fill=\"transparent\" fill-opacity=\"0\" style=\"stroke:rgb(78,183,25);stroke-width:1\"/><path d=\"M 373.953 447.721 A 75 75 0 0 0 400.0 300.0\" stroke-linecap=\"round\" \n",
              "            fill=\"transparent\" fill-opacity=\"0\" style=\"stroke:rgb(78,183,25);stroke-width:1\"/><path d=\"M 400.0 300.0 A 75 75 0 0 0 386.927 449.429\" stroke-linecap=\"round\" \n",
              "            fill=\"transparent\" fill-opacity=\"0\" style=\"stroke:rgb(253,250,146);stroke-width:1\"/><path d=\"M 386.927 449.429 A 75 75 0 0 0 400.0 300.0\" stroke-linecap=\"round\" \n",
              "            fill=\"transparent\" fill-opacity=\"0\" style=\"stroke:rgb(253,250,146);stroke-width:1\"/><path d=\"M 400.0 300.0 A 75 75 0 0 0 400.0 450.0\" stroke-linecap=\"round\" \n",
              "            fill=\"transparent\" fill-opacity=\"0\" style=\"stroke:rgb(204,53,77);stroke-width:1\"/><path d=\"M 400.0 450.0 A 75 75 0 0 0 400.0 300.0\" stroke-linecap=\"round\" \n",
              "            fill=\"transparent\" fill-opacity=\"0\" style=\"stroke:rgb(204,53,77);stroke-width:1\"/><path d=\"M 400.0 300.0 A 75 75 0 0 0 413.073 449.429\" stroke-linecap=\"round\" \n",
              "            fill=\"transparent\" fill-opacity=\"0\" style=\"stroke:rgb(223,59,37);stroke-width:1\"/><path d=\"M 413.073 449.429 A 75 75 0 0 0 400.0 300.0\" stroke-linecap=\"round\" \n",
              "            fill=\"transparent\" fill-opacity=\"0\" style=\"stroke:rgb(223,59,37);stroke-width:1\"/><path d=\"M 400.0 300.0 A 75 75 0 0 0 426.047 447.721\" stroke-linecap=\"round\" \n",
              "            fill=\"transparent\" fill-opacity=\"0\" style=\"stroke:rgb(189,13,228);stroke-width:1\"/><path d=\"M 426.047 447.721 A 75 75 0 0 0 400.0 300.0\" stroke-linecap=\"round\" \n",
              "            fill=\"transparent\" fill-opacity=\"0\" style=\"stroke:rgb(189,13,228);stroke-width:1\"/><path d=\"M 400.0 300.0 A 75 75 0 0 0 438.823 444.889\" stroke-linecap=\"round\" \n",
              "            fill=\"transparent\" fill-opacity=\"0\" style=\"stroke:rgb(50,47,213);stroke-width:1\"/><path d=\"M 438.823 444.889 A 75 75 0 0 0 400.0 300.0\" stroke-linecap=\"round\" \n",
              "            fill=\"transparent\" fill-opacity=\"0\" style=\"stroke:rgb(50,47,213);stroke-width:1\"/><path d=\"M 400.0 300.0 A 75 75 0 0 0 451.303 440.954\" stroke-linecap=\"round\" \n",
              "            fill=\"transparent\" fill-opacity=\"0\" style=\"stroke:rgb(11,203,5);stroke-width:1\"/><path d=\"M 451.303 440.954 A 75 75 0 0 0 400.0 300.0\" stroke-linecap=\"round\" \n",
              "            fill=\"transparent\" fill-opacity=\"0\" style=\"stroke:rgb(11,203,5);stroke-width:1\"/><path d=\"M 400.0 300.0 A 75 75 0 0 0 463.393 435.946\" stroke-linecap=\"round\" \n",
              "            fill=\"transparent\" fill-opacity=\"0\" style=\"stroke:rgb(45,137,242);stroke-width:1\"/><path d=\"M 463.393 435.946 A 75 75 0 0 0 400.0 300.0\" stroke-linecap=\"round\" \n",
              "            fill=\"transparent\" fill-opacity=\"0\" style=\"stroke:rgb(45,137,242);stroke-width:1\"/><path d=\"M 400.0 300.0 A 75 75 0 0 0 475.0 429.904\" stroke-linecap=\"round\" \n",
              "            fill=\"transparent\" fill-opacity=\"0\" style=\"stroke:rgb(159,106,198);stroke-width:1\"/><path d=\"M 475.0 429.904 A 75 75 0 0 0 400.0 300.0\" stroke-linecap=\"round\" \n",
              "            fill=\"transparent\" fill-opacity=\"0\" style=\"stroke:rgb(159,106,198);stroke-width:1\"/><path d=\"M 400.0 300.0 A 75 75 0 0 0 486.036 422.873\" stroke-linecap=\"round\" \n",
              "            fill=\"transparent\" fill-opacity=\"0\" style=\"stroke:rgb(124,79,51);stroke-width:1\"/><path d=\"M 486.036 422.873 A 75 75 0 0 0 400.0 300.0\" stroke-linecap=\"round\" \n",
              "            fill=\"transparent\" fill-opacity=\"0\" style=\"stroke:rgb(124,79,51);stroke-width:1\"/><path d=\"M 400.0 300.0 A 75 75 0 0 0 496.418 414.907\" stroke-linecap=\"round\" \n",
              "            fill=\"transparent\" fill-opacity=\"0\" style=\"stroke:rgb(56,152,32);stroke-width:1\"/><path d=\"M 496.418 414.907 A 75 75 0 0 0 400.0 300.0\" stroke-linecap=\"round\" \n",
              "            fill=\"transparent\" fill-opacity=\"0\" style=\"stroke:rgb(56,152,32);stroke-width:1\"/><path d=\"M 400.0 300.0 A 75 75 0 0 0 506.066 406.066\" stroke-linecap=\"round\" \n",
              "            fill=\"transparent\" fill-opacity=\"0\" style=\"stroke:rgb(245,222,13);stroke-width:1\"/><path d=\"M 506.066 406.066 A 75 75 0 0 0 400.0 300.0\" stroke-linecap=\"round\" \n",
              "            fill=\"transparent\" fill-opacity=\"0\" style=\"stroke:rgb(245,222,13);stroke-width:1\"/><path d=\"M 400.0 300.0 A 75 75 0 0 0 514.907 396.418\" stroke-linecap=\"round\" \n",
              "            fill=\"transparent\" fill-opacity=\"0\" style=\"stroke:rgb(56,53,65);stroke-width:1\"/><path d=\"M 514.907 396.418 A 75 75 0 0 0 400.0 300.0\" stroke-linecap=\"round\" \n",
              "            fill=\"transparent\" fill-opacity=\"0\" style=\"stroke:rgb(56,53,65);stroke-width:1\"/><path d=\"M 400.0 300.0 A 75 75 0 0 0 522.873 386.036\" stroke-linecap=\"round\" \n",
              "            fill=\"transparent\" fill-opacity=\"0\" style=\"stroke:rgb(42,20,210);stroke-width:1\"/><path d=\"M 522.873 386.036 A 75 75 0 0 0 400.0 300.0\" stroke-linecap=\"round\" \n",
              "            fill=\"transparent\" fill-opacity=\"0\" style=\"stroke:rgb(42,20,210);stroke-width:1\"/><path d=\"M 400.0 300.0 A 75 75 0 0 0 529.904 375.0\" stroke-linecap=\"round\" \n",
              "            fill=\"transparent\" fill-opacity=\"0\" style=\"stroke:rgb(64,43,137);stroke-width:1\"/><path d=\"M 529.904 375.0 A 75 75 0 0 0 400.0 300.0\" stroke-linecap=\"round\" \n",
              "            fill=\"transparent\" fill-opacity=\"0\" style=\"stroke:rgb(64,43,137);stroke-width:1\"/><path d=\"M 400.0 300.0 A 75 75 0 0 0 535.946 363.393\" stroke-linecap=\"round\" \n",
              "            fill=\"transparent\" fill-opacity=\"0\" style=\"stroke:rgb(114,205,22);stroke-width:1\"/><path d=\"M 535.946 363.393 A 75 75 0 0 0 400.0 300.0\" stroke-linecap=\"round\" \n",
              "            fill=\"transparent\" fill-opacity=\"0\" style=\"stroke:rgb(114,205,22);stroke-width:1\"/><path d=\"M 400.0 300.0 A 75 75 0 0 0 540.954 351.303\" stroke-linecap=\"round\" \n",
              "            fill=\"transparent\" fill-opacity=\"0\" style=\"stroke:rgb(160,39,240);stroke-width:1\"/><path d=\"M 540.954 351.303 A 75 75 0 0 0 400.0 300.0\" stroke-linecap=\"round\" \n",
              "            fill=\"transparent\" fill-opacity=\"0\" style=\"stroke:rgb(160,39,240);stroke-width:1\"/><path d=\"M 400.0 300.0 A 75 75 0 0 0 544.889 338.823\" stroke-linecap=\"round\" \n",
              "            fill=\"transparent\" fill-opacity=\"0\" style=\"stroke:rgb(1,145,250);stroke-width:1\"/><path d=\"M 544.889 338.823 A 75 75 0 0 0 400.0 300.0\" stroke-linecap=\"round\" \n",
              "            fill=\"transparent\" fill-opacity=\"0\" style=\"stroke:rgb(1,145,250);stroke-width:1\"/><path d=\"M 400.0 300.0 A 75 75 0 0 0 547.721 326.047\" stroke-linecap=\"round\" \n",
              "            fill=\"transparent\" fill-opacity=\"0\" style=\"stroke:rgb(178,102,43);stroke-width:1\"/><path d=\"M 547.721 326.047 A 75 75 0 0 0 400.0 300.0\" stroke-linecap=\"round\" \n",
              "            fill=\"transparent\" fill-opacity=\"0\" style=\"stroke:rgb(178,102,43);stroke-width:1\"/><path d=\"M 400.0 300.0 A 75 75 0 0 0 549.429 313.073\" stroke-linecap=\"round\" \n",
              "            fill=\"transparent\" fill-opacity=\"0\" style=\"stroke:rgb(62,180,144);stroke-width:1\"/><path d=\"M 549.429 313.073 A 75 75 0 0 0 400.0 300.0\" stroke-linecap=\"round\" \n",
              "            fill=\"transparent\" fill-opacity=\"0\" style=\"stroke:rgb(62,180,144);stroke-width:1\"/><path d=\"M 400.0 300.0 A 75 75 0 0 0 550.0 300.0\" stroke-linecap=\"round\" \n",
              "            fill=\"transparent\" fill-opacity=\"0\" style=\"stroke:rgb(47,79,231);stroke-width:1\"/><path d=\"M 550.0 300.0 A 75 75 0 0 0 400.0 300.0\" stroke-linecap=\"round\" \n",
              "            fill=\"transparent\" fill-opacity=\"0\" style=\"stroke:rgb(47,79,231);stroke-width:1\"/><path d=\"M 400.0 300.0 A 75 75 0 0 0 549.429 286.927\" stroke-linecap=\"round\" \n",
              "            fill=\"transparent\" fill-opacity=\"0\" style=\"stroke:rgb(56,74,129);stroke-width:1\"/><path d=\"M 549.429 286.927 A 75 75 0 0 0 400.0 300.0\" stroke-linecap=\"round\" \n",
              "            fill=\"transparent\" fill-opacity=\"0\" style=\"stroke:rgb(56,74,129);stroke-width:1\"/><path d=\"M 400.0 300.0 A 75 75 0 0 0 547.721 273.953\" stroke-linecap=\"round\" \n",
              "            fill=\"transparent\" fill-opacity=\"0\" style=\"stroke:rgb(255,124,109);stroke-width:1\"/><path d=\"M 547.721 273.953 A 75 75 0 0 0 400.0 300.0\" stroke-linecap=\"round\" \n",
              "            fill=\"transparent\" fill-opacity=\"0\" style=\"stroke:rgb(255,124,109);stroke-width:1\"/><path d=\"M 400.0 300.0 A 75 75 0 0 0 544.889 261.177\" stroke-linecap=\"round\" \n",
              "            fill=\"transparent\" fill-opacity=\"0\" style=\"stroke:rgb(113,131,228);stroke-width:1\"/><path d=\"M 544.889 261.177 A 75 75 0 0 0 400.0 300.0\" stroke-linecap=\"round\" \n",
              "            fill=\"transparent\" fill-opacity=\"0\" style=\"stroke:rgb(113,131,228);stroke-width:1\"/><path d=\"M 400.0 300.0 A 75 75 0 0 0 540.954 248.697\" stroke-linecap=\"round\" \n",
              "            fill=\"transparent\" fill-opacity=\"0\" style=\"stroke:rgb(134,48,124);stroke-width:1\"/><path d=\"M 540.954 248.697 A 75 75 0 0 0 400.0 300.0\" stroke-linecap=\"round\" \n",
              "            fill=\"transparent\" fill-opacity=\"0\" style=\"stroke:rgb(134,48,124);stroke-width:1\"/><path d=\"M 400.0 300.0 A 75 75 0 0 0 535.946 236.607\" stroke-linecap=\"round\" \n",
              "            fill=\"transparent\" fill-opacity=\"0\" style=\"stroke:rgb(6,31,4);stroke-width:1\"/><path d=\"M 535.946 236.607 A 75 75 0 0 0 400.0 300.0\" stroke-linecap=\"round\" \n",
              "            fill=\"transparent\" fill-opacity=\"0\" style=\"stroke:rgb(6,31,4);stroke-width:1\"/><path d=\"M 400.0 300.0 A 75 75 0 0 0 529.904 225.0\" stroke-linecap=\"round\" \n",
              "            fill=\"transparent\" fill-opacity=\"0\" style=\"stroke:rgb(227,67,59);stroke-width:1\"/><path d=\"M 529.904 225.0 A 75 75 0 0 0 400.0 300.0\" stroke-linecap=\"round\" \n",
              "            fill=\"transparent\" fill-opacity=\"0\" style=\"stroke:rgb(227,67,59);stroke-width:1\"/><path d=\"M 400.0 300.0 A 75 75 0 0 0 522.873 213.964\" stroke-linecap=\"round\" \n",
              "            fill=\"transparent\" fill-opacity=\"0\" style=\"stroke:rgb(1,251,226);stroke-width:1\"/><path d=\"M 522.873 213.964 A 75 75 0 0 0 400.0 300.0\" stroke-linecap=\"round\" \n",
              "            fill=\"transparent\" fill-opacity=\"0\" style=\"stroke:rgb(1,251,226);stroke-width:1\"/><path d=\"M 400.0 300.0 A 75 75 0 0 0 514.907 203.582\" stroke-linecap=\"round\" \n",
              "            fill=\"transparent\" fill-opacity=\"0\" style=\"stroke:rgb(121,243,163);stroke-width:1\"/><path d=\"M 514.907 203.582 A 75 75 0 0 0 400.0 300.0\" stroke-linecap=\"round\" \n",
              "            fill=\"transparent\" fill-opacity=\"0\" style=\"stroke:rgb(121,243,163);stroke-width:1\"/><path d=\"M 400.0 300.0 A 75 75 0 0 0 506.066 193.934\" stroke-linecap=\"round\" \n",
              "            fill=\"transparent\" fill-opacity=\"0\" style=\"stroke:rgb(169,173,1);stroke-width:1\"/><path d=\"M 506.066 193.934 A 75 75 0 0 0 400.0 300.0\" stroke-linecap=\"round\" \n",
              "            fill=\"transparent\" fill-opacity=\"0\" style=\"stroke:rgb(169,173,1);stroke-width:1\"/><path d=\"M 400.0 300.0 A 75 75 0 0 0 496.418 185.093\" stroke-linecap=\"round\" \n",
              "            fill=\"transparent\" fill-opacity=\"0\" style=\"stroke:rgb(50,197,200);stroke-width:1\"/><path d=\"M 496.418 185.093 A 75 75 0 0 0 400.0 300.0\" stroke-linecap=\"round\" \n",
              "            fill=\"transparent\" fill-opacity=\"0\" style=\"stroke:rgb(50,197,200);stroke-width:1\"/><path d=\"M 400.0 300.0 A 75 75 0 0 0 486.036 177.127\" stroke-linecap=\"round\" \n",
              "            fill=\"transparent\" fill-opacity=\"0\" style=\"stroke:rgb(221,192,45);stroke-width:1\"/><path d=\"M 486.036 177.127 A 75 75 0 0 0 400.0 300.0\" stroke-linecap=\"round\" \n",
              "            fill=\"transparent\" fill-opacity=\"0\" style=\"stroke:rgb(221,192,45);stroke-width:1\"/><path d=\"M 400.0 300.0 A 75 75 0 0 0 475.0 170.096\" stroke-linecap=\"round\" \n",
              "            fill=\"transparent\" fill-opacity=\"0\" style=\"stroke:rgb(196,120,227);stroke-width:1\"/><path d=\"M 475.0 170.096 A 75 75 0 0 0 400.0 300.0\" stroke-linecap=\"round\" \n",
              "            fill=\"transparent\" fill-opacity=\"0\" style=\"stroke:rgb(196,120,227);stroke-width:1\"/><path d=\"M 400.0 300.0 A 75 75 0 0 0 463.393 164.054\" stroke-linecap=\"round\" \n",
              "            fill=\"transparent\" fill-opacity=\"0\" style=\"stroke:rgb(60,109,238);stroke-width:1\"/><path d=\"M 463.393 164.054 A 75 75 0 0 0 400.0 300.0\" stroke-linecap=\"round\" \n",
              "            fill=\"transparent\" fill-opacity=\"0\" style=\"stroke:rgb(60,109,238);stroke-width:1\"/><path d=\"M 400.0 300.0 A 75 75 0 0 0 451.303 159.046\" stroke-linecap=\"round\" \n",
              "            fill=\"transparent\" fill-opacity=\"0\" style=\"stroke:rgb(187,59,158);stroke-width:1\"/><path d=\"M 451.303 159.046 A 75 75 0 0 0 400.0 300.0\" stroke-linecap=\"round\" \n",
              "            fill=\"transparent\" fill-opacity=\"0\" style=\"stroke:rgb(187,59,158);stroke-width:1\"/><path d=\"M 400.0 300.0 A 75 75 0 0 0 438.823 155.111\" stroke-linecap=\"round\" \n",
              "            fill=\"transparent\" fill-opacity=\"0\" style=\"stroke:rgb(193,34,32);stroke-width:1\"/><path d=\"M 438.823 155.111 A 75 75 0 0 0 400.0 300.0\" stroke-linecap=\"round\" \n",
              "            fill=\"transparent\" fill-opacity=\"0\" style=\"stroke:rgb(193,34,32);stroke-width:1\"/><path d=\"M 400.0 300.0 A 75 75 0 0 0 426.047 152.279\" stroke-linecap=\"round\" \n",
              "            fill=\"transparent\" fill-opacity=\"0\" style=\"stroke:rgb(54,107,118);stroke-width:1\"/><path d=\"M 426.047 152.279 A 75 75 0 0 0 400.0 300.0\" stroke-linecap=\"round\" \n",
              "            fill=\"transparent\" fill-opacity=\"0\" style=\"stroke:rgb(54,107,118);stroke-width:1\"/><path d=\"M 400.0 300.0 A 75 75 0 0 0 413.073 150.571\" stroke-linecap=\"round\" \n",
              "            fill=\"transparent\" fill-opacity=\"0\" style=\"stroke:rgb(221,187,171);stroke-width:1\"/><path d=\"M 413.073 150.571 A 75 75 0 0 0 400.0 300.0\" stroke-linecap=\"round\" \n",
              "            fill=\"transparent\" fill-opacity=\"0\" style=\"stroke:rgb(221,187,171);stroke-width:1\"/>\n",
              "        \n",
              "        \n",
              "        <g id=\"arrow\" visibility=\"visible\" transform=\"rotate(-85.0,400.0,300.0) translate(400.0, 300.0)\">\n",
              "<polygon points=\"-10,-5 0,5 10,-5\" transform=\"skewX(0) scale(1,1)\" style=\"stroke:rgb(221,187,171);fill:black;stroke-width:1\" />\n",
              "<animateTransform id = \"one\" attributeName=\"transform\" \n",
              "                      type=\"scale\"\n",
              "                      from=\"1 1\" to=\"1 1\"\n",
              "                      begin=\"0s\" dur=\"0.01s\"\n",
              "                      repeatCount=\"1\"\n",
              "                      additive=\"sum\"\n",
              "                      fill=\"freeze\"\n",
              "                /><animateTransform attributeName=\"transform\"\n",
              "                    type=\"rotate\"\n",
              "                    from=\"0 0 0\" to =\"90 0 0\"\n",
              "                    begin=\"one.end\" dur=\"0.25s\"\n",
              "                    repeatCount=\"1\"\n",
              "                    additive=\"sum\"\n",
              "                    fill=\"freeze\"\n",
              "                /><animateTransform id = \"one\" attributeName=\"transform\" \n",
              "                      type=\"scale\"\n",
              "                      from=\"1 1\" to=\"1 1\"\n",
              "                      begin=\"0s\" dur=\"0.01s\"\n",
              "                      repeatCount=\"1\"\n",
              "                      additive=\"sum\"\n",
              "                      fill=\"freeze\"\n",
              "                /><animateTransform attributeName=\"transform\"\n",
              "                    type=\"rotate\"\n",
              "                    from=\"0 0 0\" to =\"270 0 0\"\n",
              "                    begin=\"one.end\" dur=\"0.753s\"\n",
              "                    repeatCount=\"1\"\n",
              "                    additive=\"sum\"\n",
              "                    fill=\"freeze\"\n",
              "                /><animateTransform id = \"one\" attributeName=\"transform\" \n",
              "                      type=\"scale\"\n",
              "                      from=\"1 1\" to=\"1 1\"\n",
              "                      begin=\"0s\" dur=\"0.01s\"\n",
              "                      repeatCount=\"1\"\n",
              "                      additive=\"sum\"\n",
              "                      fill=\"freeze\"\n",
              "                /><animateTransform attributeName=\"transform\"\n",
              "                    type=\"rotate\"\n",
              "                    from=\"0 0 0\" to =\"-5.0 0 0\"\n",
              "                    begin=\"one.end\" dur=\"0.0002777777777777778s\"\n",
              "                    repeatCount=\"1\"\n",
              "                    additive=\"sum\"\n",
              "                    fill=\"freeze\"\n",
              "                /></g>\n",
              "      </svg>\n",
              "    "
            ]
          },
          "metadata": {}
        }
      ]
    },
    {
      "cell_type": "code",
      "source": [
        "import random"
      ],
      "metadata": {
        "id": "z2ESIiCES7_e"
      },
      "execution_count": 16,
      "outputs": []
    },
    {
      "cell_type": "code",
      "source": [
        "# The Hirst painting project : Drawing the dots\n",
        "color_tuples = [\n",
        "    (255, 0, 0),    # Red\n",
        "    (0, 255, 0),    # Green\n",
        "    (0, 0, 255),    # Blue\n",
        "    (255, 255, 0),  # Yellow\n",
        "    (255, 0, 255),  # Magenta\n",
        "    (0, 255, 255),  # Cyan\n",
        "    (128, 0, 0),    # Maroon\n",
        "    (0, 128, 0),    # Olive\n",
        "    (0, 0, 128),    # Navy\n",
        "    (128, 128, 0),  # Olive Green\n",
        "    (128, 0, 128),  # Purple\n",
        "    (0, 128, 128),  # Teal\n",
        "    (255, 165, 0),  # Orange\n",
        "    (255, 192, 203),# Pink\n",
        "    (165, 42, 42),  # Brown\n",
        "    (0, 128, 128),  # Teal\n",
        "    (255, 215, 0),  # Gold\n",
        "    (218, 165, 32), # Goldenrod\n",
        "    (70, 130, 180), # Steel Blue\n",
        "    (0, 128, 0)     # Dark Green\n",
        "]\n",
        "turtle.clear()\n",
        "turtle.reset()\n",
        "turtle.penup()\n",
        "turtle.hideturtle()\n",
        "turtle.speed(20)\n",
        "turtle.setheading(225)\n",
        "turtle.forward(200)\n",
        "turtle.setheading(360)\n",
        "turtle.forward(10)\n",
        "\n",
        "def paint(no_of_rows):\n",
        "  for i in range(no_of_rows):\n",
        "    turtle.shape(\"circle\")\n",
        "    turtle.dot(20,random.choice(color_tuples))\n",
        "    turtle.forward(40)\n",
        "\n",
        "  turtle.setheading(90)\n",
        "  turtle.forward(40)\n",
        "  turtle.left(90)\n",
        "  turtle.forward(400)\n",
        "  turtle.setheading(0)\n",
        "\n",
        "for _ in range(8):\n",
        "  paint(10)\n",
        "\n"
      ],
      "metadata": {
        "colab": {
          "base_uri": "https://localhost:8080/",
          "height": 622
        },
        "id": "dPHCZUIxHLwb",
        "outputId": "edfee707-dbca-4a18-b267-db28ed89fb0b"
      },
      "execution_count": 36,
      "outputs": [
        {
          "output_type": "display_data",
          "data": {
            "text/plain": [
              "<IPython.core.display.HTML object>"
            ],
            "text/html": [
              "\n",
              "      <svg width=\"800\" height=\"600\">  \n",
              "        <rect width=\"100%\" height=\"100%\" style=\"fill:white;stroke:;stroke-width:1\"/>\n",
              "        \n",
              "        \n",
              "        \n",
              "        <circle cx=\"268.579\" cy=\"441.421\" r=\"10.0\" fill=\"rgb(0,128,0)\" fill-opacity=\"1\" /><circle cx=\"308.579\" cy=\"441.421\" r=\"10.0\" fill=\"rgb(128,0,128)\" fill-opacity=\"1\" /><circle cx=\"348.579\" cy=\"441.421\" r=\"10.0\" fill=\"rgb(70,130,180)\" fill-opacity=\"1\" /><circle cx=\"388.579\" cy=\"441.421\" r=\"10.0\" fill=\"rgb(0,128,0)\" fill-opacity=\"1\" /><circle cx=\"428.579\" cy=\"441.421\" r=\"10.0\" fill=\"rgb(255,192,203)\" fill-opacity=\"1\" /><circle cx=\"468.579\" cy=\"441.421\" r=\"10.0\" fill=\"rgb(0,0,255)\" fill-opacity=\"1\" /><circle cx=\"508.579\" cy=\"441.421\" r=\"10.0\" fill=\"rgb(218,165,32)\" fill-opacity=\"1\" /><circle cx=\"548.579\" cy=\"441.421\" r=\"10.0\" fill=\"rgb(255,192,203)\" fill-opacity=\"1\" /><circle cx=\"588.579\" cy=\"441.421\" r=\"10.0\" fill=\"rgb(255,165,0)\" fill-opacity=\"1\" /><circle cx=\"628.579\" cy=\"441.421\" r=\"10.0\" fill=\"rgb(70,130,180)\" fill-opacity=\"1\" /><circle cx=\"268.579\" cy=\"401.421\" r=\"10.0\" fill=\"rgb(0,0,128)\" fill-opacity=\"1\" /><circle cx=\"308.579\" cy=\"401.421\" r=\"10.0\" fill=\"rgb(218,165,32)\" fill-opacity=\"1\" /><circle cx=\"348.579\" cy=\"401.421\" r=\"10.0\" fill=\"rgb(0,0,128)\" fill-opacity=\"1\" /><circle cx=\"388.579\" cy=\"401.421\" r=\"10.0\" fill=\"rgb(0,128,128)\" fill-opacity=\"1\" /><circle cx=\"428.579\" cy=\"401.421\" r=\"10.0\" fill=\"rgb(255,192,203)\" fill-opacity=\"1\" /><circle cx=\"468.579\" cy=\"401.421\" r=\"10.0\" fill=\"rgb(0,0,255)\" fill-opacity=\"1\" /><circle cx=\"508.579\" cy=\"401.421\" r=\"10.0\" fill=\"rgb(128,128,0)\" fill-opacity=\"1\" /><circle cx=\"548.579\" cy=\"401.421\" r=\"10.0\" fill=\"rgb(128,0,128)\" fill-opacity=\"1\" /><circle cx=\"588.579\" cy=\"401.421\" r=\"10.0\" fill=\"rgb(128,0,0)\" fill-opacity=\"1\" /><circle cx=\"628.579\" cy=\"401.421\" r=\"10.0\" fill=\"rgb(0,0,255)\" fill-opacity=\"1\" /><circle cx=\"268.579\" cy=\"361.421\" r=\"10.0\" fill=\"rgb(0,0,128)\" fill-opacity=\"1\" /><circle cx=\"308.579\" cy=\"361.421\" r=\"10.0\" fill=\"rgb(218,165,32)\" fill-opacity=\"1\" /><circle cx=\"348.579\" cy=\"361.421\" r=\"10.0\" fill=\"rgb(255,255,0)\" fill-opacity=\"1\" /><circle cx=\"388.579\" cy=\"361.421\" r=\"10.0\" fill=\"rgb(0,255,0)\" fill-opacity=\"1\" /><circle cx=\"428.579\" cy=\"361.421\" r=\"10.0\" fill=\"rgb(255,192,203)\" fill-opacity=\"1\" /><circle cx=\"468.579\" cy=\"361.421\" r=\"10.0\" fill=\"rgb(128,0,128)\" fill-opacity=\"1\" /><circle cx=\"508.579\" cy=\"361.421\" r=\"10.0\" fill=\"rgb(70,130,180)\" fill-opacity=\"1\" /><circle cx=\"548.579\" cy=\"361.421\" r=\"10.0\" fill=\"rgb(255,192,203)\" fill-opacity=\"1\" /><circle cx=\"588.579\" cy=\"361.421\" r=\"10.0\" fill=\"rgb(0,128,128)\" fill-opacity=\"1\" /><circle cx=\"628.579\" cy=\"361.421\" r=\"10.0\" fill=\"rgb(255,0,255)\" fill-opacity=\"1\" /><circle cx=\"268.579\" cy=\"321.421\" r=\"10.0\" fill=\"rgb(0,128,0)\" fill-opacity=\"1\" /><circle cx=\"308.579\" cy=\"321.421\" r=\"10.0\" fill=\"rgb(255,165,0)\" fill-opacity=\"1\" /><circle cx=\"348.579\" cy=\"321.421\" r=\"10.0\" fill=\"rgb(128,128,0)\" fill-opacity=\"1\" /><circle cx=\"388.579\" cy=\"321.421\" r=\"10.0\" fill=\"rgb(128,0,0)\" fill-opacity=\"1\" /><circle cx=\"428.579\" cy=\"321.421\" r=\"10.0\" fill=\"rgb(0,128,0)\" fill-opacity=\"1\" /><circle cx=\"468.579\" cy=\"321.421\" r=\"10.0\" fill=\"rgb(128,0,0)\" fill-opacity=\"1\" /><circle cx=\"508.579\" cy=\"321.421\" r=\"10.0\" fill=\"rgb(255,0,255)\" fill-opacity=\"1\" /><circle cx=\"548.579\" cy=\"321.421\" r=\"10.0\" fill=\"rgb(0,128,0)\" fill-opacity=\"1\" /><circle cx=\"588.579\" cy=\"321.421\" r=\"10.0\" fill=\"rgb(218,165,32)\" fill-opacity=\"1\" /><circle cx=\"628.579\" cy=\"321.421\" r=\"10.0\" fill=\"rgb(0,128,128)\" fill-opacity=\"1\" /><circle cx=\"268.579\" cy=\"281.421\" r=\"10.0\" fill=\"rgb(70,130,180)\" fill-opacity=\"1\" /><circle cx=\"308.579\" cy=\"281.421\" r=\"10.0\" fill=\"rgb(255,165,0)\" fill-opacity=\"1\" /><circle cx=\"348.579\" cy=\"281.421\" r=\"10.0\" fill=\"rgb(0,128,128)\" fill-opacity=\"1\" /><circle cx=\"388.579\" cy=\"281.421\" r=\"10.0\" fill=\"rgb(0,128,128)\" fill-opacity=\"1\" /><circle cx=\"428.579\" cy=\"281.421\" r=\"10.0\" fill=\"rgb(255,165,0)\" fill-opacity=\"1\" /><circle cx=\"468.579\" cy=\"281.421\" r=\"10.0\" fill=\"rgb(70,130,180)\" fill-opacity=\"1\" /><circle cx=\"508.579\" cy=\"281.421\" r=\"10.0\" fill=\"rgb(255,165,0)\" fill-opacity=\"1\" /><circle cx=\"548.579\" cy=\"281.421\" r=\"10.0\" fill=\"rgb(255,215,0)\" fill-opacity=\"1\" /><circle cx=\"588.579\" cy=\"281.421\" r=\"10.0\" fill=\"rgb(128,128,0)\" fill-opacity=\"1\" /><circle cx=\"628.579\" cy=\"281.421\" r=\"10.0\" fill=\"rgb(128,0,0)\" fill-opacity=\"1\" /><circle cx=\"268.579\" cy=\"241.421\" r=\"10.0\" fill=\"rgb(0,0,128)\" fill-opacity=\"1\" /><circle cx=\"308.579\" cy=\"241.421\" r=\"10.0\" fill=\"rgb(70,130,180)\" fill-opacity=\"1\" /><circle cx=\"348.579\" cy=\"241.421\" r=\"10.0\" fill=\"rgb(255,255,0)\" fill-opacity=\"1\" /><circle cx=\"388.579\" cy=\"241.421\" r=\"10.0\" fill=\"rgb(128,0,128)\" fill-opacity=\"1\" /><circle cx=\"428.579\" cy=\"241.421\" r=\"10.0\" fill=\"rgb(0,255,0)\" fill-opacity=\"1\" /><circle cx=\"468.579\" cy=\"241.421\" r=\"10.0\" fill=\"rgb(255,255,0)\" fill-opacity=\"1\" /><circle cx=\"508.579\" cy=\"241.421\" r=\"10.0\" fill=\"rgb(0,255,0)\" fill-opacity=\"1\" /><circle cx=\"548.579\" cy=\"241.421\" r=\"10.0\" fill=\"rgb(128,128,0)\" fill-opacity=\"1\" /><circle cx=\"588.579\" cy=\"241.421\" r=\"10.0\" fill=\"rgb(0,128,128)\" fill-opacity=\"1\" /><circle cx=\"628.579\" cy=\"241.421\" r=\"10.0\" fill=\"rgb(0,128,0)\" fill-opacity=\"1\" /><circle cx=\"268.579\" cy=\"201.421\" r=\"10.0\" fill=\"rgb(255,255,0)\" fill-opacity=\"1\" /><circle cx=\"308.579\" cy=\"201.421\" r=\"10.0\" fill=\"rgb(255,165,0)\" fill-opacity=\"1\" /><circle cx=\"348.579\" cy=\"201.421\" r=\"10.0\" fill=\"rgb(255,255,0)\" fill-opacity=\"1\" /><circle cx=\"388.579\" cy=\"201.421\" r=\"10.0\" fill=\"rgb(70,130,180)\" fill-opacity=\"1\" /><circle cx=\"428.579\" cy=\"201.421\" r=\"10.0\" fill=\"rgb(255,0,255)\" fill-opacity=\"1\" /><circle cx=\"468.579\" cy=\"201.421\" r=\"10.0\" fill=\"rgb(128,0,0)\" fill-opacity=\"1\" /><circle cx=\"508.579\" cy=\"201.421\" r=\"10.0\" fill=\"rgb(255,0,0)\" fill-opacity=\"1\" /><circle cx=\"548.579\" cy=\"201.421\" r=\"10.0\" fill=\"rgb(0,255,255)\" fill-opacity=\"1\" /><circle cx=\"588.579\" cy=\"201.421\" r=\"10.0\" fill=\"rgb(128,0,128)\" fill-opacity=\"1\" /><circle cx=\"628.579\" cy=\"201.421\" r=\"10.0\" fill=\"rgb(255,165,0)\" fill-opacity=\"1\" /><circle cx=\"268.579\" cy=\"161.421\" r=\"10.0\" fill=\"rgb(255,0,255)\" fill-opacity=\"1\" /><circle cx=\"308.579\" cy=\"161.421\" r=\"10.0\" fill=\"rgb(0,0,128)\" fill-opacity=\"1\" /><circle cx=\"348.579\" cy=\"161.421\" r=\"10.0\" fill=\"rgb(218,165,32)\" fill-opacity=\"1\" /><circle cx=\"388.579\" cy=\"161.421\" r=\"10.0\" fill=\"rgb(255,0,0)\" fill-opacity=\"1\" /><circle cx=\"428.579\" cy=\"161.421\" r=\"10.0\" fill=\"rgb(0,255,0)\" fill-opacity=\"1\" /><circle cx=\"468.579\" cy=\"161.421\" r=\"10.0\" fill=\"rgb(165,42,42)\" fill-opacity=\"1\" /><circle cx=\"508.579\" cy=\"161.421\" r=\"10.0\" fill=\"rgb(255,165,0)\" fill-opacity=\"1\" /><circle cx=\"548.579\" cy=\"161.421\" r=\"10.0\" fill=\"rgb(0,128,0)\" fill-opacity=\"1\" /><circle cx=\"588.579\" cy=\"161.421\" r=\"10.0\" fill=\"rgb(128,128,0)\" fill-opacity=\"1\" /><circle cx=\"628.579\" cy=\"161.421\" r=\"10.0\" fill=\"rgb(128,128,0)\" fill-opacity=\"1\" />\n",
              "        \n",
              "        <g id=\"ellipse\" visibility=\"hidden\" transform=\"rotate(90,268.579,121.421) translate(268.579, 121.421)\">\n",
              "<ellipse transform=\"skewX(0) scale(1,1)\" style=\"stroke:black;fill:black;stroke-width:1\" rx=\"10\" ry = \"10\" cx=\"0\" cy=\"0\" />\n",
              "<animateTransform id = \"one\" attributeName=\"transform\" \n",
              "                      type=\"scale\"\n",
              "                      from=\"1 1\" to=\"1 1\"\n",
              "                      begin=\"0s\" dur=\"0.01s\"\n",
              "                      repeatCount=\"1\"\n",
              "                      additive=\"sum\"\n",
              "                      fill=\"freeze\"\n",
              "                /><animateTransform attributeName=\"transform\"\n",
              "                    type=\"rotate\"\n",
              "                    from=\"0 0 0\" to =\"180 0 0\"\n",
              "                    begin=\"one.end\" dur=\"0.01s\"\n",
              "                    repeatCount=\"1\"\n",
              "                    additive=\"sum\"\n",
              "                    fill=\"freeze\"\n",
              "                /></g>\n",
              "      </svg>\n",
              "    "
            ]
          },
          "metadata": {}
        }
      ]
    }
  ],
  "metadata": {
    "colab": {
      "provenance": [],
      "toc_visible": true,
      "include_colab_link": true
    },
    "kernelspec": {
      "display_name": "Python 3",
      "name": "python3"
    }
  },
  "nbformat": 4,
  "nbformat_minor": 0
}