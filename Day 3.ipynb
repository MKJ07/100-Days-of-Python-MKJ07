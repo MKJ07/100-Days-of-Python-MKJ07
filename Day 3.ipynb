{
  "cells": [
    {
      "cell_type": "markdown",
      "metadata": {
        "id": "view-in-github",
        "colab_type": "text"
      },
      "source": [
        "<a href=\"https://colab.research.google.com/github/MKJ07/100-Days-of-Python-MKJ07/blob/main/Day%203.ipynb\" target=\"_parent\"><img src=\"https://colab.research.google.com/assets/colab-badge.svg\" alt=\"Open In Colab\"/></a>"
      ]
    },
    {
      "cell_type": "markdown",
      "source": [
        "#100 Days of Python"
      ],
      "metadata": {
        "id": "TLAHhGjToDda"
      }
    },
    {
      "cell_type": "markdown",
      "source": [
        "# Day 1"
      ],
      "metadata": {
        "id": "QFqk6rnZO6Cs"
      }
    },
    {
      "cell_type": "code",
      "source": [
        "print(\"Hello World!!\")"
      ],
      "metadata": {
        "id": "dKBdZJVloO4_",
        "outputId": "cfdf2d2e-a138-4038-c9b8-a59379bb9440",
        "colab": {
          "base_uri": "https://localhost:8080/"
        }
      },
      "execution_count": null,
      "outputs": [
        {
          "output_type": "stream",
          "name": "stdout",
          "text": [
            "Hello World!!\n"
          ]
        }
      ]
    },
    {
      "cell_type": "code",
      "source": [
        "print(\"hello i am \\n MKJ\")\n",
        "print(\"Hello\"+\"MKJ\")"
      ],
      "metadata": {
        "id": "khcZLXyVqjzi",
        "outputId": "c5246313-072e-4115-d151-c742e8d5cc24",
        "colab": {
          "base_uri": "https://localhost:8080/"
        }
      },
      "execution_count": null,
      "outputs": [
        {
          "output_type": "stream",
          "name": "stdout",
          "text": [
            "hello i am \n",
            " MKJ\n",
            "HelloMKJ\n"
          ]
        }
      ]
    },
    {
      "cell_type": "code",
      "source": [
        "#input\n",
        "# input(\"What is your name\")\n",
        "print(\"Hello i am \"+ input())\n"
      ],
      "metadata": {
        "id": "Stgivyv0tFG0",
        "outputId": "56de48c1-bff5-4b4f-fa78-866ae8d4554b",
        "colab": {
          "base_uri": "https://localhost:8080/"
        }
      },
      "execution_count": null,
      "outputs": [
        {
          "output_type": "stream",
          "name": "stdout",
          "text": [
            "mkj\n",
            "Hello i am mkj\n"
          ]
        }
      ]
    },
    {
      "cell_type": "code",
      "source": [
        "name=\"Mahesh\"\n",
        "print(len(name))"
      ],
      "metadata": {
        "id": "0cJp_35Ztd0X",
        "outputId": "a4451505-66ad-4fb8-a493-534375fff619",
        "colab": {
          "base_uri": "https://localhost:8080/"
        }
      },
      "execution_count": null,
      "outputs": [
        {
          "output_type": "stream",
          "name": "stdout",
          "text": [
            "6\n"
          ]
        }
      ]
    },
    {
      "cell_type": "code",
      "source": [
        "# Swap two value\n",
        "a=20;b=10\n",
        "t=a\n",
        "a=b\n",
        "b=t\n",
        "print(a)\n",
        "print(b)"
      ],
      "metadata": {
        "id": "6wuijR-muK0r",
        "outputId": "dbe6060f-751f-4c93-864b-6d63d9e5c613",
        "colab": {
          "base_uri": "https://localhost:8080/"
        }
      },
      "execution_count": null,
      "outputs": [
        {
          "output_type": "stream",
          "name": "stdout",
          "text": [
            "10\n",
            "20\n"
          ]
        }
      ]
    },
    {
      "cell_type": "code",
      "source": [
        "# Band Game generator\n",
        "print(\"Hii\")\n",
        "name=input(\"Enter your city name \")\n",
        "pet_name=input(\"Enter your pet name \")\n",
        "print(\"Your band name is:\"+ name+\" \"+pet_name)"
      ],
      "metadata": {
        "id": "wXKXyiEezXbE",
        "outputId": "1893c362-b21e-4672-d29d-de65d85711c2",
        "colab": {
          "base_uri": "https://localhost:8080/"
        }
      },
      "execution_count": null,
      "outputs": [
        {
          "output_type": "stream",
          "name": "stdout",
          "text": [
            "Hii\n",
            "Enter your city nameKolkata\n",
            "Enter your pet namepuppy\n",
            "Your band name is:Kolkata puppy\n"
          ]
        }
      ]
    },
    {
      "cell_type": "markdown",
      "source": [
        "# Day 2"
      ],
      "metadata": {
        "id": "2im1ajxoPBk0"
      }
    },
    {
      "cell_type": "code",
      "source": [
        "# Primitive Data type\n",
        "# String\n",
        "print(\"Hello\"[0])\n",
        "\n",
        "# Integer\n",
        "num=123456\n",
        "print(123+456)\n",
        "\n",
        "# float\n",
        "dec=1235.63\n",
        "print(type(dec))\n",
        "\n",
        "# Boolean\n",
        "print(num==dec)"
      ],
      "metadata": {
        "colab": {
          "base_uri": "https://localhost:8080/"
        },
        "id": "eunRdppOPHYs",
        "outputId": "f5e64404-2b86-4011-b1b9-27874c01f55b"
      },
      "execution_count": null,
      "outputs": [
        {
          "output_type": "stream",
          "name": "stdout",
          "text": [
            "H\n",
            "579\n",
            "<class 'float'>\n",
            "False\n"
          ]
        }
      ]
    },
    {
      "cell_type": "code",
      "source": [
        "# Type error\n",
        "num=len(input(\" Enter your name \"))\n",
        "# print(\"Your name has \"+num+\" characters\") //TypeError: can only concatenate str (not \"int\") to str\n",
        "\n",
        "# type conversion\n",
        "print(\"Your name has \"+ str(num)+\" characters\")\n",
        "\n",
        "print(70+ float(\"125.236\"))"
      ],
      "metadata": {
        "colab": {
          "base_uri": "https://localhost:8080/"
        },
        "id": "bXxlsP_-QA8q",
        "outputId": "3760b5dc-14c4-41a4-be19-53557383054d"
      },
      "execution_count": null,
      "outputs": [
        {
          "output_type": "stream",
          "name": "stdout",
          "text": [
            " Enter your name Mahesh\n",
            "Your name has 6 characters\n",
            "195.236\n"
          ]
        }
      ]
    },
    {
      "cell_type": "code",
      "source": [
        "# Mathematical Operations in Python\n",
        "print(\"Addition \",3+5)\n",
        "print(\"Substraction \",35-9)\n",
        "print(\"Multiply \",3*5)\n",
        "print(\"Division \",35/5)\n",
        "print(\"Exponent \",3**2)\n",
        "\n",
        "# PEDMAS(Paranthesis,Exponent,Division,Multiply,Addition,Substract) rule\n",
        "print(3*3-5/2+6)\n",
        "\n",
        "print((3*3-5)/2+6)\n"
      ],
      "metadata": {
        "colab": {
          "base_uri": "https://localhost:8080/"
        },
        "id": "sF7DuTcMQ0bs",
        "outputId": "ef468081-41ef-4eb7-ba80-0df7e02b1d52"
      },
      "execution_count": null,
      "outputs": [
        {
          "output_type": "stream",
          "name": "stdout",
          "text": [
            "Addition  8\n",
            "Substraction  26\n",
            "Multiply  15\n",
            "Division  7.0\n",
            "Exponent  9\n",
            "12.5\n",
            "8.0\n"
          ]
        }
      ]
    },
    {
      "cell_type": "code",
      "source": [
        "# Number manipulation and Fstring\n",
        "print(8/3)\n",
        "num=(8//3) # gives int value\n",
        "print(type(num))\n",
        "\n",
        "print(f\"There are {20} flat in {2} building and having {num} gaurd\") # Fstring"
      ],
      "metadata": {
        "colab": {
          "base_uri": "https://localhost:8080/"
        },
        "id": "uzH_URrWQoZa",
        "outputId": "d484008e-53a3-47f3-8bfb-51b10dcad80c"
      },
      "execution_count": null,
      "outputs": [
        {
          "output_type": "stream",
          "name": "stdout",
          "text": [
            "2.6666666666666665\n",
            "<class 'int'>\n",
            "There are 20 flat in 2 building and having 2 gaurd\n"
          ]
        }
      ]
    },
    {
      "cell_type": "code",
      "source": [
        "# Life in weeks\n",
        "age=int(input())\n",
        "year=90-age\n",
        "weeks=year*52\n",
        "\n",
        "print(f\"You have {weeks} left in your life\")"
      ],
      "metadata": {
        "colab": {
          "base_uri": "https://localhost:8080/"
        },
        "id": "XsL49HZwWJf6",
        "outputId": "a0485db5-de5e-4aad-bf70-0c8951b55cdb"
      },
      "execution_count": null,
      "outputs": [
        {
          "output_type": "stream",
          "name": "stdout",
          "text": [
            "24\n",
            "You have 3432 left in your life\n"
          ]
        }
      ]
    },
    {
      "cell_type": "code",
      "source": [
        "# Project 2\n",
        "print(\"Welcome to tip calculator\")\n",
        "\n",
        "bill=float(input(\"What was the bill? \"))\n",
        "perbilltip=int(input(\"What percentage tip you want to give? 10,12,15? \"))\n",
        "ppl=int(input(\"How many people you want to split? \"))\n",
        "\n",
        "perbillinrs=float((bill*perbilltip)/100)\n",
        "totalbill=round((bill+perbillinrs)/ppl,2)\n",
        "\n",
        "print(f\"Total bill you all have to pay is{totalbill} \")"
      ],
      "metadata": {
        "colab": {
          "base_uri": "https://localhost:8080/"
        },
        "id": "leWj-2pwm7l2",
        "outputId": "e16ec95b-19d6-48c0-cd30-21cd6c0bfacb"
      },
      "execution_count": null,
      "outputs": [
        {
          "output_type": "stream",
          "name": "stdout",
          "text": [
            "Welcome to tip calculator\n",
            "What was the bill? 124.56\n",
            "What percentage tip you want to give? 10,12,15? 12\n",
            "How many people you want to split? 7\n",
            "Total bill you all have to pay is19.93 \n"
          ]
        }
      ]
    },
    {
      "cell_type": "markdown",
      "source": [
        "# Day 3\n"
      ],
      "metadata": {
        "id": "mogyCedKrjLa"
      }
    },
    {
      "cell_type": "code",
      "source": [
        "# Conditional Statement\n",
        "height=int(input(\"Enter your height \"))\n",
        "\n",
        "if height>120:\n",
        "  print(\"You are eligible\")\n",
        "else:\n",
        "  print(\"You are not eligible\")"
      ],
      "metadata": {
        "colab": {
          "base_uri": "https://localhost:8080/"
        },
        "id": "vkjIuVFQroNk",
        "outputId": "a442e6fe-a6a0-423f-d5e3-6bc2d1396780"
      },
      "execution_count": null,
      "outputs": [
        {
          "output_type": "stream",
          "name": "stdout",
          "text": [
            "Enter your height 132\n",
            "You are eligible\n"
          ]
        }
      ]
    },
    {
      "cell_type": "code",
      "source": [
        "# Check the number is even number or odd number\n",
        "num=int(input(\"Enter the number \"))\n",
        "\n",
        "if num % 2 == 0 :\n",
        "  print(f\"{num} is an even number\")\n",
        "else:\n",
        "  print(f\"{num} is a odd number\")"
      ],
      "metadata": {
        "colab": {
          "base_uri": "https://localhost:8080/"
        },
        "id": "aYk1ymh7t44c",
        "outputId": "291e1f29-b251-44e7-84fa-5cbf62a1170d"
      },
      "execution_count": null,
      "outputs": [
        {
          "output_type": "stream",
          "name": "stdout",
          "text": [
            "Enter the number34\n",
            "34 is an even number\n"
          ]
        }
      ]
    },
    {
      "cell_type": "code",
      "source": [
        "# Elif Statement - Nested if/else\n",
        "height=int(input(\"Enter your height \"))\n",
        "\n",
        "if height > 120:\n",
        "  print(\"Congratulations!! You are eligible\")\n",
        "  age=int(input(\"Enter your age \"))\n",
        "  if age>18:\n",
        "    print(\"You have to pay 17$\")\n",
        "  elif age<18 and age>12:\n",
        "    print(\"You have to pay 12$\")\n",
        "  else:\n",
        "    print(\"You have to pay 7$\")\n",
        "else:\n",
        "  print(\"Your are not eligible\")"
      ],
      "metadata": {
        "colab": {
          "base_uri": "https://localhost:8080/"
        },
        "id": "rWjhzNrL4ec0",
        "outputId": "bdc65b3a-99d2-464e-9161-907a1247456d"
      },
      "execution_count": null,
      "outputs": [
        {
          "output_type": "stream",
          "name": "stdout",
          "text": [
            "Enter your height 342\n",
            "Congratulations!! You are eligible\n",
            "Enter your age 14\n",
            "You have to pay 12$\n"
          ]
        }
      ]
    },
    {
      "cell_type": "code",
      "source": [
        "# BMI Calculator\n",
        "height=float(input(\"Enter your height \"))\n",
        "weight=int(input(\"Enter your weight \"))\n",
        "\n",
        "bmi=weight/(height*height)\n",
        "\n",
        "if bmi<18.5:\n",
        "  print(f\"Your BMI is {bmi}, you are underweight\")\n",
        "elif bmi<25:\n",
        "  print(f\"Your BMI is {bmi}, you are normal\")\n",
        "elif bmi<30:\n",
        "  print(f\"Your BMI is {bmi}, you are overweight\")\n",
        "elif bmi<35:\n",
        "  print(f\"Your BMI is {bmi}, you are obese\")\n",
        "else:\n",
        "  print(f\"Your BMI is {bmi}, you are clinically obese\")\n",
        "\n"
      ],
      "metadata": {
        "colab": {
          "base_uri": "https://localhost:8080/"
        },
        "id": "f7NtKNfi771O",
        "outputId": "f00270f6-68c8-46cd-a3ff-dd25e3477f24"
      },
      "execution_count": null,
      "outputs": [
        {
          "output_type": "stream",
          "name": "stdout",
          "text": [
            "Enter your height 1.8\n",
            "Enter your weight 50\n",
            "Your BMI is 15.432098765432098, you are underweight\n"
          ]
        }
      ]
    },
    {
      "cell_type": "code",
      "source": [
        "# Check the year is leap year or not\n",
        "year=int(input(\"Enter the year \"))\n",
        "if (year%4==0 and year%100!=0) or year%400==0:\n",
        "  print(f\"{year} is a leap year\")\n",
        "else:\n",
        "  print(f\"{year} is not a leap year\")"
      ],
      "metadata": {
        "colab": {
          "base_uri": "https://localhost:8080/"
        },
        "id": "V9-00hpkFEsP",
        "outputId": "bebf64e1-de1d-4226-aeff-9136d71ae7bb"
      },
      "execution_count": null,
      "outputs": [
        {
          "output_type": "stream",
          "name": "stdout",
          "text": [
            "Enter the year 2004\n",
            "2004 is a leap year\n"
          ]
        }
      ]
    },
    {
      "cell_type": "code",
      "source": [
        "# Nested if\n",
        "height=int(input(\"Enter your height \"))\n",
        "amt=0\n",
        "if height > 120:\n",
        "  print(\"Congratulations!! You are eligible\")\n",
        "  age=int(input(\"Enter your age \"))\n",
        "  if age>18:\n",
        "    amt=18\n",
        "    # print(\"You have to pay 17$\")\n",
        "  elif age<18 and age>12:\n",
        "    amt=12\n",
        "    # print(\"You have to pay 12$\")\n",
        "  else:\n",
        "    amt=7\n",
        "    # print(\"You have to pay 7$\")\n",
        "  ph=input(\"Do you want photo? Y or N \")\n",
        "  if ph=='Y':\n",
        "    amt+=3\n",
        "  print(f\"Total amount you have to pay ${amt}\")\n",
        "else:\n",
        "  print(\"Your are not eligible\")"
      ],
      "metadata": {
        "colab": {
          "base_uri": "https://localhost:8080/"
        },
        "id": "44N5-OfDwmgc",
        "outputId": "f2ad5450-8f05-4520-bcc2-0759409c24da"
      },
      "execution_count": null,
      "outputs": [
        {
          "output_type": "stream",
          "name": "stdout",
          "text": [
            "Enter your height 343\n",
            "Congratulations!! You are eligible\n",
            "Enter your age 34\n",
            "Do you want photo? Y or N Y\n",
            "Total amount you have to pay $21\n"
          ]
        }
      ]
    }
  ],
  "metadata": {
    "colab": {
      "provenance": [],
      "toc_visible": true,
      "include_colab_link": true
    },
    "kernelspec": {
      "display_name": "Python 3",
      "name": "python3"
    }
  },
  "nbformat": 4,
  "nbformat_minor": 0
}