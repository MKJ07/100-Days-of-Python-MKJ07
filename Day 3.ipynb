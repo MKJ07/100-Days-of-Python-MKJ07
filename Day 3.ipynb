{
  "cells": [
    {
      "cell_type": "markdown",
      "source": [
        "# Day 3\n"
      ],
      "metadata": {
        "id": "mogyCedKrjLa"
      }
    },
    {
      "cell_type": "code",
      "source": [
        "# Conditional Statement\n",
        "height=int(input(\"Enter your height \"))\n",
        "\n",
        "if height>120:\n",
        "  print(\"You are eligible\")\n",
        "else:\n",
        "  print(\"You are not eligible\")"
      ],
      "metadata": {
        "colab": {
          "base_uri": "https://localhost:8080/"
        },
        "id": "vkjIuVFQroNk",
        "outputId": "a442e6fe-a6a0-423f-d5e3-6bc2d1396780"
      },
      "execution_count": null,
      "outputs": [
        {
          "output_type": "stream",
          "name": "stdout",
          "text": [
            "Enter your height 132\n",
            "You are eligible\n"
          ]
        }
      ]
    },
    {
      "cell_type": "code",
      "source": [
        "# Check the number is even number or odd number\n",
        "num=int(input(\"Enter the number \"))\n",
        "\n",
        "if num % 2 == 0 :\n",
        "  print(f\"{num} is an even number\")\n",
        "else:\n",
        "  print(f\"{num} is a odd number\")"
      ],
      "metadata": {
        "colab": {
          "base_uri": "https://localhost:8080/"
        },
        "id": "aYk1ymh7t44c",
        "outputId": "291e1f29-b251-44e7-84fa-5cbf62a1170d"
      },
      "execution_count": null,
      "outputs": [
        {
          "output_type": "stream",
          "name": "stdout",
          "text": [
            "Enter the number34\n",
            "34 is an even number\n"
          ]
        }
      ]
    },
    {
      "cell_type": "code",
      "source": [
        "# Elif Statement - Nested if/else\n",
        "height=int(input(\"Enter your height \"))\n",
        "\n",
        "if height > 120:\n",
        "  print(\"Congratulations!! You are eligible\")\n",
        "  age=int(input(\"Enter your age \"))\n",
        "  if age>18:\n",
        "    print(\"You have to pay 17$\")\n",
        "  elif age<18 and age>12:\n",
        "    print(\"You have to pay 12$\")\n",
        "  else:\n",
        "    print(\"You have to pay 7$\")\n",
        "else:\n",
        "  print(\"Your are not eligible\")"
      ],
      "metadata": {
        "colab": {
          "base_uri": "https://localhost:8080/"
        },
        "id": "rWjhzNrL4ec0",
        "outputId": "bdc65b3a-99d2-464e-9161-907a1247456d"
      },
      "execution_count": null,
      "outputs": [
        {
          "output_type": "stream",
          "name": "stdout",
          "text": [
            "Enter your height 342\n",
            "Congratulations!! You are eligible\n",
            "Enter your age 14\n",
            "You have to pay 12$\n"
          ]
        }
      ]
    },
    {
      "cell_type": "code",
      "source": [
        "# BMI Calculator\n",
        "height=float(input(\"Enter your height \"))\n",
        "weight=int(input(\"Enter your weight \"))\n",
        "\n",
        "bmi=weight/(height*height)\n",
        "\n",
        "if bmi<18.5:\n",
        "  print(f\"Your BMI is {bmi}, you are underweight\")\n",
        "elif bmi<25:\n",
        "  print(f\"Your BMI is {bmi}, you are normal\")\n",
        "elif bmi<30:\n",
        "  print(f\"Your BMI is {bmi}, you are overweight\")\n",
        "elif bmi<35:\n",
        "  print(f\"Your BMI is {bmi}, you are obese\")\n",
        "else:\n",
        "  print(f\"Your BMI is {bmi}, you are clinically obese\")\n",
        "\n"
      ],
      "metadata": {
        "colab": {
          "base_uri": "https://localhost:8080/"
        },
        "id": "f7NtKNfi771O",
        "outputId": "f00270f6-68c8-46cd-a3ff-dd25e3477f24"
      },
      "execution_count": null,
      "outputs": [
        {
          "output_type": "stream",
          "name": "stdout",
          "text": [
            "Enter your height 1.8\n",
            "Enter your weight 50\n",
            "Your BMI is 15.432098765432098, you are underweight\n"
          ]
        }
      ]
    },
    {
      "cell_type": "code",
      "source": [
        "# Check the year is leap year or not\n",
        "year=int(input(\"Enter the year \"))\n",
        "if (year%4==0 and year%100!=0) or year%400==0:\n",
        "  print(f\"{year} is a leap year\")\n",
        "else:\n",
        "  print(f\"{year} is not a leap year\")"
      ],
      "metadata": {
        "colab": {
          "base_uri": "https://localhost:8080/"
        },
        "id": "V9-00hpkFEsP",
        "outputId": "bebf64e1-de1d-4226-aeff-9136d71ae7bb"
      },
      "execution_count": null,
      "outputs": [
        {
          "output_type": "stream",
          "name": "stdout",
          "text": [
            "Enter the year 2004\n",
            "2004 is a leap year\n"
          ]
        }
      ]
    },
    {
      "cell_type": "code",
      "source": [
        "# Nested if\n",
        "height=int(input(\"Enter your height \"))\n",
        "amt=0\n",
        "if height > 120:\n",
        "  print(\"Congratulations!! You are eligible\")\n",
        "  age=int(input(\"Enter your age \"))\n",
        "  if age>18:\n",
        "    amt=18\n",
        "    # print(\"You have to pay 17$\")\n",
        "  elif age<18 and age>12:\n",
        "    amt=12\n",
        "    # print(\"You have to pay 12$\")\n",
        "  else:\n",
        "    amt=7\n",
        "    # print(\"You have to pay 7$\")\n",
        "  ph=input(\"Do you want photo? Y or N \")\n",
        "  if ph=='Y':\n",
        "    amt+=3\n",
        "  print(f\"Total amount you have to pay ${amt}\")\n",
        "else:\n",
        "  print(\"Your are not eligible\")"
      ],
      "metadata": {
        "colab": {
          "base_uri": "https://localhost:8080/"
        },
        "id": "44N5-OfDwmgc",
        "outputId": "f2ad5450-8f05-4520-bcc2-0759409c24da"
      },
      "execution_count": null,
      "outputs": [
        {
          "output_type": "stream",
          "name": "stdout",
          "text": [
            "Enter your height 343\n",
            "Congratulations!! You are eligible\n",
            "Enter your age 34\n",
            "Do you want photo? Y or N Y\n",
            "Total amount you have to pay $21\n"
          ]
        }
      ]
    },
{
      "cell_type": "code",
      "source": [
        "# Nested if\n",
        "height=int(input(\"Enter your height \"))\n",
        "amt=0\n",
        "if height > 120:\n",
        "  print(\"Congratulations!! You are eligible\")\n",
        "  age=int(input(\"Enter your age \"))\n",
        "  if age>18:\n",
        "    amt=18\n",
        "    # print(\"You have to pay 17$\")\n",
        "  elif age<18 and age>12:\n",
        "    amt=12\n",
        "    # print(\"You have to pay 12$\")\n",
        "  else:\n",
        "    amt=7\n",
        "    # print(\"You have to pay 7$\")\n",
        "  ph=input(\"Do you want photo? Y or N \")\n",
        "  if ph=='Y':\n",
        "    amt+=3\n",
        "  print(f\"Total amount you have to pay ${amt}\")\n",
        "else:\n",
        "  print(\"Your are not eligible\")"
      ],
      "metadata": {
        "colab": {
          "base_uri": "https://localhost:8080/"
        },
        "id": "44N5-OfDwmgc",
        "outputId": "f2ad5450-8f05-4520-bcc2-0759409c24da"
      },
      "execution_count": null,
      "outputs": [
        {
          "output_type": "stream",
          "name": "stdout",
          "text": [
            "Enter your height 343\n",
            "Congratulations!! You are eligible\n",
            "Enter your age 34\n",
            "Do you want photo? Y or N Y\n",
            "Total amount you have to pay $21\n"
          ]
        }
      ]
    },
    {
      "cell_type": "code",
      "source": [
        "# Pizza order practice\n",
        "size=input(\"Enter the size of the pizza, S/M/L: \")\n",
        "pp=input(\"Do you pepperoni? Y/N: \")\n",
        "cheese=input(\"Do you want extra cheese? Y/N: \")\n",
        "price=0\n",
        "if size=='S':\n",
        "  price=15\n",
        "  if pp=='Y':\n",
        "    price+=2\n",
        "elif size=='M':\n",
        "  price=20\n",
        "  if pp=='Y':\n",
        "    price+=3\n",
        "else:\n",
        "  price=25\n",
        "  if pp=='Y':\n",
        "    price+=3\n",
        "if cheese=='Y':\n",
        "    price+=1\n",
        "print(f\"Cost of pizza is {price}\")\n"
      ],
      "metadata": {
        "colab": {
          "base_uri": "https://localhost:8080/"
        },
        "id": "i5D3v-GBqKIh",
        "outputId": "ff7403d6-2126-44eb-f056-2eb4f42f3c42"
      },
      "execution_count": null,
      "outputs": [
        {
          "output_type": "stream",
          "name": "stdout",
          "text": [
            "Enter the size of the pizza, S/M/L: S\n",
            "Do you pepperoni? Y/N: N\n",
            "Do you want extra cheese? Y/N: Y\n",
            "Cost of pizza is 16\n"
          ]
        }
      ]
    },
    {
      "cell_type": "code",
      "source": [
        "# Love Calculator\n",
        "name1=input(\"Enter the person 1's name: \")\n",
        "name2=input(\"Enter the person 2's name: \")\n",
        "tcount=0;lcount=0\n",
        "combined_name=name1+name2\n",
        "name3=combined_name.lower()\n",
        "t=name3.count('t')\n",
        "r=name3.count('r')\n",
        "u=name3.count('u')\n",
        "e=name3.count('e')\n",
        "name_count=t+r+u+e\n",
        "\n",
        "l=name3.count('l')\n",
        "o=name3.count('o')\n",
        "v=name3.count('v')\n",
        "e=name3.count('e')\n",
        "l_count=l+o+v+e\n",
        "\n",
        "total_count=int(str(name_count)+str(l_count))\n",
        "print(f\"Your love score is {total_count} \")\n",
        "\n"
      ],
      "metadata": {
        "colab": {
          "base_uri": "https://localhost:8080/"
        },
        "id": "w0DfizKOy1De",
        "outputId": "5ca5e605-89b9-491a-d0d5-c6b45f8fbf08"
      },
      "execution_count": null,
      "outputs": [
        {
          "output_type": "stream",
          "name": "stdout",
          "text": [
            "Enter the person 1's name: Angela yu\n",
            "Enter the person 2's name: jack bauer\n",
            "Your love score is 53 \n"
          ]
        }
      ]
    },
    {
      "cell_type": "code",
      "source": [
        "# Project 3\n",
        "print('''================================================.\n",
        "     .-.   .-.     .--.                         |\n",
        "    | OO| | OO|   / _.-' .-.   .-.  .-.   .''.  |\n",
        "    |   | |   |   \\  '-. '-'   '-'  '-'   '..'  |\n",
        "    '^^^' '^^^'    '--'                         |\n",
        "===============.  .-.  .================.  .-.  |\n",
        "               | |   | |                |  '-'  |\n",
        "               | |   | |                |       |\n",
        "               | ':-:' |                |  .-.  |\n",
        "               |  '-'  |                |  '-'  |\n",
        "==============='       '================'       |''')\n",
        "\n",
        "print(\"Welcome to Treasure Island.\\n Your mission is to find the treasure\")\n",
        "\n",
        "if input(\"Enter the first move: \")==\"left\":\n",
        "  if input(\"Do you want to swim or wait: \")==\"wait\":\n",
        "    if input(\"Which color gate you want to open: Blue/Yellow/Red \")==\"Yellow\":\n",
        "      print(\"Congratulations!! You win the game.\")\n",
        "    else:\n",
        "      print(\"Game Over\")\n",
        "  else:\n",
        "    print(\"Game Over\")\n",
        "else:\n",
        "  print(\"Game Over\")\n"
      ],
      "metadata": {
        "colab": {
          "base_uri": "https://localhost:8080/"
        },
        "id": "aOL14DxF4pRN",
        "outputId": "9f21bbb6-fbd5-4022-8270-319dc9182f78"
      },
      "execution_count": null,
      "outputs": [
        {
          "output_type": "stream",
          "name": "stdout",
          "text": [
            "================================================.\n",
            "     .-.   .-.     .--.                         |\n",
            "    | OO| | OO|   / _.-' .-.   .-.  .-.   .''.  |\n",
            "    |   | |   |   \\  '-. '-'   '-'  '-'   '..'  |\n",
            "    '^^^' '^^^'    '--'                         |\n",
            "===============.  .-.  .================.  .-.  |\n",
            "               | |   | |                |  '-'  |\n",
            "               | |   | |                |       |\n",
            "               | ':-:' |                |  .-.  |\n",
            "l42            |  '-'  |                |  '-'  |\n",
            "==============='       '================'       |\n",
            "Welcome to Treasure Island.\n",
            " Your mission is to find the treasure\n",
            "Enter the first move: left\n",
            "Do you want to swim or wait: wait\n",
            "Which color gate you want to open: Blue/Yellow/Red Yellow\n",
            "Congratulations!! You win the game.\n"
          ]
        }
      ]
    }
  ],
  "metadata": {
    "colab": {
      "provenance": [],
      "toc_visible": true,
      "include_colab_link": true
    },
    "kernelspec": {
      "display_name": "Python 3",
      "name": "python3"
    }
  },
  "nbformat": 4,
  "nbformat_minor": 0
}
